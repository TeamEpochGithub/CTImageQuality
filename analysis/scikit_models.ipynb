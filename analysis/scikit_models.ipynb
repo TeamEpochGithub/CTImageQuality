{
 "cells": [
  {
   "cell_type": "code",
   "execution_count": 1,
   "metadata": {
    "collapsed": true
   },
   "outputs": [],
   "source": [
    "import pandas as pd\n",
    "from datasets import create_datalists, create_datasets\n",
    "import numpy as np\n",
    "from scipy.stats import pearsonr, spearmanr, kendalltau\n",
    "from tpot import TPOTRegressor"
   ]
  },
  {
   "cell_type": "code",
   "execution_count": 2,
   "outputs": [],
   "source": [
    "configs = {\n",
    "    'pretrain': 'None',\n",
    "    'img_size': 512,\n",
    "    'model': 'Resnet18',\n",
    "    'epochs': 100,\n",
    "    'batch_size': 32,\n",
    "    'weight_decay': 1e-3,\n",
    "    'lr': 1e-4,\n",
    "    'min_lr': 0.000006463,\n",
    "    'RandomHorizontalFlip': True,\n",
    "    'RandomVerticalFlip': True,\n",
    "    'RandomRotation': True,\n",
    "    'ZoomIn': False,\n",
    "    'ZoomOut': False,\n",
    "    'use_mix': False,\n",
    "    'use_avg': False,\n",
    "    'XShift': False,\n",
    "    'YShift': False,\n",
    "    'RandomShear': False,\n",
    "    'max_shear': 30,  # value in degrees\n",
    "    'max_shift': 0.5,\n",
    "    'rotation_angle': 3,\n",
    "    'zoomin_factor': 0.95,\n",
    "    'zoomout_factor': 0.05,\n",
    "}\n",
    "\n",
    "imgs_list, label_list = create_datalists()\n",
    "\n",
    "final_train = True\n",
    "\n",
    "train_dataset, test_dataset = create_datasets(imgs_list, label_list, configs, final_train=final_train, patients_out=True, patient_ids_out=[1, 2, 3])"
   ],
   "metadata": {
    "collapsed": false
   }
  },
  {
   "cell_type": "code",
   "execution_count": 3,
   "outputs": [],
   "source": [
    "X_train_convert = np.array([x.numpy() for x, l in train_dataset])\n",
    "y_train_convert = np.array([l.numpy() for x, l in train_dataset])"
   ],
   "metadata": {
    "collapsed": false
   }
  },
  {
   "cell_type": "code",
   "execution_count": 4,
   "outputs": [
    {
     "data": {
      "text/plain": "(1000,)"
     },
     "execution_count": 4,
     "metadata": {},
     "output_type": "execute_result"
    }
   ],
   "source": [
    "y_train_convert.shape"
   ],
   "metadata": {
    "collapsed": false
   }
  },
  {
   "cell_type": "code",
   "execution_count": 5,
   "outputs": [],
   "source": [
    "X_train_convert = np.reshape(X_train_convert, (1000, 262144))"
   ],
   "metadata": {
    "collapsed": false
   }
  },
  {
   "cell_type": "code",
   "execution_count": 6,
   "outputs": [
    {
     "data": {
      "text/plain": "(1000, 262144)"
     },
     "execution_count": 6,
     "metadata": {},
     "output_type": "execute_result"
    }
   ],
   "source": [
    "X_train_convert.shape"
   ],
   "metadata": {
    "collapsed": false
   }
  },
  {
   "cell_type": "code",
   "execution_count": 7,
   "outputs": [
    {
     "data": {
      "text/plain": "   0       1       2       3       4       5       6       7         8       \\\n0     0.0     0.0     0.0     0.0     0.0     0.0     0.0     0.0  0.000000   \n1     0.0     0.0     0.0     0.0     0.0     0.0     0.0     0.0  0.000000   \n2     0.0     0.0     0.0     0.0     0.0     0.0     0.0     0.0  0.000000   \n3     0.0     0.0     0.0     0.0     0.0     0.0     0.0     0.0  0.024249   \n4     0.0     0.0     0.0     0.0     0.0     0.0     0.0     0.0  0.000000   \n\n     9       ...  262134  262135  262136  262137  262138  262139  262140  \\\n0  0.000000  ...     0.0     0.0     0.0     0.0     0.0     0.0     0.0   \n1  0.000000  ...     0.0     0.0     0.0     0.0     0.0     0.0     0.0   \n2  0.000000  ...     0.0     0.0     0.0     0.0     0.0     0.0     0.0   \n3  0.068283  ...     0.0     0.0     0.0     0.0     0.0     0.0     0.0   \n4  0.000000  ...     0.0     0.0     0.0     0.0     0.0     0.0     0.0   \n\n   262141  262142  262143  \n0     0.0     0.0     0.0  \n1     0.0     0.0     0.0  \n2     0.0     0.0     0.0  \n3     0.0     0.0     0.0  \n4     0.0     0.0     0.0  \n\n[5 rows x 262144 columns]",
      "text/html": "<div>\n<style scoped>\n    .dataframe tbody tr th:only-of-type {\n        vertical-align: middle;\n    }\n\n    .dataframe tbody tr th {\n        vertical-align: top;\n    }\n\n    .dataframe thead th {\n        text-align: right;\n    }\n</style>\n<table border=\"1\" class=\"dataframe\">\n  <thead>\n    <tr style=\"text-align: right;\">\n      <th></th>\n      <th>0</th>\n      <th>1</th>\n      <th>2</th>\n      <th>3</th>\n      <th>4</th>\n      <th>5</th>\n      <th>6</th>\n      <th>7</th>\n      <th>8</th>\n      <th>9</th>\n      <th>...</th>\n      <th>262134</th>\n      <th>262135</th>\n      <th>262136</th>\n      <th>262137</th>\n      <th>262138</th>\n      <th>262139</th>\n      <th>262140</th>\n      <th>262141</th>\n      <th>262142</th>\n      <th>262143</th>\n    </tr>\n  </thead>\n  <tbody>\n    <tr>\n      <th>0</th>\n      <td>0.0</td>\n      <td>0.0</td>\n      <td>0.0</td>\n      <td>0.0</td>\n      <td>0.0</td>\n      <td>0.0</td>\n      <td>0.0</td>\n      <td>0.0</td>\n      <td>0.000000</td>\n      <td>0.000000</td>\n      <td>...</td>\n      <td>0.0</td>\n      <td>0.0</td>\n      <td>0.0</td>\n      <td>0.0</td>\n      <td>0.0</td>\n      <td>0.0</td>\n      <td>0.0</td>\n      <td>0.0</td>\n      <td>0.0</td>\n      <td>0.0</td>\n    </tr>\n    <tr>\n      <th>1</th>\n      <td>0.0</td>\n      <td>0.0</td>\n      <td>0.0</td>\n      <td>0.0</td>\n      <td>0.0</td>\n      <td>0.0</td>\n      <td>0.0</td>\n      <td>0.0</td>\n      <td>0.000000</td>\n      <td>0.000000</td>\n      <td>...</td>\n      <td>0.0</td>\n      <td>0.0</td>\n      <td>0.0</td>\n      <td>0.0</td>\n      <td>0.0</td>\n      <td>0.0</td>\n      <td>0.0</td>\n      <td>0.0</td>\n      <td>0.0</td>\n      <td>0.0</td>\n    </tr>\n    <tr>\n      <th>2</th>\n      <td>0.0</td>\n      <td>0.0</td>\n      <td>0.0</td>\n      <td>0.0</td>\n      <td>0.0</td>\n      <td>0.0</td>\n      <td>0.0</td>\n      <td>0.0</td>\n      <td>0.000000</td>\n      <td>0.000000</td>\n      <td>...</td>\n      <td>0.0</td>\n      <td>0.0</td>\n      <td>0.0</td>\n      <td>0.0</td>\n      <td>0.0</td>\n      <td>0.0</td>\n      <td>0.0</td>\n      <td>0.0</td>\n      <td>0.0</td>\n      <td>0.0</td>\n    </tr>\n    <tr>\n      <th>3</th>\n      <td>0.0</td>\n      <td>0.0</td>\n      <td>0.0</td>\n      <td>0.0</td>\n      <td>0.0</td>\n      <td>0.0</td>\n      <td>0.0</td>\n      <td>0.0</td>\n      <td>0.024249</td>\n      <td>0.068283</td>\n      <td>...</td>\n      <td>0.0</td>\n      <td>0.0</td>\n      <td>0.0</td>\n      <td>0.0</td>\n      <td>0.0</td>\n      <td>0.0</td>\n      <td>0.0</td>\n      <td>0.0</td>\n      <td>0.0</td>\n      <td>0.0</td>\n    </tr>\n    <tr>\n      <th>4</th>\n      <td>0.0</td>\n      <td>0.0</td>\n      <td>0.0</td>\n      <td>0.0</td>\n      <td>0.0</td>\n      <td>0.0</td>\n      <td>0.0</td>\n      <td>0.0</td>\n      <td>0.000000</td>\n      <td>0.000000</td>\n      <td>...</td>\n      <td>0.0</td>\n      <td>0.0</td>\n      <td>0.0</td>\n      <td>0.0</td>\n      <td>0.0</td>\n      <td>0.0</td>\n      <td>0.0</td>\n      <td>0.0</td>\n      <td>0.0</td>\n      <td>0.0</td>\n    </tr>\n  </tbody>\n</table>\n<p>5 rows × 262144 columns</p>\n</div>"
     },
     "execution_count": 7,
     "metadata": {},
     "output_type": "execute_result"
    }
   ],
   "source": [
    "df = pd.DataFrame(X_train_convert)\n",
    "df.head()"
   ],
   "metadata": {
    "collapsed": false
   }
  },
  {
   "cell_type": "code",
   "execution_count": 8,
   "outputs": [],
   "source": [
    "from sklearn.model_selection import train_test_split\n",
    "from sklearn.neighbors import KNeighborsClassifier, KNeighborsRegressor\n",
    "\n",
    "X_train, X_test, y_train, y_test = train_test_split(df, y_train_convert, test_size=0.2, random_state=42)\n",
    "\n",
    "\n",
    "knn_regressor = KNeighborsRegressor(n_neighbors=30)\n",
    "knn_regressor.fit(X_train, y_train)\n",
    "\n",
    "y_pred = knn_regressor.predict(X_test)\n",
    "\n",
    "def validate(y_pred, y_test):\n",
    "    aggregate_results = dict()\n",
    "    # aggregate_results[\"plcc\"] = abs(pearsonr(y_pred, y_test)[0])\n",
    "    # aggregate_results[\"srocc\"] = abs(spearmanr(y_pred, y_test)[0])\n",
    "    # aggregate_results[\"krocc\"] = abs(kendalltau(y_pred, y_test)[0])\n",
    "    aggregate_results[\"overall\"] = abs(pearsonr(y_pred, y_test)[0]) + abs(\n",
    "        spearmanr(y_pred, y_test)[0]) + abs(kendalltau(y_pred, y_test)[0])\n",
    "    print(aggregate_results)\n",
    "    mse = np.mean((y_pred - y_test) ** 2)\n",
    "    print(f\"Mean Squared Error: {mse}\")"
   ],
   "metadata": {
    "collapsed": false
   }
  },
  {
   "cell_type": "code",
   "execution_count": null,
   "outputs": [
    {
     "name": "stdout",
     "output_type": "stream",
     "text": [
      "30 operators have been imported by TPOT.\n"
     ]
    },
    {
     "data": {
      "text/plain": "Optimization Progress:   0%|          | 0/550 [00:00<?, ?pipeline/s]",
      "application/vnd.jupyter.widget-view+json": {
       "version_major": 2,
       "version_minor": 0,
       "model_id": "ba755ee2bee542daa997fc9bcdc3ef3a"
      }
     },
     "metadata": {},
     "output_type": "display_data"
    },
    {
     "name": "stdout",
     "output_type": "stream",
     "text": [
      "Skipped pipeline #5 due to time out. Continuing to the next pipeline.\n",
      "Skipped pipeline #7 due to time out. Continuing to the next pipeline.\n",
      "Skipped pipeline #12 due to time out. Continuing to the next pipeline.\n",
      "Skipped pipeline #14 due to time out. Continuing to the next pipeline.\n",
      "Skipped pipeline #16 due to time out. Continuing to the next pipeline.\n"
     ]
    }
   ],
   "source": [
    "# Create and fit TPOTRegressor with standard MSE scoring\n",
    "tpot = TPOTRegressor(scoring='neg_mean_squared_error', generations=10, population_size=50, random_state=42, verbosity=3)\n",
    "tpot.fit(X_train, y_train)"
   ],
   "metadata": {
    "collapsed": false,
    "pycharm": {
     "is_executing": true
    }
   }
  },
  {
   "cell_type": "code",
   "execution_count": null,
   "outputs": [],
   "source": [],
   "metadata": {
    "collapsed": false,
    "pycharm": {
     "is_executing": true
    }
   }
  }
 ],
 "metadata": {
  "kernelspec": {
   "display_name": "Python 3",
   "language": "python",
   "name": "python3"
  },
  "language_info": {
   "codemirror_mode": {
    "name": "ipython",
    "version": 2
   },
   "file_extension": ".py",
   "mimetype": "text/x-python",
   "name": "python",
   "nbconvert_exporter": "python",
   "pygments_lexer": "ipython2",
   "version": "2.7.6"
  }
 },
 "nbformat": 4,
 "nbformat_minor": 0
}
