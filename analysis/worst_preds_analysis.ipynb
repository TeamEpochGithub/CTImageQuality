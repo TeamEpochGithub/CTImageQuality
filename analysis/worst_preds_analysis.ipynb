{
 "cells": [
  {
   "cell_type": "code",
   "execution_count": 1,
   "metadata": {
    "collapsed": true
   },
   "outputs": [],
   "source": [
    "import os\n",
    "import os.path as osp\n",
    "import random\n",
    "import torch\n",
    "import torch.optim as optim\n",
    "import numpy as np\n",
    "import torch.nn.functional as F\n",
    "from torch.utils.data import DataLoader\n",
    "from tqdm import tqdm\n",
    "import pytorch_warmup as warmup\n",
    "from scipy.stats import pearsonr, spearmanr, kendalltau\n",
    "import wandb\n",
    "from datasets import create_datalists, create_datasets\n",
    "from models.get_models import get_model\n",
    "import output\n",
    "from validate import valid\n",
    "import analysis\n",
    "from analysis.util import plot_dist"
   ]
  },
  {
   "cell_type": "code",
   "execution_count": 2,
   "outputs": [
    {
     "name": "stdout",
     "output_type": "stream",
     "text": [
      "1000\n"
     ]
    },
    {
     "name": "stderr",
     "output_type": "stream",
     "text": [
      "C:\\ProgramData\\Anaconda3\\envs\\CTImageQuality\\lib\\site-packages\\torchvision\\models\\_utils.py:208: UserWarning: The parameter 'pretrained' is deprecated since 0.13 and may be removed in the future, please use 'weights' instead.\n",
      "  warnings.warn(\n",
      "C:\\ProgramData\\Anaconda3\\envs\\CTImageQuality\\lib\\site-packages\\torchvision\\models\\_utils.py:223: UserWarning: Arguments other than a weight enum or `None` for 'weights' are deprecated since 0.13 and may be removed in the future. The current behavior is equivalent to passing `weights=DenseNet121_Weights.IMAGENET1K_V1`. You can also use `weights=DenseNet121_Weights.DEFAULT` to get the most up-to-date weights.\n",
      "  warnings.warn(msg)\n",
      "validation:   0%|\u001B[34m          \u001B[0m| 4/1000 [00:00<01:10, 14.08it/s]"
     ]
    },
    {
     "name": "stdout",
     "output_type": "stream",
     "text": [
      "dncnn 2.890049457550049\n",
      "1\n",
      "diff: 0.090049505\n",
      "#\n",
      "dncnn 1.716446042060852\n",
      "1\n",
      "diff: -0.08355391\n",
      "#\n",
      "dncnn 2.4516234397888184\n",
      "1\n",
      "diff: -0.94837666\n",
      "1\n",
      "#\n",
      "dncnn 2.1543385982513428\n",
      "1\n",
      "diff: 0.1543386\n",
      "#\n",
      "dncnn 1.7639583349227905\n",
      "1\n",
      "diff: -0.23604167\n",
      "#\n",
      "dncnn 1.0755912065505981\n",
      "1\n",
      "diff: 0.8755912\n",
      "2\n",
      "#\n",
      "dncnn 1.088837742805481\n"
     ]
    },
    {
     "name": "stderr",
     "output_type": "stream",
     "text": [
      "validation:   1%|\u001B[34m          \u001B[0m| 12/1000 [00:00<00:39, 25.25it/s]"
     ]
    },
    {
     "name": "stdout",
     "output_type": "stream",
     "text": [
      "1\n",
      "diff: 0.48883772\n",
      "#\n",
      "dncnn 3.053603172302246\n",
      "1\n",
      "diff: -0.9463968\n",
      "3\n",
      "#\n",
      "dncnn 0.9055308699607849\n",
      "1\n",
      "diff: 0.90553087\n",
      "4\n",
      "#\n",
      "dncnn 1.792970895767212\n",
      "1\n",
      "diff: 0.19297087\n",
      "#\n",
      "dncnn 3.0596814155578613\n",
      "1\n",
      "diff: -0.9403186\n",
      "5\n",
      "#\n",
      "dncnn 2.8817498683929443\n",
      "1\n",
      "diff: 0.6817498\n",
      "6\n",
      "#\n",
      "dncnn 1.0963232517242432\n",
      "1\n",
      "diff: 0.49632323\n",
      "#\n"
     ]
    },
    {
     "name": "stderr",
     "output_type": "stream",
     "text": [
      "validation:   2%|\u001B[34m▏         \u001B[0m| 20/1000 [00:00<00:32, 30.23it/s]"
     ]
    },
    {
     "name": "stdout",
     "output_type": "stream",
     "text": [
      "dncnn 2.6337146759033203\n",
      "1\n",
      "diff: 0.23371458\n",
      "#\n",
      "dncnn 1.5513360500335693\n",
      "1\n",
      "diff: 0.351336\n",
      "#\n",
      "dncnn 2.9093523025512695\n",
      "1\n",
      "diff: -1.0906477\n",
      "7\n",
      "#\n",
      "dncnn 2.377824068069458\n",
      "1\n",
      "diff: 0.37782407\n",
      "#\n",
      "dncnn 0.9817463159561157\n",
      "1\n",
      "diff: 0.3817463\n",
      "#\n",
      "dncnn 1.4364337921142578\n",
      "1\n",
      "diff: 0.036433816\n",
      "#\n",
      "dncnn 2.7832136154174805\n",
      "1\n",
      "diff: -0.8167863\n",
      "8\n",
      "#\n",
      "dncnn 1.7189710140228271\n"
     ]
    },
    {
     "name": "stderr",
     "output_type": "stream",
     "text": [
      "validation:   2%|\u001B[34m▏         \u001B[0m| 24/1000 [00:00<00:31, 30.81it/s]"
     ]
    },
    {
     "name": "stdout",
     "output_type": "stream",
     "text": [
      "1\n",
      "diff: 0.11897099\n",
      "#\n",
      "dncnn 1.0288199186325073\n",
      "1\n",
      "diff: 0.82881993\n",
      "9\n",
      "#\n",
      "dncnn 2.9703707695007324\n",
      "1\n",
      "diff: -0.8296292\n",
      "10\n",
      "#\n",
      "dncnn 2.7018234729766846\n",
      "1\n",
      "diff: 0.5018234\n",
      "11\n",
      "#\n",
      "dncnn 1.0695061683654785\n",
      "1\n",
      "diff: 0.06950617\n",
      "#\n",
      "dncnn 2.893505811691284\n",
      "1\n",
      "diff: -0.90649414\n",
      "12\n",
      "#\n",
      "dncnn 1.2897841930389404\n",
      "1\n",
      "diff: -0.11021578\n",
      "#\n",
      "dncnn 2.5713772773742676\n"
     ]
    },
    {
     "name": "stderr",
     "output_type": "stream",
     "text": [
      "validation:   3%|\u001B[34m▎         \u001B[0m| 32/1000 [00:01<00:31, 30.91it/s]"
     ]
    },
    {
     "name": "stdout",
     "output_type": "stream",
     "text": [
      "1\n",
      "diff: 0.37137723\n",
      "#\n",
      "dncnn 2.440049648284912\n",
      "1\n",
      "diff: 0.2400496\n",
      "#\n",
      "dncnn 0.9024654030799866\n",
      "1\n",
      "diff: 0.50246537\n",
      "13\n",
      "#\n",
      "dncnn 2.771782398223877\n",
      "1\n",
      "diff: -0.42821765\n",
      "#\n",
      "dncnn 1.945784330368042\n",
      "1\n",
      "diff: 0.14578438\n",
      "#\n",
      "dncnn 1.8297113180160522\n",
      "1\n",
      "diff: 0.029711366\n",
      "#\n",
      "dncnn 1.0199309587478638\n",
      "1\n",
      "diff: 0.21993095\n"
     ]
    },
    {
     "name": "stderr",
     "output_type": "stream",
     "text": [
      "validation:   4%|\u001B[34m▍         \u001B[0m| 40/1000 [00:01<00:29, 32.33it/s]"
     ]
    },
    {
     "name": "stdout",
     "output_type": "stream",
     "text": [
      "#\n",
      "dncnn 1.429641842842102\n",
      "1\n",
      "diff: -0.17035818\n",
      "#\n",
      "dncnn 1.0039258003234863\n",
      "1\n",
      "diff: -0.39607418\n",
      "#\n",
      "dncnn 1.2367504835128784\n",
      "1\n",
      "diff: 0.23675048\n",
      "#\n",
      "dncnn 2.500896692276001\n",
      "1\n",
      "diff: -1.4991033\n",
      "14\n",
      "#\n",
      "dncnn 1.323638916015625\n",
      "1\n",
      "diff: 0.32363892\n",
      "#\n",
      "dncnn 1.5453630685806274\n",
      "1\n",
      "diff: -0.25463688\n",
      "#\n",
      "dncnn 1.746842622756958\n"
     ]
    },
    {
     "name": "stderr",
     "output_type": "stream",
     "text": [
      "validation:   4%|\u001B[34m▍         \u001B[0m| 44/1000 [00:01<00:29, 31.91it/s]"
     ]
    },
    {
     "name": "stdout",
     "output_type": "stream",
     "text": [
      "1\n",
      "diff: 0.1468426\n",
      "#\n",
      "dncnn 2.3487789630889893\n",
      "1\n",
      "diff: -0.451221\n",
      "#\n",
      "dncnn 2.7531237602233887\n",
      "1\n",
      "diff: -0.4468763\n",
      "#\n",
      "dncnn 2.5155811309814453\n",
      "1\n",
      "diff: -0.88441896\n",
      "15\n",
      "#\n",
      "dncnn 2.1712119579315186\n",
      "1\n",
      "diff: 0.371212\n",
      "#\n",
      "dncnn 1.69355309009552\n",
      "1\n",
      "diff: 0.2935531\n",
      "#\n"
     ]
    },
    {
     "name": "stderr",
     "output_type": "stream",
     "text": [
      "validation:   5%|\u001B[34m▌         \u001B[0m| 52/1000 [00:01<00:29, 31.92it/s]"
     ]
    },
    {
     "name": "stdout",
     "output_type": "stream",
     "text": [
      "dncnn 1.176498293876648\n",
      "1\n",
      "diff: 0.57649827\n",
      "16\n",
      "#\n",
      "dncnn 1.6050713062286377\n",
      "1\n",
      "diff: 0.20507133\n",
      "#\n",
      "dncnn 2.265690565109253\n",
      "1\n",
      "diff: -0.13430953\n",
      "#\n",
      "dncnn 3.006795644760132\n",
      "1\n",
      "diff: 0.20679569\n",
      "#\n",
      "dncnn 1.3301254510879517\n",
      "1\n",
      "diff: -0.4698745\n",
      "#\n",
      "dncnn 2.829291820526123\n",
      "1\n",
      "diff: 0.22929192\n",
      "#\n",
      "dncnn 2.741088628768921\n",
      "1\n",
      "diff: 0.34108853\n",
      "#\n",
      "dncnn 2.4294919967651367\n"
     ]
    },
    {
     "name": "stderr",
     "output_type": "stream",
     "text": [
      "validation:   6%|\u001B[34m▌         \u001B[0m| 60/1000 [00:02<00:29, 32.01it/s]"
     ]
    },
    {
     "name": "stdout",
     "output_type": "stream",
     "text": [
      "1\n",
      "diff: -0.77050805\n",
      "17\n",
      "#\n",
      "dncnn 2.3669700622558594\n",
      "1\n",
      "diff: 0.76697004\n",
      "18\n",
      "#\n",
      "dncnn 2.7770838737487793\n",
      "1\n",
      "diff: -0.42291617\n",
      "#\n",
      "dncnn 2.5211973190307617\n",
      "1\n",
      "diff: 0.32119727\n",
      "#\n",
      "dncnn 1.2739646434783936\n",
      "1\n",
      "diff: -0.12603533\n",
      "#\n",
      "dncnn 1.9925179481506348\n",
      "1\n",
      "diff: 0.592518\n",
      "19\n",
      "#\n",
      "dncnn 2.9406824111938477\n",
      "1\n",
      "diff: -0.45931768\n",
      "#\n"
     ]
    },
    {
     "name": "stderr",
     "output_type": "stream",
     "text": [
      "validation:   6%|\u001B[34m▋         \u001B[0m| 64/1000 [00:02<00:28, 33.07it/s]"
     ]
    },
    {
     "name": "stdout",
     "output_type": "stream",
     "text": [
      "dncnn 2.334801197052002\n",
      "1\n",
      "diff: 0.3348012\n",
      "#\n",
      "dncnn 1.0175632238388062\n",
      "1\n",
      "diff: 0.4175632\n",
      "#\n",
      "dncnn 2.2321794033050537\n",
      "1\n",
      "diff: 1.0321794\n",
      "20\n",
      "#\n",
      "dncnn 2.001495838165283\n",
      "1\n",
      "diff: 0.20149589\n",
      "#\n",
      "dncnn 2.3202879428863525\n",
      "1\n",
      "diff: -0.27971196\n",
      "#\n",
      "dncnn 2.7631959915161133\n",
      "1\n",
      "diff: -0.23680401\n",
      "#\n",
      "dncnn 1.9353941679000854\n"
     ]
    },
    {
     "name": "stderr",
     "output_type": "stream",
     "text": [
      "validation:   7%|\u001B[34m▋         \u001B[0m| 72/1000 [00:02<00:28, 32.51it/s]"
     ]
    },
    {
     "name": "stdout",
     "output_type": "stream",
     "text": [
      "1\n",
      "diff: -0.06460583\n",
      "#\n",
      "dncnn 1.0569210052490234\n",
      "1\n",
      "diff: 0.256921\n",
      "#\n",
      "dncnn 2.4520983695983887\n",
      "1\n",
      "diff: 0.052098274\n",
      "#\n",
      "dncnn 2.7904245853424072\n",
      "1\n",
      "diff: 0.19042468\n",
      "#\n",
      "dncnn 3.0119729042053223\n",
      "1\n",
      "diff: -0.78802705\n",
      "21\n",
      "#\n",
      "dncnn 1.7710007429122925\n",
      "1\n",
      "diff: 0.37100077\n",
      "#\n",
      "dncnn 2.4739842414855957\n",
      "1\n",
      "diff: -0.12601566\n",
      "#\n"
     ]
    },
    {
     "name": "stderr",
     "output_type": "stream",
     "text": [
      "validation:   8%|\u001B[34m▊         \u001B[0m| 80/1000 [00:02<00:28, 31.98it/s]"
     ]
    },
    {
     "name": "stdout",
     "output_type": "stream",
     "text": [
      "dncnn 1.1792001724243164\n",
      "1\n",
      "diff: 0.7792002\n",
      "22\n",
      "#\n",
      "dncnn 1.8653947114944458\n",
      "1\n",
      "diff: 0.46539474\n",
      "#\n",
      "dncnn 1.030444622039795\n",
      "1\n",
      "diff: 1.0304446\n",
      "23\n",
      "#\n",
      "dncnn 2.794710874557495\n",
      "1\n",
      "diff: 0.19471097\n",
      "#\n",
      "dncnn 2.9199259281158447\n",
      "1\n",
      "diff: 0.51992583\n",
      "24\n",
      "#\n",
      "dncnn 2.266634702682495\n",
      "1\n",
      "diff: -0.7333653\n",
      "25\n",
      "#\n",
      "dncnn 1.0455882549285889\n",
      "1\n",
      "diff: -0.1544118\n",
      "#\n"
     ]
    },
    {
     "name": "stderr",
     "output_type": "stream",
     "text": [
      "validation:   8%|\u001B[34m▊         \u001B[0m| 84/1000 [00:02<00:28, 31.95it/s]"
     ]
    },
    {
     "name": "stdout",
     "output_type": "stream",
     "text": [
      "dncnn 1.1366252899169922\n",
      "1\n",
      "diff: 0.7366253\n",
      "26\n",
      "#\n",
      "dncnn 0.9415981769561768\n",
      "1\n",
      "diff: 0.7415982\n",
      "27\n",
      "#\n",
      "dncnn 2.858799695968628\n",
      "1\n",
      "diff: -0.7412002\n",
      "28\n",
      "#\n",
      "dncnn 1.4526225328445435\n",
      "1\n",
      "diff: 0.052622557\n",
      "#\n",
      "dncnn 2.4132895469665527\n",
      "1\n",
      "diff: 0.013289452\n",
      "#\n",
      "dncnn 2.841712713241577\n",
      "1\n",
      "diff: -0.7582872\n",
      "29\n",
      "#\n"
     ]
    },
    {
     "name": "stderr",
     "output_type": "stream",
     "text": [
      "validation:   9%|\u001B[34m▉         \u001B[0m| 92/1000 [00:03<00:27, 33.19it/s]"
     ]
    },
    {
     "name": "stdout",
     "output_type": "stream",
     "text": [
      "dncnn 2.9463951587677\n",
      "1\n",
      "diff: -0.05360484\n",
      "#\n",
      "dncnn 2.679961681365967\n",
      "1\n",
      "diff: -0.32003832\n",
      "#\n",
      "dncnn 2.848654270172119\n",
      "1\n",
      "diff: 0.048654318\n",
      "#\n",
      "dncnn 2.5898303985595703\n",
      "1\n",
      "diff: -0.4101696\n",
      "#\n",
      "dncnn 1.1531298160552979\n",
      "1\n",
      "diff: -0.04687023\n",
      "#\n",
      "dncnn 2.9595236778259277\n",
      "1\n",
      "diff: -0.6404762\n",
      "30\n",
      "#\n",
      "dncnn 2.1414120197296143\n",
      "1\n",
      "diff: 0.74141204\n",
      "31\n",
      "#\n",
      "dncnn 2.443871259689331\n"
     ]
    },
    {
     "name": "stderr",
     "output_type": "stream",
     "text": [
      "validation:  10%|\u001B[34m█         \u001B[0m| 100/1000 [00:03<00:28, 31.42it/s]"
     ]
    },
    {
     "name": "stdout",
     "output_type": "stream",
     "text": [
      "1\n",
      "diff: -0.15612864\n",
      "#\n",
      "dncnn 1.0649174451828003\n",
      "1\n",
      "diff: 0.86491746\n",
      "32\n",
      "#\n",
      "dncnn 1.2219258546829224\n",
      "1\n",
      "diff: 0.42192584\n",
      "#\n",
      "dncnn 1.2328464984893799\n",
      "1\n",
      "diff: -0.7671535\n",
      "33\n",
      "#\n",
      "dncnn 2.9084348678588867\n",
      "1\n",
      "diff: -1.0915651\n",
      "34\n",
      "#\n",
      "dncnn 1.3656625747680664\n",
      "1\n",
      "diff: -0.43433738\n",
      "#\n",
      "dncnn 2.831054210662842\n",
      "1\n",
      "diff: -0.16894579\n",
      "#\n"
     ]
    },
    {
     "name": "stderr",
     "output_type": "stream",
     "text": [
      "validation:  10%|\u001B[34m█         \u001B[0m| 104/1000 [00:03<00:27, 32.35it/s]"
     ]
    },
    {
     "name": "stdout",
     "output_type": "stream",
     "text": [
      "dncnn 2.916553497314453\n",
      "1\n",
      "diff: -1.0834465\n",
      "35\n",
      "#\n",
      "dncnn 2.7951314449310303\n",
      "1\n",
      "diff: -1.2048686\n",
      "36\n",
      "#\n",
      "dncnn 2.683712959289551\n",
      "1\n",
      "diff: -0.91628695\n",
      "37\n",
      "#\n",
      "dncnn 2.816298246383667\n",
      "1\n",
      "diff: -0.18370175\n",
      "#\n",
      "dncnn 1.2716240882873535\n",
      "1\n",
      "diff: -0.52837586\n",
      "38\n",
      "#\n",
      "dncnn 1.384526014328003\n",
      "1\n",
      "diff: -0.015473962\n",
      "#\n",
      "dncnn 2.4647459983825684\n",
      "1\n",
      "diff: -0.535254\n",
      "39\n",
      "#\n"
     ]
    },
    {
     "name": "stderr",
     "output_type": "stream",
     "text": [
      "validation:  11%|\u001B[34m█         \u001B[0m| 112/1000 [00:03<00:27, 32.17it/s]"
     ]
    },
    {
     "name": "stdout",
     "output_type": "stream",
     "text": [
      "dncnn 1.3233928680419922\n",
      "1\n",
      "diff: 0.52339286\n",
      "40\n",
      "#\n",
      "dncnn 2.6085305213928223\n",
      "1\n",
      "diff: -1.3914695\n",
      "41\n",
      "#\n",
      "dncnn 1.9813692569732666\n",
      "1\n",
      "diff: -0.018630743\n",
      "#\n",
      "dncnn 2.784466028213501\n",
      "1\n",
      "diff: -0.21553397\n",
      "#\n",
      "dncnn 0.9301882386207581\n",
      "1\n",
      "diff: 0.73018825\n",
      "42\n",
      "#\n",
      "dncnn 0.980844259262085\n",
      "1\n",
      "diff: -0.21915579\n",
      "#\n",
      "dncnn 1.7998716831207275\n",
      "1\n",
      "diff: -0.0001282692\n",
      "#\n"
     ]
    },
    {
     "name": "stderr",
     "output_type": "stream",
     "text": [
      "validation:  12%|\u001B[34m█▏        \u001B[0m| 120/1000 [00:03<00:27, 31.64it/s]"
     ]
    },
    {
     "name": "stdout",
     "output_type": "stream",
     "text": [
      "dncnn 2.9432835578918457\n",
      "1\n",
      "diff: -0.056716442\n",
      "#\n",
      "dncnn 1.2427325248718262\n",
      "1\n",
      "diff: 0.4427325\n",
      "#\n",
      "dncnn 2.6847939491271973\n",
      "1\n",
      "diff: 0.28479385\n",
      "#\n",
      "dncnn 1.7525382041931152\n",
      "1\n",
      "diff: 0.55253816\n",
      "43\n",
      "#\n",
      "dncnn 2.976743221282959\n",
      "1\n",
      "diff: -0.023256779\n",
      "#\n",
      "dncnn 1.097117304801941\n",
      "1\n",
      "diff: 0.8971173\n",
      "44\n",
      "#\n",
      "dncnn 1.9462953805923462\n",
      "1\n",
      "diff: -0.25370467\n",
      "#\n",
      "dncnn 3.0200772285461426\n"
     ]
    },
    {
     "name": "stderr",
     "output_type": "stream",
     "text": [
      "validation:  13%|\u001B[34m█▎        \u001B[0m| 128/1000 [00:04<00:26, 32.67it/s]"
     ]
    },
    {
     "name": "stdout",
     "output_type": "stream",
     "text": [
      "1\n",
      "diff: -0.5799227\n",
      "45\n",
      "#\n",
      "dncnn 3.0622189044952393\n",
      "1\n",
      "diff: -0.9377811\n",
      "46\n",
      "#\n",
      "dncnn 2.574589967727661\n",
      "1\n",
      "diff: -0.025409937\n",
      "#\n",
      "dncnn 1.2933335304260254\n",
      "1\n",
      "diff: -0.106666446\n",
      "#\n",
      "dncnn 2.310471773147583\n",
      "1\n",
      "diff: -0.08952832\n",
      "#\n",
      "dncnn 1.8494423627853394\n",
      "1\n",
      "diff: 0.24944234\n",
      "#\n",
      "dncnn 1.0097625255584717\n",
      "1\n",
      "diff: 0.60976255\n",
      "47\n",
      "#\n"
     ]
    },
    {
     "name": "stderr",
     "output_type": "stream",
     "text": [
      "validation:  13%|\u001B[34m█▎        \u001B[0m| 132/1000 [00:04<00:26, 32.62it/s]"
     ]
    },
    {
     "name": "stdout",
     "output_type": "stream",
     "text": [
      "dncnn 2.5828168392181396\n",
      "1\n",
      "diff: -1.2171831\n",
      "48\n",
      "#\n",
      "dncnn 1.3176225423812866\n",
      "1\n",
      "diff: 0.31762254\n",
      "#\n",
      "dncnn 1.9692432880401611\n",
      "1\n",
      "diff: -0.030756712\n",
      "#\n",
      "dncnn 2.432565450668335\n",
      "1\n",
      "diff: -0.96743464\n",
      "49\n",
      "#\n",
      "dncnn 1.805320143699646\n",
      "1\n",
      "diff: -0.3946799\n",
      "#\n",
      "dncnn 2.6369991302490234\n",
      "1\n",
      "diff: -0.16300082\n",
      "#\n"
     ]
    },
    {
     "name": "stderr",
     "output_type": "stream",
     "text": [
      "validation:  14%|\u001B[34m█▍        \u001B[0m| 140/1000 [00:04<00:26, 32.30it/s]"
     ]
    },
    {
     "name": "stdout",
     "output_type": "stream",
     "text": [
      "dncnn 1.8447647094726562\n",
      "1\n",
      "diff: -0.15523529\n",
      "#\n",
      "dncnn 1.1351903676986694\n",
      "1\n",
      "diff: 0.13519037\n",
      "#\n",
      "dncnn 2.897611379623413\n",
      "1\n",
      "diff: -0.10238862\n",
      "#\n",
      "dncnn 1.297804832458496\n",
      "1\n",
      "diff: 0.49780482\n",
      "#\n",
      "dncnn 1.5880756378173828\n",
      "1\n",
      "diff: -0.41192436\n",
      "#\n",
      "dncnn 1.0485461950302124\n",
      "1\n",
      "diff: 0.048546195\n",
      "#\n",
      "dncnn 2.6551880836486816\n",
      "1\n",
      "diff: 0.255188\n",
      "#\n"
     ]
    },
    {
     "name": "stderr",
     "output_type": "stream",
     "text": [
      "validation:  15%|\u001B[34m█▍        \u001B[0m| 148/1000 [00:04<00:25, 33.03it/s]"
     ]
    },
    {
     "name": "stdout",
     "output_type": "stream",
     "text": [
      "dncnn 1.6227020025253296\n",
      "1\n",
      "diff: -0.17729795\n",
      "#\n",
      "dncnn 1.4386950731277466\n",
      "1\n",
      "diff: 0.23869503\n",
      "#\n",
      "dncnn 2.2553493976593018\n",
      "1\n",
      "diff: -0.3446505\n",
      "#\n",
      "dncnn 1.587717056274414\n",
      "1\n",
      "diff: 0.387717\n",
      "#\n",
      "dncnn 2.0956671237945557\n",
      "1\n",
      "diff: 0.29566717\n",
      "#\n",
      "dncnn 2.7892816066741943\n",
      "1\n",
      "diff: -0.6107185\n",
      "50\n",
      "#\n",
      "dncnn 1.4228746891021729\n",
      "1\n",
      "diff: 0.22287464\n",
      "#\n",
      "dncnn 1.0166321992874146\n"
     ]
    },
    {
     "name": "stderr",
     "output_type": "stream",
     "text": [
      "validation:  15%|\u001B[34m█▌        \u001B[0m| 152/1000 [00:04<00:25, 33.33it/s]"
     ]
    },
    {
     "name": "stdout",
     "output_type": "stream",
     "text": [
      "1\n",
      "diff: 0.6166322\n",
      "51\n",
      "#\n",
      "dncnn 2.705061197280884\n",
      "1\n",
      "diff: 0.10506129\n",
      "#\n",
      "dncnn 0.9921261072158813\n",
      "1\n",
      "diff: 0.59212613\n",
      "52\n",
      "#\n",
      "dncnn 2.3477511405944824\n",
      "1\n",
      "diff: -0.25224876\n",
      "#\n",
      "dncnn 2.5800411701202393\n",
      "1\n",
      "diff: -0.019958735\n",
      "#\n",
      "dncnn 1.9583717584609985\n",
      "1\n",
      "diff: -0.04162824\n",
      "#\n",
      "dncnn 2.827880620956421\n",
      "1\n",
      "diff: -0.17211938\n",
      "#\n"
     ]
    },
    {
     "name": "stderr",
     "output_type": "stream",
     "text": [
      "validation:  16%|\u001B[34m█▌        \u001B[0m| 160/1000 [00:05<00:25, 32.64it/s]"
     ]
    },
    {
     "name": "stdout",
     "output_type": "stream",
     "text": [
      "dncnn 1.7897545099258423\n",
      "1\n",
      "diff: -0.21024549\n",
      "#\n",
      "dncnn 2.4505462646484375\n",
      "1\n",
      "diff: -0.14945364\n",
      "#\n",
      "dncnn 2.726980209350586\n",
      "1\n",
      "diff: 0.1269803\n",
      "#\n",
      "dncnn 2.513381004333496\n",
      "1\n",
      "diff: -1.0866189\n",
      "53\n",
      "#\n",
      "dncnn 2.783909559249878\n",
      "1\n",
      "diff: 0.18390965\n",
      "#\n",
      "dncnn 1.11005437374115\n",
      "1\n",
      "diff: 0.51005435\n",
      "54\n",
      "#\n",
      "dncnn 2.5541586875915527\n",
      "1\n",
      "diff: 0.15415859\n",
      "#\n"
     ]
    },
    {
     "name": "stderr",
     "output_type": "stream",
     "text": [
      "validation:  17%|\u001B[34m█▋        \u001B[0m| 168/1000 [00:05<00:25, 32.22it/s]"
     ]
    },
    {
     "name": "stdout",
     "output_type": "stream",
     "text": [
      "dncnn 2.7583112716674805\n",
      "1\n",
      "diff: -0.44168878\n",
      "#\n",
      "dncnn 3.026883125305176\n",
      "1\n",
      "diff: -0.7731168\n",
      "55\n",
      "#\n",
      "dncnn 2.8358867168426514\n",
      "1\n",
      "diff: 0.43588662\n",
      "#\n",
      "dncnn 1.491370677947998\n",
      "1\n",
      "diff: 0.0913707\n",
      "#\n",
      "dncnn 2.5568814277648926\n",
      "1\n",
      "diff: -1.4431186\n",
      "56\n",
      "#\n",
      "dncnn 2.8001105785369873\n",
      "1\n",
      "diff: -0.19988942\n",
      "#\n",
      "dncnn 1.7103453874588013\n",
      "1\n",
      "diff: 0.11034536\n",
      "#\n"
     ]
    },
    {
     "name": "stderr",
     "output_type": "stream",
     "text": [
      "validation:  18%|\u001B[34m█▊        \u001B[0m| 176/1000 [00:05<00:25, 32.11it/s]"
     ]
    },
    {
     "name": "stdout",
     "output_type": "stream",
     "text": [
      "dncnn 2.7755818367004395\n",
      "1\n",
      "diff: 0.37558174\n",
      "#\n",
      "dncnn 1.7769346237182617\n",
      "1\n",
      "diff: 0.1769346\n",
      "#\n",
      "dncnn 2.9849677085876465\n",
      "1\n",
      "diff: -0.81503224\n",
      "57\n",
      "#\n",
      "dncnn 2.047504186630249\n",
      "1\n",
      "diff: -0.5524957\n",
      "58\n",
      "#\n",
      "dncnn 2.8407657146453857\n",
      "1\n",
      "diff: 0.24076581\n",
      "#\n",
      "dncnn 1.2541050910949707\n",
      "1\n",
      "diff: 0.2541051\n",
      "#\n",
      "dncnn 2.3571484088897705\n",
      "1\n",
      "diff: 0.15714836\n",
      "#\n"
     ]
    },
    {
     "name": "stderr",
     "output_type": "stream",
     "text": [
      "validation:  18%|\u001B[34m█▊        \u001B[0m| 180/1000 [00:05<00:24, 33.33it/s]"
     ]
    },
    {
     "name": "stdout",
     "output_type": "stream",
     "text": [
      "dncnn 2.381728410720825\n",
      "1\n",
      "diff: -0.018271685\n",
      "#\n",
      "dncnn 3.1140940189361572\n",
      "1\n",
      "diff: -0.68590593\n",
      "59\n",
      "#\n",
      "dncnn 1.1578786373138428\n",
      "1\n",
      "diff: -0.24212134\n",
      "#\n",
      "dncnn 1.6791075468063354\n",
      "1\n",
      "diff: 0.67910755\n",
      "60\n",
      "#\n",
      "dncnn 3.102926731109619\n",
      "1\n",
      "diff: -0.89707327\n",
      "61\n",
      "#\n",
      "dncnn 1.7559871673583984\n",
      "1\n",
      "diff: 0.3559872\n",
      "#\n",
      "dncnn 1.5254874229431152\n"
     ]
    },
    {
     "name": "stderr",
     "output_type": "stream",
     "text": [
      "validation:  19%|\u001B[34m█▉        \u001B[0m| 188/1000 [00:05<00:25, 32.37it/s]"
     ]
    },
    {
     "name": "stdout",
     "output_type": "stream",
     "text": [
      "1\n",
      "diff: 0.5254874\n",
      "62\n",
      "#\n",
      "dncnn 1.097239375114441\n",
      "1\n",
      "diff: 0.49723935\n",
      "#\n",
      "dncnn 1.1760188341140747\n",
      "1\n",
      "diff: -0.023981214\n",
      "#\n",
      "dncnn 2.1404850482940674\n",
      "1\n",
      "diff: -0.059515\n",
      "#\n",
      "dncnn 2.407055616378784\n",
      "1\n",
      "diff: -0.19294429\n",
      "#\n",
      "dncnn 0.9169845581054688\n",
      "1\n",
      "diff: 0.91698456\n",
      "63\n",
      "#\n",
      "dncnn 0.7958994507789612\n",
      "1\n",
      "diff: 0.79589945\n",
      "64\n",
      "#\n",
      "dncnn 2.920410394668579\n"
     ]
    },
    {
     "name": "stderr",
     "output_type": "stream",
     "text": [
      "validation:  20%|\u001B[34m█▉        \u001B[0m| 196/1000 [00:06<00:24, 33.03it/s]"
     ]
    },
    {
     "name": "stdout",
     "output_type": "stream",
     "text": [
      "1\n",
      "diff: -0.079589605\n",
      "#\n",
      "dncnn 2.5615170001983643\n",
      "1\n",
      "diff: -0.038482904\n",
      "#\n",
      "dncnn 0.9792875051498413\n",
      "1\n",
      "diff: 0.1792875\n",
      "#\n",
      "dncnn 2.936006546020508\n",
      "1\n",
      "diff: -0.46399355\n",
      "#\n",
      "dncnn 2.2619664669036865\n",
      "1\n",
      "diff: 0.66196644\n",
      "65\n",
      "#\n",
      "dncnn 1.7319940328598022\n",
      "1\n",
      "diff: 0.13199401\n",
      "#\n",
      "dncnn 2.6967999935150146\n",
      "1\n",
      "diff: 0.2967999\n",
      "#\n"
     ]
    },
    {
     "name": "stderr",
     "output_type": "stream",
     "text": [
      "validation:  20%|\u001B[34m██        \u001B[0m| 200/1000 [00:06<00:24, 32.70it/s]"
     ]
    },
    {
     "name": "stdout",
     "output_type": "stream",
     "text": [
      "dncnn 2.719534397125244\n",
      "1\n",
      "diff: -0.8804655\n",
      "66\n",
      "#\n",
      "dncnn 1.5125305652618408\n",
      "1\n",
      "diff: -0.2874694\n",
      "#\n",
      "dncnn 1.6017652750015259\n",
      "1\n",
      "diff: 0.40176523\n",
      "#\n",
      "dncnn 2.106787919998169\n",
      "1\n",
      "diff: -0.09321213\n",
      "#\n",
      "dncnn 2.919997453689575\n",
      "1\n",
      "diff: 0.51999736\n",
      "67\n",
      "#\n",
      "dncnn 1.2457575798034668\n",
      "1\n",
      "diff: -0.5542424\n",
      "68\n",
      "#\n"
     ]
    },
    {
     "name": "stderr",
     "output_type": "stream",
     "text": [
      "validation:  21%|\u001B[34m██        \u001B[0m| 208/1000 [00:06<00:24, 32.31it/s]"
     ]
    },
    {
     "name": "stdout",
     "output_type": "stream",
     "text": [
      "dncnn 1.4935606718063354\n",
      "1\n",
      "diff: -0.10643935\n",
      "#\n",
      "dncnn 2.470381498336792\n",
      "1\n",
      "diff: -0.1296184\n",
      "#\n",
      "dncnn 2.035263776779175\n",
      "1\n",
      "diff: 0.035263777\n",
      "#\n",
      "dncnn 2.9627785682678223\n",
      "1\n",
      "diff: 0.16277862\n",
      "#\n",
      "dncnn 2.7679131031036377\n",
      "1\n",
      "diff: 0.1679132\n",
      "#\n",
      "dncnn 2.7635912895202637\n",
      "1\n",
      "diff: -0.23640871\n",
      "#\n",
      "dncnn 0.8998947143554688\n",
      "1\n",
      "diff: 0.8998947\n",
      "69\n",
      "#\n"
     ]
    },
    {
     "name": "stderr",
     "output_type": "stream",
     "text": [
      "validation:  22%|\u001B[34m██▏       \u001B[0m| 216/1000 [00:06<00:23, 33.56it/s]"
     ]
    },
    {
     "name": "stdout",
     "output_type": "stream",
     "text": [
      "dncnn 1.5870778560638428\n",
      "1\n",
      "diff: -0.012922168\n",
      "#\n",
      "dncnn 1.69743013381958\n",
      "1\n",
      "diff: 0.09743011\n",
      "#\n",
      "dncnn 1.2808574438095093\n",
      "1\n",
      "diff: 0.28085744\n",
      "#\n",
      "dncnn 1.030525803565979\n",
      "1\n",
      "diff: 0.6305258\n",
      "70\n",
      "#\n",
      "dncnn 1.488067388534546\n",
      "1\n",
      "diff: 0.6880674\n",
      "71\n",
      "#\n",
      "dncnn 2.6975903511047363\n",
      "1\n",
      "diff: -0.5024097\n",
      "72\n",
      "#\n",
      "dncnn 3.049396514892578\n",
      "1\n",
      "diff: -0.75060344\n",
      "73\n",
      "#\n"
     ]
    },
    {
     "name": "stderr",
     "output_type": "stream",
     "text": [
      "validation:  22%|\u001B[34m██▏       \u001B[0m| 220/1000 [00:06<00:23, 33.08it/s]"
     ]
    },
    {
     "name": "stdout",
     "output_type": "stream",
     "text": [
      "dncnn 2.6599133014678955\n",
      "1\n",
      "diff: -0.7400868\n",
      "74\n",
      "#\n",
      "dncnn 2.746255874633789\n",
      "1\n",
      "diff: -0.25374413\n",
      "#\n",
      "dncnn 2.6377499103546143\n",
      "1\n",
      "diff: 0.23774981\n",
      "#\n",
      "dncnn 1.2169898748397827\n",
      "1\n",
      "diff: 0.61698985\n",
      "75\n",
      "#\n",
      "dncnn 2.6102328300476074\n",
      "1\n",
      "diff: 0.61023283\n",
      "76\n",
      "#\n",
      "dncnn 2.8860175609588623\n",
      "1\n",
      "diff: -0.11398244\n",
      "#\n"
     ]
    },
    {
     "name": "stderr",
     "output_type": "stream",
     "text": [
      "validation:  23%|\u001B[34m██▎       \u001B[0m| 228/1000 [00:07<00:23, 32.52it/s]"
     ]
    },
    {
     "name": "stdout",
     "output_type": "stream",
     "text": [
      "dncnn 1.4671348333358765\n",
      "1\n",
      "diff: 0.06713486\n",
      "#\n",
      "dncnn 1.9262741804122925\n",
      "1\n",
      "diff: 0.32627416\n",
      "#\n",
      "dncnn 2.6207897663116455\n",
      "1\n",
      "diff: 0.8207898\n",
      "77\n",
      "#\n",
      "dncnn 2.605156898498535\n",
      "1\n",
      "diff: 0.80515695\n",
      "78\n",
      "#\n",
      "dncnn 2.5770630836486816\n",
      "1\n",
      "diff: 0.17706299\n",
      "#\n",
      "dncnn 1.0333139896392822\n",
      "1\n",
      "diff: 0.23331398\n",
      "#\n",
      "dncnn 1.0524240732192993\n",
      "1\n",
      "diff: 0.25242406\n",
      "#\n"
     ]
    },
    {
     "name": "stderr",
     "output_type": "stream",
     "text": [
      "validation:  24%|\u001B[34m██▎       \u001B[0m| 236/1000 [00:07<00:23, 32.33it/s]"
     ]
    },
    {
     "name": "stdout",
     "output_type": "stream",
     "text": [
      "dncnn 2.6577823162078857\n",
      "1\n",
      "diff: -0.9422176\n",
      "79\n",
      "#\n",
      "dncnn 2.682581901550293\n",
      "1\n",
      "diff: -0.7174182\n",
      "80\n",
      "#\n",
      "dncnn 0.9400637149810791\n",
      "1\n",
      "diff: 0.1400637\n",
      "#\n",
      "dncnn 3.068937301635742\n",
      "1\n",
      "diff: -0.9310627\n",
      "81\n",
      "#\n",
      "dncnn 3.0234525203704834\n",
      "1\n",
      "diff: -0.37654757\n",
      "#\n",
      "dncnn 1.9896175861358643\n",
      "1\n",
      "diff: -0.010382414\n",
      "#\n",
      "dncnn 0.9796406626701355\n",
      "1\n",
      "diff: 0.7796407\n",
      "82\n",
      "#\n"
     ]
    },
    {
     "name": "stderr",
     "output_type": "stream",
     "text": [
      "validation:  24%|\u001B[34m██▍       \u001B[0m| 240/1000 [00:07<00:23, 32.22it/s]"
     ]
    },
    {
     "name": "stdout",
     "output_type": "stream",
     "text": [
      "dncnn 1.764549970626831\n",
      "1\n",
      "diff: -0.03544998\n",
      "#\n",
      "dncnn 1.8199211359024048\n",
      "1\n",
      "diff: -0.3800789\n",
      "#\n",
      "dncnn 2.872001886367798\n",
      "1\n",
      "diff: -0.727998\n",
      "83\n",
      "#\n",
      "dncnn 1.1398125886917114\n",
      "1\n",
      "diff: 0.33981258\n",
      "#\n",
      "dncnn 1.4972892999649048\n",
      "1\n",
      "diff: 0.097289324\n",
      "#\n",
      "dncnn 1.7765157222747803\n",
      "1\n",
      "diff: -0.02348423\n",
      "#\n",
      "dncnn 2.3349320888519287\n",
      "1\n",
      "diff: -0.46506786\n",
      "#\n",
      "dncnn 1.9178239107131958\n"
     ]
    },
    {
     "name": "stderr",
     "output_type": "stream",
     "text": [
      "validation:  25%|\u001B[34m██▍       \u001B[0m| 248/1000 [00:07<00:22, 32.95it/s]"
     ]
    },
    {
     "name": "stdout",
     "output_type": "stream",
     "text": [
      "1\n",
      "diff: 0.51782393\n",
      "84\n",
      "#\n",
      "dncnn 1.8147214651107788\n",
      "1\n",
      "diff: -0.18527853\n",
      "#\n",
      "dncnn 1.9450618028640747\n",
      "1\n",
      "diff: 0.14506185\n",
      "#\n",
      "dncnn 2.8872487545013428\n",
      "1\n",
      "diff: -0.112751245\n",
      "#\n",
      "dncnn 2.6879193782806396\n",
      "1\n",
      "diff: -0.9120805\n",
      "85\n",
      "#\n",
      "dncnn 1.721296787261963\n",
      "1\n",
      "diff: 0.52129674\n",
      "86\n",
      "#\n",
      "dncnn 1.6645288467407227\n",
      "1\n",
      "diff: -0.1354711\n",
      "#\n"
     ]
    },
    {
     "name": "stderr",
     "output_type": "stream",
     "text": [
      "validation:  26%|\u001B[34m██▌       \u001B[0m| 256/1000 [00:08<00:22, 32.45it/s]"
     ]
    },
    {
     "name": "stdout",
     "output_type": "stream",
     "text": [
      "dncnn 1.2416551113128662\n",
      "1\n",
      "diff: 0.041655064\n",
      "#\n",
      "dncnn 2.5831055641174316\n",
      "1\n",
      "diff: -0.6168945\n",
      "87\n",
      "#\n",
      "dncnn 0.9053773283958435\n",
      "1\n",
      "diff: 0.70537734\n",
      "88\n",
      "#\n",
      "dncnn 1.0780586004257202\n",
      "1\n",
      "diff: 0.0780586\n",
      "#\n",
      "dncnn 2.479713201522827\n",
      "1\n",
      "diff: -0.1202867\n",
      "#\n",
      "dncnn 2.119293689727783\n",
      "1\n",
      "diff: -0.2807064\n",
      "#\n",
      "dncnn 1.2345576286315918\n",
      "1\n",
      "diff: 0.43455762\n",
      "#\n"
     ]
    },
    {
     "name": "stderr",
     "output_type": "stream",
     "text": [
      "validation:  26%|\u001B[34m██▋       \u001B[0m| 264/1000 [00:08<00:22, 32.22it/s]"
     ]
    },
    {
     "name": "stdout",
     "output_type": "stream",
     "text": [
      "dncnn 1.1873968839645386\n",
      "1\n",
      "diff: 0.18739688\n",
      "#\n",
      "dncnn 3.005539655685425\n",
      "1\n",
      "diff: -0.59446025\n",
      "89\n",
      "#\n",
      "dncnn 1.0238277912139893\n",
      "1\n",
      "diff: 0.22382778\n",
      "#\n",
      "dncnn 2.703711748123169\n",
      "1\n",
      "diff: -0.69628835\n",
      "90\n",
      "#\n",
      "dncnn 2.7797510623931885\n",
      "1\n",
      "diff: -0.82024884\n",
      "91\n",
      "#\n",
      "dncnn 1.3782377243041992\n",
      "1\n",
      "diff: 0.37823772\n",
      "#\n",
      "dncnn 2.03741192817688\n",
      "1\n",
      "diff: 0.4374119\n",
      "#\n"
     ]
    },
    {
     "name": "stderr",
     "output_type": "stream",
     "text": [
      "validation:  27%|\u001B[34m██▋       \u001B[0m| 268/1000 [00:08<00:22, 32.16it/s]"
     ]
    },
    {
     "name": "stdout",
     "output_type": "stream",
     "text": [
      "dncnn 1.063779354095459\n",
      "1\n",
      "diff: 0.063779354\n",
      "#\n",
      "dncnn 2.008148193359375\n",
      "1\n",
      "diff: 0.20814824\n",
      "#\n",
      "dncnn 0.870922327041626\n",
      "1\n",
      "diff: 0.8709223\n",
      "92\n",
      "#\n",
      "dncnn 2.723952531814575\n",
      "1\n",
      "diff: 0.5239525\n",
      "93\n",
      "#\n",
      "dncnn 2.490919589996338\n",
      "1\n",
      "diff: 1.0909196\n",
      "94\n",
      "#\n",
      "dncnn 1.867417812347412\n",
      "1\n",
      "diff: -0.33258224\n",
      "#\n"
     ]
    },
    {
     "name": "stderr",
     "output_type": "stream",
     "text": [
      "validation:  28%|\u001B[34m██▊       \u001B[0m| 276/1000 [00:08<00:22, 32.07it/s]"
     ]
    },
    {
     "name": "stdout",
     "output_type": "stream",
     "text": [
      "dncnn 2.884871006011963\n",
      "1\n",
      "diff: -0.115128994\n",
      "#\n",
      "dncnn 3.049438238143921\n",
      "1\n",
      "diff: -0.7505617\n",
      "95\n",
      "#\n",
      "dncnn 1.6555622816085815\n",
      "1\n",
      "diff: 0.45556223\n",
      "#\n",
      "dncnn 1.5139868259429932\n",
      "1\n",
      "diff: -0.0860132\n",
      "#\n",
      "dncnn 2.6344165802001953\n",
      "1\n",
      "diff: 0.034416676\n",
      "#\n",
      "dncnn 2.8346340656280518\n",
      "1\n",
      "diff: -0.565366\n",
      "96\n",
      "#\n",
      "dncnn 1.9801157712936401\n",
      "1\n",
      "diff: 0.38011575\n",
      "#\n",
      "dncnn 1.9152365922927856\n"
     ]
    },
    {
     "name": "stderr",
     "output_type": "stream",
     "text": [
      "validation:  28%|\u001B[34m██▊       \u001B[0m| 284/1000 [00:08<00:21, 33.07it/s]"
     ]
    },
    {
     "name": "stdout",
     "output_type": "stream",
     "text": [
      "1\n",
      "diff: -0.08476341\n",
      "#\n",
      "dncnn 2.5519461631774902\n",
      "1\n",
      "diff: -1.4480538\n",
      "97\n",
      "#\n",
      "dncnn 2.70013165473938\n",
      "1\n",
      "diff: -0.69986844\n",
      "98\n",
      "#\n",
      "dncnn 2.78060245513916\n",
      "1\n",
      "diff: -1.0193975\n",
      "99\n",
      "#\n",
      "dncnn 0.9122757315635681\n",
      "1\n",
      "diff: 0.91227573\n",
      "100\n",
      "#\n",
      "dncnn 1.1189870834350586\n",
      "1\n",
      "diff: 0.51898706\n",
      "101\n",
      "#\n",
      "dncnn 1.5888206958770752\n",
      "1\n",
      "diff: 0.38882065\n",
      "#\n"
     ]
    },
    {
     "name": "stderr",
     "output_type": "stream",
     "text": [
      "validation:  29%|\u001B[34m██▉       \u001B[0m| 288/1000 [00:09<00:21, 32.52it/s]"
     ]
    },
    {
     "name": "stdout",
     "output_type": "stream",
     "text": [
      "dncnn 1.9791921377182007\n",
      "1\n",
      "diff: -0.42080796\n",
      "#\n",
      "dncnn 1.422242522239685\n",
      "1\n",
      "diff: 0.42224252\n",
      "#\n",
      "dncnn 2.4935481548309326\n",
      "1\n",
      "diff: -1.3064518\n",
      "102\n",
      "#\n",
      "dncnn 1.664267659187317\n",
      "1\n",
      "diff: -0.33573234\n",
      "#\n",
      "dncnn 1.1894278526306152\n",
      "1\n",
      "diff: -1.2105722\n",
      "103\n",
      "#\n",
      "dncnn 2.8920059204101562\n",
      "1\n",
      "diff: -0.5079942\n",
      "104\n",
      "#\n"
     ]
    },
    {
     "name": "stderr",
     "output_type": "stream",
     "text": [
      "validation:  30%|\u001B[34m██▉       \u001B[0m| 296/1000 [00:09<00:21, 32.25it/s]"
     ]
    },
    {
     "name": "stdout",
     "output_type": "stream",
     "text": [
      "dncnn 2.3380980491638184\n",
      "1\n",
      "diff: 0.138098\n",
      "#\n",
      "dncnn 3.0324935913085938\n",
      "1\n",
      "diff: -0.5675063\n",
      "105\n",
      "#\n",
      "dncnn 2.8325672149658203\n",
      "1\n",
      "diff: 0.032567263\n",
      "#\n",
      "dncnn 2.7483232021331787\n",
      "1\n",
      "diff: -1.0516768\n",
      "106\n",
      "#\n",
      "dncnn 0.9040613174438477\n",
      "1\n",
      "diff: 0.9040613\n",
      "107\n",
      "#\n",
      "dncnn 1.247871994972229\n",
      "1\n",
      "diff: 0.44787198\n",
      "#\n",
      "dncnn 1.1353577375411987\n",
      "1\n",
      "diff: 0.13535774\n",
      "#\n"
     ]
    },
    {
     "name": "stderr",
     "output_type": "stream",
     "text": [
      "validation:  30%|\u001B[34m███       \u001B[0m| 304/1000 [00:09<00:20, 33.38it/s]"
     ]
    },
    {
     "name": "stdout",
     "output_type": "stream",
     "text": [
      "dncnn 1.9376484155654907\n",
      "1\n",
      "diff: 0.53764844\n",
      "108\n",
      "#\n",
      "dncnn 2.9648079872131348\n",
      "1\n",
      "diff: -0.035192013\n",
      "#\n",
      "dncnn 2.370027542114258\n",
      "1\n",
      "diff: -0.4299724\n",
      "#\n",
      "dncnn 2.261885643005371\n",
      "1\n",
      "diff: -0.13811445\n",
      "#\n",
      "dncnn 1.6910163164138794\n",
      "1\n",
      "diff: 0.29101634\n",
      "#\n",
      "dncnn 2.6499381065368652\n",
      "1\n",
      "diff: -0.55006194\n",
      "109\n",
      "#\n",
      "dncnn 1.2495814561843872\n",
      "1\n",
      "diff: -0.5504185\n",
      "110\n",
      "#\n"
     ]
    },
    {
     "name": "stderr",
     "output_type": "stream",
     "text": [
      "validation:  31%|\u001B[34m███       \u001B[0m| 308/1000 [00:09<00:20, 32.95it/s]"
     ]
    },
    {
     "name": "stdout",
     "output_type": "stream",
     "text": [
      "dncnn 2.5470545291900635\n",
      "1\n",
      "diff: -1.4529455\n",
      "111\n",
      "#\n",
      "dncnn 2.4923136234283447\n",
      "1\n",
      "diff: -0.30768633\n",
      "#\n",
      "dncnn 1.3322699069976807\n",
      "1\n",
      "diff: 0.5322699\n",
      "112\n",
      "#\n",
      "dncnn 2.697923421859741\n",
      "1\n",
      "diff: -0.7020767\n",
      "113\n",
      "#\n",
      "dncnn 1.6928210258483887\n",
      "1\n",
      "diff: -0.10717893\n",
      "#\n",
      "dncnn 2.0096819400787354\n",
      "1\n",
      "diff: -0.39031816\n",
      "#\n"
     ]
    },
    {
     "name": "stderr",
     "output_type": "stream",
     "text": [
      "validation:  32%|\u001B[34m███▏      \u001B[0m| 316/1000 [00:09<00:21, 32.42it/s]"
     ]
    },
    {
     "name": "stdout",
     "output_type": "stream",
     "text": [
      "dncnn 2.9309639930725098\n",
      "1\n",
      "diff: -0.06903601\n",
      "#\n",
      "dncnn 2.7800233364105225\n",
      "1\n",
      "diff: 0.18002343\n",
      "#\n",
      "dncnn 2.5436770915985107\n",
      "1\n",
      "diff: -1.4563229\n",
      "114\n",
      "#\n",
      "dncnn 2.530921697616577\n",
      "1\n",
      "diff: 0.1309216\n",
      "#\n",
      "dncnn 0.8955016136169434\n",
      "1\n",
      "diff: 0.8955016\n",
      "115\n",
      "#\n",
      "dncnn 1.918578863143921\n",
      "1\n",
      "diff: -0.08142114\n",
      "#\n",
      "dncnn 2.9252939224243164\n",
      "1\n",
      "diff: -0.87470603\n",
      "116\n",
      "#\n"
     ]
    },
    {
     "name": "stderr",
     "output_type": "stream",
     "text": [
      "validation:  32%|\u001B[34m███▏      \u001B[0m| 324/1000 [00:10<00:20, 32.62it/s]"
     ]
    },
    {
     "name": "stdout",
     "output_type": "stream",
     "text": [
      "dncnn 1.891196608543396\n",
      "1\n",
      "diff: 0.49119663\n",
      "#\n",
      "dncnn 2.411961555480957\n",
      "1\n",
      "diff: -0.98803854\n",
      "117\n",
      "#\n",
      "dncnn 2.0167603492736816\n",
      "1\n",
      "diff: 0.41676033\n",
      "#\n",
      "dncnn 1.0088597536087036\n",
      "1\n",
      "diff: 0.20885974\n",
      "#\n",
      "dncnn 0.9924952983856201\n",
      "1\n",
      "diff: -0.0075047016\n",
      "#\n",
      "dncnn 2.724487781524658\n",
      "1\n",
      "diff: 0.3244877\n",
      "#\n",
      "dncnn 2.127387046813965\n",
      "1\n",
      "diff: -0.072613\n",
      "#\n"
     ]
    },
    {
     "name": "stderr",
     "output_type": "stream",
     "text": [
      "validation:  33%|\u001B[34m███▎      \u001B[0m| 328/1000 [00:10<00:20, 32.43it/s]"
     ]
    },
    {
     "name": "stdout",
     "output_type": "stream",
     "text": [
      "dncnn 1.3905760049819946\n",
      "1\n",
      "diff: -0.20942402\n",
      "#\n",
      "dncnn 2.723499298095703\n",
      "1\n",
      "diff: -0.2765007\n",
      "#\n",
      "dncnn 2.0350229740142822\n",
      "1\n",
      "diff: 0.23502302\n",
      "#\n",
      "dncnn 1.3194434642791748\n",
      "1\n",
      "diff: 0.31944346\n",
      "#\n",
      "dncnn 2.0930027961730957\n",
      "1\n",
      "diff: -0.10699725\n",
      "#\n",
      "dncnn 0.9764102697372437\n",
      "1\n",
      "diff: 0.7764103\n",
      "118\n",
      "#\n",
      "dncnn 1.2393313646316528\n",
      "1\n",
      "diff: 0.23933136\n",
      "#\n"
     ]
    },
    {
     "name": "stderr",
     "output_type": "stream",
     "text": [
      "validation:  34%|\u001B[34m███▎      \u001B[0m| 336/1000 [00:10<00:20, 32.21it/s]"
     ]
    },
    {
     "name": "stdout",
     "output_type": "stream",
     "text": [
      "dncnn 3.036534309387207\n",
      "1\n",
      "diff: -0.9634657\n",
      "119\n",
      "#\n",
      "dncnn 1.0657156705856323\n",
      "1\n",
      "diff: 0.46571565\n",
      "#\n",
      "dncnn 1.4496073722839355\n",
      "1\n",
      "diff: 0.44960737\n",
      "#\n",
      "dncnn 2.4137229919433594\n",
      "1\n",
      "diff: -0.18627691\n",
      "#\n",
      "dncnn 1.104799509048462\n",
      "1\n",
      "diff: 0.3047995\n",
      "#\n",
      "dncnn 2.799497604370117\n",
      "1\n",
      "diff: 0.7994976\n",
      "120\n",
      "#\n",
      "dncnn 2.9004995822906494\n",
      "1\n",
      "diff: -0.6995003\n",
      "121\n",
      "#\n",
      "dncnn 2.9662320613861084\n"
     ]
    },
    {
     "name": "stderr",
     "output_type": "stream",
     "text": [
      "validation:  34%|\u001B[34m███▍      \u001B[0m| 344/1000 [00:10<00:19, 32.94it/s]"
     ]
    },
    {
     "name": "stdout",
     "output_type": "stream",
     "text": [
      "1\n",
      "diff: -0.43376803\n",
      "#\n",
      "dncnn 2.2819814682006836\n",
      "1\n",
      "diff: 0.28198147\n",
      "#\n",
      "dncnn 2.547212600708008\n",
      "1\n",
      "diff: -0.25278735\n",
      "#\n",
      "dncnn 2.8657774925231934\n",
      "1\n",
      "diff: 0.66577744\n",
      "122\n",
      "#\n",
      "dncnn 2.9508137702941895\n",
      "1\n",
      "diff: -0.8491862\n",
      "123\n",
      "#\n",
      "dncnn 0.8870141506195068\n",
      "1\n",
      "diff: 0.68701416\n",
      "124\n",
      "#\n",
      "dncnn 2.972400665283203\n",
      "1\n",
      "diff: -1.0275993\n",
      "125\n",
      "#\n"
     ]
    },
    {
     "name": "stderr",
     "output_type": "stream",
     "text": [
      "validation:  35%|\u001B[34m███▌      \u001B[0m| 352/1000 [00:11<00:20, 32.39it/s]"
     ]
    },
    {
     "name": "stdout",
     "output_type": "stream",
     "text": [
      "dncnn 1.8876402378082275\n",
      "1\n",
      "diff: 0.087640285\n",
      "#\n",
      "dncnn 2.897686004638672\n",
      "1\n",
      "diff: -0.7023139\n",
      "126\n",
      "#\n",
      "dncnn 2.1279988288879395\n",
      "1\n",
      "diff: 0.32799888\n",
      "#\n",
      "dncnn 2.5731546878814697\n",
      "1\n",
      "diff: -0.4268453\n",
      "#\n",
      "dncnn 2.074916362762451\n",
      "1\n",
      "diff: -0.12508368\n",
      "#\n",
      "dncnn 2.9672977924346924\n",
      "1\n",
      "diff: -0.6327021\n",
      "127\n",
      "#\n",
      "dncnn 1.4827262163162231\n",
      "1\n",
      "diff: 0.48272622\n",
      "#\n"
     ]
    },
    {
     "name": "stderr",
     "output_type": "stream",
     "text": [
      "validation:  36%|\u001B[34m███▌      \u001B[0m| 356/1000 [00:11<00:19, 32.27it/s]"
     ]
    },
    {
     "name": "stdout",
     "output_type": "stream",
     "text": [
      "dncnn 2.259584903717041\n",
      "1\n",
      "diff: -0.7404151\n",
      "128\n",
      "#\n",
      "dncnn 2.920896530151367\n",
      "1\n",
      "diff: -0.8791034\n",
      "129\n",
      "#\n",
      "dncnn 2.1697850227355957\n",
      "1\n",
      "diff: -0.030215025\n",
      "#\n",
      "dncnn 2.1015841960906982\n",
      "1\n",
      "diff: -0.09841585\n",
      "#\n",
      "dncnn 1.123683214187622\n",
      "1\n",
      "diff: 0.123683214\n",
      "#\n",
      "dncnn 1.9196408987045288\n",
      "1\n",
      "diff: 0.11964095\n",
      "#\n",
      "dncnn 0.8768701553344727\n",
      "1\n",
      "diff: 0.47687015\n",
      "#\n",
      "dncnn 1.5214338302612305\n"
     ]
    },
    {
     "name": "stderr",
     "output_type": "stream",
     "text": [
      "validation:  36%|\u001B[34m███▋      \u001B[0m| 364/1000 [00:11<00:19, 32.47it/s]"
     ]
    },
    {
     "name": "stdout",
     "output_type": "stream",
     "text": [
      "1\n",
      "diff: -0.07856619\n",
      "#\n",
      "dncnn 2.8801069259643555\n",
      "1\n",
      "diff: -0.119893074\n",
      "#\n",
      "dncnn 2.540872097015381\n",
      "1\n",
      "diff: 0.34087205\n",
      "#\n",
      "dncnn 2.96975040435791\n",
      "1\n",
      "diff: -0.6302495\n",
      "130\n",
      "#\n",
      "dncnn 0.9893626570701599\n",
      "1\n",
      "diff: 0.38936263\n",
      "#\n",
      "dncnn 2.1974940299987793\n",
      "1\n",
      "diff: -0.20250607\n",
      "#\n",
      "dncnn 2.70501446723938\n"
     ]
    },
    {
     "name": "stderr",
     "output_type": "stream",
     "text": [
      "validation:  37%|\u001B[34m███▋      \u001B[0m| 372/1000 [00:11<00:19, 32.23it/s]"
     ]
    },
    {
     "name": "stdout",
     "output_type": "stream",
     "text": [
      "1\n",
      "diff: -0.094985485\n",
      "#\n",
      "dncnn 2.5396647453308105\n",
      "1\n",
      "diff: 0.13966465\n",
      "#\n",
      "dncnn 1.1440922021865845\n",
      "1\n",
      "diff: 0.5440922\n",
      "131\n",
      "#\n",
      "dncnn 1.2346731424331665\n",
      "1\n",
      "diff: 0.034673095\n",
      "#\n",
      "dncnn 1.3497804403305054\n",
      "1\n",
      "diff: 0.34978044\n",
      "#\n",
      "dncnn 0.872952938079834\n",
      "1\n",
      "diff: 0.87295294\n",
      "132\n",
      "#\n",
      "dncnn 1.746702790260315\n",
      "1\n",
      "diff: 0.3467028\n",
      "#\n"
     ]
    },
    {
     "name": "stderr",
     "output_type": "stream",
     "text": [
      "validation:  38%|\u001B[34m███▊      \u001B[0m| 376/1000 [00:11<00:18, 33.42it/s]"
     ]
    },
    {
     "name": "stdout",
     "output_type": "stream",
     "text": [
      "dncnn 2.5422303676605225\n",
      "1\n",
      "diff: -0.057769537\n",
      "#\n",
      "dncnn 1.1795324087142944\n",
      "1\n",
      "diff: -0.62046754\n",
      "133\n",
      "#\n",
      "dncnn 2.012561798095703\n",
      "1\n",
      "diff: 1.2125618\n",
      "134\n",
      "#\n",
      "dncnn 1.205088496208191\n",
      "1\n",
      "diff: -0.19491148\n",
      "#\n",
      "dncnn 0.9999216794967651\n",
      "1\n",
      "diff: 0.5999217\n",
      "135\n",
      "#\n",
      "dncnn 0.9186311364173889\n",
      "1\n",
      "diff: 0.71863115\n",
      "136\n",
      "#\n",
      "dncnn 1.6662074327468872\n"
     ]
    },
    {
     "name": "stderr",
     "output_type": "stream",
     "text": [
      "validation:  38%|\u001B[34m███▊      \u001B[0m| 384/1000 [00:11<00:18, 33.32it/s]"
     ]
    },
    {
     "name": "stdout",
     "output_type": "stream",
     "text": [
      "1\n",
      "diff: 0.06620741\n",
      "#\n",
      "dncnn 2.843674898147583\n",
      "1\n",
      "diff: -0.35632515\n",
      "#\n",
      "dncnn 1.028264045715332\n",
      "1\n",
      "diff: 0.42826402\n",
      "#\n",
      "dncnn 1.6501946449279785\n",
      "1\n",
      "diff: 0.05019462\n",
      "#\n",
      "dncnn 2.8780765533447266\n",
      "1\n",
      "diff: -0.72192335\n",
      "137\n",
      "#\n",
      "dncnn 1.2564048767089844\n",
      "1\n",
      "diff: 0.25640488\n",
      "#\n",
      "dncnn 1.4501923322677612\n",
      "1\n",
      "diff: -0.14980769\n",
      "#\n",
      "dncnn 2.81815505027771\n"
     ]
    },
    {
     "name": "stderr",
     "output_type": "stream",
     "text": [
      "validation:  39%|\u001B[34m███▉      \u001B[0m| 392/1000 [00:12<00:18, 32.61it/s]"
     ]
    },
    {
     "name": "stdout",
     "output_type": "stream",
     "text": [
      "1\n",
      "diff: -0.18184495\n",
      "#\n",
      "dncnn 1.8363579511642456\n",
      "1\n",
      "diff: -0.3636421\n",
      "#\n",
      "dncnn 1.5709115266799927\n",
      "1\n",
      "diff: 0.17091155\n",
      "#\n",
      "dncnn 1.4073858261108398\n",
      "1\n",
      "diff: 0.6073858\n",
      "138\n",
      "#\n",
      "dncnn 1.0134940147399902\n",
      "1\n",
      "diff: -0.18650603\n",
      "#\n",
      "dncnn 1.2514909505844116\n",
      "1\n",
      "diff: -0.14850903\n",
      "#\n",
      "dncnn 2.387890100479126\n",
      "1\n",
      "diff: -0.012109995\n",
      "#\n"
     ]
    },
    {
     "name": "stderr",
     "output_type": "stream",
     "text": [
      "validation:  40%|\u001B[34m███▉      \u001B[0m| 396/1000 [00:12<00:18, 32.42it/s]"
     ]
    },
    {
     "name": "stdout",
     "output_type": "stream",
     "text": [
      "dncnn 0.9517219662666321\n",
      "1\n",
      "diff: 0.55172193\n",
      "139\n",
      "#\n",
      "dncnn 2.8791515827178955\n",
      "1\n",
      "diff: 0.27915168\n",
      "#\n",
      "dncnn 2.9941458702087402\n",
      "1\n",
      "diff: -0.40585423\n",
      "#\n",
      "dncnn 1.9467206001281738\n",
      "1\n",
      "diff: -0.0532794\n",
      "#\n",
      "dncnn 2.9219930171966553\n",
      "1\n",
      "diff: -0.27800703\n",
      "#\n",
      "dncnn 2.788799285888672\n",
      "1\n",
      "diff: -1.0112007\n",
      "140\n",
      "#\n"
     ]
    },
    {
     "name": "stderr",
     "output_type": "stream",
     "text": [
      "validation:  40%|\u001B[34m████      \u001B[0m| 404/1000 [00:12<00:18, 32.80it/s]"
     ]
    },
    {
     "name": "stdout",
     "output_type": "stream",
     "text": [
      "dncnn 3.019778251647949\n",
      "1\n",
      "diff: -0.98022175\n",
      "141\n",
      "#\n",
      "dncnn 1.6735351085662842\n",
      "1\n",
      "diff: 0.073535085\n",
      "#\n",
      "dncnn 2.704885244369507\n",
      "1\n",
      "diff: -0.69511485\n",
      "142\n",
      "#\n",
      "dncnn 1.0360440015792847\n",
      "1\n",
      "diff: -0.16395605\n",
      "#\n",
      "dncnn 1.9537278413772583\n",
      "1\n",
      "diff: 0.15372789\n",
      "#\n",
      "dncnn 1.4619953632354736\n",
      "1\n",
      "diff: 0.66199535\n",
      "143\n",
      "#\n",
      "dncnn 0.9287551045417786\n",
      "1\n",
      "diff: 0.9287551\n",
      "144\n",
      "#\n"
     ]
    },
    {
     "name": "stderr",
     "output_type": "stream",
     "text": [
      "validation:  41%|\u001B[34m████      \u001B[0m| 412/1000 [00:12<00:18, 32.35it/s]"
     ]
    },
    {
     "name": "stdout",
     "output_type": "stream",
     "text": [
      "dncnn 2.0130085945129395\n",
      "1\n",
      "diff: 0.0130085945\n",
      "#\n",
      "dncnn 2.400970697402954\n",
      "1\n",
      "diff: 0.4009707\n",
      "#\n",
      "dncnn 2.12603497505188\n",
      "1\n",
      "diff: 0.12603498\n",
      "#\n",
      "dncnn 3.1625139713287354\n",
      "1\n",
      "diff: -0.837486\n",
      "145\n",
      "#\n",
      "dncnn 3.1025686264038086\n",
      "1\n",
      "diff: -0.6974313\n",
      "146\n",
      "#\n",
      "dncnn 1.1054565906524658\n",
      "1\n",
      "diff: 0.10545659\n",
      "#\n",
      "dncnn 2.433046817779541\n",
      "1\n",
      "diff: -0.36695313\n",
      "#\n"
     ]
    },
    {
     "name": "stderr",
     "output_type": "stream",
     "text": [
      "validation:  42%|\u001B[34m████▏     \u001B[0m| 416/1000 [00:12<00:18, 32.25it/s]"
     ]
    },
    {
     "name": "stdout",
     "output_type": "stream",
     "text": [
      "dncnn 2.547379493713379\n",
      "1\n",
      "diff: -1.4526205\n",
      "147\n",
      "#\n",
      "dncnn 1.5081359148025513\n",
      "1\n",
      "diff: -0.09186411\n",
      "#\n",
      "dncnn 2.497422933578491\n",
      "1\n",
      "diff: 0.49742293\n",
      "#\n",
      "dncnn 0.9091690182685852\n",
      "1\n",
      "diff: 0.509169\n",
      "148\n",
      "#\n",
      "dncnn 3.003692865371704\n",
      "1\n",
      "diff: -0.19630718\n",
      "#\n",
      "dncnn 2.829028844833374\n",
      "1\n",
      "diff: -0.77097106\n",
      "149\n",
      "#\n",
      "dncnn 2.7569491863250732\n",
      "1\n",
      "diff: 0.15694928\n",
      "#\n",
      "dncnn 1.099259614944458\n"
     ]
    },
    {
     "name": "stderr",
     "output_type": "stream",
     "text": [
      "validation:  42%|\u001B[34m████▏     \u001B[0m| 424/1000 [00:13<00:17, 32.66it/s]"
     ]
    },
    {
     "name": "stdout",
     "output_type": "stream",
     "text": [
      "1\n",
      "diff: 0.4992596\n",
      "#\n",
      "dncnn 2.813210964202881\n",
      "1\n",
      "diff: -1.186789\n",
      "150\n",
      "#\n",
      "dncnn 1.9254610538482666\n",
      "1\n",
      "diff: 0.32546103\n",
      "#\n",
      "dncnn 3.0205650329589844\n",
      "1\n",
      "diff: -0.7794349\n",
      "151\n",
      "#\n",
      "dncnn 0.994355320930481\n",
      "1\n",
      "diff: -0.005644679\n",
      "#\n",
      "dncnn 1.046422004699707\n",
      "1\n",
      "diff: 0.44642198\n",
      "#\n",
      "dncnn 1.1720441579818726\n",
      "1\n",
      "diff: 0.17204416\n",
      "#\n"
     ]
    },
    {
     "name": "stderr",
     "output_type": "stream",
     "text": [
      "validation:  43%|\u001B[34m████▎     \u001B[0m| 432/1000 [00:13<00:17, 32.32it/s]"
     ]
    },
    {
     "name": "stdout",
     "output_type": "stream",
     "text": [
      "dncnn 2.7235019207000732\n",
      "1\n",
      "diff: -0.27649808\n",
      "#\n",
      "dncnn 1.0947002172470093\n",
      "1\n",
      "diff: 0.2947002\n",
      "#\n",
      "dncnn 1.0866944789886475\n",
      "1\n",
      "diff: -0.51330554\n",
      "152\n",
      "#\n",
      "dncnn 1.6121704578399658\n",
      "1\n",
      "diff: 0.012170434\n",
      "#\n",
      "dncnn 2.7877418994903564\n",
      "1\n",
      "diff: -0.41225815\n",
      "#\n",
      "dncnn 2.8896870613098145\n",
      "1\n",
      "diff: -0.310313\n",
      "#\n",
      "dncnn 2.793924331665039\n",
      "1\n",
      "diff: 0.39392424\n",
      "#\n"
     ]
    },
    {
     "name": "stderr",
     "output_type": "stream",
     "text": [
      "validation:  44%|\u001B[34m████▍     \u001B[0m| 440/1000 [00:13<00:17, 32.87it/s]"
     ]
    },
    {
     "name": "stdout",
     "output_type": "stream",
     "text": [
      "dncnn 2.3201098442077637\n",
      "1\n",
      "diff: 0.32010984\n",
      "#\n",
      "dncnn 2.4812538623809814\n",
      "1\n",
      "diff: -0.3187461\n",
      "#\n",
      "dncnn 2.7648041248321533\n",
      "1\n",
      "diff: -0.43519592\n",
      "#\n",
      "dncnn 1.5617867708206177\n",
      "1\n",
      "diff: -0.43821323\n",
      "#\n",
      "dncnn 1.437933325767517\n",
      "1\n",
      "diff: 0.43793333\n",
      "#\n",
      "dncnn 1.9853001832962036\n",
      "1\n",
      "diff: -0.21469986\n",
      "#\n",
      "dncnn 1.8803040981292725\n",
      "1\n",
      "diff: 0.48030412\n",
      "#\n",
      "dncnn 0.913515567779541\n"
     ]
    },
    {
     "name": "stderr",
     "output_type": "stream",
     "text": [
      "validation:  44%|\u001B[34m████▍     \u001B[0m| 444/1000 [00:13<00:17, 32.60it/s]"
     ]
    },
    {
     "name": "stdout",
     "output_type": "stream",
     "text": [
      "1\n",
      "diff: 0.91351557\n",
      "153\n",
      "#\n",
      "dncnn 2.3564207553863525\n",
      "1\n",
      "diff: -0.4435792\n",
      "#\n",
      "dncnn 1.5054138898849487\n",
      "1\n",
      "diff: 0.30541384\n",
      "#\n",
      "dncnn 2.0110135078430176\n",
      "1\n",
      "diff: 0.61101353\n",
      "154\n",
      "#\n",
      "dncnn 1.8713314533233643\n",
      "1\n",
      "diff: 0.6713314\n",
      "155\n",
      "#\n",
      "dncnn 1.085478663444519\n",
      "1\n",
      "diff: 0.6854787\n",
      "156\n",
      "#\n"
     ]
    },
    {
     "name": "stderr",
     "output_type": "stream",
     "text": [
      "validation:  45%|\u001B[34m████▌     \u001B[0m| 452/1000 [00:14<00:16, 33.54it/s]"
     ]
    },
    {
     "name": "stdout",
     "output_type": "stream",
     "text": [
      "dncnn 1.6497379541397095\n",
      "1\n",
      "diff: -0.35026205\n",
      "#\n",
      "dncnn 0.9725198149681091\n",
      "1\n",
      "diff: 0.3725198\n",
      "#\n",
      "dncnn 1.7552958726882935\n",
      "1\n",
      "diff: -0.44470417\n",
      "#\n",
      "dncnn 1.9205718040466309\n",
      "1\n",
      "diff: 0.5205718\n",
      "157\n",
      "#\n",
      "dncnn 2.872410297393799\n",
      "1\n",
      "diff: -0.1275897\n",
      "#\n",
      "dncnn 2.6749024391174316\n",
      "1\n",
      "diff: -0.72509766\n",
      "158\n",
      "#\n",
      "dncnn 2.2756454944610596\n",
      "1\n",
      "diff: 0.6756455\n",
      "159\n",
      "#\n",
      "dncnn 2.256727457046509\n"
     ]
    },
    {
     "name": "stderr",
     "output_type": "stream",
     "text": [
      "validation:  46%|\u001B[34m████▌     \u001B[0m| 456/1000 [00:14<00:16, 32.51it/s]"
     ]
    },
    {
     "name": "stdout",
     "output_type": "stream",
     "text": [
      "1\n",
      "diff: -0.14327264\n",
      "#\n",
      "dncnn 1.760079026222229\n",
      "1\n",
      "diff: 0.160079\n",
      "#\n",
      "dncnn 2.573979377746582\n",
      "1\n",
      "diff: 0.37397933\n",
      "#\n",
      "dncnn 2.8291027545928955\n",
      "1\n",
      "diff: -0.9708972\n",
      "160\n",
      "#\n",
      "dncnn 1.8926489353179932\n",
      "1\n",
      "diff: 0.2926489\n",
      "#\n",
      "dncnn 1.4804118871688843\n",
      "1\n",
      "diff: -0.11958814\n",
      "#\n",
      "dncnn 2.8751866817474365\n"
     ]
    },
    {
     "name": "stderr",
     "output_type": "stream",
     "text": [
      "validation:  46%|\u001B[34m████▋     \u001B[0m| 464/1000 [00:14<00:16, 32.47it/s]"
     ]
    },
    {
     "name": "stdout",
     "output_type": "stream",
     "text": [
      "1\n",
      "diff: -0.32481337\n",
      "#\n",
      "dncnn 2.2996184825897217\n",
      "1\n",
      "diff: -0.30038142\n",
      "#\n",
      "dncnn 1.179470419883728\n",
      "1\n",
      "diff: -0.22052956\n",
      "#\n",
      "dncnn 3.0126535892486572\n",
      "1\n",
      "diff: -0.3873465\n",
      "#\n",
      "dncnn 2.408900260925293\n",
      "1\n",
      "diff: -0.19109964\n",
      "#\n",
      "dncnn 1.9202908277511597\n",
      "1\n",
      "diff: -0.07970917\n",
      "#\n",
      "dncnn 2.2936947345733643\n",
      "1\n",
      "diff: -0.30630517\n",
      "#\n",
      "dncnn 1.608139991760254\n"
     ]
    },
    {
     "name": "stderr",
     "output_type": "stream",
     "text": [
      "validation:  47%|\u001B[34m████▋     \u001B[0m| 472/1000 [00:14<00:15, 33.11it/s]"
     ]
    },
    {
     "name": "stdout",
     "output_type": "stream",
     "text": [
      "1\n",
      "diff: 0.008139968\n",
      "#\n",
      "dncnn 2.016775131225586\n",
      "1\n",
      "diff: -0.18322492\n",
      "#\n",
      "dncnn 0.9863130450248718\n",
      "1\n",
      "diff: 0.78631306\n",
      "161\n",
      "#\n",
      "dncnn 0.8803883790969849\n",
      "1\n",
      "diff: 0.8803884\n",
      "162\n",
      "#\n",
      "dncnn 1.1884857416152954\n",
      "1\n",
      "diff: 0.38848573\n",
      "#\n",
      "dncnn 1.44161057472229\n",
      "1\n",
      "diff: -0.15838945\n",
      "#\n",
      "dncnn 2.961848020553589\n",
      "1\n",
      "diff: -0.03815198\n",
      "#\n"
     ]
    },
    {
     "name": "stderr",
     "output_type": "stream",
     "text": [
      "validation:  48%|\u001B[34m████▊     \u001B[0m| 480/1000 [00:14<00:16, 32.19it/s]"
     ]
    },
    {
     "name": "stdout",
     "output_type": "stream",
     "text": [
      "dncnn 1.3188480138778687\n",
      "1\n",
      "diff: 0.118847966\n",
      "#\n",
      "dncnn 2.501079559326172\n",
      "1\n",
      "diff: 0.3010795\n",
      "#\n",
      "dncnn 1.0165996551513672\n",
      "1\n",
      "diff: 0.6165997\n",
      "163\n",
      "#\n",
      "dncnn 2.5043013095855713\n",
      "1\n",
      "diff: -0.29569864\n",
      "#\n",
      "dncnn 2.62249493598938\n",
      "1\n",
      "diff: 0.4224949\n",
      "#\n",
      "dncnn 3.0432698726654053\n",
      "1\n",
      "diff: -0.55673003\n",
      "164\n",
      "#\n",
      "dncnn 2.9196903705596924\n",
      "1\n",
      "diff: 0.11969042\n",
      "#\n"
     ]
    },
    {
     "name": "stderr",
     "output_type": "stream",
     "text": [
      "validation:  48%|\u001B[34m████▊     \u001B[0m| 484/1000 [00:15<00:15, 33.39it/s]"
     ]
    },
    {
     "name": "stdout",
     "output_type": "stream",
     "text": [
      "dncnn 2.843700885772705\n",
      "1\n",
      "diff: 0.24370098\n",
      "#\n",
      "dncnn 1.2180805206298828\n",
      "1\n",
      "diff: 0.21808052\n",
      "#\n",
      "dncnn 3.1337034702301025\n",
      "1\n",
      "diff: -0.8662965\n",
      "165\n",
      "#\n",
      "dncnn 2.7179007530212402\n",
      "1\n",
      "diff: 0.11790085\n",
      "#\n",
      "dncnn 1.1426266431808472\n",
      "1\n",
      "diff: 0.5426266\n",
      "166\n",
      "#\n",
      "dncnn 1.699515461921692\n",
      "1\n",
      "diff: 0.2995155\n",
      "#\n",
      "dncnn 2.080009698867798\n",
      "1\n",
      "diff: 0.28000975\n",
      "#\n",
      "dncnn 1.5062557458877563\n"
     ]
    },
    {
     "name": "stderr",
     "output_type": "stream",
     "text": [
      "validation:  49%|\u001B[34m████▉     \u001B[0m| 492/1000 [00:15<00:15, 32.38it/s]"
     ]
    },
    {
     "name": "stdout",
     "output_type": "stream",
     "text": [
      "1\n",
      "diff: -0.2937442\n",
      "#\n",
      "dncnn 3.013728618621826\n",
      "1\n",
      "diff: -0.9862714\n",
      "167\n",
      "#\n",
      "dncnn 0.9765591621398926\n",
      "1\n",
      "diff: 0.17655915\n",
      "#\n",
      "dncnn 2.618964672088623\n",
      "1\n",
      "diff: 0.21896458\n",
      "#\n",
      "dncnn 2.4527688026428223\n",
      "1\n",
      "diff: -0.9472313\n",
      "168\n",
      "#\n",
      "dncnn 2.1133930683135986\n",
      "1\n",
      "diff: 1.1133931\n",
      "169\n",
      "#\n",
      "dncnn 2.98826003074646\n",
      "1\n",
      "diff: -1.01174\n",
      "170\n",
      "#\n",
      "dncnn 3.06618595123291\n"
     ]
    },
    {
     "name": "stderr",
     "output_type": "stream",
     "text": [
      "validation:  50%|\u001B[34m█████     \u001B[0m| 500/1000 [00:15<00:15, 33.06it/s]"
     ]
    },
    {
     "name": "stdout",
     "output_type": "stream",
     "text": [
      "1\n",
      "diff: -0.733814\n",
      "171\n",
      "#\n",
      "dncnn 2.3249874114990234\n",
      "1\n",
      "diff: 0.124987364\n",
      "#\n",
      "dncnn 1.0910564661026\n",
      "1\n",
      "diff: 0.8910565\n",
      "172\n",
      "#\n",
      "dncnn 2.836723804473877\n",
      "1\n",
      "diff: -0.1632762\n",
      "#\n",
      "dncnn 2.4431421756744385\n",
      "1\n",
      "diff: -0.15685773\n",
      "#\n",
      "dncnn 1.4335352182388306\n",
      "1\n",
      "diff: -0.9664649\n",
      "173\n",
      "#\n",
      "dncnn 2.5452187061309814\n",
      "1\n",
      "diff: -0.25478125\n",
      "#\n"
     ]
    },
    {
     "name": "stderr",
     "output_type": "stream",
     "text": [
      "validation:  51%|\u001B[34m█████     \u001B[0m| 508/1000 [00:15<00:15, 32.51it/s]"
     ]
    },
    {
     "name": "stdout",
     "output_type": "stream",
     "text": [
      "dncnn 2.9584462642669678\n",
      "1\n",
      "diff: -0.8415537\n",
      "174\n",
      "#\n",
      "dncnn 1.3791536092758179\n",
      "1\n",
      "diff: -0.020846367\n",
      "#\n",
      "dncnn 2.9821391105651855\n",
      "1\n",
      "diff: -1.0178609\n",
      "175\n",
      "#\n",
      "dncnn 2.9333088397979736\n",
      "1\n",
      "diff: -0.06669116\n",
      "#\n",
      "dncnn 2.844409704208374\n",
      "1\n",
      "diff: -0.1555903\n",
      "#\n",
      "dncnn 1.0201008319854736\n",
      "1\n",
      "diff: 0.22010082\n",
      "#\n",
      "dncnn 2.445401906967163\n",
      "1\n",
      "diff: 0.24540186\n",
      "#\n"
     ]
    },
    {
     "name": "stderr",
     "output_type": "stream",
     "text": [
      "validation:  51%|\u001B[34m█████     \u001B[0m| 512/1000 [00:15<00:15, 32.39it/s]"
     ]
    },
    {
     "name": "stdout",
     "output_type": "stream",
     "text": [
      "dncnn 2.6974732875823975\n",
      "1\n",
      "diff: -0.7025268\n",
      "176\n",
      "#\n",
      "dncnn 2.345025062561035\n",
      "1\n",
      "diff: -0.25497484\n",
      "#\n",
      "dncnn 1.167494297027588\n",
      "1\n",
      "diff: 0.1674943\n",
      "#\n",
      "dncnn 1.4181797504425049\n",
      "1\n",
      "diff: 0.41817975\n",
      "#\n",
      "dncnn 2.7966136932373047\n",
      "1\n",
      "diff: -1.0033863\n",
      "177\n",
      "#\n",
      "dncnn 2.2244620323181152\n",
      "1\n",
      "diff: 0.024461985\n",
      "#\n",
      "dncnn 2.956631898880005\n",
      "1\n",
      "diff: -0.84336805\n",
      "178\n",
      "#\n",
      "dncnn 2.7910022735595703\n"
     ]
    },
    {
     "name": "stderr",
     "output_type": "stream",
     "text": [
      "validation:  52%|\u001B[34m█████▏    \u001B[0m| 520/1000 [00:16<00:14, 33.01it/s]"
     ]
    },
    {
     "name": "stdout",
     "output_type": "stream",
     "text": [
      "1\n",
      "diff: -0.6089978\n",
      "179\n",
      "#\n",
      "dncnn 2.050971746444702\n",
      "1\n",
      "diff: -0.1490283\n",
      "#\n",
      "dncnn 2.9595980644226074\n",
      "1\n",
      "diff: -0.8404019\n",
      "180\n",
      "#\n",
      "dncnn 1.0343611240386963\n",
      "1\n",
      "diff: -0.16563892\n",
      "#\n",
      "dncnn 1.7314873933792114\n",
      "1\n",
      "diff: -0.06851256\n",
      "#\n",
      "dncnn 1.6093947887420654\n",
      "1\n",
      "diff: 0.009394765\n",
      "#\n",
      "dncnn 2.9163928031921387\n",
      "1\n",
      "diff: -0.0836072\n",
      "#\n"
     ]
    },
    {
     "name": "stderr",
     "output_type": "stream",
     "text": [
      "validation:  53%|\u001B[34m█████▎    \u001B[0m| 528/1000 [00:16<00:14, 32.49it/s]"
     ]
    },
    {
     "name": "stdout",
     "output_type": "stream",
     "text": [
      "dncnn 2.571460485458374\n",
      "1\n",
      "diff: -0.22853947\n",
      "#\n",
      "dncnn 1.0615506172180176\n",
      "1\n",
      "diff: 0.66155064\n",
      "181\n",
      "#\n",
      "dncnn 0.902087390422821\n",
      "1\n",
      "diff: 0.9020874\n",
      "182\n",
      "#\n",
      "dncnn 2.946298599243164\n",
      "1\n",
      "diff: -0.4537015\n",
      "#\n",
      "dncnn 1.6713404655456543\n",
      "1\n",
      "diff: 0.47134042\n",
      "#\n",
      "dncnn 1.980714201927185\n",
      "1\n",
      "diff: 0.38071418\n",
      "#\n",
      "dncnn 1.5809928178787231\n",
      "1\n",
      "diff: 0.18099284\n",
      "#\n",
      "dncnn 1.8602995872497559\n"
     ]
    },
    {
     "name": "stderr",
     "output_type": "stream",
     "text": [
      "validation:  54%|\u001B[34m█████▎    \u001B[0m| 536/1000 [00:16<00:14, 32.52it/s]"
     ]
    },
    {
     "name": "stdout",
     "output_type": "stream",
     "text": [
      "1\n",
      "diff: -0.13970041\n",
      "#\n",
      "dncnn 2.8199617862701416\n",
      "1\n",
      "diff: 0.019961834\n",
      "#\n",
      "dncnn 1.5384485721588135\n",
      "1\n",
      "diff: -0.06155145\n",
      "#\n",
      "dncnn 1.390181064605713\n",
      "1\n",
      "diff: -0.009818912\n",
      "#\n",
      "dncnn 2.1074397563934326\n",
      "1\n",
      "diff: -0.29256034\n",
      "#\n",
      "dncnn 1.827584981918335\n",
      "1\n",
      "diff: 0.22758496\n",
      "#\n",
      "dncnn 1.9051024913787842\n",
      "1\n",
      "diff: -0.6948974\n",
      "183\n",
      "#\n"
     ]
    },
    {
     "name": "stderr",
     "output_type": "stream",
     "text": [
      "validation:  54%|\u001B[34m█████▍    \u001B[0m| 540/1000 [00:16<00:14, 32.35it/s]"
     ]
    },
    {
     "name": "stdout",
     "output_type": "stream",
     "text": [
      "dncnn 3.049088478088379\n",
      "1\n",
      "diff: -0.7509115\n",
      "184\n",
      "#\n",
      "dncnn 1.8522318601608276\n",
      "1\n",
      "diff: 0.052231908\n",
      "#\n",
      "dncnn 1.8111668825149536\n",
      "1\n",
      "diff: -0.18883312\n",
      "#\n",
      "dncnn 2.9032554626464844\n",
      "1\n",
      "diff: -0.09674454\n",
      "#\n",
      "dncnn 2.410407066345215\n",
      "1\n",
      "diff: -0.989593\n",
      "185\n",
      "#\n",
      "dncnn 1.7008212804794312\n",
      "1\n",
      "diff: -0.09917867\n",
      "#\n",
      "dncnn 3.0316972732543945\n",
      "1\n",
      "diff: -0.7683027\n",
      "186\n",
      "#\n",
      "dncnn 1.5233391523361206\n"
     ]
    },
    {
     "name": "stderr",
     "output_type": "stream",
     "text": [
      "validation:  55%|\u001B[34m█████▍    \u001B[0m| 548/1000 [00:16<00:13, 33.25it/s]"
     ]
    },
    {
     "name": "stdout",
     "output_type": "stream",
     "text": [
      "1\n",
      "diff: 0.123339176\n",
      "#\n",
      "dncnn 2.886639356613159\n",
      "1\n",
      "diff: -0.51336074\n",
      "187\n",
      "#\n",
      "dncnn 2.544243574142456\n",
      "1\n",
      "diff: -0.05575633\n",
      "#\n",
      "dncnn 2.4207303524017334\n",
      "1\n",
      "diff: -1.3792696\n",
      "188\n",
      "#\n",
      "dncnn 1.615208625793457\n",
      "1\n",
      "diff: 0.015208602\n",
      "#\n",
      "dncnn 2.1644108295440674\n",
      "1\n",
      "diff: -0.43558908\n",
      "#\n",
      "dncnn 2.6427853107452393\n",
      "1\n",
      "diff: -0.15721464\n",
      "#\n"
     ]
    },
    {
     "name": "stderr",
     "output_type": "stream",
     "text": [
      "validation:  56%|\u001B[34m█████▌    \u001B[0m| 556/1000 [00:17<00:13, 32.57it/s]"
     ]
    },
    {
     "name": "stdout",
     "output_type": "stream",
     "text": [
      "dncnn 2.2570807933807373\n",
      "1\n",
      "diff: -0.3429191\n",
      "#\n",
      "dncnn 2.8136403560638428\n",
      "1\n",
      "diff: -0.58635974\n",
      "189\n",
      "#\n",
      "dncnn 2.4129743576049805\n",
      "1\n",
      "diff: -0.3870256\n",
      "#\n",
      "dncnn 2.604370355606079\n",
      "1\n",
      "diff: 0.60437036\n",
      "190\n",
      "#\n",
      "dncnn 2.950779676437378\n",
      "1\n",
      "diff: -0.24922037\n",
      "#\n",
      "dncnn 1.9580817222595215\n",
      "1\n",
      "diff: -0.041918278\n",
      "#\n",
      "dncnn 2.65634822845459\n",
      "1\n",
      "diff: 0.056348324\n",
      "#\n"
     ]
    },
    {
     "name": "stderr",
     "output_type": "stream",
     "text": [
      "validation:  56%|\u001B[34m█████▋    \u001B[0m| 564/1000 [00:17<00:13, 32.28it/s]"
     ]
    },
    {
     "name": "stdout",
     "output_type": "stream",
     "text": [
      "dncnn 2.7626547813415527\n",
      "1\n",
      "diff: -0.23734522\n",
      "#\n",
      "dncnn 2.927464246749878\n",
      "1\n",
      "diff: 0.1274643\n",
      "#\n",
      "dncnn 3.120670795440674\n",
      "1\n",
      "diff: -0.67932916\n",
      "191\n",
      "#\n",
      "dncnn 1.4078317880630493\n",
      "1\n",
      "diff: -0.9921683\n",
      "192\n",
      "#\n",
      "dncnn 2.9734668731689453\n",
      "1\n",
      "diff: -0.22653317\n",
      "#\n",
      "dncnn 1.6334874629974365\n",
      "1\n",
      "diff: 0.23348749\n",
      "#\n",
      "dncnn 2.7740976810455322\n",
      "1\n",
      "diff: -0.8259022\n",
      "193\n",
      "#\n"
     ]
    },
    {
     "name": "stderr",
     "output_type": "stream",
     "text": [
      "validation:  57%|\u001B[34m█████▋    \u001B[0m| 568/1000 [00:17<00:13, 32.42it/s]"
     ]
    },
    {
     "name": "stdout",
     "output_type": "stream",
     "text": [
      "dncnn 1.6680278778076172\n",
      "1\n",
      "diff: -0.33197212\n",
      "#\n",
      "dncnn 2.8277153968811035\n",
      "1\n",
      "diff: -0.37228465\n",
      "#\n",
      "dncnn 1.690294861793518\n",
      "1\n",
      "diff: 0.4902948\n",
      "#\n",
      "dncnn 2.694502830505371\n",
      "1\n",
      "diff: 0.094502926\n",
      "#\n",
      "dncnn 2.436133623123169\n",
      "1\n",
      "diff: -0.16386628\n",
      "#\n",
      "dncnn 2.1100921630859375\n",
      "1\n",
      "diff: 0.11009216\n",
      "#\n"
     ]
    },
    {
     "name": "stderr",
     "output_type": "stream",
     "text": [
      "validation:  58%|\u001B[34m█████▊    \u001B[0m| 576/1000 [00:17<00:13, 32.20it/s]"
     ]
    },
    {
     "name": "stdout",
     "output_type": "stream",
     "text": [
      "dncnn 2.775409460067749\n",
      "1\n",
      "diff: 0.5754094\n",
      "194\n",
      "#\n",
      "dncnn 2.511746406555176\n",
      "1\n",
      "diff: 0.11174631\n",
      "#\n",
      "dncnn 2.8324062824249268\n",
      "1\n",
      "diff: -0.5675938\n",
      "195\n",
      "#\n",
      "dncnn 1.2352758646011353\n",
      "1\n",
      "diff: 0.23527586\n",
      "#\n",
      "dncnn 2.3597981929779053\n",
      "1\n",
      "diff: -0.24020171\n",
      "#\n",
      "dncnn 1.7966595888137817\n",
      "1\n",
      "diff: 0.19665956\n",
      "#\n",
      "dncnn 0.9759280681610107\n",
      "1\n",
      "diff: 0.17592806\n",
      "#\n",
      "dncnn 2.6555867195129395\n"
     ]
    },
    {
     "name": "stderr",
     "output_type": "stream",
     "text": [
      "validation:  58%|\u001B[34m█████▊    \u001B[0m| 584/1000 [00:18<00:12, 32.45it/s]"
     ]
    },
    {
     "name": "stdout",
     "output_type": "stream",
     "text": [
      "1\n",
      "diff: 0.45558667\n",
      "#\n",
      "dncnn 1.556485652923584\n",
      "1\n",
      "diff: 0.3564856\n",
      "#\n",
      "dncnn 2.342256546020508\n",
      "1\n",
      "diff: -0.05774355\n",
      "#\n",
      "dncnn 1.2776225805282593\n",
      "1\n",
      "diff: 0.07762253\n",
      "#\n",
      "dncnn 1.2998281717300415\n",
      "1\n",
      "diff: -0.5001718\n",
      "196\n",
      "#\n",
      "dncnn 1.868992805480957\n",
      "1\n",
      "diff: 0.46899283\n",
      "#\n",
      "dncnn 2.3907089233398438\n",
      "1\n",
      "diff: -0.6092911\n",
      "197\n",
      "#\n"
     ]
    },
    {
     "name": "stderr",
     "output_type": "stream",
     "text": [
      "validation:  59%|\u001B[34m█████▉    \u001B[0m| 588/1000 [00:18<00:12, 32.32it/s]"
     ]
    },
    {
     "name": "stdout",
     "output_type": "stream",
     "text": [
      "dncnn 2.0381245613098145\n",
      "1\n",
      "diff: 0.03812456\n",
      "#\n",
      "dncnn 2.635404109954834\n",
      "1\n",
      "diff: -0.3645959\n",
      "#\n",
      "dncnn 1.3392046689987183\n",
      "1\n",
      "diff: -0.46079528\n",
      "#\n",
      "dncnn 1.4848110675811768\n",
      "1\n",
      "diff: 0.28481102\n",
      "#\n",
      "dncnn 1.2815067768096924\n",
      "1\n",
      "diff: -0.31849325\n",
      "#\n",
      "dncnn 2.3536880016326904\n",
      "1\n",
      "diff: -0.046312094\n",
      "#\n"
     ]
    },
    {
     "name": "stderr",
     "output_type": "stream",
     "text": [
      "validation:  60%|\u001B[34m█████▉    \u001B[0m| 596/1000 [00:18<00:12, 33.58it/s]"
     ]
    },
    {
     "name": "stdout",
     "output_type": "stream",
     "text": [
      "dncnn 1.697174072265625\n",
      "1\n",
      "diff: 0.09717405\n",
      "#\n",
      "dncnn 1.0167253017425537\n",
      "1\n",
      "diff: 0.21672529\n",
      "#\n",
      "dncnn 2.8627076148986816\n",
      "1\n",
      "diff: -0.33729243\n",
      "#\n",
      "dncnn 2.695190191268921\n",
      "1\n",
      "diff: 0.49519014\n",
      "#\n",
      "dncnn 1.3450788259506226\n",
      "1\n",
      "diff: 0.5450788\n",
      "198\n",
      "#\n",
      "dncnn 2.6684999465942383\n",
      "1\n",
      "diff: -0.1315\n",
      "#\n",
      "dncnn 1.3771344423294067\n",
      "1\n",
      "diff: -0.022865534\n",
      "#\n",
      "dncnn 1.261796236038208\n"
     ]
    },
    {
     "name": "stderr",
     "output_type": "stream",
     "text": [
      "validation:  60%|\u001B[34m██████    \u001B[0m| 604/1000 [00:18<00:12, 32.71it/s]"
     ]
    },
    {
     "name": "stdout",
     "output_type": "stream",
     "text": [
      "1\n",
      "diff: 0.06179619\n",
      "#\n",
      "dncnn 1.1936041116714478\n",
      "1\n",
      "diff: -0.006395936\n",
      "#\n",
      "dncnn 2.412595748901367\n",
      "1\n",
      "diff: -0.18740416\n",
      "#\n",
      "dncnn 1.2403048276901245\n",
      "1\n",
      "diff: 0.44030482\n",
      "#\n",
      "dncnn 1.4675291776657104\n",
      "1\n",
      "diff: 0.26752913\n",
      "#\n",
      "dncnn 1.2883323431015015\n",
      "1\n",
      "diff: 0.28833234\n",
      "#\n",
      "dncnn 1.0699247121810913\n",
      "1\n",
      "diff: 0.2699247\n",
      "#\n"
     ]
    },
    {
     "name": "stderr",
     "output_type": "stream",
     "text": [
      "validation:  61%|\u001B[34m██████    \u001B[0m| 608/1000 [00:18<00:12, 32.66it/s]"
     ]
    },
    {
     "name": "stdout",
     "output_type": "stream",
     "text": [
      "dncnn 1.8807734251022339\n",
      "1\n",
      "diff: 0.2807734\n",
      "#\n",
      "dncnn 1.1224923133850098\n",
      "1\n",
      "diff: 0.72249234\n",
      "199\n",
      "#\n",
      "dncnn 2.411827564239502\n",
      "1\n",
      "diff: 0.011827469\n",
      "#\n",
      "dncnn 2.0298497676849365\n",
      "1\n",
      "diff: 0.22984982\n",
      "#\n",
      "dncnn 2.6115636825561523\n",
      "1\n",
      "diff: 0.41156363\n",
      "#\n",
      "dncnn 2.592918634414673\n",
      "1\n",
      "diff: -0.80708146\n",
      "200\n",
      "#\n"
     ]
    },
    {
     "name": "stderr",
     "output_type": "stream",
     "text": [
      "validation:  62%|\u001B[34m██████▏   \u001B[0m| 616/1000 [00:19<00:11, 32.29it/s]"
     ]
    },
    {
     "name": "stdout",
     "output_type": "stream",
     "text": [
      "dncnn 1.946000337600708\n",
      "1\n",
      "diff: -0.053999662\n",
      "#\n",
      "dncnn 1.0646276473999023\n",
      "1\n",
      "diff: 0.46462762\n",
      "#\n",
      "dncnn 2.7009241580963135\n",
      "1\n",
      "diff: -0.4990759\n",
      "#\n",
      "dncnn 2.9883785247802734\n",
      "1\n",
      "diff: -0.8116214\n",
      "201\n",
      "#\n",
      "dncnn 2.819437026977539\n",
      "1\n",
      "diff: -0.18056297\n",
      "#\n",
      "dncnn 2.8767714500427246\n",
      "1\n",
      "diff: -0.52322865\n",
      "202\n",
      "#\n",
      "dncnn 1.9008771181106567\n",
      "1\n",
      "diff: -0.09912288\n",
      "#\n"
     ]
    },
    {
     "name": "stderr",
     "output_type": "stream",
     "text": [
      "validation:  62%|\u001B[34m██████▏   \u001B[0m| 624/1000 [00:19<00:11, 31.89it/s]"
     ]
    },
    {
     "name": "stdout",
     "output_type": "stream",
     "text": [
      "dncnn 1.0819058418273926\n",
      "1\n",
      "diff: 0.08190584\n",
      "#\n",
      "dncnn 2.875131130218506\n",
      "1\n",
      "diff: -0.12486887\n",
      "#\n",
      "dncnn 1.3260949850082397\n",
      "1\n",
      "diff: 0.12609494\n",
      "#\n",
      "dncnn 2.5055954456329346\n",
      "1\n",
      "diff: -0.89440465\n",
      "203\n",
      "#\n",
      "dncnn 2.037663698196411\n",
      "1\n",
      "diff: 0.23766375\n",
      "#\n",
      "dncnn 2.4143412113189697\n",
      "1\n",
      "diff: -1.3856587\n",
      "204\n",
      "#\n",
      "dncnn 2.7731220722198486\n",
      "1\n",
      "diff: 0.37312198\n",
      "#\n"
     ]
    },
    {
     "name": "stderr",
     "output_type": "stream",
     "text": [
      "validation:  63%|\u001B[34m██████▎   \u001B[0m| 628/1000 [00:19<00:11, 31.77it/s]"
     ]
    },
    {
     "name": "stdout",
     "output_type": "stream",
     "text": [
      "dncnn 1.577986240386963\n",
      "1\n",
      "diff: -0.022013783\n",
      "#\n",
      "dncnn 1.1508073806762695\n",
      "1\n",
      "diff: 0.15080738\n",
      "#\n",
      "dncnn 3.054682731628418\n",
      "1\n",
      "diff: -0.7453172\n",
      "205\n",
      "#\n",
      "dncnn 1.4729490280151367\n",
      "1\n",
      "diff: -0.127051\n",
      "#\n",
      "dncnn 2.1765663623809814\n",
      "1\n",
      "diff: -0.023433685\n",
      "#\n",
      "dncnn 2.8463823795318604\n",
      "1\n",
      "diff: -0.9536176\n",
      "206\n",
      "#\n",
      "dncnn 1.1397186517715454\n"
     ]
    },
    {
     "name": "stderr",
     "output_type": "stream",
     "text": [
      "validation:  64%|\u001B[34m██████▎   \u001B[0m| 636/1000 [00:19<00:11, 32.74it/s]"
     ]
    },
    {
     "name": "stdout",
     "output_type": "stream",
     "text": [
      "1\n",
      "diff: -0.26028132\n",
      "#\n",
      "dncnn 1.8488616943359375\n",
      "1\n",
      "diff: 0.64886165\n",
      "207\n",
      "#\n",
      "dncnn 2.8191335201263428\n",
      "1\n",
      "diff: -0.7808664\n",
      "208\n",
      "#\n",
      "dncnn 2.8204448223114014\n",
      "1\n",
      "diff: 0.22044492\n",
      "#\n",
      "dncnn 3.0453948974609375\n",
      "1\n",
      "diff: 0.045394897\n",
      "#\n",
      "dncnn 1.5473469495773315\n",
      "1\n",
      "diff: -0.052653074\n",
      "#\n",
      "dncnn 2.4746599197387695\n",
      "1\n",
      "diff: 0.074659824\n",
      "#\n"
     ]
    },
    {
     "name": "stderr",
     "output_type": "stream",
     "text": [
      "validation:  64%|\u001B[34m██████▍   \u001B[0m| 644/1000 [00:19<00:10, 32.93it/s]"
     ]
    },
    {
     "name": "stdout",
     "output_type": "stream",
     "text": [
      "dncnn 1.725765585899353\n",
      "1\n",
      "diff: 0.52576554\n",
      "209\n",
      "#\n",
      "dncnn 1.0554362535476685\n",
      "1\n",
      "diff: 0.055436254\n",
      "#\n",
      "dncnn 3.0471222400665283\n",
      "1\n",
      "diff: -0.15287781\n",
      "#\n",
      "dncnn 1.2602486610412598\n",
      "1\n",
      "diff: 0.26024866\n",
      "#\n",
      "dncnn 2.768592357635498\n",
      "1\n",
      "diff: -0.23140764\n",
      "#\n",
      "dncnn 2.7151005268096924\n",
      "1\n",
      "diff: 0.11510062\n",
      "#\n",
      "dncnn 2.8382441997528076\n",
      "1\n",
      "diff: -0.96175575\n",
      "210\n",
      "#\n",
      "dncnn 2.794668436050415\n",
      "1\n",
      "diff: -0.4053316\n",
      "#\n"
     ]
    },
    {
     "name": "stderr",
     "output_type": "stream",
     "text": [
      "validation:  65%|\u001B[34m██████▌   \u001B[0m| 652/1000 [00:20<00:10, 32.59it/s]"
     ]
    },
    {
     "name": "stdout",
     "output_type": "stream",
     "text": [
      "dncnn 2.8767647743225098\n",
      "1\n",
      "diff: 0.07676482\n",
      "#\n",
      "dncnn 2.807677745819092\n",
      "1\n",
      "diff: -0.9923222\n",
      "211\n",
      "#\n",
      "dncnn 2.3502891063690186\n",
      "1\n",
      "diff: -0.04971099\n",
      "#\n",
      "dncnn 1.2897416353225708\n",
      "1\n",
      "diff: -0.11025834\n",
      "#\n",
      "dncnn 1.0369157791137695\n",
      "1\n",
      "diff: 0.23691577\n",
      "#\n",
      "dncnn 2.461942195892334\n",
      "1\n",
      "diff: -0.5380578\n",
      "212\n",
      "#\n",
      "dncnn 2.266871452331543\n",
      "1\n",
      "diff: 0.26687145\n",
      "#\n"
     ]
    },
    {
     "name": "stderr",
     "output_type": "stream",
     "text": [
      "validation:  66%|\u001B[34m██████▌   \u001B[0m| 656/1000 [00:20<00:10, 32.41it/s]"
     ]
    },
    {
     "name": "stdout",
     "output_type": "stream",
     "text": [
      "dncnn 1.8919309377670288\n",
      "1\n",
      "diff: 0.091930985\n",
      "#\n",
      "dncnn 1.5189236402511597\n",
      "1\n",
      "diff: -0.2810763\n",
      "#\n",
      "dncnn 2.538125514984131\n",
      "1\n",
      "diff: 1.1381255\n",
      "213\n",
      "#\n",
      "dncnn 2.9049746990203857\n",
      "1\n",
      "diff: 0.5049746\n",
      "214\n",
      "#\n",
      "dncnn 2.8569893836975098\n",
      "1\n",
      "diff: 0.25698948\n",
      "#\n",
      "dncnn 1.2047228813171387\n",
      "1\n",
      "diff: 0.60472286\n",
      "215\n",
      "#\n"
     ]
    },
    {
     "name": "stderr",
     "output_type": "stream",
     "text": [
      "validation:  66%|\u001B[34m██████▋   \u001B[0m| 664/1000 [00:20<00:10, 32.86it/s]"
     ]
    },
    {
     "name": "stdout",
     "output_type": "stream",
     "text": [
      "dncnn 1.5297259092330933\n",
      "1\n",
      "diff: 0.5297259\n",
      "216\n",
      "#\n",
      "dncnn 2.4274990558624268\n",
      "1\n",
      "diff: -1.1725008\n",
      "217\n",
      "#\n",
      "dncnn 2.3737165927886963\n",
      "1\n",
      "diff: -0.42628336\n",
      "#\n",
      "dncnn 1.3555922508239746\n",
      "1\n",
      "diff: -0.044407725\n",
      "#\n",
      "dncnn 2.0504355430603027\n",
      "1\n",
      "diff: 0.050435543\n",
      "#\n",
      "dncnn 0.9992623925209045\n",
      "1\n",
      "diff: 0.39926237\n",
      "#\n",
      "dncnn 2.5222673416137695\n",
      "1\n",
      "diff: -0.07773256\n",
      "#\n"
     ]
    },
    {
     "name": "stderr",
     "output_type": "stream",
     "text": [
      "validation:  67%|\u001B[34m██████▋   \u001B[0m| 672/1000 [00:20<00:10, 32.41it/s]"
     ]
    },
    {
     "name": "stdout",
     "output_type": "stream",
     "text": [
      "dncnn 1.2748557329177856\n",
      "1\n",
      "diff: 0.27485573\n",
      "#\n",
      "dncnn 0.8869832754135132\n",
      "1\n",
      "diff: 0.8869833\n",
      "218\n",
      "#\n",
      "dncnn 1.398140788078308\n",
      "1\n",
      "diff: 0.79814076\n",
      "219\n",
      "#\n",
      "dncnn 1.9591401815414429\n",
      "1\n",
      "diff: -0.24085987\n",
      "#\n",
      "dncnn 1.7147027254104614\n",
      "1\n",
      "diff: -0.08529723\n",
      "#\n",
      "dncnn 0.8944592475891113\n",
      "1\n",
      "diff: 0.89445925\n",
      "220\n",
      "#\n",
      "dncnn 1.019232988357544\n",
      "1\n",
      "diff: 0.019232988\n",
      "#\n"
     ]
    },
    {
     "name": "stderr",
     "output_type": "stream",
     "text": [
      "validation:  68%|\u001B[34m██████▊   \u001B[0m| 676/1000 [00:20<00:10, 32.25it/s]"
     ]
    },
    {
     "name": "stdout",
     "output_type": "stream",
     "text": [
      "dncnn 1.3879965543746948\n",
      "1\n",
      "diff: 0.38799655\n",
      "#\n",
      "dncnn 1.5359445810317993\n",
      "1\n",
      "diff: 0.33594453\n",
      "#\n",
      "dncnn 0.9732532501220703\n",
      "1\n",
      "diff: 0.17325324\n",
      "#\n",
      "dncnn 2.8033480644226074\n",
      "1\n",
      "diff: 0.20334816\n",
      "#\n",
      "dncnn 2.7853758335113525\n",
      "1\n",
      "diff: -0.8146241\n",
      "221\n",
      "#\n",
      "dncnn 1.7859039306640625\n",
      "1\n",
      "diff: -0.21409607\n",
      "#\n"
     ]
    },
    {
     "name": "stderr",
     "output_type": "stream",
     "text": [
      "validation:  68%|\u001B[34m██████▊   \u001B[0m| 684/1000 [00:21<00:09, 33.15it/s]"
     ]
    },
    {
     "name": "stdout",
     "output_type": "stream",
     "text": [
      "dncnn 2.325298309326172\n",
      "1\n",
      "diff: 0.52529836\n",
      "222\n",
      "#\n",
      "dncnn 2.7266123294830322\n",
      "1\n",
      "diff: 0.12661242\n",
      "#\n",
      "dncnn 1.7394815683364868\n",
      "1\n",
      "diff: 0.5394815\n",
      "223\n",
      "#\n",
      "dncnn 1.110062837600708\n",
      "1\n",
      "diff: 0.5100628\n",
      "224\n",
      "#\n",
      "dncnn 1.41850745677948\n",
      "1\n",
      "diff: -0.3814925\n",
      "#\n",
      "dncnn 2.881591320037842\n",
      "1\n",
      "diff: 0.28159142\n",
      "#\n",
      "dncnn 2.9907166957855225\n",
      "1\n",
      "diff: -0.6092832\n",
      "225\n",
      "#\n",
      "dncnn 2.685455322265625\n"
     ]
    },
    {
     "name": "stderr",
     "output_type": "stream",
     "text": [
      "validation:  69%|\u001B[34m██████▉   \u001B[0m| 692/1000 [00:21<00:09, 32.56it/s]"
     ]
    },
    {
     "name": "stdout",
     "output_type": "stream",
     "text": [
      "1\n",
      "diff: 0.48545527\n",
      "#\n",
      "dncnn 2.4870986938476562\n",
      "1\n",
      "diff: 0.0870986\n",
      "#\n",
      "dncnn 2.6836862564086914\n",
      "1\n",
      "diff: -0.116313696\n",
      "#\n",
      "dncnn 0.9705817699432373\n",
      "1\n",
      "diff: 0.5705818\n",
      "226\n",
      "#\n",
      "dncnn 1.6801625490188599\n",
      "1\n",
      "diff: -0.5198375\n",
      "227\n",
      "#\n",
      "dncnn 1.2783204317092896\n",
      "1\n",
      "diff: 0.47832042\n",
      "#\n",
      "dncnn 2.093289852142334\n",
      "1\n",
      "diff: -0.106710196\n",
      "#\n"
     ]
    },
    {
     "name": "stderr",
     "output_type": "stream",
     "text": [
      "validation:  70%|\u001B[34m██████▉   \u001B[0m| 696/1000 [00:21<00:09, 32.39it/s]"
     ]
    },
    {
     "name": "stdout",
     "output_type": "stream",
     "text": [
      "dncnn 2.3086047172546387\n",
      "1\n",
      "diff: 0.10860467\n",
      "#\n",
      "dncnn 2.1700403690338135\n",
      "1\n",
      "diff: 0.57004035\n",
      "228\n",
      "#\n",
      "dncnn 1.8891772031784058\n",
      "1\n",
      "diff: -0.5108229\n",
      "229\n",
      "#\n",
      "dncnn 2.3271801471710205\n",
      "1\n",
      "diff: -0.27281976\n",
      "#\n",
      "dncnn 1.8214319944381714\n",
      "1\n",
      "diff: 0.021432042\n",
      "#\n",
      "dncnn 2.7249257564544678\n",
      "1\n",
      "diff: -0.27507424\n",
      "#\n"
     ]
    },
    {
     "name": "stderr",
     "output_type": "stream",
     "text": [
      "validation:  70%|\u001B[34m███████   \u001B[0m| 704/1000 [00:21<00:09, 32.46it/s]"
     ]
    },
    {
     "name": "stdout",
     "output_type": "stream",
     "text": [
      "dncnn 1.7066739797592163\n",
      "1\n",
      "diff: 0.50667393\n",
      "230\n",
      "#\n",
      "dncnn 1.6611626148223877\n",
      "1\n",
      "diff: -0.13883734\n",
      "#\n",
      "dncnn 2.815028667449951\n",
      "1\n",
      "diff: -0.38497138\n",
      "#\n",
      "dncnn 2.7278175354003906\n",
      "1\n",
      "diff: -1.0721824\n",
      "231\n",
      "#\n",
      "dncnn 1.1604970693588257\n",
      "1\n",
      "diff: -0.03950298\n",
      "#\n",
      "dncnn 1.9750666618347168\n",
      "1\n",
      "diff: -0.024933338\n",
      "#\n",
      "dncnn 2.7779293060302734\n",
      "1\n",
      "diff: -0.2220707\n",
      "#\n"
     ]
    },
    {
     "name": "stderr",
     "output_type": "stream",
     "text": [
      "validation:  71%|\u001B[34m███████   \u001B[0m| 712/1000 [00:22<00:08, 33.46it/s]"
     ]
    },
    {
     "name": "stdout",
     "output_type": "stream",
     "text": [
      "dncnn 1.4031823873519897\n",
      "1\n",
      "diff: 0.0031824112\n",
      "#\n",
      "dncnn 0.9772194623947144\n",
      "1\n",
      "diff: 0.5772195\n",
      "232\n",
      "#\n",
      "dncnn 1.1937676668167114\n",
      "1\n",
      "diff: -0.40623236\n",
      "#\n",
      "dncnn 0.8853819370269775\n",
      "1\n",
      "diff: 0.88538194\n",
      "233\n",
      "#\n",
      "dncnn 1.794753909111023\n",
      "1\n",
      "diff: -0.005246043\n",
      "#\n",
      "dncnn 1.0500826835632324\n",
      "1\n",
      "diff: 0.45008266\n",
      "#\n",
      "dncnn 2.50504994392395\n",
      "1\n",
      "diff: -0.09494996\n",
      "#\n",
      "dncnn 2.4606332778930664\n"
     ]
    },
    {
     "name": "stderr",
     "output_type": "stream",
     "text": [
      "validation:  72%|\u001B[34m███████▏  \u001B[0m| 716/1000 [00:22<00:08, 32.97it/s]"
     ]
    },
    {
     "name": "stdout",
     "output_type": "stream",
     "text": [
      "1\n",
      "diff: -0.33936667\n",
      "#\n",
      "dncnn 1.4626342058181763\n",
      "1\n",
      "diff: 0.26263416\n",
      "#\n",
      "dncnn 1.210418939590454\n",
      "1\n",
      "diff: 0.21041894\n",
      "#\n",
      "dncnn 1.5270205736160278\n",
      "1\n",
      "diff: -0.07297945\n",
      "#\n",
      "dncnn 2.67997145652771\n",
      "1\n",
      "diff: 0.27997136\n",
      "#\n",
      "dncnn 1.124467372894287\n",
      "1\n",
      "diff: 0.32446736\n",
      "#\n"
     ]
    },
    {
     "name": "stderr",
     "output_type": "stream",
     "text": [
      "validation:  72%|\u001B[34m███████▏  \u001B[0m| 724/1000 [00:22<00:08, 32.47it/s]"
     ]
    },
    {
     "name": "stdout",
     "output_type": "stream",
     "text": [
      "dncnn 1.4893014430999756\n",
      "1\n",
      "diff: -0.11069858\n",
      "#\n",
      "dncnn 2.877340316772461\n",
      "1\n",
      "diff: -0.12265968\n",
      "#\n",
      "dncnn 0.9700367450714111\n",
      "1\n",
      "diff: 0.77003676\n",
      "234\n",
      "#\n",
      "dncnn 2.912708044052124\n",
      "1\n",
      "diff: -0.087291956\n",
      "#\n",
      "dncnn 1.081068992614746\n",
      "1\n",
      "diff: 0.48106897\n",
      "#\n",
      "dncnn 2.346446990966797\n",
      "1\n",
      "diff: -0.45355296\n",
      "#\n",
      "dncnn 1.7799460887908936\n",
      "1\n",
      "diff: 0.3799461\n",
      "#\n",
      "dncnn 2.2170233726501465\n"
     ]
    },
    {
     "name": "stderr",
     "output_type": "stream",
     "text": [
      "validation:  73%|\u001B[34m███████▎  \u001B[0m| 732/1000 [00:22<00:08, 32.94it/s]"
     ]
    },
    {
     "name": "stdout",
     "output_type": "stream",
     "text": [
      "1\n",
      "diff: 0.017023325\n",
      "#\n",
      "dncnn 2.6895666122436523\n",
      "1\n",
      "diff: 0.48956656\n",
      "#\n",
      "dncnn 2.5206942558288574\n",
      "1\n",
      "diff: -0.2793057\n",
      "#\n",
      "dncnn 1.0605642795562744\n",
      "1\n",
      "diff: 0.06056428\n",
      "#\n",
      "dncnn 2.9019646644592285\n",
      "1\n",
      "diff: -0.8980353\n",
      "235\n",
      "#\n",
      "dncnn 1.7085729837417603\n",
      "1\n",
      "diff: 0.10857296\n",
      "#\n",
      "dncnn 1.040796160697937\n",
      "1\n",
      "diff: 0.44079614\n",
      "#\n"
     ]
    },
    {
     "name": "stderr",
     "output_type": "stream",
     "text": [
      "validation:  74%|\u001B[34m███████▎  \u001B[0m| 736/1000 [00:22<00:08, 32.01it/s]"
     ]
    },
    {
     "name": "stdout",
     "output_type": "stream",
     "text": [
      "dncnn 2.8297712802886963\n",
      "1\n",
      "diff: -0.5702288\n",
      "236\n",
      "#\n",
      "dncnn 1.6151506900787354\n",
      "1\n",
      "diff: 0.21515071\n",
      "#\n",
      "dncnn 2.1861469745635986\n",
      "1\n",
      "diff: 0.786147\n",
      "237\n",
      "#\n",
      "dncnn 1.9339509010314941\n",
      "1\n",
      "diff: 0.13395095\n",
      "#\n",
      "dncnn 2.5809485912323\n",
      "1\n",
      "diff: -0.4190514\n",
      "#\n",
      "dncnn 1.8942736387252808\n",
      "1\n",
      "diff: 0.2942736\n",
      "#\n"
     ]
    },
    {
     "name": "stderr",
     "output_type": "stream",
     "text": [
      "validation:  74%|\u001B[34m███████▍  \u001B[0m| 744/1000 [00:23<00:08, 31.97it/s]"
     ]
    },
    {
     "name": "stdout",
     "output_type": "stream",
     "text": [
      "dncnn 0.9959256649017334\n",
      "1\n",
      "diff: 0.39592564\n",
      "#\n",
      "dncnn 1.2057753801345825\n",
      "1\n",
      "diff: 1.0057753\n",
      "238\n",
      "#\n",
      "dncnn 1.2558012008666992\n",
      "1\n",
      "diff: 0.6558012\n",
      "239\n",
      "#\n",
      "dncnn 1.1031397581100464\n",
      "1\n",
      "diff: 0.10313976\n",
      "#\n",
      "dncnn 2.7762179374694824\n",
      "1\n",
      "diff: 0.17621803\n",
      "#\n",
      "dncnn 1.2747368812561035\n",
      "1\n",
      "diff: 0.27473688\n",
      "#\n",
      "dncnn 1.63601815700531\n",
      "1\n",
      "diff: -0.1639818\n",
      "#\n",
      "dncnn 1.1483286619186401\n"
     ]
    },
    {
     "name": "stderr",
     "output_type": "stream",
     "text": [
      "validation:  75%|\u001B[34m███████▌  \u001B[0m| 752/1000 [00:23<00:07, 32.85it/s]"
     ]
    },
    {
     "name": "stdout",
     "output_type": "stream",
     "text": [
      "1\n",
      "diff: 0.34832865\n",
      "#\n",
      "dncnn 1.7582848072052002\n",
      "1\n",
      "diff: -0.041715145\n",
      "#\n",
      "dncnn 1.2320953607559204\n",
      "1\n",
      "diff: 0.23209536\n",
      "#\n",
      "dncnn 1.0295053720474243\n",
      "1\n",
      "diff: 0.42950535\n",
      "#\n",
      "dncnn 0.9933570027351379\n",
      "1\n",
      "diff: -0.20664304\n",
      "#\n",
      "dncnn 2.89142107963562\n",
      "1\n",
      "diff: -0.7085788\n",
      "240\n",
      "#\n",
      "dncnn 2.9627466201782227\n",
      "1\n",
      "diff: 0.16274667\n",
      "#\n"
     ]
    },
    {
     "name": "stderr",
     "output_type": "stream",
     "text": [
      "validation:  76%|\u001B[34m███████▌  \u001B[0m| 756/1000 [00:23<00:07, 32.59it/s]"
     ]
    },
    {
     "name": "stdout",
     "output_type": "stream",
     "text": [
      "dncnn 1.1032747030258179\n",
      "1\n",
      "diff: 0.5032747\n",
      "241\n",
      "#\n",
      "dncnn 2.7698888778686523\n",
      "1\n",
      "diff: -1.0301111\n",
      "242\n",
      "#\n",
      "dncnn 2.034392833709717\n",
      "1\n",
      "diff: -0.5656071\n",
      "243\n",
      "#\n",
      "dncnn 2.6165874004364014\n",
      "1\n",
      "diff: 0.016587496\n",
      "#\n",
      "dncnn 1.6462363004684448\n",
      "1\n",
      "diff: -0.15376365\n",
      "#\n",
      "dncnn 2.508430242538452\n",
      "1\n",
      "diff: 0.10843015\n",
      "#\n"
     ]
    },
    {
     "name": "stderr",
     "output_type": "stream",
     "text": [
      "validation:  76%|\u001B[34m███████▋  \u001B[0m| 764/1000 [00:23<00:07, 32.37it/s]"
     ]
    },
    {
     "name": "stdout",
     "output_type": "stream",
     "text": [
      "dncnn 2.3669214248657227\n",
      "1\n",
      "diff: 0.36692142\n",
      "#\n",
      "dncnn 0.9316720962524414\n",
      "1\n",
      "diff: 0.9316721\n",
      "244\n",
      "#\n",
      "dncnn 1.0578926801681519\n",
      "1\n",
      "diff: 0.6578927\n",
      "245\n",
      "#\n",
      "dncnn 2.8997888565063477\n",
      "1\n",
      "diff: -0.3002112\n",
      "#\n",
      "dncnn 2.9525773525238037\n",
      "1\n",
      "diff: -0.64742255\n",
      "246\n",
      "#\n",
      "dncnn 1.3282175064086914\n",
      "1\n",
      "diff: -0.07178247\n",
      "#\n",
      "dncnn 1.6145272254943848\n",
      "1\n",
      "diff: 0.014527202\n",
      "#\n"
     ]
    },
    {
     "name": "stderr",
     "output_type": "stream",
     "text": [
      "validation:  77%|\u001B[34m███████▋  \u001B[0m| 772/1000 [00:23<00:07, 32.18it/s]"
     ]
    },
    {
     "name": "stdout",
     "output_type": "stream",
     "text": [
      "dncnn 2.7697386741638184\n",
      "1\n",
      "diff: 0.36973858\n",
      "#\n",
      "dncnn 1.5792999267578125\n",
      "1\n",
      "diff: -0.22070003\n",
      "#\n",
      "dncnn 1.9885036945343018\n",
      "1\n",
      "diff: -0.0114963055\n",
      "#\n",
      "dncnn 2.955112934112549\n",
      "1\n",
      "diff: -0.044887066\n",
      "#\n",
      "dncnn 3.1034739017486572\n",
      "1\n",
      "diff: -0.8965261\n",
      "247\n",
      "#\n",
      "dncnn 1.7043230533599854\n",
      "1\n",
      "diff: -0.0956769\n",
      "#\n",
      "dncnn 2.421010971069336\n",
      "1\n",
      "diff: -0.37898898\n",
      "#\n"
     ]
    },
    {
     "name": "stderr",
     "output_type": "stream",
     "text": [
      "validation:  78%|\u001B[34m███████▊  \u001B[0m| 780/1000 [00:24<00:06, 33.19it/s]"
     ]
    },
    {
     "name": "stdout",
     "output_type": "stream",
     "text": [
      "dncnn 2.7736079692840576\n",
      "1\n",
      "diff: -0.026391983\n",
      "#\n",
      "dncnn 1.7946168184280396\n",
      "1\n",
      "diff: -0.005383134\n",
      "#\n",
      "dncnn 1.7369918823242188\n",
      "1\n",
      "diff: -0.06300807\n",
      "#\n",
      "dncnn 1.054318904876709\n",
      "1\n",
      "diff: 0.6543189\n",
      "248\n",
      "#\n",
      "dncnn 0.9157847166061401\n",
      "1\n",
      "diff: 0.9157847\n",
      "249\n",
      "#\n",
      "dncnn 1.9908561706542969\n",
      "1\n",
      "diff: 0.19085622\n",
      "#\n",
      "dncnn 1.0634751319885254\n",
      "1\n",
      "diff: 0.86347514\n",
      "250\n",
      "#\n",
      "dncnn 0.9352726340293884\n",
      "1\n",
      "diff: 0.3352726\n",
      "#\n"
     ]
    },
    {
     "name": "stderr",
     "output_type": "stream",
     "text": [
      "validation:  78%|\u001B[34m███████▊  \u001B[0m| 784/1000 [00:24<00:06, 32.51it/s]"
     ]
    },
    {
     "name": "stdout",
     "output_type": "stream",
     "text": [
      "dncnn 2.9426608085632324\n",
      "1\n",
      "diff: -1.0573392\n",
      "251\n",
      "#\n",
      "dncnn 1.2333524227142334\n",
      "1\n",
      "diff: 0.23335242\n",
      "#\n",
      "dncnn 1.5431255102157593\n",
      "1\n",
      "diff: 0.14312553\n",
      "#\n",
      "dncnn 1.1779323816299438\n",
      "1\n",
      "diff: 0.57793236\n",
      "252\n",
      "#\n",
      "dncnn 2.856078624725342\n",
      "1\n",
      "diff: -0.5439215\n",
      "253\n",
      "#\n",
      "dncnn 1.3117085695266724\n",
      "1\n",
      "diff: 0.31170857\n",
      "#\n"
     ]
    },
    {
     "name": "stderr",
     "output_type": "stream",
     "text": [
      "validation:  79%|\u001B[34m███████▉  \u001B[0m| 792/1000 [00:24<00:06, 32.23it/s]"
     ]
    },
    {
     "name": "stdout",
     "output_type": "stream",
     "text": [
      "dncnn 2.605515718460083\n",
      "1\n",
      "diff: -0.5944843\n",
      "254\n",
      "#\n",
      "dncnn 2.248457670211792\n",
      "1\n",
      "diff: 0.048457623\n",
      "#\n",
      "dncnn 2.2357819080352783\n",
      "1\n",
      "diff: 0.43578196\n",
      "#\n",
      "dncnn 1.8090050220489502\n",
      "1\n",
      "diff: 0.00900507\n",
      "#\n",
      "dncnn 0.9952771663665771\n",
      "1\n",
      "diff: 0.39527714\n",
      "#\n",
      "dncnn 0.9020431637763977\n",
      "1\n",
      "diff: 0.90204316\n",
      "255\n",
      "#\n",
      "dncnn 2.541128158569336\n",
      "1\n",
      "diff: -1.2588718\n",
      "256\n",
      "#\n"
     ]
    },
    {
     "name": "stderr",
     "output_type": "stream",
     "text": [
      "validation:  80%|\u001B[34m████████  \u001B[0m| 800/1000 [00:24<00:06, 32.98it/s]"
     ]
    },
    {
     "name": "stdout",
     "output_type": "stream",
     "text": [
      "dncnn 2.8397936820983887\n",
      "1\n",
      "diff: -0.36020637\n",
      "#\n",
      "dncnn 2.3688127994537354\n",
      "1\n",
      "diff: 0.7688128\n",
      "257\n",
      "#\n",
      "dncnn 1.9642544984817505\n",
      "1\n",
      "diff: -0.23574555\n",
      "#\n",
      "dncnn 2.4951071739196777\n",
      "1\n",
      "diff: -0.7048929\n",
      "258\n",
      "#\n",
      "dncnn 1.0465569496154785\n",
      "1\n",
      "diff: -0.5534431\n",
      "259\n",
      "#\n",
      "dncnn 1.4228448867797852\n",
      "1\n",
      "diff: 0.22284484\n",
      "#\n",
      "dncnn 1.8871458768844604\n",
      "1\n",
      "diff: 0.6871458\n",
      "260\n",
      "#\n",
      "dncnn 0.9326903820037842\n"
     ]
    },
    {
     "name": "stderr",
     "output_type": "stream",
     "text": [
      "validation:  80%|\u001B[34m████████  \u001B[0m| 804/1000 [00:24<00:05, 32.68it/s]"
     ]
    },
    {
     "name": "stdout",
     "output_type": "stream",
     "text": [
      "1\n",
      "diff: 0.33269036\n",
      "#\n",
      "dncnn 3.0903546810150146\n",
      "1\n",
      "diff: -0.9096453\n",
      "261\n",
      "#\n",
      "dncnn 2.9389307498931885\n",
      "1\n",
      "diff: -0.06106925\n",
      "#\n",
      "dncnn 1.8634779453277588\n",
      "1\n",
      "diff: 0.46347797\n",
      "#\n",
      "dncnn 2.4175102710723877\n",
      "1\n",
      "diff: -0.18248963\n",
      "#\n",
      "dncnn 1.683353066444397\n",
      "1\n",
      "diff: 0.08335304\n",
      "#\n"
     ]
    },
    {
     "name": "stderr",
     "output_type": "stream",
     "text": [
      "validation:  81%|\u001B[34m████████  \u001B[0m| 812/1000 [00:25<00:05, 32.31it/s]"
     ]
    },
    {
     "name": "stdout",
     "output_type": "stream",
     "text": [
      "dncnn 1.211829423904419\n",
      "1\n",
      "diff: 0.4118294\n",
      "#\n",
      "dncnn 1.1869330406188965\n",
      "1\n",
      "diff: 0.38693303\n",
      "#\n",
      "dncnn 1.7817145586013794\n",
      "1\n",
      "diff: 0.38171458\n",
      "#\n",
      "dncnn 2.111959934234619\n",
      "1\n",
      "diff: 0.5119599\n",
      "262\n",
      "#\n",
      "dncnn 1.1162877082824707\n",
      "1\n",
      "diff: 1.1162877\n",
      "263\n",
      "#\n",
      "dncnn 1.4564058780670166\n",
      "1\n",
      "diff: -0.34359407\n",
      "#\n",
      "dncnn 1.4208436012268066\n",
      "1\n",
      "diff: 0.020843625\n",
      "#\n"
     ]
    },
    {
     "name": "stderr",
     "output_type": "stream",
     "text": [
      "validation:  82%|\u001B[34m████████▏ \u001B[0m| 820/1000 [00:25<00:05, 32.49it/s]"
     ]
    },
    {
     "name": "stdout",
     "output_type": "stream",
     "text": [
      "dncnn 2.857682704925537\n",
      "1\n",
      "diff: -0.34231734\n",
      "#\n",
      "dncnn 2.7497682571411133\n",
      "1\n",
      "diff: -0.050231695\n",
      "#\n",
      "dncnn 1.2273130416870117\n",
      "1\n",
      "diff: 0.82731307\n",
      "264\n",
      "#\n",
      "dncnn 2.666099786758423\n",
      "1\n",
      "diff: -0.13390017\n",
      "#\n",
      "dncnn 1.9345837831497192\n",
      "1\n",
      "diff: 0.5345838\n",
      "265\n",
      "#\n",
      "dncnn 2.6155989170074463\n",
      "1\n",
      "diff: -1.184401\n",
      "266\n",
      "#\n",
      "dncnn 1.409369945526123\n",
      "1\n",
      "diff: -0.39063\n",
      "#\n"
     ]
    },
    {
     "name": "stderr",
     "output_type": "stream",
     "text": [
      "validation:  82%|\u001B[34m████████▏ \u001B[0m| 824/1000 [00:25<00:05, 32.34it/s]"
     ]
    },
    {
     "name": "stdout",
     "output_type": "stream",
     "text": [
      "dncnn 2.3127477169036865\n",
      "1\n",
      "diff: 0.11274767\n",
      "#\n",
      "dncnn 1.7632688283920288\n",
      "1\n",
      "diff: 0.36326885\n",
      "#\n",
      "dncnn 2.5872514247894287\n",
      "1\n",
      "diff: 0.18725133\n",
      "#\n",
      "dncnn 2.6608917713165283\n",
      "1\n",
      "diff: 0.46089172\n",
      "#\n",
      "dncnn 1.7642955780029297\n",
      "1\n",
      "diff: -0.035704374\n",
      "#\n",
      "dncnn 1.993740200996399\n",
      "1\n",
      "diff: 0.19374025\n",
      "#\n",
      "dncnn 1.191787838935852\n",
      "1\n",
      "diff: -0.008212209\n",
      "#\n",
      "dncnn 2.6551971435546875\n"
     ]
    },
    {
     "name": "stderr",
     "output_type": "stream",
     "text": [
      "validation:  83%|\u001B[34m████████▎ \u001B[0m| 832/1000 [00:25<00:05, 33.04it/s]"
     ]
    },
    {
     "name": "stdout",
     "output_type": "stream",
     "text": [
      "1\n",
      "diff: -0.74480295\n",
      "267\n",
      "#\n",
      "dncnn 1.4953752756118774\n",
      "1\n",
      "diff: 0.29537523\n",
      "#\n",
      "dncnn 2.5170018672943115\n",
      "1\n",
      "diff: -0.6829982\n",
      "268\n",
      "#\n",
      "dncnn 2.4491469860076904\n",
      "1\n",
      "diff: 0.24914694\n",
      "#\n",
      "dncnn 2.364171266555786\n",
      "1\n",
      "diff: -0.63582873\n",
      "269\n",
      "#\n",
      "dncnn 3.0384645462036133\n",
      "1\n",
      "diff: -0.96153545\n",
      "270\n",
      "#\n",
      "dncnn 1.959201693534851\n",
      "1\n",
      "diff: -0.24079835\n",
      "#\n"
     ]
    },
    {
     "name": "stderr",
     "output_type": "stream",
     "text": [
      "validation:  84%|\u001B[34m████████▍ \u001B[0m| 840/1000 [00:25<00:04, 32.50it/s]"
     ]
    },
    {
     "name": "stdout",
     "output_type": "stream",
     "text": [
      "dncnn 2.4530324935913086\n",
      "1\n",
      "diff: 0.0530324\n",
      "#\n",
      "dncnn 2.7412021160125732\n",
      "1\n",
      "diff: -0.658798\n",
      "271\n",
      "#\n",
      "dncnn 2.1571311950683594\n",
      "1\n",
      "diff: 0.35713124\n",
      "#\n",
      "dncnn 2.9057106971740723\n",
      "1\n",
      "diff: -1.0942893\n",
      "272\n",
      "#\n",
      "dncnn 2.810595989227295\n",
      "1\n",
      "diff: 0.21059608\n",
      "#\n",
      "dncnn 2.6355931758880615\n",
      "1\n",
      "diff: 0.23559308\n",
      "#\n",
      "dncnn 2.66817307472229\n",
      "1\n",
      "diff: -0.33182693\n",
      "#\n"
     ]
    },
    {
     "name": "stderr",
     "output_type": "stream",
     "text": [
      "validation:  85%|\u001B[34m████████▍ \u001B[0m| 848/1000 [00:26<00:04, 32.31it/s]"
     ]
    },
    {
     "name": "stdout",
     "output_type": "stream",
     "text": [
      "dncnn 1.2207285165786743\n",
      "1\n",
      "diff: 0.6207285\n",
      "273\n",
      "#\n",
      "dncnn 2.8181793689727783\n",
      "1\n",
      "diff: -0.5818207\n",
      "274\n",
      "#\n",
      "dncnn 2.7341578006744385\n",
      "1\n",
      "diff: 0.3341577\n",
      "#\n",
      "dncnn 1.6137136220932007\n",
      "1\n",
      "diff: -0.18628633\n",
      "#\n",
      "dncnn 1.1854350566864014\n",
      "1\n",
      "diff: -0.21456492\n",
      "#\n",
      "dncnn 2.9659698009490967\n",
      "1\n",
      "diff: -0.4340303\n",
      "#\n",
      "dncnn 1.703314185142517\n",
      "1\n",
      "diff: 0.10331416\n",
      "#\n"
     ]
    },
    {
     "name": "stderr",
     "output_type": "stream",
     "text": [
      "validation:  85%|\u001B[34m████████▌ \u001B[0m| 852/1000 [00:26<00:04, 32.21it/s]"
     ]
    },
    {
     "name": "stdout",
     "output_type": "stream",
     "text": [
      "dncnn 1.9633731842041016\n",
      "1\n",
      "diff: 0.16337323\n",
      "#\n",
      "dncnn 2.43953800201416\n",
      "1\n",
      "diff: -0.560462\n",
      "275\n",
      "#\n",
      "dncnn 3.1199634075164795\n",
      "1\n",
      "diff: -0.68003654\n",
      "276\n",
      "#\n",
      "dncnn 1.944177269935608\n",
      "1\n",
      "diff: 0.34417725\n",
      "#\n",
      "dncnn 2.3624801635742188\n",
      "1\n",
      "diff: -1.4375198\n",
      "277\n",
      "#\n",
      "dncnn 2.753262519836426\n",
      "1\n",
      "diff: -1.0467374\n",
      "278\n",
      "#\n",
      "dncnn 1.1902028322219849\n",
      "1\n",
      "diff: 0.5902028\n",
      "279\n",
      "#\n"
     ]
    },
    {
     "name": "stderr",
     "output_type": "stream",
     "text": [
      "validation:  86%|\u001B[34m████████▌ \u001B[0m| 860/1000 [00:26<00:04, 32.51it/s]"
     ]
    },
    {
     "name": "stdout",
     "output_type": "stream",
     "text": [
      "dncnn 1.0832204818725586\n",
      "1\n",
      "diff: 0.28322047\n",
      "#\n",
      "dncnn 2.4753074645996094\n",
      "1\n",
      "diff: -0.3246925\n",
      "#\n",
      "dncnn 2.5798826217651367\n",
      "1\n",
      "diff: -0.22011733\n",
      "#\n",
      "dncnn 2.741128444671631\n",
      "1\n",
      "diff: -0.25887156\n",
      "#\n",
      "dncnn 2.227679491043091\n",
      "1\n",
      "diff: 0.027679443\n",
      "#\n",
      "dncnn 0.9290071725845337\n",
      "1\n",
      "diff: 0.7290072\n",
      "280\n",
      "#\n",
      "dncnn 1.9839633703231812\n",
      "1\n",
      "diff: -0.21603668\n",
      "#\n"
     ]
    },
    {
     "name": "stderr",
     "output_type": "stream",
     "text": [
      "validation:  87%|\u001B[34m████████▋ \u001B[0m| 868/1000 [00:26<00:04, 32.22it/s]"
     ]
    },
    {
     "name": "stdout",
     "output_type": "stream",
     "text": [
      "dncnn 1.0220701694488525\n",
      "1\n",
      "diff: 0.22207016\n",
      "#\n",
      "dncnn 1.8579332828521729\n",
      "1\n",
      "diff: 0.4579333\n",
      "#\n",
      "dncnn 1.562453031539917\n",
      "1\n",
      "diff: 0.36245298\n",
      "#\n",
      "dncnn 1.5513331890106201\n",
      "1\n",
      "diff: 0.5513332\n",
      "281\n",
      "#\n",
      "dncnn 2.951014518737793\n",
      "1\n",
      "diff: -0.84898543\n",
      "282\n",
      "#\n",
      "dncnn 1.732226848602295\n",
      "1\n",
      "diff: 0.13222682\n",
      "#\n",
      "dncnn 1.01847505569458\n",
      "1\n",
      "diff: 0.21847504\n",
      "#\n"
     ]
    },
    {
     "name": "stderr",
     "output_type": "stream",
     "text": [
      "validation:  88%|\u001B[34m████████▊ \u001B[0m| 876/1000 [00:27<00:03, 32.94it/s]"
     ]
    },
    {
     "name": "stdout",
     "output_type": "stream",
     "text": [
      "dncnn 2.8202550411224365\n",
      "1\n",
      "diff: -0.57974505\n",
      "283\n",
      "#\n",
      "dncnn 3.017622232437134\n",
      "1\n",
      "diff: -0.98237777\n",
      "284\n",
      "#\n",
      "dncnn 1.1486718654632568\n",
      "1\n",
      "diff: -0.051328182\n",
      "#\n",
      "dncnn 0.8467963933944702\n",
      "1\n",
      "diff: 0.8467964\n",
      "285\n",
      "#\n",
      "dncnn 1.5354723930358887\n",
      "1\n",
      "diff: -0.26452756\n",
      "#\n",
      "dncnn 2.8037376403808594\n",
      "1\n",
      "diff: 0.003737688\n",
      "#\n",
      "dncnn 0.9064682722091675\n",
      "1\n",
      "diff: 0.7064683\n",
      "286\n",
      "#\n",
      "dncnn 2.7748804092407227\n"
     ]
    },
    {
     "name": "stderr",
     "output_type": "stream",
     "text": [
      "validation:  88%|\u001B[34m████████▊ \u001B[0m| 880/1000 [00:27<00:03, 32.65it/s]"
     ]
    },
    {
     "name": "stdout",
     "output_type": "stream",
     "text": [
      "1\n",
      "diff: -0.42511964\n",
      "#\n",
      "dncnn 0.9677790403366089\n",
      "1\n",
      "diff: 0.36777902\n",
      "#\n",
      "dncnn 2.2283711433410645\n",
      "1\n",
      "diff: 0.22837114\n",
      "#\n",
      "dncnn 1.7855604887008667\n",
      "1\n",
      "diff: -0.21443951\n",
      "#\n",
      "dncnn 0.8719652891159058\n",
      "1\n",
      "diff: 0.47196528\n",
      "#\n",
      "dncnn 1.3091741800308228\n",
      "1\n",
      "diff: 0.30917418\n",
      "#\n"
     ]
    },
    {
     "name": "stderr",
     "output_type": "stream",
     "text": [
      "validation:  89%|\u001B[34m████████▉ \u001B[0m| 888/1000 [00:27<00:03, 32.32it/s]"
     ]
    },
    {
     "name": "stdout",
     "output_type": "stream",
     "text": [
      "dncnn 1.0121663808822632\n",
      "1\n",
      "diff: 0.21216637\n",
      "#\n",
      "dncnn 2.838083505630493\n",
      "1\n",
      "diff: 0.2380836\n",
      "#\n",
      "dncnn 2.4942502975463867\n",
      "1\n",
      "diff: 0.0942502\n",
      "#\n",
      "dncnn 2.383030891418457\n",
      "1\n",
      "diff: -0.016969204\n",
      "#\n",
      "dncnn 2.7840874195098877\n",
      "1\n",
      "diff: -1.0159125\n",
      "287\n",
      "#\n",
      "dncnn 1.1681431531906128\n",
      "1\n",
      "diff: 0.36814314\n",
      "#\n",
      "dncnn 2.471407175064087\n",
      "1\n",
      "diff: -0.7285929\n",
      "288\n",
      "#\n",
      "dncnn 1.417780876159668\n"
     ]
    },
    {
     "name": "stderr",
     "output_type": "stream",
     "text": [
      "validation:  90%|\u001B[34m████████▉ \u001B[0m| 896/1000 [00:27<00:03, 33.40it/s]"
     ]
    },
    {
     "name": "stdout",
     "output_type": "stream",
     "text": [
      "1\n",
      "diff: 0.0177809\n",
      "#\n",
      "dncnn 3.0340943336486816\n",
      "1\n",
      "diff: -0.7659056\n",
      "289\n",
      "#\n",
      "dncnn 2.7042627334594727\n",
      "1\n",
      "diff: -0.29573727\n",
      "#\n",
      "dncnn 2.872100830078125\n",
      "1\n",
      "diff: -0.32789922\n",
      "#\n",
      "dncnn 2.5328733921051025\n",
      "1\n",
      "diff: -1.2671266\n",
      "290\n",
      "#\n",
      "dncnn 2.391425848007202\n",
      "1\n",
      "diff: 0.1914258\n",
      "#\n",
      "dncnn 1.2686567306518555\n",
      "1\n",
      "diff: 0.46865672\n",
      "#\n",
      "dncnn 1.7463438510894775\n"
     ]
    },
    {
     "name": "stderr",
     "output_type": "stream",
     "text": [
      "validation:  90%|\u001B[34m█████████ \u001B[0m| 900/1000 [00:27<00:03, 32.97it/s]"
     ]
    },
    {
     "name": "stdout",
     "output_type": "stream",
     "text": [
      "1\n",
      "diff: 0.34634387\n",
      "#\n",
      "dncnn 1.332415223121643\n",
      "1\n",
      "diff: -0.06758475\n",
      "#\n",
      "dncnn 2.4827165603637695\n",
      "1\n",
      "diff: -0.51728344\n",
      "291\n",
      "#\n",
      "dncnn 2.733013868331909\n",
      "1\n",
      "diff: -0.46698618\n",
      "#\n",
      "dncnn 3.0535032749176025\n",
      "1\n",
      "diff: 0.053503275\n",
      "#\n",
      "dncnn 1.1402277946472168\n",
      "1\n",
      "diff: 0.5402278\n",
      "292\n",
      "#\n"
     ]
    },
    {
     "name": "stderr",
     "output_type": "stream",
     "text": [
      "validation:  91%|\u001B[34m█████████ \u001B[0m| 908/1000 [00:28<00:02, 33.11it/s]"
     ]
    },
    {
     "name": "stdout",
     "output_type": "stream",
     "text": [
      "dncnn 2.911764144897461\n",
      "1\n",
      "diff: -0.48823595\n",
      "#\n",
      "dncnn 1.2109838724136353\n",
      "1\n",
      "diff: 0.21098387\n",
      "#\n",
      "dncnn 1.2353355884552002\n",
      "1\n",
      "diff: 0.03533554\n",
      "#\n",
      "dncnn 2.9844799041748047\n",
      "1\n",
      "diff: -0.81552005\n",
      "293\n",
      "#\n",
      "dncnn 1.5366742610931396\n",
      "1\n",
      "diff: -0.2633257\n",
      "#\n",
      "dncnn 1.752752423286438\n",
      "1\n",
      "diff: -0.04724753\n",
      "#\n",
      "dncnn 2.9112212657928467\n",
      "1\n",
      "diff: 0.11122131\n",
      "#\n",
      "dncnn 2.988248586654663\n"
     ]
    },
    {
     "name": "stderr",
     "output_type": "stream",
     "text": [
      "validation:  92%|\u001B[34m█████████▏\u001B[0m| 916/1000 [00:28<00:02, 32.52it/s]"
     ]
    },
    {
     "name": "stdout",
     "output_type": "stream",
     "text": [
      "1\n",
      "diff: -0.6117513\n",
      "294\n",
      "#\n",
      "dncnn 1.236419916152954\n",
      "1\n",
      "diff: 0.23641992\n",
      "#\n",
      "dncnn 1.4039074182510376\n",
      "1\n",
      "diff: 0.6039074\n",
      "295\n",
      "#\n",
      "dncnn 1.5306874513626099\n",
      "1\n",
      "diff: 0.13068748\n",
      "#\n",
      "dncnn 2.7475879192352295\n",
      "1\n",
      "diff: 0.34758782\n",
      "#\n",
      "dncnn 2.6468327045440674\n",
      "1\n",
      "diff: -1.3531673\n",
      "296\n",
      "#\n",
      "dncnn 1.9066162109375\n",
      "1\n",
      "diff: -0.09338379\n",
      "#\n"
     ]
    },
    {
     "name": "stderr",
     "output_type": "stream",
     "text": [
      "validation:  92%|\u001B[34m█████████▏\u001B[0m| 920/1000 [00:28<00:02, 32.07it/s]"
     ]
    },
    {
     "name": "stdout",
     "output_type": "stream",
     "text": [
      "dncnn 2.9114034175872803\n",
      "1\n",
      "diff: -0.08859658\n",
      "#\n",
      "dncnn 1.8814448118209839\n",
      "1\n",
      "diff: 0.2814448\n",
      "#\n",
      "dncnn 2.5690014362335205\n",
      "1\n",
      "diff: -0.030998468\n",
      "#\n",
      "dncnn 3.043052911758423\n",
      "1\n",
      "diff: -0.556947\n",
      "297\n",
      "#\n",
      "dncnn 3.008410930633545\n",
      "1\n",
      "diff: -0.791589\n",
      "298\n",
      "#\n",
      "dncnn 2.500291109085083\n",
      "1\n",
      "diff: 0.5002911\n",
      "299\n",
      "#\n"
     ]
    },
    {
     "name": "stderr",
     "output_type": "stream",
     "text": [
      "validation:  93%|\u001B[34m█████████▎\u001B[0m| 928/1000 [00:28<00:02, 33.26it/s]"
     ]
    },
    {
     "name": "stdout",
     "output_type": "stream",
     "text": [
      "dncnn 2.713320255279541\n",
      "1\n",
      "diff: 0.71332026\n",
      "300\n",
      "#\n",
      "dncnn 1.7664135694503784\n",
      "1\n",
      "diff: -0.033586383\n",
      "#\n",
      "dncnn 2.8387176990509033\n",
      "1\n",
      "diff: -0.1612823\n",
      "#\n",
      "dncnn 1.5918200016021729\n",
      "1\n",
      "diff: -0.20817995\n",
      "#\n",
      "dncnn 2.5975148677825928\n",
      "1\n",
      "diff: 0.19751477\n",
      "#\n",
      "dncnn 0.8904887437820435\n",
      "1\n",
      "diff: 0.89048874\n",
      "301\n",
      "#\n",
      "dncnn 2.8095762729644775\n",
      "1\n",
      "diff: -0.39042377\n",
      "#\n",
      "dncnn 0.9816262722015381\n"
     ]
    },
    {
     "name": "stderr",
     "output_type": "stream",
     "text": [
      "validation:  94%|\u001B[34m█████████▎\u001B[0m| 936/1000 [00:28<00:01, 32.73it/s]"
     ]
    },
    {
     "name": "stdout",
     "output_type": "stream",
     "text": [
      "1\n",
      "diff: 0.5816263\n",
      "302\n",
      "#\n",
      "dncnn 2.903074264526367\n",
      "1\n",
      "diff: -0.69692564\n",
      "303\n",
      "#\n",
      "dncnn 1.261527180671692\n",
      "1\n",
      "diff: 0.061527133\n",
      "#\n",
      "dncnn 2.4967293739318848\n",
      "1\n",
      "diff: -0.5032706\n",
      "304\n",
      "#\n",
      "dncnn 1.5808216333389282\n",
      "1\n",
      "diff: -0.01917839\n",
      "#\n",
      "dncnn 2.8893465995788574\n",
      "1\n",
      "diff: -1.1106534\n",
      "305\n",
      "#\n",
      "dncnn 2.463984251022339\n",
      "1\n",
      "diff: 0.063984156\n",
      "#\n",
      "dncnn 1.5099109411239624\n"
     ]
    },
    {
     "name": "stderr",
     "output_type": "stream",
     "text": [
      "validation:  94%|\u001B[34m█████████▍\u001B[0m| 944/1000 [00:29<00:01, 34.55it/s]"
     ]
    },
    {
     "name": "stdout",
     "output_type": "stream",
     "text": [
      "1\n",
      "diff: 0.3099109\n",
      "#\n",
      "dncnn 2.291588306427002\n",
      "1\n",
      "diff: -0.7084117\n",
      "306\n",
      "#\n",
      "dncnn 2.9629416465759277\n",
      "1\n",
      "diff: 0.1629417\n",
      "#\n",
      "dncnn 0.9409475922584534\n",
      "1\n",
      "diff: 0.7409476\n",
      "307\n",
      "#\n",
      "dncnn 1.9677364826202393\n",
      "1\n",
      "diff: 0.16773653\n",
      "#\n",
      "dncnn 2.568112850189209\n",
      "1\n",
      "diff: -0.43188715\n",
      "#\n",
      "dncnn 2.890188694000244\n",
      "1\n",
      "diff: -0.90981126\n",
      "308\n",
      "#\n",
      "dncnn 0.8859579563140869\n",
      "1\n",
      "diff: 0.88595796\n",
      "309\n",
      "#\n"
     ]
    },
    {
     "name": "stderr",
     "output_type": "stream",
     "text": [
      "validation:  95%|\u001B[34m█████████▍\u001B[0m| 948/1000 [00:29<00:01, 35.13it/s]"
     ]
    },
    {
     "name": "stdout",
     "output_type": "stream",
     "text": [
      "dncnn 2.2965922355651855\n",
      "1\n",
      "diff: 0.29659224\n",
      "#\n",
      "dncnn 1.6652891635894775\n",
      "1\n",
      "diff: 0.06528914\n",
      "#\n",
      "dncnn 1.3746973276138306\n",
      "1\n",
      "diff: -0.2253027\n",
      "#\n",
      "dncnn 1.3141181468963623\n",
      "1\n",
      "diff: 0.31411815\n",
      "#\n",
      "dncnn 2.9601447582244873\n",
      "1\n",
      "diff: -0.03985524\n",
      "#\n",
      "dncnn 2.14225172996521\n",
      "1\n",
      "diff: -0.057748318\n",
      "#\n",
      "dncnn 2.7167797088623047\n",
      "1\n",
      "diff: 0.116779804\n",
      "#\n",
      "dncnn 2.9444332122802734\n"
     ]
    },
    {
     "name": "stderr",
     "output_type": "stream",
     "text": [
      "validation:  96%|\u001B[34m█████████▌\u001B[0m| 957/1000 [00:29<00:01, 37.56it/s]"
     ]
    },
    {
     "name": "stdout",
     "output_type": "stream",
     "text": [
      "1\n",
      "diff: -0.25556684\n",
      "#\n",
      "dncnn 1.8639143705368042\n",
      "1\n",
      "diff: 0.4639144\n",
      "#\n",
      "dncnn 0.9764509201049805\n",
      "1\n",
      "diff: -0.22354913\n",
      "#\n",
      "dncnn 1.5088691711425781\n",
      "1\n",
      "diff: 0.108869195\n",
      "#\n",
      "dncnn 1.547253131866455\n",
      "1\n",
      "diff: 0.54725313\n",
      "310\n",
      "#\n",
      "dncnn 1.9049437046051025\n",
      "1\n",
      "diff: 0.5049437\n",
      "311\n",
      "#\n",
      "dncnn 2.7322423458099365\n",
      "1\n",
      "diff: -1.0677576\n",
      "312\n",
      "#\n",
      "dncnn 2.248626708984375\n",
      "1\n",
      "diff: 0.04862666\n",
      "#\n",
      "dncnn 2.898096799850464\n"
     ]
    },
    {
     "name": "stderr",
     "output_type": "stream",
     "text": [
      "validation:  97%|\u001B[34m█████████▋\u001B[0m| 966/1000 [00:29<00:00, 37.98it/s]"
     ]
    },
    {
     "name": "stdout",
     "output_type": "stream",
     "text": [
      "1\n",
      "diff: -0.1019032\n",
      "#\n",
      "dncnn 2.8645193576812744\n",
      "1\n",
      "diff: -1.1354806\n",
      "313\n",
      "#\n",
      "dncnn 2.798245668411255\n",
      "1\n",
      "diff: -1.2017543\n",
      "314\n",
      "#\n",
      "dncnn 0.9486107230186462\n",
      "1\n",
      "diff: 0.3486107\n",
      "#\n",
      "dncnn 2.730539560317993\n",
      "1\n",
      "diff: -0.06946039\n",
      "#\n",
      "dncnn 2.5496766567230225\n",
      "1\n",
      "diff: -0.85032344\n",
      "315\n",
      "#\n",
      "dncnn 1.2052829265594482\n",
      "1\n",
      "diff: 0.4052829\n",
      "#\n",
      "dncnn 2.838764190673828\n",
      "1\n",
      "diff: 0.23876429\n",
      "#\n",
      "dncnn 0.8970553874969482\n"
     ]
    },
    {
     "name": "stderr",
     "output_type": "stream",
     "text": [
      "validation:  98%|\u001B[34m█████████▊\u001B[0m| 975/1000 [00:29<00:00, 37.96it/s]"
     ]
    },
    {
     "name": "stdout",
     "output_type": "stream",
     "text": [
      "1\n",
      "diff: 0.8970554\n",
      "316\n",
      "#\n",
      "dncnn 0.8904485702514648\n",
      "1\n",
      "diff: 0.29044855\n",
      "#\n",
      "dncnn 1.2810200452804565\n",
      "1\n",
      "diff: 0.68102\n",
      "317\n",
      "#\n",
      "dncnn 1.4407075643539429\n",
      "1\n",
      "diff: -0.15929246\n",
      "#\n",
      "dncnn 2.830233335494995\n",
      "1\n",
      "diff: -0.16976666\n",
      "#\n",
      "dncnn 2.3119146823883057\n",
      "1\n",
      "diff: 0.51191473\n",
      "318\n",
      "#\n",
      "dncnn 2.53403902053833\n",
      "1\n",
      "diff: -0.8659611\n",
      "319\n",
      "#\n",
      "dncnn 2.5190205574035645\n",
      "1\n",
      "diff: -0.2809794\n",
      "#\n"
     ]
    },
    {
     "name": "stderr",
     "output_type": "stream",
     "text": [
      "validation:  98%|\u001B[34m█████████▊\u001B[0m| 979/1000 [00:30<00:00, 37.51it/s]"
     ]
    },
    {
     "name": "stdout",
     "output_type": "stream",
     "text": [
      "dncnn 2.319789409637451\n",
      "1\n",
      "diff: 0.51978946\n",
      "320\n",
      "#\n",
      "dncnn 1.3704568147659302\n",
      "1\n",
      "diff: 0.17045677\n",
      "#\n",
      "dncnn 1.5876033306121826\n",
      "1\n",
      "diff: -0.41239667\n",
      "#\n",
      "dncnn 2.6517019271850586\n",
      "1\n",
      "diff: 0.25170183\n",
      "#\n",
      "dncnn 2.4640889167785645\n",
      "1\n",
      "diff: 0.06408882\n",
      "#\n",
      "dncnn 1.0489691495895386\n",
      "1\n",
      "diff: 0.24896914\n",
      "#\n",
      "dncnn 3.066504955291748\n"
     ]
    },
    {
     "name": "stderr",
     "output_type": "stream",
     "text": [
      "validation:  99%|\u001B[34m█████████▊\u001B[0m| 987/1000 [00:30<00:00, 36.29it/s]"
     ]
    },
    {
     "name": "stdout",
     "output_type": "stream",
     "text": [
      "1\n",
      "diff: -0.93349504\n",
      "321\n",
      "#\n",
      "dncnn 2.4661896228790283\n",
      "1\n",
      "diff: 0.46618962\n",
      "#\n",
      "dncnn 1.5231531858444214\n",
      "1\n",
      "diff: 0.7231532\n",
      "322\n",
      "#\n",
      "dncnn 2.4563398361206055\n",
      "1\n",
      "diff: 0.05633974\n",
      "#\n",
      "dncnn 1.8154923915863037\n",
      "1\n",
      "diff: 0.015492439\n",
      "#\n",
      "dncnn 1.2489197254180908\n",
      "1\n",
      "diff: 0.24891973\n",
      "#\n",
      "dncnn 1.9173892736434937\n",
      "1\n",
      "diff: 0.5173893\n",
      "323\n",
      "#\n",
      "dncnn 2.9209039211273193\n"
     ]
    },
    {
     "name": "stderr",
     "output_type": "stream",
     "text": [
      "validation: 100%|\u001B[34m█████████▉\u001B[0m| 995/1000 [00:30<00:00, 36.43it/s]"
     ]
    },
    {
     "name": "stdout",
     "output_type": "stream",
     "text": [
      "1\n",
      "diff: 0.5209038\n",
      "324\n",
      "#\n",
      "dncnn 1.0565265417099\n",
      "1\n",
      "diff: 0.45652652\n",
      "#\n",
      "dncnn 1.1965268850326538\n",
      "1\n",
      "diff: -0.20347309\n",
      "#\n",
      "dncnn 1.021248459815979\n",
      "1\n",
      "diff: 0.42124844\n",
      "#\n",
      "dncnn 1.7903977632522583\n",
      "1\n",
      "diff: 0.99039775\n",
      "325\n",
      "#\n",
      "dncnn 2.430659294128418\n",
      "1\n",
      "diff: -0.9693408\n",
      "326\n",
      "#\n",
      "dncnn 2.740508556365967\n",
      "1\n",
      "diff: 0.34050846\n",
      "#\n",
      "dncnn 2.9099693298339844\n",
      "1\n",
      "diff: 0.30996943\n",
      "#\n"
     ]
    },
    {
     "name": "stderr",
     "output_type": "stream",
     "text": [
      "validation: 100%|\u001B[34m██████████\u001B[0m| 1000/1000 [00:30<00:00, 32.65it/s, plcc=0.915, srocc=0.921, krocc=0.769, overall=2.6, std=0.512]"
     ]
    },
    {
     "name": "stdout",
     "output_type": "stream",
     "text": [
      "dncnn 1.9551208019256592\n",
      "1\n",
      "diff: -0.24487925\n",
      "#\n",
      "dncnn 2.8319180011749268\n",
      "1\n",
      "diff: -0.96808195\n",
      "327\n",
      "#\n",
      "dncnn 1.0116214752197266\n",
      "1\n",
      "diff: -0.18837857\n",
      "#\n",
      "dncnn 1.4463895559310913\n",
      "1\n",
      "diff: -0.3536104\n",
      "#\n"
     ]
    },
    {
     "name": "stderr",
     "output_type": "stream",
     "text": [
      "\n"
     ]
    },
    {
     "data": {
      "text/plain": "327"
     },
     "execution_count": 2,
     "metadata": {},
     "output_type": "execute_result"
    }
   ],
   "source": [
    "torch.cuda.set_device(1)\n",
    "\n",
    "configs = {\n",
    "    'pretrain': 'None',\n",
    "    'img_size': 512,\n",
    "    'model': 'Resnet18',\n",
    "    'epochs': 100,\n",
    "    'batch_size': 32,\n",
    "    'weight_decay': 1e-3,\n",
    "    'lr': 1e-4,\n",
    "    'min_lr': 0.000006463,\n",
    "    'RandomHorizontalFlip': True,\n",
    "    'RandomVerticalFlip': True,\n",
    "    'RandomRotation': True,\n",
    "    'ZoomIn': False,\n",
    "    'ZoomOut': False,\n",
    "    'use_mix': False,\n",
    "    'use_avg': False,\n",
    "    'XShift': False,\n",
    "    'YShift': False,\n",
    "    'RandomShear': False,\n",
    "    'max_shear': 30,  # value in degrees\n",
    "    'max_shift': 0.5,\n",
    "    'rotation_angle': 3,\n",
    "    'zoomin_factor': 0.95,\n",
    "    'zoomout_factor': 0.05,\n",
    "}\n",
    "\n",
    "imgs_list, label_list = create_datalists()\n",
    "\n",
    "test_dataset, _ = create_datasets(imgs_list, label_list, configs, final_train=True,\n",
    "                                  patients_out=False, patient_ids_out=[1, 2, 3])\n",
    "print(len(test_dataset))\n",
    "\n",
    "model = get_model({'model': 'Ensemble', 'pretrain': 'None'})\n",
    "# model.load_state_dict(torch.load(osp.join(osp.dirname(output.__file__), 'DNCNN_epoch_179_alldata.pth'), map_location=\"cpu\"), strict=True)\n",
    "# model = model.cuda()\n",
    "\n",
    "bad_pred_indices = valid(model, test_dataset, 0, 0, 0, False, loss_threshold=0.5)\n",
    "len(bad_pred_indices)"
   ],
   "metadata": {
    "collapsed": false
   }
  },
  {
   "cell_type": "code",
   "execution_count": 6,
   "outputs": [
    {
     "data": {
      "text/plain": "<Figure size 640x480 with 1 Axes>",
      "image/png": "[encoded data removed]"
     },
     "metadata": {},
     "output_type": "display_data"
    },
    {
     "data": {
      "text/plain": "<Figure size 640x480 with 1 Axes>",
      "image/png": "[encoded data removed]"
     },
     "metadata": {},
     "output_type": "display_data"
    },
    {
     "data": {
      "text/plain": "<Figure size 640x480 with 1 Axes>",
      "image/png": "[encoded data removed]"
     },
     "metadata": {},
     "output_type": "display_data"
    },
    {
     "data": {
      "text/plain": "<Figure size 640x480 with 1 Axes>",
      "image/png": "[encoded data removed]"
     },
     "metadata": {},
     "output_type": "display_data"
    }
   ],
   "source": [
    "patient_ids = np.loadtxt(osp.join(osp.dirname(analysis.__file__), 'labels.txt'))\n",
    "per_patient_worst = []\n",
    "per_patient_worst_labels = []\n",
    "\n",
    "for p in range(4):\n",
    "    patient_ids_out = [p]\n",
    "    patient_indices = [i for i, x in enumerate(patient_ids) if x in patient_ids_out]\n",
    "    #\n",
    "    # plot_dist(labels)\n",
    "    per_patient_worst_indices = [i for i in bad_pred_indices if i in patient_indices]\n",
    "    per_patient_worst.append(per_patient_worst_indices)\n",
    "\n",
    "    labels = [label_list[i] for i in per_patient_worst_indices]\n",
    "    per_patient_worst_labels.append(labels)\n",
    "    plot_dist(labels)"
   ],
   "metadata": {
    "collapsed": false
   }
  },
  {
   "cell_type": "code",
   "execution_count": 13,
   "outputs": [
    {
     "name": "stdout",
     "output_type": "stream",
     "text": [
      "14\n",
      "12\n",
      "4\n",
      "14\n"
     ]
    }
   ],
   "source": [
    "for p in range(4):\n",
    "    print(len(per_patient_worst[p]))"
   ],
   "metadata": {
    "collapsed": false
   }
  },
  {
   "cell_type": "code",
   "execution_count": 3,
   "outputs": [
    {
     "name": "stdout",
     "output_type": "stream",
     "text": [
      "1000\n"
     ]
    },
    {
     "name": "stderr",
     "output_type": "stream",
     "text": [
      "validation:   0%|\u001B[34m          \u001B[0m| 5/1000 [00:00<01:04, 15.53it/s]"
     ]
    },
    {
     "name": "stdout",
     "output_type": "stream",
     "text": [
      "pred: [2.6814942]\n",
      "true: 2.8\n",
      "#\n",
      "pred: [1.7936195]\n",
      "true: 1.8\n",
      "#\n",
      "pred: [3.261887]\n",
      "true: 3.4\n",
      "#\n",
      "pred: [2.1627812]\n",
      "true: 2.0\n",
      "#\n",
      "pred: [1.8311859]\n",
      "true: 2.0\n",
      "#\n",
      "pred: [0.5498728]\n",
      "true: 0.2\n",
      "#\n",
      "pred: [0.15346123]\n",
      "true: 0.6\n",
      "#\n"
     ]
    },
    {
     "name": "stderr",
     "output_type": "stream",
     "text": [
      "validation:   1%|\u001B[34m          \u001B[0m| 11/1000 [00:00<00:43, 22.82it/s]"
     ]
    },
    {
     "name": "stdout",
     "output_type": "stream",
     "text": [
      "pred: [3.6460881]\n",
      "true: 4.0\n",
      "#\n",
      "pred: [0.2645874]\n",
      "true: 0.0\n",
      "#\n",
      "pred: [1.7604952]\n",
      "true: 1.6\n",
      "#\n",
      "pred: [3.8601398]\n",
      "true: 4.0\n",
      "#\n",
      "pred: [2.3663778]\n",
      "true: 2.2\n",
      "#\n",
      "pred: [0.7609234]\n",
      "true: 0.6\n",
      "#\n"
     ]
    },
    {
     "name": "stderr",
     "output_type": "stream",
     "text": [
      "validation:   2%|\u001B[34m▏         \u001B[0m| 20/1000 [00:00<00:35, 27.42it/s]"
     ]
    },
    {
     "name": "stdout",
     "output_type": "stream",
     "text": [
      "pred: [2.5847144]\n",
      "true: 2.4\n",
      "#\n",
      "pred: [1.4809742]\n",
      "true: 1.2\n",
      "#\n",
      "pred: [3.5684536]\n",
      "true: 4.0\n",
      "#\n",
      "pred: [2.0954351]\n",
      "true: 2.0\n",
      "#\n",
      "pred: [0.3818647]\n",
      "true: 0.6\n",
      "#\n",
      "pred: [1.3467507]\n",
      "true: 1.4\n",
      "#\n",
      "pred: [3.3213673]\n",
      "true: 3.6\n",
      "#\n"
     ]
    },
    {
     "name": "stderr",
     "output_type": "stream",
     "text": [
      "validation:   3%|\u001B[34m▎         \u001B[0m| 26/1000 [00:01<00:34, 28.19it/s]"
     ]
    },
    {
     "name": "stdout",
     "output_type": "stream",
     "text": [
      "pred: [1.6245238]\n",
      "true: 1.6\n",
      "#\n",
      "pred: [0.14408842]\n",
      "true: 0.2\n",
      "#\n",
      "pred: [3.682888]\n",
      "true: 3.8\n",
      "#\n",
      "pred: [2.5858805]\n",
      "true: 2.2\n",
      "#\n",
      "pred: [0.8198349]\n",
      "true: 1.0\n",
      "#\n",
      "pred: [3.5593648]\n",
      "true: 3.8\n",
      "#\n",
      "pred: [0.8315874]\n",
      "true: 1.4\n",
      "#\n"
     ]
    },
    {
     "name": "stderr",
     "output_type": "stream",
     "text": [
      "validation:   3%|\u001B[34m▎         \u001B[0m| 32/1000 [00:01<00:34, 28.37it/s]"
     ]
    },
    {
     "name": "stdout",
     "output_type": "stream",
     "text": [
      "pred: [2.2240963]\n",
      "true: 2.2\n",
      "#\n",
      "pred: [2.100327]\n",
      "true: 2.2\n",
      "#\n",
      "pred: [0.22963455]\n",
      "true: 0.4\n",
      "#\n",
      "pred: [3.1444397]\n",
      "true: 3.2\n",
      "#\n",
      "pred: [1.9803156]\n",
      "true: 1.8\n",
      "#\n",
      "pred: [1.5903594]\n",
      "true: 1.8\n",
      "#\n"
     ]
    },
    {
     "name": "stderr",
     "output_type": "stream",
     "text": [
      "validation:   4%|\u001B[34m▍         \u001B[0m| 38/1000 [00:01<00:33, 28.86it/s]"
     ]
    },
    {
     "name": "stdout",
     "output_type": "stream",
     "text": [
      "pred: [0.79941314]\n",
      "true: 0.8\n",
      "#\n",
      "pred: [1.2850055]\n",
      "true: 1.6\n",
      "#\n",
      "pred: [0.97623694]\n",
      "true: 1.4\n",
      "#\n",
      "pred: [0.83032143]\n",
      "true: 1.0\n",
      "#\n",
      "pred: [3.7217023]\n",
      "true: 4.0\n",
      "#\n",
      "pred: [0.9741124]\n",
      "true: 1.0\n",
      "#\n",
      "pred: [1.6623676]\n",
      "true: 1.8\n",
      "#\n"
     ]
    },
    {
     "name": "stderr",
     "output_type": "stream",
     "text": [
      "validation:   4%|\u001B[34m▍         \u001B[0m| 44/1000 [00:01<00:33, 28.92it/s]"
     ]
    },
    {
     "name": "stdout",
     "output_type": "stream",
     "text": [
      "pred: [1.9251491]\n",
      "true: 1.6\n",
      "#\n",
      "pred: [2.8191288]\n",
      "true: 2.8\n",
      "#\n",
      "pred: [3.2432902]\n",
      "true: 3.2\n",
      "#\n",
      "pred: [3.092254]\n",
      "true: 3.4\n",
      "#\n",
      "pred: [2.0677898]\n",
      "true: 1.8\n",
      "#\n",
      "pred: [1.9455851]\n",
      "true: 1.4\n",
      "#\n"
     ]
    },
    {
     "name": "stderr",
     "output_type": "stream",
     "text": [
      "validation:   5%|\u001B[34m▌         \u001B[0m| 51/1000 [00:01<00:32, 29.42it/s]"
     ]
    },
    {
     "name": "stdout",
     "output_type": "stream",
     "text": [
      "pred: [0.7813336]\n",
      "true: 0.6\n",
      "#\n",
      "pred: [1.5081967]\n",
      "true: 1.4\n",
      "#\n",
      "pred: [2.5482352]\n",
      "true: 2.4\n",
      "#\n",
      "pred: [2.9998806]\n",
      "true: 2.8\n",
      "#\n",
      "pred: [1.7292325]\n",
      "true: 1.8\n",
      "#\n",
      "pred: [2.7662926]\n",
      "true: 2.6\n",
      "#\n"
     ]
    },
    {
     "name": "stderr",
     "output_type": "stream",
     "text": [
      "validation:   6%|\u001B[34m▌         \u001B[0m| 57/1000 [00:02<00:32, 29.07it/s]"
     ]
    },
    {
     "name": "stdout",
     "output_type": "stream",
     "text": [
      "pred: [2.4876022]\n",
      "true: 2.4\n",
      "#\n",
      "pred: [3.3767586]\n",
      "true: 3.2\n",
      "#\n",
      "pred: [1.8367275]\n",
      "true: 1.6\n",
      "#\n",
      "pred: [3.1119964]\n",
      "true: 3.2\n",
      "#\n",
      "pred: [2.307566]\n",
      "true: 2.2\n",
      "#\n",
      "pred: [0.9127672]\n",
      "true: 1.4\n",
      "#\n",
      "pred: [1.8447529]\n",
      "true: 1.4\n",
      "#\n"
     ]
    },
    {
     "name": "stderr",
     "output_type": "stream",
     "text": [
      "validation:   6%|\u001B[34m▋         \u001B[0m| 64/1000 [00:02<00:32, 29.00it/s]"
     ]
    },
    {
     "name": "stdout",
     "output_type": "stream",
     "text": [
      "pred: [3.27479]\n",
      "true: 3.4\n",
      "#\n",
      "pred: [2.2157662]\n",
      "true: 2.0\n",
      "#\n",
      "pred: [0.70756906]\n",
      "true: 0.6\n",
      "#\n",
      "pred: [1.2733777]\n",
      "true: 1.2\n",
      "#\n",
      "pred: [2.0158443]\n",
      "true: 1.8\n",
      "#\n",
      "pred: [2.6352758]\n",
      "true: 2.6\n",
      "#\n"
     ]
    },
    {
     "name": "stderr",
     "output_type": "stream",
     "text": [
      "validation:   7%|\u001B[34m▋         \u001B[0m| 70/1000 [00:02<00:31, 29.08it/s]"
     ]
    },
    {
     "name": "stdout",
     "output_type": "stream",
     "text": [
      "pred: [3.3609922]\n",
      "true: 3.0\n",
      "#\n",
      "pred: [1.9130216]\n",
      "true: 2.0\n",
      "#\n",
      "pred: [0.64686567]\n",
      "true: 0.8\n",
      "#\n",
      "pred: [2.1997144]\n",
      "true: 2.4\n",
      "#\n",
      "pred: [2.7995985]\n",
      "true: 2.6\n",
      "#\n",
      "pred: [3.828337]\n",
      "true: 3.8\n",
      "#\n",
      "pred: [1.4562212]\n",
      "true: 1.4\n",
      "#\n"
     ]
    },
    {
     "name": "stderr",
     "output_type": "stream",
     "text": [
      "validation:   8%|\u001B[34m▊         \u001B[0m| 79/1000 [00:02<00:31, 29.14it/s]"
     ]
    },
    {
     "name": "stdout",
     "output_type": "stream",
     "text": [
      "pred: [2.602861]\n",
      "true: 2.6\n",
      "#\n",
      "pred: [0.8541727]\n",
      "true: 0.4\n",
      "#\n",
      "pred: [1.8175896]\n",
      "true: 1.4\n",
      "#\n",
      "pred: [0.6371572]\n",
      "true: 0.0\n",
      "#\n",
      "pred: [2.8747244]\n",
      "true: 2.6\n",
      "#\n",
      "pred: [2.5818748]\n",
      "true: 2.4\n",
      "#\n",
      "pred: [2.7832813]\n",
      "true: 3.0\n",
      "#\n"
     ]
    },
    {
     "name": "stderr",
     "output_type": "stream",
     "text": [
      "validation:   8%|\u001B[34m▊         \u001B[0m| 85/1000 [00:03<00:31, 29.10it/s]"
     ]
    },
    {
     "name": "stdout",
     "output_type": "stream",
     "text": [
      "pred: [0.8988645]\n",
      "true: 1.2\n",
      "#\n",
      "pred: [0.37690097]\n",
      "true: 0.4\n",
      "#\n",
      "pred: [0.26681325]\n",
      "true: 0.2\n",
      "#\n",
      "pred: [3.3373039]\n",
      "true: 3.6\n",
      "#\n",
      "pred: [1.699308]\n",
      "true: 1.4\n",
      "#\n",
      "pred: [2.7240946]\n",
      "true: 2.4\n",
      "#\n",
      "pred: [3.216524]\n",
      "true: 3.6\n",
      "#\n"
     ]
    },
    {
     "name": "stderr",
     "output_type": "stream",
     "text": [
      "validation:   9%|\u001B[34m▉         \u001B[0m| 91/1000 [00:03<00:31, 29.11it/s]"
     ]
    },
    {
     "name": "stdout",
     "output_type": "stream",
     "text": [
      "pred: [3.190678]\n",
      "true: 3.0\n",
      "#\n",
      "pred: [3.0668733]\n",
      "true: 3.0\n",
      "#\n",
      "pred: [2.630556]\n",
      "true: 2.8\n",
      "#\n",
      "pred: [3.1489177]\n",
      "true: 3.0\n",
      "#\n",
      "pred: [1.0877166]\n",
      "true: 1.2\n",
      "#\n",
      "pred: [3.748303]\n",
      "true: 3.6\n",
      "#\n"
     ]
    },
    {
     "name": "stderr",
     "output_type": "stream",
     "text": [
      "validation:  10%|\u001B[34m▉         \u001B[0m| 97/1000 [00:03<00:31, 28.94it/s]"
     ]
    },
    {
     "name": "stdout",
     "output_type": "stream",
     "text": [
      "pred: [1.8095185]\n",
      "true: 1.4\n",
      "#\n",
      "pred: [2.4221416]\n",
      "true: 2.6\n",
      "#\n",
      "pred: [0.22031812]\n",
      "true: 0.2\n",
      "#\n",
      "pred: [0.9134187]\n",
      "true: 0.8\n",
      "#\n",
      "pred: [1.445744]\n",
      "true: 2.0\n",
      "#\n",
      "pred: [3.9246745]\n",
      "true: 4.0\n",
      "#\n"
     ]
    },
    {
     "name": "stderr",
     "output_type": "stream",
     "text": [
      "validation:  10%|\u001B[34m█         \u001B[0m| 104/1000 [00:03<00:30, 29.51it/s]"
     ]
    },
    {
     "name": "stdout",
     "output_type": "stream",
     "text": [
      "pred: [1.2789736]\n",
      "true: 1.8\n",
      "#\n",
      "pred: [3.243289]\n",
      "true: 3.0\n",
      "#\n",
      "pred: [3.6585336]\n",
      "true: 4.0\n",
      "#\n",
      "pred: [3.5524783]\n",
      "true: 4.0\n",
      "#\n",
      "pred: [3.2480693]\n",
      "true: 3.6\n",
      "#\n",
      "pred: [3.2986705]\n",
      "true: 3.0\n",
      "#\n",
      "pred: [1.9437354]\n",
      "true: 1.8\n",
      "#\n"
     ]
    },
    {
     "name": "stderr",
     "output_type": "stream",
     "text": [
      "validation:  11%|\u001B[34m█         \u001B[0m| 110/1000 [00:03<00:30, 29.31it/s]"
     ]
    },
    {
     "name": "stdout",
     "output_type": "stream",
     "text": [
      "pred: [1.1992142]\n",
      "true: 1.4\n",
      "#\n",
      "pred: [2.8871903]\n",
      "true: 3.0\n",
      "#\n",
      "pred: [1.1408836]\n",
      "true: 0.8\n",
      "#\n",
      "pred: [3.8085485]\n",
      "true: 4.0\n",
      "#\n",
      "pred: [1.9912248]\n",
      "true: 2.0\n",
      "#\n",
      "pred: [3.1016583]\n",
      "true: 3.0\n",
      "#\n",
      "pred: [0.23636535]\n",
      "true: 0.2\n",
      "#\n"
     ]
    },
    {
     "name": "stderr",
     "output_type": "stream",
     "text": [
      "validation:  12%|\u001B[34m█▏        \u001B[0m| 117/1000 [00:04<00:29, 29.48it/s]"
     ]
    },
    {
     "name": "stdout",
     "output_type": "stream",
     "text": [
      "pred: [0.6347875]\n",
      "true: 1.2\n",
      "#\n",
      "pred: [1.7129852]\n",
      "true: 1.8\n",
      "#\n",
      "pred: [2.9264343]\n",
      "true: 3.0\n",
      "#\n",
      "pred: [1.0049772]\n",
      "true: 0.8\n",
      "#\n",
      "pred: [2.5184994]\n",
      "true: 2.4\n",
      "#\n",
      "pred: [1.5019085]\n",
      "true: 1.2\n",
      "#\n"
     ]
    },
    {
     "name": "stderr",
     "output_type": "stream",
     "text": [
      "validation:  12%|\u001B[34m█▏        \u001B[0m| 124/1000 [00:04<00:29, 29.47it/s]"
     ]
    },
    {
     "name": "stdout",
     "output_type": "stream",
     "text": [
      "pred: [3.148369]\n",
      "true: 3.0\n",
      "#\n",
      "pred: [0.26478907]\n",
      "true: 0.2\n",
      "#\n",
      "pred: [1.836861]\n",
      "true: 2.2\n",
      "#\n",
      "pred: [3.4653563]\n",
      "true: 3.6\n",
      "#\n",
      "pred: [3.7508407]\n",
      "true: 4.0\n",
      "#\n",
      "pred: [2.6432908]\n",
      "true: 2.6\n",
      "#\n",
      "pred: [0.85456914]\n",
      "true: 1.4\n",
      "#\n"
     ]
    },
    {
     "name": "stderr",
     "output_type": "stream",
     "text": [
      "validation:  13%|\u001B[34m█▎        \u001B[0m| 131/1000 [00:04<00:28, 30.58it/s]"
     ]
    },
    {
     "name": "stdout",
     "output_type": "stream",
     "text": [
      "pred: [2.0365658]\n",
      "true: 2.4\n",
      "#\n",
      "pred: [1.6697801]\n",
      "true: 1.6\n",
      "#\n",
      "pred: [0.5334722]\n",
      "true: 0.4\n",
      "#\n",
      "pred: [3.933906]\n",
      "true: 3.8\n",
      "#\n",
      "pred: [0.98350924]\n",
      "true: 1.0\n",
      "#\n",
      "pred: [1.9823736]\n",
      "true: 2.0\n",
      "#\n"
     ]
    },
    {
     "name": "stderr",
     "output_type": "stream",
     "text": [
      "validation:  14%|\u001B[34m█▎        \u001B[0m| 135/1000 [00:04<00:29, 29.26it/s]"
     ]
    },
    {
     "name": "stdout",
     "output_type": "stream",
     "text": [
      "pred: [3.406181]\n",
      "true: 3.4\n",
      "#\n",
      "pred: [1.9819652]\n",
      "true: 2.2\n",
      "#\n",
      "pred: [2.9103541]\n",
      "true: 2.8\n",
      "#\n",
      "pred: [2.0918825]\n",
      "true: 2.0\n",
      "#\n",
      "pred: [0.9121718]\n",
      "true: 1.0\n",
      "#\n",
      "pred: [3.3253617]\n",
      "true: 3.0\n",
      "#\n"
     ]
    },
    {
     "name": "stderr",
     "output_type": "stream",
     "text": [
      "validation:  14%|\u001B[34m█▍        \u001B[0m| 144/1000 [00:05<00:29, 29.18it/s]"
     ]
    },
    {
     "name": "stdout",
     "output_type": "stream",
     "text": [
      "pred: [1.0955673]\n",
      "true: 0.8\n",
      "#\n",
      "pred: [1.3908863]\n",
      "true: 2.0\n",
      "#\n",
      "pred: [0.71356165]\n",
      "true: 1.0\n",
      "#\n",
      "pred: [2.4174347]\n",
      "true: 2.4\n",
      "#\n",
      "pred: [1.507899]\n",
      "true: 1.8\n",
      "#\n",
      "pred: [1.2448918]\n",
      "true: 1.2\n",
      "#\n",
      "pred: [2.36843]\n",
      "true: 2.6\n",
      "#\n"
     ]
    },
    {
     "name": "stderr",
     "output_type": "stream",
     "text": [
      "validation:  15%|\u001B[34m█▍        \u001B[0m| 148/1000 [00:05<00:28, 29.48it/s]"
     ]
    },
    {
     "name": "stdout",
     "output_type": "stream",
     "text": [
      "pred: [1.5228164]\n",
      "true: 1.2\n",
      "#\n",
      "pred: [1.8309635]\n",
      "true: 1.8\n",
      "#\n",
      "pred: [3.3371062]\n",
      "true: 3.4\n",
      "#\n",
      "pred: [1.4612554]\n",
      "true: 1.2\n",
      "#\n",
      "pred: [0.5297782]\n",
      "true: 0.4\n",
      "#\n",
      "pred: [2.5798638]\n",
      "true: 2.6\n",
      "#\n",
      "pred: [0.57493246]\n",
      "true: 0.4\n",
      "#\n"
     ]
    },
    {
     "name": "stderr",
     "output_type": "stream",
     "text": [
      "validation:  16%|\u001B[34m█▌        \u001B[0m| 155/1000 [00:05<00:28, 29.41it/s]"
     ]
    },
    {
     "name": "stdout",
     "output_type": "stream",
     "text": [
      "pred: [2.726032]\n",
      "true: 2.6\n",
      "#\n",
      "pred: [2.6255505]\n",
      "true: 2.6\n",
      "#\n",
      "pred: [1.8584049]\n",
      "true: 2.0\n",
      "#\n",
      "pred: [3.391977]\n",
      "true: 3.0\n",
      "#\n",
      "pred: [1.8376311]\n",
      "true: 2.0\n",
      "#\n",
      "pred: [2.600806]\n",
      "true: 2.6\n",
      "#\n"
     ]
    },
    {
     "name": "stderr",
     "output_type": "stream",
     "text": [
      "validation:  16%|\u001B[34m█▋        \u001B[0m| 164/1000 [00:05<00:28, 29.41it/s]"
     ]
    },
    {
     "name": "stdout",
     "output_type": "stream",
     "text": [
      "pred: [2.8600109]\n",
      "true: 2.6\n",
      "#\n",
      "pred: [3.1370628]\n",
      "true: 3.6\n",
      "#\n",
      "pred: [2.7344003]\n",
      "true: 2.6\n",
      "#\n",
      "pred: [0.34180096]\n",
      "true: 0.6\n",
      "#\n",
      "pred: [2.6708126]\n",
      "true: 2.4\n",
      "#\n",
      "pred: [3.0433052]\n",
      "true: 3.2\n",
      "#\n",
      "pred: [3.6969543]\n",
      "true: 3.8\n",
      "#\n"
     ]
    },
    {
     "name": "stderr",
     "output_type": "stream",
     "text": [
      "validation:  17%|\u001B[34m█▋        \u001B[0m| 170/1000 [00:06<00:28, 29.32it/s]"
     ]
    },
    {
     "name": "stdout",
     "output_type": "stream",
     "text": [
      "pred: [2.9750001]\n",
      "true: 2.4\n",
      "#\n",
      "pred: [1.5371417]\n",
      "true: 1.4\n",
      "#\n",
      "pred: [3.776784]\n",
      "true: 4.0\n",
      "#\n",
      "pred: [3.1657314]\n",
      "true: 3.0\n",
      "#\n",
      "pred: [1.5985837]\n",
      "true: 1.6\n",
      "#\n",
      "pred: [2.4365604]\n",
      "true: 2.4\n",
      "#\n"
     ]
    },
    {
     "name": "stderr",
     "output_type": "stream",
     "text": [
      "validation:  18%|\u001B[34m█▊        \u001B[0m| 176/1000 [00:06<00:28, 29.24it/s]"
     ]
    },
    {
     "name": "stdout",
     "output_type": "stream",
     "text": [
      "pred: [1.6283157]\n",
      "true: 1.6\n",
      "#\n",
      "pred: [3.448232]\n",
      "true: 3.8\n",
      "#\n",
      "pred: [2.1998084]\n",
      "true: 2.6\n",
      "#\n",
      "pred: [2.7626953]\n",
      "true: 2.6\n",
      "#\n",
      "pred: [1.0207144]\n",
      "true: 1.0\n",
      "#\n",
      "pred: [2.041582]\n",
      "true: 2.2\n",
      "#\n",
      "pred: [2.5477133]\n",
      "true: 2.4\n",
      "#\n"
     ]
    },
    {
     "name": "stderr",
     "output_type": "stream",
     "text": [
      "validation:  18%|\u001B[34m█▊        \u001B[0m| 182/1000 [00:06<00:27, 29.27it/s]"
     ]
    },
    {
     "name": "stdout",
     "output_type": "stream",
     "text": [
      "pred: [3.7727454]\n",
      "true: 3.8\n",
      "#\n",
      "pred: [1.2267919]\n",
      "true: 1.4\n",
      "#\n",
      "pred: [1.549555]\n",
      "true: 1.0\n",
      "#\n",
      "pred: [3.78568]\n",
      "true: 4.0\n",
      "#\n",
      "pred: [1.3788692]\n",
      "true: 1.4\n",
      "#\n",
      "pred: [0.64978236]\n",
      "true: 1.0\n",
      "#\n"
     ]
    },
    {
     "name": "stderr",
     "output_type": "stream",
     "text": [
      "validation:  19%|\u001B[34m█▉        \u001B[0m| 188/1000 [00:06<00:27, 29.34it/s]"
     ]
    },
    {
     "name": "stdout",
     "output_type": "stream",
     "text": [
      "pred: [0.76886374]\n",
      "true: 0.6\n",
      "#\n",
      "pred: [0.8906331]\n",
      "true: 1.2\n",
      "#\n",
      "pred: [1.7708925]\n",
      "true: 2.2\n",
      "#\n",
      "pred: [2.6800222]\n",
      "true: 2.6\n",
      "#\n",
      "pred: [0.21570729]\n",
      "true: 0.0\n",
      "#\n",
      "pred: [0.10843042]\n",
      "true: 0.0\n",
      "#\n",
      "pred: [3.5484052]\n",
      "true: 3.0\n",
      "#\n"
     ]
    },
    {
     "name": "stderr",
     "output_type": "stream",
     "text": [
      "validation:  20%|\u001B[34m█▉        \u001B[0m| 195/1000 [00:06<00:26, 29.88it/s]"
     ]
    },
    {
     "name": "stdout",
     "output_type": "stream",
     "text": [
      "pred: [3.047963]\n",
      "true: 2.6\n",
      "#\n",
      "pred: [0.54275155]\n",
      "true: 0.8\n",
      "#\n",
      "pred: [3.709082]\n",
      "true: 3.4\n",
      "#\n",
      "pred: [2.2324877]\n",
      "true: 1.6\n",
      "#\n",
      "pred: [1.5854532]\n",
      "true: 1.6\n",
      "#\n",
      "pred: [2.6018972]\n",
      "true: 2.4\n",
      "#\n",
      "pred: [3.23494]\n",
      "true: 3.6\n",
      "#\n"
     ]
    },
    {
     "name": "stderr",
     "output_type": "stream",
     "text": [
      "validation:  20%|\u001B[34m██        \u001B[0m| 201/1000 [00:07<00:27, 28.91it/s]"
     ]
    },
    {
     "name": "stdout",
     "output_type": "stream",
     "text": [
      "pred: [1.4413633]\n",
      "true: 1.8\n",
      "#\n",
      "pred: [1.586754]\n",
      "true: 1.2\n",
      "#\n",
      "pred: [2.0746167]\n",
      "true: 2.2\n",
      "#\n",
      "pred: [2.9502397]\n",
      "true: 2.4\n",
      "#\n",
      "pred: [1.855364]\n",
      "true: 1.8\n",
      "#\n",
      "pred: [1.4601923]\n",
      "true: 1.6\n",
      "#\n"
     ]
    },
    {
     "name": "stderr",
     "output_type": "stream",
     "text": [
      "validation:  21%|\u001B[34m██        \u001B[0m| 210/1000 [00:07<00:27, 29.15it/s]"
     ]
    },
    {
     "name": "stdout",
     "output_type": "stream",
     "text": [
      "pred: [2.441782]\n",
      "true: 2.6\n",
      "#\n",
      "pred: [1.9359766]\n",
      "true: 2.0\n",
      "#\n",
      "pred: [2.8363056]\n",
      "true: 2.8\n",
      "#\n",
      "pred: [2.9389803]\n",
      "true: 2.6\n",
      "#\n",
      "pred: [3.2971632]\n",
      "true: 3.0\n",
      "#\n",
      "pred: [0.1737701]\n",
      "true: 0.0\n",
      "#\n",
      "pred: [1.467816]\n",
      "true: 1.6\n",
      "#\n"
     ]
    },
    {
     "name": "stderr",
     "output_type": "stream",
     "text": [
      "validation:  22%|\u001B[34m██▏       \u001B[0m| 216/1000 [00:07<00:27, 29.03it/s]"
     ]
    },
    {
     "name": "stdout",
     "output_type": "stream",
     "text": [
      "pred: [1.7461644]\n",
      "true: 1.6\n",
      "#\n",
      "pred: [0.94587904]\n",
      "true: 1.0\n",
      "#\n",
      "pred: [0.32945758]\n",
      "true: 0.4\n",
      "#\n",
      "pred: [0.9741687]\n",
      "true: 0.8\n",
      "#\n",
      "pred: [3.2127378]\n",
      "true: 3.2\n",
      "#\n",
      "pred: [3.8801134]\n",
      "true: 3.8\n",
      "#\n"
     ]
    },
    {
     "name": "stderr",
     "output_type": "stream",
     "text": [
      "validation:  22%|\u001B[34m██▏       \u001B[0m| 222/1000 [00:07<00:26, 29.33it/s]"
     ]
    },
    {
     "name": "stdout",
     "output_type": "stream",
     "text": [
      "pred: [3.3180618]\n",
      "true: 3.4\n",
      "#\n",
      "pred: [2.5847223]\n",
      "true: 3.0\n",
      "#\n",
      "pred: [2.5762815]\n",
      "true: 2.4\n",
      "#\n",
      "pred: [0.8520777]\n",
      "true: 0.6\n",
      "#\n",
      "pred: [2.2803066]\n",
      "true: 2.0\n",
      "#\n",
      "pred: [3.3975325]\n",
      "true: 3.0\n",
      "#\n",
      "pred: [1.3539097]\n",
      "true: 1.4\n",
      "#\n"
     ]
    },
    {
     "name": "stderr",
     "output_type": "stream",
     "text": [
      "validation:  23%|\u001B[34m██▎       \u001B[0m| 228/1000 [00:08<00:26, 29.17it/s]"
     ]
    },
    {
     "name": "stdout",
     "output_type": "stream",
     "text": [
      "pred: [2.0778527]\n",
      "true: 1.6\n",
      "#\n",
      "pred: [2.126571]\n",
      "true: 1.8\n",
      "#\n",
      "pred: [2.0894501]\n",
      "true: 1.8\n",
      "#\n",
      "pred: [2.2543328]\n",
      "true: 2.4\n",
      "#\n",
      "pred: [0.6835508]\n",
      "true: 0.8\n",
      "#\n",
      "pred: [0.8720182]\n",
      "true: 0.8\n",
      "#\n",
      "pred: [3.348564]\n",
      "true: 3.6\n",
      "#\n"
     ]
    },
    {
     "name": "stderr",
     "output_type": "stream",
     "text": [
      "validation:  24%|\u001B[34m██▎       \u001B[0m| 235/1000 [00:08<00:26, 29.10it/s]"
     ]
    },
    {
     "name": "stdout",
     "output_type": "stream",
     "text": [
      "pred: [3.254258]\n",
      "true: 3.4\n",
      "#\n",
      "pred: [0.65370905]\n",
      "true: 0.8\n",
      "#\n",
      "pred: [3.777243]\n",
      "true: 4.0\n",
      "#\n",
      "pred: [3.4625297]\n",
      "true: 3.4\n",
      "#\n",
      "pred: [1.9445883]\n",
      "true: 2.0\n",
      "#\n",
      "pred: [0.48274395]\n",
      "true: 0.2\n",
      "#\n"
     ]
    },
    {
     "name": "stderr",
     "output_type": "stream",
     "text": [
      "validation:  24%|\u001B[34m██▍       \u001B[0m| 241/1000 [00:08<00:26, 28.93it/s]"
     ]
    },
    {
     "name": "stdout",
     "output_type": "stream",
     "text": [
      "pred: [1.7635897]\n",
      "true: 1.8\n",
      "#\n",
      "pred: [1.7355782]\n",
      "true: 2.2\n",
      "#\n",
      "pred: [3.159806]\n",
      "true: 3.6\n",
      "#\n",
      "pred: [0.77156335]\n",
      "true: 0.8\n",
      "#\n",
      "pred: [1.5999283]\n",
      "true: 1.4\n",
      "#\n",
      "pred: [1.7344047]\n",
      "true: 1.8\n",
      "#\n",
      "pred: [2.6843665]\n",
      "true: 2.8\n",
      "#\n"
     ]
    },
    {
     "name": "stderr",
     "output_type": "stream",
     "text": [
      "validation:  25%|\u001B[34m██▍       \u001B[0m| 248/1000 [00:08<00:25, 29.33it/s]"
     ]
    },
    {
     "name": "stdout",
     "output_type": "stream",
     "text": [
      "pred: [1.6923238]\n",
      "true: 1.4\n",
      "#\n",
      "pred: [1.8606371]\n",
      "true: 2.0\n",
      "#\n",
      "pred: [1.2371842]\n",
      "true: 1.8\n",
      "#\n",
      "pred: [3.0857015]\n",
      "true: 3.0\n",
      "#\n",
      "pred: [2.9732866]\n",
      "true: 3.6\n",
      "#\n",
      "pred: [1.33171]\n",
      "true: 1.2\n",
      "#\n"
     ]
    },
    {
     "name": "stderr",
     "output_type": "stream",
     "text": [
      "validation:  25%|\u001B[34m██▌       \u001B[0m| 254/1000 [00:08<00:25, 29.37it/s]"
     ]
    },
    {
     "name": "stdout",
     "output_type": "stream",
     "text": [
      "pred: [1.9826496]\n",
      "true: 1.8\n",
      "#\n",
      "pred: [1.179718]\n",
      "true: 1.2\n",
      "#\n",
      "pred: [3.2352304]\n",
      "true: 3.2\n",
      "#\n",
      "pred: [0.24060774]\n",
      "true: 0.2\n",
      "#\n",
      "pred: [0.89369327]\n",
      "true: 1.0\n",
      "#\n",
      "pred: [2.626995]\n",
      "true: 2.6\n",
      "#\n"
     ]
    },
    {
     "name": "stderr",
     "output_type": "stream",
     "text": [
      "validation:  26%|\u001B[34m██▌       \u001B[0m| 260/1000 [00:09<00:25, 29.12it/s]"
     ]
    },
    {
     "name": "stdout",
     "output_type": "stream",
     "text": [
      "pred: [2.016641]\n",
      "true: 2.4\n",
      "#\n",
      "pred: [1.0005248]\n",
      "true: 0.8\n",
      "#\n",
      "pred: [1.1237835]\n",
      "true: 1.0\n",
      "#\n",
      "pred: [3.217304]\n",
      "true: 3.6\n",
      "#\n",
      "pred: [0.6812591]\n",
      "true: 0.8\n",
      "#\n",
      "pred: [3.1957295]\n",
      "true: 3.4\n",
      "#\n",
      "pred: [3.503786]\n",
      "true: 3.6\n",
      "#\n"
     ]
    },
    {
     "name": "stderr",
     "output_type": "stream",
     "text": [
      "validation:  27%|\u001B[34m██▋       \u001B[0m| 267/1000 [00:09<00:25, 28.90it/s]"
     ]
    },
    {
     "name": "stdout",
     "output_type": "stream",
     "text": [
      "pred: [1.0532978]\n",
      "true: 1.0\n",
      "#\n",
      "pred: [1.8675307]\n",
      "true: 1.6\n",
      "#\n",
      "pred: [1.0095831]\n",
      "true: 1.0\n",
      "#\n",
      "pred: [2.2579105]\n",
      "true: 1.8\n",
      "#\n",
      "pred: [0.10137946]\n",
      "true: 0.0\n",
      "#\n",
      "pred: [2.4364712]\n",
      "true: 2.2\n",
      "#\n"
     ]
    },
    {
     "name": "stderr",
     "output_type": "stream",
     "text": [
      "validation:  27%|\u001B[34m██▋       \u001B[0m| 274/1000 [00:09<00:24, 29.16it/s]"
     ]
    },
    {
     "name": "stdout",
     "output_type": "stream",
     "text": [
      "pred: [2.1388843]\n",
      "true: 1.4\n",
      "#\n",
      "pred: [2.1357236]\n",
      "true: 2.2\n",
      "#\n",
      "pred: [2.8125925]\n",
      "true: 3.0\n",
      "#\n",
      "pred: [3.6942182]\n",
      "true: 3.8\n",
      "#\n",
      "pred: [1.6649227]\n",
      "true: 1.2\n",
      "#\n",
      "pred: [1.4337783]\n",
      "true: 1.6\n",
      "#\n",
      "pred: [2.37573]\n",
      "true: 2.6\n",
      "#\n"
     ]
    },
    {
     "name": "stderr",
     "output_type": "stream",
     "text": [
      "validation:  28%|\u001B[34m██▊       \u001B[0m| 281/1000 [00:09<00:24, 29.54it/s]"
     ]
    },
    {
     "name": "stdout",
     "output_type": "stream",
     "text": [
      "pred: [3.2111812]\n",
      "true: 3.4\n",
      "#\n",
      "pred: [1.9582006]\n",
      "true: 1.6\n",
      "#\n",
      "pred: [2.0632007]\n",
      "true: 2.0\n",
      "#\n",
      "pred: [3.9350317]\n",
      "true: 4.0\n",
      "#\n",
      "pred: [3.1256888]\n",
      "true: 3.4\n",
      "#\n",
      "pred: [3.3975432]\n",
      "true: 3.8\n",
      "#\n",
      "pred: [0.14677694]\n",
      "true: 0.0\n",
      "#\n"
     ]
    },
    {
     "name": "stderr",
     "output_type": "stream",
     "text": [
      "validation:  29%|\u001B[34m██▊       \u001B[0m| 287/1000 [00:10<00:24, 29.33it/s]"
     ]
    },
    {
     "name": "stdout",
     "output_type": "stream",
     "text": [
      "pred: [0.53239]\n",
      "true: 0.6\n",
      "#\n",
      "pred: [1.7535251]\n",
      "true: 1.2\n",
      "#\n",
      "pred: [2.1178563]\n",
      "true: 2.4\n",
      "#\n",
      "pred: [0.93029976]\n",
      "true: 1.0\n",
      "#\n",
      "pred: [3.8882852]\n",
      "true: 3.8\n",
      "#\n",
      "pred: [1.8257017]\n",
      "true: 2.0\n",
      "#\n",
      "pred: [1.6626102]\n",
      "true: 2.4\n",
      "#\n"
     ]
    },
    {
     "name": "stderr",
     "output_type": "stream",
     "text": [
      "validation:  29%|\u001B[34m██▉       \u001B[0m| 293/1000 [00:10<00:24, 29.30it/s]"
     ]
    },
    {
     "name": "stdout",
     "output_type": "stream",
     "text": [
      "pred: [3.227314]\n",
      "true: 3.4\n",
      "#\n",
      "pred: [2.6042397]\n",
      "true: 2.2\n",
      "#\n",
      "pred: [3.7882535]\n",
      "true: 3.6\n",
      "#\n",
      "pred: [2.7950532]\n",
      "true: 2.8\n",
      "#\n",
      "pred: [3.7028735]\n",
      "true: 3.8\n",
      "#\n",
      "pred: [0.23701882]\n",
      "true: 0.0\n",
      "#\n"
     ]
    },
    {
     "name": "stderr",
     "output_type": "stream",
     "text": [
      "validation:  30%|\u001B[34m██▉       \u001B[0m| 299/1000 [00:10<00:24, 29.04it/s]"
     ]
    },
    {
     "name": "stdout",
     "output_type": "stream",
     "text": [
      "pred: [1.0601815]\n",
      "true: 0.8\n",
      "#\n",
      "pred: [0.79701805]\n",
      "true: 1.0\n",
      "#\n",
      "pred: [1.8178786]\n",
      "true: 1.4\n",
      "#\n",
      "pred: [3.347288]\n",
      "true: 3.0\n",
      "#\n",
      "pred: [2.6967688]\n",
      "true: 2.8\n",
      "#\n",
      "pred: [2.4886384]\n",
      "true: 2.4\n",
      "#\n"
     ]
    },
    {
     "name": "stderr",
     "output_type": "stream",
     "text": [
      "validation:  31%|\u001B[34m███       \u001B[0m| 308/1000 [00:10<00:23, 29.35it/s]"
     ]
    },
    {
     "name": "stdout",
     "output_type": "stream",
     "text": [
      "pred: [1.6820984]\n",
      "true: 1.4\n",
      "#\n",
      "pred: [3.088994]\n",
      "true: 3.2\n",
      "#\n",
      "pred: [1.3199131]\n",
      "true: 1.8\n",
      "#\n",
      "pred: [3.858352]\n",
      "true: 4.0\n",
      "#\n",
      "pred: [2.6228395]\n",
      "true: 2.8\n",
      "#\n",
      "pred: [0.8966606]\n",
      "true: 0.8\n",
      "#\n",
      "pred: [3.3330142]\n",
      "true: 3.4\n",
      "#\n"
     ]
    },
    {
     "name": "stderr",
     "output_type": "stream",
     "text": [
      "validation:  31%|\u001B[34m███▏      \u001B[0m| 314/1000 [00:10<00:23, 28.93it/s]"
     ]
    },
    {
     "name": "stdout",
     "output_type": "stream",
     "text": [
      "pred: [1.6445411]\n",
      "true: 1.8\n",
      "#\n",
      "pred: [1.8886362]\n",
      "true: 2.4\n",
      "#\n",
      "pred: [3.0974147]\n",
      "true: 3.0\n",
      "#\n",
      "pred: [3.1550968]\n",
      "true: 2.6\n",
      "#\n",
      "pred: [3.8753152]\n",
      "true: 4.0\n",
      "#\n",
      "pred: [2.3948536]\n",
      "true: 2.4\n",
      "#\n"
     ]
    },
    {
     "name": "stderr",
     "output_type": "stream",
     "text": [
      "validation:  32%|\u001B[34m███▏      \u001B[0m| 320/1000 [00:11<00:23, 29.16it/s]"
     ]
    },
    {
     "name": "stdout",
     "output_type": "stream",
     "text": [
      "pred: [0.17114632]\n",
      "true: 0.0\n",
      "#\n",
      "pred: [2.0860946]\n",
      "true: 2.0\n",
      "#\n",
      "pred: [3.7062767]\n",
      "true: 3.8\n",
      "#\n",
      "pred: [1.8605185]\n",
      "true: 1.4\n",
      "#\n",
      "pred: [3.6180112]\n",
      "true: 3.4\n",
      "#\n",
      "pred: [1.6207228]\n",
      "true: 1.6\n",
      "#\n",
      "pred: [0.9655424]\n",
      "true: 0.8\n",
      "#\n"
     ]
    },
    {
     "name": "stderr",
     "output_type": "stream",
     "text": [
      "validation:  32%|\u001B[34m███▏      \u001B[0m| 324/1000 [00:11<00:22, 29.60it/s]"
     ]
    },
    {
     "name": "stdout",
     "output_type": "stream",
     "text": [
      "pred: [0.6846742]\n",
      "true: 1.0\n",
      "#\n",
      "pred: [2.366687]\n",
      "true: 2.4\n",
      "#\n",
      "pred: [1.8835232]\n",
      "true: 2.2\n",
      "#\n",
      "pred: [1.4558026]\n",
      "true: 1.6\n",
      "#\n",
      "pred: [3.0406742]\n",
      "true: 3.0\n",
      "#\n",
      "pred: [1.7226882]\n",
      "true: 1.8\n",
      "#\n"
     ]
    },
    {
     "name": "stderr",
     "output_type": "stream",
     "text": [
      "validation:  33%|\u001B[34m███▎      \u001B[0m| 331/1000 [00:11<00:22, 29.56it/s]"
     ]
    },
    {
     "name": "stdout",
     "output_type": "stream",
     "text": [
      "pred: [0.9277303]\n",
      "true: 1.0\n",
      "#\n",
      "pred: [2.0624194]\n",
      "true: 2.2\n",
      "#\n",
      "pred: [0.21559896]\n",
      "true: 0.2\n",
      "#\n",
      "pred: [0.66618407]\n",
      "true: 1.0\n",
      "#\n",
      "pred: [3.8882515]\n",
      "true: 4.0\n",
      "#\n",
      "pred: [0.6771591]\n",
      "true: 0.6\n",
      "#\n"
     ]
    },
    {
     "name": "stderr",
     "output_type": "stream",
     "text": [
      "validation:  34%|\u001B[34m███▍      \u001B[0m| 338/1000 [00:11<00:22, 29.63it/s]"
     ]
    },
    {
     "name": "stdout",
     "output_type": "stream",
     "text": [
      "pred: [1.4640973]\n",
      "true: 1.0\n",
      "#\n",
      "pred: [2.4190023]\n",
      "true: 2.6\n",
      "#\n",
      "pred: [0.8035566]\n",
      "true: 0.8\n",
      "#\n",
      "pred: [2.5394557]\n",
      "true: 2.0\n",
      "#\n",
      "pred: [3.4318633]\n",
      "true: 3.6\n",
      "#\n",
      "pred: [3.3068526]\n",
      "true: 3.4\n",
      "#\n",
      "pred: [2.3290043]\n",
      "true: 2.0\n",
      "#\n"
     ]
    },
    {
     "name": "stderr",
     "output_type": "stream",
     "text": [
      "validation:  35%|\u001B[34m███▍      \u001B[0m| 347/1000 [00:12<00:22, 29.23it/s]"
     ]
    },
    {
     "name": "stdout",
     "output_type": "stream",
     "text": [
      "pred: [2.6908484]\n",
      "true: 2.8\n",
      "#\n",
      "pred: [2.549626]\n",
      "true: 2.2\n",
      "#\n",
      "pred: [3.556315]\n",
      "true: 3.8\n",
      "#\n",
      "pred: [0.17247078]\n",
      "true: 0.2\n",
      "#\n",
      "pred: [3.7271414]\n",
      "true: 4.0\n",
      "#\n",
      "pred: [1.687405]\n",
      "true: 1.8\n",
      "#\n",
      "pred: [3.2225916]\n",
      "true: 3.6\n",
      "#\n"
     ]
    },
    {
     "name": "stderr",
     "output_type": "stream",
     "text": [
      "validation:  35%|\u001B[34m███▌      \u001B[0m| 353/1000 [00:12<00:22, 29.22it/s]"
     ]
    },
    {
     "name": "stdout",
     "output_type": "stream",
     "text": [
      "pred: [1.7238272]\n",
      "true: 1.8\n",
      "#\n",
      "pred: [2.565533]\n",
      "true: 3.0\n",
      "#\n",
      "pred: [1.995929]\n",
      "true: 2.2\n",
      "#\n",
      "pred: [3.6934216]\n",
      "true: 3.6\n",
      "#\n",
      "pred: [1.391741]\n",
      "true: 1.0\n",
      "#\n",
      "pred: [2.811237]\n",
      "true: 3.0\n",
      "#\n",
      "pred: [3.6681702]\n",
      "true: 3.8\n",
      "#\n"
     ]
    },
    {
     "name": "stderr",
     "output_type": "stream",
     "text": [
      "validation:  36%|\u001B[34m███▌      \u001B[0m| 360/1000 [00:12<00:21, 29.46it/s]"
     ]
    },
    {
     "name": "stdout",
     "output_type": "stream",
     "text": [
      "pred: [2.1895428]\n",
      "true: 2.2\n",
      "#\n",
      "pred: [2.0550861]\n",
      "true: 2.2\n",
      "#\n",
      "pred: [0.9298949]\n",
      "true: 1.0\n",
      "#\n",
      "pred: [1.7848334]\n",
      "true: 1.8\n",
      "#\n",
      "pred: [0.537486]\n",
      "true: 0.4\n",
      "#\n",
      "pred: [1.3739228]\n",
      "true: 1.6\n",
      "#\n",
      "pred: [2.89306]\n",
      "true: 3.0\n",
      "#\n"
     ]
    },
    {
     "name": "stderr",
     "output_type": "stream",
     "text": [
      "validation:  37%|\u001B[34m███▋      \u001B[0m| 366/1000 [00:12<00:21, 29.49it/s]"
     ]
    },
    {
     "name": "stdout",
     "output_type": "stream",
     "text": [
      "pred: [2.1178386]\n",
      "true: 2.2\n",
      "#\n",
      "pred: [3.793213]\n",
      "true: 3.6\n",
      "#\n",
      "pred: [0.6807098]\n",
      "true: 0.6\n",
      "#\n",
      "pred: [1.8733386]\n",
      "true: 2.4\n",
      "#\n",
      "pred: [2.7235942]\n",
      "true: 2.8\n",
      "#\n",
      "pred: [2.4708643]\n",
      "true: 2.4\n",
      "#\n",
      "pred: [0.86794835]\n",
      "true: 0.6\n",
      "#\n"
     ]
    },
    {
     "name": "stderr",
     "output_type": "stream",
     "text": [
      "validation:  37%|\u001B[34m███▋      \u001B[0m| 372/1000 [00:12<00:21, 29.15it/s]"
     ]
    },
    {
     "name": "stdout",
     "output_type": "stream",
     "text": [
      "pred: [1.1527023]\n",
      "true: 1.2\n",
      "#\n",
      "pred: [1.1456245]\n",
      "true: 1.0\n",
      "#\n",
      "pred: [0.12018936]\n",
      "true: 0.0\n",
      "#\n",
      "pred: [1.9155545]\n",
      "true: 1.4\n",
      "#\n",
      "pred: [2.7191608]\n",
      "true: 2.6\n",
      "#\n",
      "pred: [1.667782]\n",
      "true: 1.8\n",
      "#\n",
      "pred: [1.6783454]\n",
      "true: 0.8\n",
      "#\n"
     ]
    },
    {
     "name": "stderr",
     "output_type": "stream",
     "text": [
      "validation:  38%|\u001B[34m███▊      \u001B[0m| 379/1000 [00:13<00:21, 28.92it/s]"
     ]
    },
    {
     "name": "stdout",
     "output_type": "stream",
     "text": [
      "pred: [1.0680093]\n",
      "true: 1.4\n",
      "#\n",
      "pred: [0.5521352]\n",
      "true: 0.4\n",
      "#\n",
      "pred: [0.19859403]\n",
      "true: 0.2\n",
      "#\n",
      "pred: [1.7581882]\n",
      "true: 1.6\n",
      "#\n",
      "pred: [3.2252307]\n",
      "true: 3.2\n",
      "#\n",
      "pred: [0.7563187]\n",
      "true: 0.6\n",
      "#\n"
     ]
    },
    {
     "name": "stderr",
     "output_type": "stream",
     "text": [
      "validation:  38%|\u001B[34m███▊      \u001B[0m| 385/1000 [00:13<00:20, 29.29it/s]"
     ]
    },
    {
     "name": "stdout",
     "output_type": "stream",
     "text": [
      "pred: [1.9261817]\n",
      "true: 1.6\n",
      "#\n",
      "pred: [3.3911357]\n",
      "true: 3.6\n",
      "#\n",
      "pred: [0.48437232]\n",
      "true: 1.0\n",
      "#\n",
      "pred: [1.1113111]\n",
      "true: 1.6\n",
      "#\n",
      "pred: [2.942493]\n",
      "true: 3.0\n",
      "#\n",
      "pred: [1.8686898]\n",
      "true: 2.2\n",
      "#\n"
     ]
    },
    {
     "name": "stderr",
     "output_type": "stream",
     "text": [
      "validation:  39%|\u001B[34m███▉      \u001B[0m| 392/1000 [00:13<00:20, 29.39it/s]"
     ]
    },
    {
     "name": "stdout",
     "output_type": "stream",
     "text": [
      "pred: [1.3625906]\n",
      "true: 1.4\n",
      "#\n",
      "pred: [1.2094573]\n",
      "true: 0.8\n",
      "#\n",
      "pred: [0.75528604]\n",
      "true: 1.2\n",
      "#\n",
      "pred: [1.2201272]\n",
      "true: 1.4\n",
      "#\n",
      "pred: [2.6125283]\n",
      "true: 2.4\n",
      "#\n",
      "pred: [0.41426685]\n",
      "true: 0.4\n",
      "#\n",
      "pred: [2.821428]\n",
      "true: 2.6\n",
      "#\n"
     ]
    },
    {
     "name": "stderr",
     "output_type": "stream",
     "text": [
      "validation:  40%|\u001B[34m███▉      \u001B[0m| 398/1000 [00:13<00:20, 28.99it/s]"
     ]
    },
    {
     "name": "stdout",
     "output_type": "stream",
     "text": [
      "pred: [3.3348157]\n",
      "true: 3.4\n",
      "#\n",
      "pred: [1.762679]\n",
      "true: 2.0\n",
      "#\n",
      "pred: [3.2193484]\n",
      "true: 3.2\n",
      "#\n",
      "pred: [3.9403403]\n",
      "true: 3.8\n",
      "#\n",
      "pred: [3.906837]\n",
      "true: 4.0\n",
      "#\n",
      "pred: [1.3604721]\n",
      "true: 1.6\n",
      "#\n"
     ]
    },
    {
     "name": "stderr",
     "output_type": "stream",
     "text": [
      "validation:  40%|\u001B[34m████      \u001B[0m| 405/1000 [00:14<00:20, 29.02it/s]"
     ]
    },
    {
     "name": "stdout",
     "output_type": "stream",
     "text": [
      "pred: [2.8382509]\n",
      "true: 3.4\n",
      "#\n",
      "pred: [0.8006741]\n",
      "true: 1.2\n",
      "#\n",
      "pred: [1.8485756]\n",
      "true: 1.8\n",
      "#\n",
      "pred: [1.0019537]\n",
      "true: 0.8\n",
      "#\n",
      "pred: [0.11932403]\n",
      "true: 0.0\n",
      "#\n",
      "pred: [1.964114]\n",
      "true: 2.0\n",
      "#\n"
     ]
    },
    {
     "name": "stderr",
     "output_type": "stream",
     "text": [
      "validation:  41%|\u001B[34m████      \u001B[0m| 411/1000 [00:14<00:20, 29.12it/s]"
     ]
    },
    {
     "name": "stdout",
     "output_type": "stream",
     "text": [
      "pred: [2.1175761]\n",
      "true: 2.0\n",
      "#\n",
      "pred: [2.2356167]\n",
      "true: 2.0\n",
      "#\n",
      "pred: [3.8820558]\n",
      "true: 4.0\n",
      "#\n",
      "pred: [3.8795848]\n",
      "true: 3.8\n",
      "#\n",
      "pred: [0.96048546]\n",
      "true: 1.0\n",
      "#\n",
      "pred: [2.682561]\n",
      "true: 2.8\n",
      "#\n",
      "pred: [3.9190006]\n",
      "true: 4.0\n",
      "#\n"
     ]
    },
    {
     "name": "stderr",
     "output_type": "stream",
     "text": [
      "validation:  42%|\u001B[34m████▏     \u001B[0m| 418/1000 [00:14<00:19, 29.38it/s]"
     ]
    },
    {
     "name": "stdout",
     "output_type": "stream",
     "text": [
      "pred: [1.6343784]\n",
      "true: 1.6\n",
      "#\n",
      "pred: [2.1163282]\n",
      "true: 2.0\n",
      "#\n",
      "pred: [0.48446223]\n",
      "true: 0.4\n",
      "#\n",
      "pred: [3.256088]\n",
      "true: 3.2\n",
      "#\n",
      "pred: [3.137355]\n",
      "true: 3.6\n",
      "#\n",
      "pred: [2.3836145]\n",
      "true: 2.6\n",
      "#\n",
      "pred: [0.7299496]\n",
      "true: 0.6\n",
      "#\n"
     ]
    },
    {
     "name": "stderr",
     "output_type": "stream",
     "text": [
      "validation:  42%|\u001B[34m████▎     \u001B[0m| 425/1000 [00:14<00:19, 29.45it/s]"
     ]
    },
    {
     "name": "stdout",
     "output_type": "stream",
     "text": [
      "pred: [3.7881846]\n",
      "true: 4.0\n",
      "#\n",
      "pred: [1.7455986]\n",
      "true: 1.6\n",
      "#\n",
      "pred: [3.7272696]\n",
      "true: 3.8\n",
      "#\n",
      "pred: [0.800345]\n",
      "true: 1.0\n",
      "#\n",
      "pred: [0.9207099]\n",
      "true: 0.6\n",
      "#\n",
      "pred: [1.0030775]\n",
      "true: 1.0\n",
      "#\n",
      "pred: [3.0561197]\n",
      "true: 3.0\n",
      "#\n"
     ]
    },
    {
     "name": "stderr",
     "output_type": "stream",
     "text": [
      "validation:  43%|\u001B[34m████▎     \u001B[0m| 431/1000 [00:14<00:19, 29.04it/s]"
     ]
    },
    {
     "name": "stdout",
     "output_type": "stream",
     "text": [
      "pred: [0.79048276]\n",
      "true: 0.8\n",
      "#\n",
      "pred: [1.2578187]\n",
      "true: 1.6\n",
      "#\n",
      "pred: [1.6279771]\n",
      "true: 1.6\n",
      "#\n",
      "pred: [3.287042]\n",
      "true: 3.2\n",
      "#\n",
      "pred: [3.3489056]\n",
      "true: 3.2\n",
      "#\n",
      "pred: [2.5664167]\n",
      "true: 2.4\n",
      "#\n"
     ]
    },
    {
     "name": "stderr",
     "output_type": "stream",
     "text": [
      "validation:  44%|\u001B[34m████▍     \u001B[0m| 439/1000 [00:15<00:18, 29.78it/s]"
     ]
    },
    {
     "name": "stdout",
     "output_type": "stream",
     "text": [
      "pred: [2.2574954]\n",
      "true: 2.0\n",
      "#\n",
      "pred: [2.7940798]\n",
      "true: 2.8\n",
      "#\n",
      "pred: [3.1400108]\n",
      "true: 3.2\n",
      "#\n",
      "pred: [1.716177]\n",
      "true: 2.0\n",
      "#\n",
      "pred: [1.2533185]\n",
      "true: 1.0\n",
      "#\n",
      "pred: [2.255795]\n",
      "true: 2.2\n",
      "#\n"
     ]
    },
    {
     "name": "stderr",
     "output_type": "stream",
     "text": [
      "validation:  44%|\u001B[34m████▍     \u001B[0m| 445/1000 [00:15<00:18, 29.47it/s]"
     ]
    },
    {
     "name": "stdout",
     "output_type": "stream",
     "text": [
      "pred: [1.789304]\n",
      "true: 1.4\n",
      "#\n",
      "pred: [0.10026205]\n",
      "true: 0.0\n",
      "#\n",
      "pred: [2.7170453]\n",
      "true: 2.8\n",
      "#\n",
      "pred: [1.3992548]\n",
      "true: 1.2\n",
      "#\n",
      "pred: [1.9877917]\n",
      "true: 1.4\n",
      "#\n",
      "pred: [1.6014335]\n",
      "true: 1.2\n",
      "#\n",
      "pred: [0.16846333]\n",
      "true: 0.4\n",
      "#\n"
     ]
    },
    {
     "name": "stderr",
     "output_type": "stream",
     "text": [
      "validation:  45%|\u001B[34m████▌     \u001B[0m| 452/1000 [00:15<00:18, 29.70it/s]"
     ]
    },
    {
     "name": "stdout",
     "output_type": "stream",
     "text": [
      "pred: [1.7719871]\n",
      "true: 2.0\n",
      "#\n",
      "pred: [0.6350319]\n",
      "true: 0.6\n",
      "#\n",
      "pred: [1.8659208]\n",
      "true: 2.2\n",
      "#\n",
      "pred: [1.8813562]\n",
      "true: 1.4\n",
      "#\n",
      "pred: [3.211906]\n",
      "true: 3.0\n",
      "#\n",
      "pred: [3.2537134]\n",
      "true: 3.4\n",
      "#\n",
      "pred: [1.9283168]\n",
      "true: 1.6\n",
      "#\n"
     ]
    },
    {
     "name": "stderr",
     "output_type": "stream",
     "text": [
      "validation:  46%|\u001B[34m████▌     \u001B[0m| 458/1000 [00:15<00:18, 29.60it/s]"
     ]
    },
    {
     "name": "stdout",
     "output_type": "stream",
     "text": [
      "pred: [1.9628742]\n",
      "true: 2.4\n",
      "#\n",
      "pred: [1.6729697]\n",
      "true: 1.6\n",
      "#\n",
      "pred: [2.3256032]\n",
      "true: 2.2\n",
      "#\n",
      "pred: [3.6969986]\n",
      "true: 3.8\n",
      "#\n",
      "pred: [1.8464981]\n",
      "true: 1.6\n",
      "#\n",
      "pred: [1.3580017]\n",
      "true: 1.6\n",
      "#\n"
     ]
    },
    {
     "name": "stderr",
     "output_type": "stream",
     "text": [
      "validation:  46%|\u001B[34m████▋     \u001B[0m| 464/1000 [00:16<00:18, 29.03it/s]"
     ]
    },
    {
     "name": "stdout",
     "output_type": "stream",
     "text": [
      "pred: [3.3196948]\n",
      "true: 3.2\n",
      "#\n",
      "pred: [2.6464505]\n",
      "true: 2.6\n",
      "#\n",
      "pred: [1.093848]\n",
      "true: 1.4\n",
      "#\n",
      "pred: [3.20117]\n",
      "true: 3.4\n",
      "#\n",
      "pred: [2.131665]\n",
      "true: 2.6\n",
      "#\n",
      "pred: [1.8884176]\n",
      "true: 2.0\n",
      "#\n"
     ]
    },
    {
     "name": "stderr",
     "output_type": "stream",
     "text": [
      "validation:  47%|\u001B[34m████▋     \u001B[0m| 471/1000 [00:16<00:18, 29.36it/s]"
     ]
    },
    {
     "name": "stdout",
     "output_type": "stream",
     "text": [
      "pred: [2.382615]\n",
      "true: 2.6\n",
      "#\n",
      "pred: [1.7582042]\n",
      "true: 1.6\n",
      "#\n",
      "pred: [1.7469581]\n",
      "true: 2.2\n",
      "#\n",
      "pred: [0.4083489]\n",
      "true: 0.2\n",
      "#\n",
      "pred: [0.21864125]\n",
      "true: 0.0\n",
      "#\n",
      "pred: [0.88630676]\n",
      "true: 0.8\n",
      "#\n",
      "pred: [1.3729541]\n",
      "true: 1.6\n",
      "#\n"
     ]
    },
    {
     "name": "stderr",
     "output_type": "stream",
     "text": [
      "validation:  48%|\u001B[34m████▊     \u001B[0m| 477/1000 [00:16<00:17, 29.18it/s]"
     ]
    },
    {
     "name": "stdout",
     "output_type": "stream",
     "text": [
      "pred: [3.2896502]\n",
      "true: 3.0\n",
      "#\n",
      "pred: [1.1862081]\n",
      "true: 1.2\n",
      "#\n",
      "pred: [2.4319112]\n",
      "true: 2.2\n",
      "#\n",
      "pred: [0.2559579]\n",
      "true: 0.4\n",
      "#\n",
      "pred: [2.61836]\n",
      "true: 2.8\n",
      "#\n",
      "pred: [2.5675175]\n",
      "true: 2.2\n",
      "#\n"
     ]
    },
    {
     "name": "stderr",
     "output_type": "stream",
     "text": [
      "validation:  48%|\u001B[34m████▊     \u001B[0m| 484/1000 [00:16<00:17, 29.53it/s]"
     ]
    },
    {
     "name": "stdout",
     "output_type": "stream",
     "text": [
      "pred: [3.7118354]\n",
      "true: 3.6\n",
      "#\n",
      "pred: [2.9779363]\n",
      "true: 2.8\n",
      "#\n",
      "pred: [2.7238982]\n",
      "true: 2.6\n",
      "#\n",
      "pred: [1.2337744]\n",
      "true: 1.0\n",
      "#\n",
      "pred: [3.8470435]\n",
      "true: 4.0\n",
      "#\n",
      "pred: [2.7390137]\n",
      "true: 2.6\n",
      "#\n",
      "pred: [0.12843023]\n",
      "true: 0.6\n",
      "#\n"
     ]
    },
    {
     "name": "stderr",
     "output_type": "stream",
     "text": [
      "validation:  49%|\u001B[34m████▉     \u001B[0m| 490/1000 [00:16<00:17, 29.58it/s]"
     ]
    },
    {
     "name": "stdout",
     "output_type": "stream",
     "text": [
      "pred: [1.6603016]\n",
      "true: 1.4\n",
      "#\n",
      "pred: [1.7688556]\n",
      "true: 1.8\n",
      "#\n",
      "pred: [1.8591971]\n",
      "true: 1.8\n",
      "#\n",
      "pred: [3.5937402]\n",
      "true: 4.0\n",
      "#\n",
      "pred: [0.56543744]\n",
      "true: 0.8\n",
      "#\n",
      "pred: [2.586294]\n",
      "true: 2.4\n",
      "#\n"
     ]
    },
    {
     "name": "stderr",
     "output_type": "stream",
     "text": [
      "validation:  50%|\u001B[34m████▉     \u001B[0m| 498/1000 [00:17<00:16, 30.74it/s]"
     ]
    },
    {
     "name": "stdout",
     "output_type": "stream",
     "text": [
      "pred: [3.4211984]\n",
      "true: 3.4\n",
      "#\n",
      "pred: [1.1745278]\n",
      "true: 1.0\n",
      "#\n",
      "pred: [3.8391]\n",
      "true: 4.0\n",
      "#\n",
      "pred: [3.6579316]\n",
      "true: 3.8\n",
      "#\n",
      "pred: [2.6864426]\n",
      "true: 2.2\n",
      "#\n",
      "pred: [0.30850953]\n",
      "true: 0.2\n",
      "#\n",
      "pred: [2.8160248]\n",
      "true: 3.0\n",
      "#\n"
     ]
    },
    {
     "name": "stderr",
     "output_type": "stream",
     "text": [
      "validation:  51%|\u001B[34m█████     \u001B[0m| 506/1000 [00:17<00:15, 32.30it/s]"
     ]
    },
    {
     "name": "stdout",
     "output_type": "stream",
     "text": [
      "pred: [2.7732813]\n",
      "true: 2.6\n",
      "#\n",
      "pred: [1.9720758]\n",
      "true: 2.4\n",
      "#\n",
      "pred: [2.6285071]\n",
      "true: 2.8\n",
      "#\n",
      "pred: [3.884849]\n",
      "true: 3.8\n",
      "#\n",
      "pred: [1.26929]\n",
      "true: 1.4\n",
      "#\n",
      "pred: [3.8141263]\n",
      "true: 4.0\n",
      "#\n",
      "pred: [2.90614]\n",
      "true: 3.0\n",
      "#\n",
      "pred: [2.8837519]\n",
      "true: 3.0\n",
      "#\n"
     ]
    },
    {
     "name": "stderr",
     "output_type": "stream",
     "text": [
      "validation:  51%|\u001B[34m█████▏    \u001B[0m| 514/1000 [00:17<00:14, 33.61it/s]"
     ]
    },
    {
     "name": "stdout",
     "output_type": "stream",
     "text": [
      "pred: [0.91705346]\n",
      "true: 0.8\n",
      "#\n",
      "pred: [2.278263]\n",
      "true: 2.2\n",
      "#\n",
      "pred: [3.2713413]\n",
      "true: 3.4\n",
      "#\n",
      "pred: [2.5137727]\n",
      "true: 2.6\n",
      "#\n",
      "pred: [0.928334]\n",
      "true: 1.0\n",
      "#\n",
      "pred: [1.2054442]\n",
      "true: 1.0\n",
      "#\n",
      "pred: [3.5758393]\n",
      "true: 3.8\n",
      "#\n",
      "pred: [2.2518554]\n",
      "true: 2.2\n",
      "#\n"
     ]
    },
    {
     "name": "stderr",
     "output_type": "stream",
     "text": [
      "validation:  52%|\u001B[34m█████▏    \u001B[0m| 518/1000 [00:17<00:14, 34.12it/s]"
     ]
    },
    {
     "name": "stdout",
     "output_type": "stream",
     "text": [
      "pred: [3.85647]\n",
      "true: 3.8\n",
      "#\n",
      "pred: [3.0787368]\n",
      "true: 3.4\n",
      "#\n",
      "pred: [2.2881591]\n",
      "true: 2.2\n",
      "#\n",
      "pred: [3.925764]\n",
      "true: 3.8\n",
      "#\n",
      "pred: [0.9533209]\n",
      "true: 1.2\n",
      "#\n",
      "pred: [1.8799134]\n",
      "true: 1.8\n",
      "#\n",
      "pred: [1.6945361]\n",
      "true: 1.6\n",
      "#\n"
     ]
    },
    {
     "name": "stderr",
     "output_type": "stream",
     "text": [
      "validation:  53%|\u001B[34m█████▎    \u001B[0m| 526/1000 [00:18<00:13, 34.37it/s]"
     ]
    },
    {
     "name": "stdout",
     "output_type": "stream",
     "text": [
      "pred: [3.2013488]\n",
      "true: 3.0\n",
      "#\n",
      "pred: [2.6034286]\n",
      "true: 2.8\n",
      "#\n",
      "pred: [0.3387405]\n",
      "true: 0.4\n",
      "#\n",
      "pred: [0.14574397]\n",
      "true: 0.0\n",
      "#\n",
      "pred: [3.6277437]\n",
      "true: 3.4\n",
      "#\n",
      "pred: [1.2265985]\n",
      "true: 1.2\n",
      "#\n",
      "pred: [1.8142469]\n",
      "true: 1.6\n",
      "#\n",
      "pred: [1.5730449]\n",
      "true: 1.4\n",
      "#\n"
     ]
    },
    {
     "name": "stderr",
     "output_type": "stream",
     "text": [
      "validation:  53%|\u001B[34m█████▎    \u001B[0m| 534/1000 [00:18<00:13, 34.49it/s]"
     ]
    },
    {
     "name": "stdout",
     "output_type": "stream",
     "text": [
      "pred: [1.9245952]\n",
      "true: 2.0\n",
      "#\n",
      "pred: [2.7508874]\n",
      "true: 2.8\n",
      "#\n",
      "pred: [1.5002098]\n",
      "true: 1.6\n",
      "#\n",
      "pred: [1.1855822]\n",
      "true: 1.4\n",
      "#\n",
      "pred: [2.085617]\n",
      "true: 2.4\n",
      "#\n",
      "pred: [1.7811432]\n",
      "true: 1.6\n",
      "#\n",
      "pred: [1.8885112]\n",
      "true: 2.6\n",
      "#\n",
      "pred: [3.8312652]\n",
      "true: 3.8\n",
      "#\n"
     ]
    },
    {
     "name": "stderr",
     "output_type": "stream",
     "text": [
      "validation:  54%|\u001B[34m█████▍    \u001B[0m| 542/1000 [00:18<00:13, 33.37it/s]"
     ]
    },
    {
     "name": "stdout",
     "output_type": "stream",
     "text": [
      "pred: [1.5907626]\n",
      "true: 1.8\n",
      "#\n",
      "pred: [1.736867]\n",
      "true: 2.0\n",
      "#\n",
      "pred: [2.9626377]\n",
      "true: 3.0\n",
      "#\n",
      "pred: [3.3511465]\n",
      "true: 3.4\n",
      "#\n",
      "pred: [1.6878406]\n",
      "true: 1.8\n",
      "#\n",
      "pred: [3.846524]\n",
      "true: 3.8\n",
      "#\n",
      "pred: [1.1663908]\n",
      "true: 1.4\n",
      "#\n"
     ]
    },
    {
     "name": "stderr",
     "output_type": "stream",
     "text": [
      "validation:  55%|\u001B[34m█████▌    \u001B[0m| 550/1000 [00:18<00:13, 33.10it/s]"
     ]
    },
    {
     "name": "stdout",
     "output_type": "stream",
     "text": [
      "pred: [3.455666]\n",
      "true: 3.4\n",
      "#\n",
      "pred: [2.5916939]\n",
      "true: 2.6\n",
      "#\n",
      "pred: [3.5510316]\n",
      "true: 3.8\n",
      "#\n",
      "pred: [1.7768085]\n",
      "true: 1.6\n",
      "#\n",
      "pred: [2.5790756]\n",
      "true: 2.6\n",
      "#\n",
      "pred: [3.0337691]\n",
      "true: 2.8\n",
      "#\n",
      "pred: [2.4205737]\n",
      "true: 2.6\n",
      "#\n"
     ]
    },
    {
     "name": "stderr",
     "output_type": "stream",
     "text": [
      "validation:  56%|\u001B[34m█████▌    \u001B[0m| 558/1000 [00:18<00:13, 33.06it/s]"
     ]
    },
    {
     "name": "stdout",
     "output_type": "stream",
     "text": [
      "pred: [3.1052308]\n",
      "true: 3.4\n",
      "#\n",
      "pred: [2.5905797]\n",
      "true: 2.8\n",
      "#\n",
      "pred: [2.2969003]\n",
      "true: 2.0\n",
      "#\n",
      "pred: [3.1032383]\n",
      "true: 3.2\n",
      "#\n",
      "pred: [1.9236238]\n",
      "true: 2.0\n",
      "#\n",
      "pred: [3.0820467]\n",
      "true: 2.6\n",
      "#\n",
      "pred: [3.143994]\n",
      "true: 3.0\n",
      "#\n"
     ]
    },
    {
     "name": "stderr",
     "output_type": "stream",
     "text": [
      "validation:  57%|\u001B[34m█████▋    \u001B[0m| 566/1000 [00:19<00:13, 33.14it/s]"
     ]
    },
    {
     "name": "stdout",
     "output_type": "stream",
     "text": [
      "pred: [3.2864285]\n",
      "true: 2.8\n",
      "#\n",
      "pred: [3.7499676]\n",
      "true: 3.8\n",
      "#\n",
      "pred: [1.9448471]\n",
      "true: 2.4\n",
      "#\n",
      "pred: [3.138968]\n",
      "true: 3.2\n",
      "#\n",
      "pred: [1.5562843]\n",
      "true: 1.4\n",
      "#\n",
      "pred: [3.3299422]\n",
      "true: 3.6\n",
      "#\n",
      "pred: [1.8725879]\n",
      "true: 2.0\n",
      "#\n",
      "pred: [3.283979]\n",
      "true: 3.2\n",
      "#\n"
     ]
    },
    {
     "name": "stderr",
     "output_type": "stream",
     "text": [
      "validation:  57%|\u001B[34m█████▋    \u001B[0m| 570/1000 [00:19<00:12, 33.40it/s]"
     ]
    },
    {
     "name": "stdout",
     "output_type": "stream",
     "text": [
      "pred: [1.4645834]\n",
      "true: 1.2\n",
      "#\n",
      "pred: [2.695162]\n",
      "true: 2.6\n",
      "#\n",
      "pred: [2.7936823]\n",
      "true: 2.6\n",
      "#\n",
      "pred: [1.9202161]\n",
      "true: 2.0\n",
      "#\n",
      "pred: [2.4143517]\n",
      "true: 2.2\n",
      "#\n",
      "pred: [2.692148]\n",
      "true: 2.4\n",
      "#\n",
      "pred: [3.0748944]\n",
      "true: 3.4\n",
      "#\n"
     ]
    },
    {
     "name": "stderr",
     "output_type": "stream",
     "text": [
      "validation:  58%|\u001B[34m█████▊    \u001B[0m| 578/1000 [00:19<00:12, 33.31it/s]"
     ]
    },
    {
     "name": "stdout",
     "output_type": "stream",
     "text": [
      "pred: [1.2000983]\n",
      "true: 1.0\n",
      "#\n",
      "pred: [2.8877816]\n",
      "true: 2.6\n",
      "#\n",
      "pred: [1.5118082]\n",
      "true: 1.6\n",
      "#\n",
      "pred: [0.45320436]\n",
      "true: 0.8\n",
      "#\n",
      "pred: [2.3897412]\n",
      "true: 2.2\n",
      "#\n",
      "pred: [1.457187]\n",
      "true: 1.2\n",
      "#\n",
      "pred: [2.3141572]\n",
      "true: 2.4\n",
      "#\n",
      "pred: [1.0119443]\n",
      "true: 1.2\n",
      "#\n"
     ]
    },
    {
     "name": "stderr",
     "output_type": "stream",
     "text": [
      "validation:  59%|\u001B[34m█████▊    \u001B[0m| 586/1000 [00:19<00:12, 33.51it/s]"
     ]
    },
    {
     "name": "stdout",
     "output_type": "stream",
     "text": [
      "pred: [2.085373]\n",
      "true: 1.8\n",
      "#\n",
      "pred: [1.7910148]\n",
      "true: 1.4\n",
      "#\n",
      "pred: [2.9209921]\n",
      "true: 3.0\n",
      "#\n",
      "pred: [1.8865452]\n",
      "true: 2.0\n",
      "#\n",
      "pred: [3.2377963]\n",
      "true: 3.0\n",
      "#\n",
      "pred: [1.3446764]\n",
      "true: 1.8\n",
      "#\n",
      "pred: [1.5283046]\n",
      "true: 1.2\n",
      "#\n"
     ]
    },
    {
     "name": "stderr",
     "output_type": "stream",
     "text": [
      "validation:  59%|\u001B[34m█████▉    \u001B[0m| 594/1000 [00:20<00:12, 33.37it/s]"
     ]
    },
    {
     "name": "stdout",
     "output_type": "stream",
     "text": [
      "pred: [1.2786343]\n",
      "true: 1.6\n",
      "#\n",
      "pred: [2.3816743]\n",
      "true: 2.4\n",
      "#\n",
      "pred: [1.6263611]\n",
      "true: 1.6\n",
      "#\n",
      "pred: [0.67195714]\n",
      "true: 0.8\n",
      "#\n",
      "pred: [3.0239336]\n",
      "true: 3.2\n",
      "#\n",
      "pred: [2.6313546]\n",
      "true: 2.2\n",
      "#\n",
      "pred: [0.91317976]\n",
      "true: 0.8\n",
      "#\n",
      "pred: [2.933004]\n",
      "true: 2.8\n",
      "#\n"
     ]
    },
    {
     "name": "stderr",
     "output_type": "stream",
     "text": [
      "validation:  60%|\u001B[34m██████    \u001B[0m| 602/1000 [00:20<00:12, 32.64it/s]"
     ]
    },
    {
     "name": "stdout",
     "output_type": "stream",
     "text": [
      "pred: [1.5753766]\n",
      "true: 1.4\n",
      "#\n",
      "pred: [1.0055678]\n",
      "true: 1.2\n",
      "#\n",
      "pred: [1.2487403]\n",
      "true: 1.2\n",
      "#\n",
      "pred: [2.4422293]\n",
      "true: 2.6\n",
      "#\n",
      "pred: [0.87715024]\n",
      "true: 0.8\n",
      "#\n",
      "pred: [1.0974749]\n",
      "true: 1.2\n",
      "#\n",
      "pred: [1.1221577]\n",
      "true: 1.0\n",
      "#\n"
     ]
    },
    {
     "name": "stderr",
     "output_type": "stream",
     "text": [
      "validation:  61%|\u001B[34m██████    \u001B[0m| 610/1000 [00:20<00:11, 33.03it/s]"
     ]
    },
    {
     "name": "stdout",
     "output_type": "stream",
     "text": [
      "pred: [0.893232]\n",
      "true: 0.8\n",
      "#\n",
      "pred: [1.7124788]\n",
      "true: 1.6\n",
      "#\n",
      "pred: [0.87301415]\n",
      "true: 0.4\n",
      "#\n",
      "pred: [2.5646129]\n",
      "true: 2.4\n",
      "#\n",
      "pred: [2.0924542]\n",
      "true: 1.8\n",
      "#\n",
      "pred: [2.6208613]\n",
      "true: 2.2\n",
      "#\n",
      "pred: [3.4198816]\n",
      "true: 3.4\n",
      "#\n",
      "pred: [1.854112]\n",
      "true: 2.0\n",
      "#\n"
     ]
    },
    {
     "name": "stderr",
     "output_type": "stream",
     "text": [
      "validation:  62%|\u001B[34m██████▏   \u001B[0m| 618/1000 [00:20<00:11, 33.15it/s]"
     ]
    },
    {
     "name": "stdout",
     "output_type": "stream",
     "text": [
      "pred: [0.67128533]\n",
      "true: 0.6\n",
      "#\n",
      "pred: [3.4517245]\n",
      "true: 3.2\n",
      "#\n",
      "pred: [3.7119446]\n",
      "true: 3.8\n",
      "#\n",
      "pred: [3.399354]\n",
      "true: 3.0\n",
      "#\n",
      "pred: [3.1577663]\n",
      "true: 3.4\n",
      "#\n",
      "pred: [1.5996739]\n",
      "true: 2.0\n",
      "#\n",
      "pred: [0.77986175]\n",
      "true: 1.0\n",
      "#\n",
      "pred: [3.3244498]\n",
      "true: 3.0\n",
      "#\n"
     ]
    },
    {
     "name": "stderr",
     "output_type": "stream",
     "text": [
      "validation:  63%|\u001B[34m██████▎   \u001B[0m| 626/1000 [00:21<00:11, 33.54it/s]"
     ]
    },
    {
     "name": "stdout",
     "output_type": "stream",
     "text": [
      "pred: [1.2284192]\n",
      "true: 1.2\n",
      "#\n",
      "pred: [3.0577526]\n",
      "true: 3.4\n",
      "#\n",
      "pred: [1.7654344]\n",
      "true: 1.8\n",
      "#\n",
      "pred: [3.426957]\n",
      "true: 3.8\n",
      "#\n",
      "pred: [2.6345947]\n",
      "true: 2.4\n",
      "#\n",
      "pred: [1.6300678]\n",
      "true: 1.6\n",
      "#\n",
      "pred: [0.8290061]\n",
      "true: 1.0\n",
      "#\n"
     ]
    },
    {
     "name": "stderr",
     "output_type": "stream",
     "text": [
      "validation:  63%|\u001B[34m██████▎   \u001B[0m| 630/1000 [00:21<00:10, 33.85it/s]"
     ]
    },
    {
     "name": "stdout",
     "output_type": "stream",
     "text": [
      "pred: [3.875813]\n",
      "true: 3.8\n",
      "#\n",
      "pred: [1.208253]\n",
      "true: 1.6\n",
      "#\n",
      "pred: [2.1558561]\n",
      "true: 2.2\n",
      "#\n",
      "pred: [3.4850366]\n",
      "true: 3.8\n",
      "#\n",
      "pred: [0.91439575]\n",
      "true: 1.4\n",
      "#\n",
      "pred: [1.6518848]\n",
      "true: 1.2\n",
      "#\n",
      "pred: [3.3935401]\n",
      "true: 3.6\n",
      "#\n"
     ]
    },
    {
     "name": "stderr",
     "output_type": "stream",
     "text": [
      "validation:  64%|\u001B[34m██████▍   \u001B[0m| 638/1000 [00:21<00:10, 34.02it/s]"
     ]
    },
    {
     "name": "stdout",
     "output_type": "stream",
     "text": [
      "pred: [2.871363]\n",
      "true: 2.6\n",
      "#\n",
      "pred: [3.2846017]\n",
      "true: 3.0\n",
      "#\n",
      "pred: [1.0777674]\n",
      "true: 1.6\n",
      "#\n",
      "pred: [2.526802]\n",
      "true: 2.4\n",
      "#\n",
      "pred: [1.5846258]\n",
      "true: 1.2\n",
      "#\n",
      "pred: [0.89206344]\n",
      "true: 1.0\n",
      "#\n",
      "pred: [3.194198]\n",
      "true: 3.2\n",
      "#\n",
      "pred: [1.1242691]\n",
      "true: 1.0\n",
      "#\n"
     ]
    },
    {
     "name": "stderr",
     "output_type": "stream",
     "text": [
      "validation:  65%|\u001B[34m██████▍   \u001B[0m| 646/1000 [00:21<00:10, 34.26it/s]"
     ]
    },
    {
     "name": "stdout",
     "output_type": "stream",
     "text": [
      "pred: [3.390007]\n",
      "true: 3.0\n",
      "#\n",
      "pred: [2.8260422]\n",
      "true: 2.6\n",
      "#\n",
      "pred: [3.913513]\n",
      "true: 3.8\n",
      "#\n",
      "pred: [3.05636]\n",
      "true: 3.2\n",
      "#\n",
      "pred: [3.3075402]\n",
      "true: 2.8\n",
      "#\n",
      "pred: [3.6963258]\n",
      "true: 3.8\n",
      "#\n",
      "pred: [2.0627482]\n",
      "true: 2.4\n",
      "#\n",
      "pred: [1.1427425]\n",
      "true: 1.4\n",
      "#\n"
     ]
    },
    {
     "name": "stderr",
     "output_type": "stream",
     "text": [
      "validation:  65%|\u001B[34m██████▌   \u001B[0m| 654/1000 [00:21<00:10, 34.17it/s]"
     ]
    },
    {
     "name": "stdout",
     "output_type": "stream",
     "text": [
      "pred: [0.9406836]\n",
      "true: 0.8\n",
      "#\n",
      "pred: [2.765982]\n",
      "true: 3.0\n",
      "#\n",
      "pred: [2.208694]\n",
      "true: 2.0\n",
      "#\n",
      "pred: [1.9249494]\n",
      "true: 1.8\n",
      "#\n",
      "pred: [1.5791712]\n",
      "true: 1.8\n",
      "#\n",
      "pred: [2.2239177]\n",
      "true: 1.4\n",
      "#\n",
      "pred: [3.189104]\n",
      "true: 2.4\n",
      "#\n"
     ]
    },
    {
     "name": "stderr",
     "output_type": "stream",
     "text": [
      "validation:  66%|\u001B[34m██████▌   \u001B[0m| 662/1000 [00:22<00:10, 33.52it/s]"
     ]
    },
    {
     "name": "stdout",
     "output_type": "stream",
     "text": [
      "pred: [2.9030845]\n",
      "true: 2.6\n",
      "#\n",
      "pred: [0.7755923]\n",
      "true: 0.6\n",
      "#\n",
      "pred: [0.6896704]\n",
      "true: 1.0\n",
      "#\n",
      "pred: [3.333496]\n",
      "true: 3.6\n",
      "#\n",
      "pred: [2.820925]\n",
      "true: 2.8\n",
      "#\n",
      "pred: [1.2038275]\n",
      "true: 1.4\n",
      "#\n",
      "pred: [2.065989]\n",
      "true: 2.0\n",
      "#\n",
      "pred: [0.7041399]\n",
      "true: 0.6\n",
      "#\n"
     ]
    },
    {
     "name": "stderr",
     "output_type": "stream",
     "text": [
      "validation:  67%|\u001B[34m██████▋   \u001B[0m| 670/1000 [00:22<00:09, 33.34it/s]"
     ]
    },
    {
     "name": "stdout",
     "output_type": "stream",
     "text": [
      "pred: [2.4986827]\n",
      "true: 2.6\n",
      "#\n",
      "pred: [1.0303307]\n",
      "true: 1.0\n",
      "#\n",
      "pred: [0.33774254]\n",
      "true: 0.0\n",
      "#\n",
      "pred: [1.1737883]\n",
      "true: 0.6\n",
      "#\n",
      "pred: [2.094095]\n",
      "true: 2.2\n",
      "#\n",
      "pred: [1.8442146]\n",
      "true: 1.8\n",
      "#\n",
      "pred: [0.16504475]\n",
      "true: 0.0\n",
      "#\n"
     ]
    },
    {
     "name": "stderr",
     "output_type": "stream",
     "text": [
      "validation:  68%|\u001B[34m██████▊   \u001B[0m| 678/1000 [00:22<00:09, 33.26it/s]"
     ]
    },
    {
     "name": "stdout",
     "output_type": "stream",
     "text": [
      "pred: [0.9177816]\n",
      "true: 1.0\n",
      "#\n",
      "pred: [1.3485473]\n",
      "true: 1.0\n",
      "#\n",
      "pred: [1.1398766]\n",
      "true: 1.2\n",
      "#\n",
      "pred: [0.550876]\n",
      "true: 0.8\n",
      "#\n",
      "pred: [2.7444358]\n",
      "true: 2.6\n",
      "#\n",
      "pred: [3.8174028]\n",
      "true: 3.6\n",
      "#\n",
      "pred: [1.7690935]\n",
      "true: 2.0\n",
      "#\n"
     ]
    },
    {
     "name": "stderr",
     "output_type": "stream",
     "text": [
      "validation:  68%|\u001B[34m██████▊   \u001B[0m| 682/1000 [00:22<00:09, 32.85it/s]"
     ]
    },
    {
     "name": "stdout",
     "output_type": "stream",
     "text": [
      "pred: [2.0654085]\n",
      "true: 1.8\n",
      "#\n",
      "pred: [2.580932]\n",
      "true: 2.6\n",
      "#\n",
      "pred: [1.3904663]\n",
      "true: 1.2\n",
      "#\n",
      "pred: [0.48408598]\n",
      "true: 0.6\n",
      "#\n",
      "pred: [1.5846002]\n",
      "true: 1.8\n",
      "#\n",
      "pred: [2.9966185]\n",
      "true: 2.6\n",
      "#\n",
      "pred: [3.4748433]\n",
      "true: 3.6\n",
      "#\n"
     ]
    },
    {
     "name": "stderr",
     "output_type": "stream",
     "text": [
      "validation:  69%|\u001B[34m██████▉   \u001B[0m| 690/1000 [00:22<00:09, 32.92it/s]"
     ]
    },
    {
     "name": "stdout",
     "output_type": "stream",
     "text": [
      "pred: [2.268348]\n",
      "true: 2.2\n",
      "#\n",
      "pred: [2.458225]\n",
      "true: 2.4\n",
      "#\n",
      "pred: [2.6017222]\n",
      "true: 2.8\n",
      "#\n",
      "pred: [0.4901153]\n",
      "true: 0.4\n",
      "#\n",
      "pred: [1.7066201]\n",
      "true: 2.2\n",
      "#\n",
      "pred: [0.79830086]\n",
      "true: 0.8\n",
      "#\n",
      "pred: [2.029183]\n",
      "true: 2.2\n",
      "#\n",
      "pred: [2.1102972]\n",
      "true: 2.2\n",
      "#\n"
     ]
    },
    {
     "name": "stderr",
     "output_type": "stream",
     "text": [
      "validation:  70%|\u001B[34m██████▉   \u001B[0m| 698/1000 [00:23<00:09, 33.08it/s]"
     ]
    },
    {
     "name": "stdout",
     "output_type": "stream",
     "text": [
      "pred: [1.8506455]\n",
      "true: 1.6\n",
      "#\n",
      "pred: [2.0608633]\n",
      "true: 2.4\n",
      "#\n",
      "pred: [2.647209]\n",
      "true: 2.6\n",
      "#\n",
      "pred: [1.9258394]\n",
      "true: 1.8\n",
      "#\n",
      "pred: [3.3414788]\n",
      "true: 3.0\n",
      "#\n",
      "pred: [1.4692135]\n",
      "true: 1.2\n",
      "#\n",
      "pred: [1.6788884]\n",
      "true: 1.8\n",
      "#\n",
      "pred: [3.2741702]\n",
      "true: 3.2\n",
      "#\n"
     ]
    },
    {
     "name": "stderr",
     "output_type": "stream",
     "text": [
      "validation:  71%|\u001B[34m███████   \u001B[0m| 706/1000 [00:23<00:08, 33.83it/s]"
     ]
    },
    {
     "name": "stdout",
     "output_type": "stream",
     "text": [
      "pred: [3.948517]\n",
      "true: 3.8\n",
      "#\n",
      "pred: [1.2947326]\n",
      "true: 1.2\n",
      "#\n",
      "pred: [1.8356647]\n",
      "true: 2.0\n",
      "#\n",
      "pred: [3.037797]\n",
      "true: 3.0\n",
      "#\n",
      "pred: [1.5329583]\n",
      "true: 1.4\n",
      "#\n",
      "pred: [0.6674689]\n",
      "true: 0.4\n",
      "#\n",
      "pred: [1.3995079]\n",
      "true: 1.6\n",
      "#\n",
      "pred: [0.2507723]\n",
      "true: 0.0\n",
      "#\n"
     ]
    },
    {
     "name": "stderr",
     "output_type": "stream",
     "text": [
      "validation:  71%|\u001B[34m███████▏  \u001B[0m| 714/1000 [00:23<00:08, 33.88it/s]"
     ]
    },
    {
     "name": "stdout",
     "output_type": "stream",
     "text": [
      "pred: [1.9712046]\n",
      "true: 1.8\n",
      "#\n",
      "pred: [1.0068015]\n",
      "true: 0.6\n",
      "#\n",
      "pred: [2.3222141]\n",
      "true: 2.6\n",
      "#\n",
      "pred: [2.5648746]\n",
      "true: 2.8\n",
      "#\n",
      "pred: [1.4282417]\n",
      "true: 1.2\n",
      "#\n",
      "pred: [1.130671]\n",
      "true: 1.0\n",
      "#\n",
      "pred: [1.4680363]\n",
      "true: 1.6\n",
      "#\n",
      "pred: [2.7427769]\n",
      "true: 2.4\n",
      "#\n"
     ]
    },
    {
     "name": "stderr",
     "output_type": "stream",
     "text": [
      "validation:  72%|\u001B[34m███████▏  \u001B[0m| 722/1000 [00:23<00:08, 33.96it/s]"
     ]
    },
    {
     "name": "stdout",
     "output_type": "stream",
     "text": [
      "pred: [1.0647978]\n",
      "true: 0.8\n",
      "#\n",
      "pred: [1.4568483]\n",
      "true: 1.6\n",
      "#\n",
      "pred: [2.9677455]\n",
      "true: 3.0\n",
      "#\n",
      "pred: [0.39233154]\n",
      "true: 0.2\n",
      "#\n",
      "pred: [3.302736]\n",
      "true: 3.0\n",
      "#\n",
      "pred: [0.9977456]\n",
      "true: 0.6\n",
      "#\n",
      "pred: [2.6449971]\n",
      "true: 2.8\n",
      "#\n",
      "pred: [1.5253438]\n",
      "true: 1.4\n",
      "#\n"
     ]
    },
    {
     "name": "stderr",
     "output_type": "stream",
     "text": [
      "validation:  73%|\u001B[34m███████▎  \u001B[0m| 731/1000 [00:24<00:07, 34.10it/s]"
     ]
    },
    {
     "name": "stdout",
     "output_type": "stream",
     "text": [
      "pred: [2.519179]\n",
      "true: 2.2\n",
      "#\n",
      "pred: [2.5824637]\n",
      "true: 2.2\n",
      "#\n",
      "pred: [2.9417107]\n",
      "true: 2.8\n",
      "#\n",
      "pred: [0.8591024]\n",
      "true: 1.0\n",
      "#\n",
      "pred: [3.9307272]\n",
      "true: 3.8\n",
      "#\n",
      "pred: [1.7999601]\n",
      "true: 1.6\n",
      "#\n",
      "pred: [0.32126027]\n",
      "true: 0.6\n",
      "#\n",
      "pred: [3.1791956]\n",
      "true: 3.4\n",
      "#\n"
     ]
    },
    {
     "name": "stderr",
     "output_type": "stream",
     "text": [
      "validation:  74%|\u001B[34m███████▍  \u001B[0m| 739/1000 [00:24<00:07, 34.18it/s]"
     ]
    },
    {
     "name": "stdout",
     "output_type": "stream",
     "text": [
      "pred: [1.6314602]\n",
      "true: 1.4\n",
      "#\n",
      "pred: [1.4450383]\n",
      "true: 1.4\n",
      "#\n",
      "pred: [1.7251934]\n",
      "true: 1.8\n",
      "#\n",
      "pred: [2.7791548]\n",
      "true: 3.0\n",
      "#\n",
      "pred: [1.1119354]\n",
      "true: 1.6\n",
      "#\n",
      "pred: [0.8906681]\n",
      "true: 0.6\n",
      "#\n",
      "pred: [0.77719676]\n",
      "true: 0.2\n",
      "#\n"
     ]
    },
    {
     "name": "stderr",
     "output_type": "stream",
     "text": [
      "validation:  75%|\u001B[34m███████▍  \u001B[0m| 747/1000 [00:24<00:07, 33.98it/s]"
     ]
    },
    {
     "name": "stdout",
     "output_type": "stream",
     "text": [
      "pred: [1.0617409]\n",
      "true: 0.6\n",
      "#\n",
      "pred: [0.65470046]\n",
      "true: 1.0\n",
      "#\n",
      "pred: [2.67967]\n",
      "true: 2.6\n",
      "#\n",
      "pred: [1.2116482]\n",
      "true: 1.0\n",
      "#\n",
      "pred: [1.7223455]\n",
      "true: 1.8\n",
      "#\n",
      "pred: [0.9195455]\n",
      "true: 0.8\n",
      "#\n",
      "pred: [1.7381533]\n",
      "true: 1.8\n",
      "#\n"
     ]
    },
    {
     "name": "stderr",
     "output_type": "stream",
     "text": [
      "validation:  75%|\u001B[34m███████▌  \u001B[0m| 752/1000 [00:24<00:06, 38.04it/s]"
     ]
    },
    {
     "name": "stdout",
     "output_type": "stream",
     "text": [
      "pred: [1.0525912]\n",
      "true: 1.0\n",
      "#\n",
      "pred: [0.49275842]\n",
      "true: 0.6\n",
      "#\n",
      "pred: [0.43390423]\n",
      "true: 1.2\n",
      "#\n",
      "pred: [3.3156815]\n",
      "true: 3.6\n",
      "#\n",
      "pred: [3.2851222]\n",
      "true: 2.8\n",
      "#\n",
      "pred: [0.8319643]\n",
      "true: 0.6\n",
      "#\n",
      "pred: [3.2514727]\n",
      "true: 3.8\n",
      "#\n",
      "pred: [2.0887146]\n",
      "true: 2.6\n",
      "#\n"
     ]
    },
    {
     "name": "stderr",
     "output_type": "stream",
     "text": [
      "validation:  76%|\u001B[34m███████▌  \u001B[0m| 760/1000 [00:24<00:07, 33.03it/s]"
     ]
    },
    {
     "name": "stdout",
     "output_type": "stream",
     "text": [
      "pred: [2.4429297]\n",
      "true: 2.6\n",
      "#\n",
      "pred: [1.7133771]\n",
      "true: 1.8\n",
      "#\n",
      "pred: [2.2925406]\n",
      "true: 2.4\n",
      "#\n",
      "pred: [2.4866047]\n",
      "true: 2.0\n",
      "#\n",
      "pred: [0.12836318]\n",
      "true: 0.0\n",
      "#\n",
      "pred: [0.73956335]\n",
      "true: 0.4\n",
      "#\n"
     ]
    },
    {
     "name": "stderr",
     "output_type": "stream",
     "text": [
      "validation:  76%|\u001B[34m███████▋  \u001B[0m| 764/1000 [00:25<00:07, 31.61it/s]"
     ]
    },
    {
     "name": "stdout",
     "output_type": "stream",
     "text": [
      "pred: [3.3947985]\n",
      "true: 3.2\n",
      "#\n",
      "pred: [3.5771294]\n",
      "true: 3.6\n",
      "#\n",
      "pred: [1.2577324]\n",
      "true: 1.4\n",
      "#\n",
      "pred: [1.6067263]\n",
      "true: 1.6\n",
      "#\n",
      "pred: [2.4175205]\n",
      "true: 2.4\n",
      "#\n",
      "pred: [1.5845546]\n",
      "true: 1.8\n",
      "#\n"
     ]
    },
    {
     "name": "stderr",
     "output_type": "stream",
     "text": [
      "validation:  77%|\u001B[34m███████▋  \u001B[0m| 772/1000 [00:25<00:07, 30.54it/s]"
     ]
    },
    {
     "name": "stdout",
     "output_type": "stream",
     "text": [
      "pred: [1.8436191]\n",
      "true: 2.0\n",
      "#\n",
      "pred: [3.021572]\n",
      "true: 3.0\n",
      "#\n",
      "pred: [3.272354]\n",
      "true: 4.0\n",
      "#\n",
      "pred: [1.6707404]\n",
      "true: 1.8\n",
      "#\n",
      "pred: [2.5522625]\n",
      "true: 2.8\n",
      "#\n",
      "pred: [3.1255267]\n",
      "true: 2.8\n",
      "#\n"
     ]
    },
    {
     "name": "stderr",
     "output_type": "stream",
     "text": [
      "validation:  78%|\u001B[34m███████▊  \u001B[0m| 776/1000 [00:25<00:07, 30.31it/s]"
     ]
    },
    {
     "name": "stdout",
     "output_type": "stream",
     "text": [
      "pred: [1.8830856]\n",
      "true: 1.8\n",
      "#\n",
      "pred: [1.7699627]\n",
      "true: 1.8\n",
      "#\n",
      "pred: [0.5656368]\n",
      "true: 0.4\n",
      "#\n",
      "pred: [0.26399493]\n",
      "true: 0.0\n",
      "#\n",
      "pred: [2.159773]\n",
      "true: 1.8\n",
      "#\n",
      "pred: [0.24524964]\n",
      "true: 0.2\n",
      "#\n"
     ]
    },
    {
     "name": "stderr",
     "output_type": "stream",
     "text": [
      "validation:  78%|\u001B[34m███████▊  \u001B[0m| 784/1000 [00:25<00:07, 29.95it/s]"
     ]
    },
    {
     "name": "stdout",
     "output_type": "stream",
     "text": [
      "pred: [0.5158145]\n",
      "true: 0.6\n",
      "#\n",
      "pred: [3.474676]\n",
      "true: 4.0\n",
      "#\n",
      "pred: [0.9251779]\n",
      "true: 1.0\n",
      "#\n",
      "pred: [1.5740086]\n",
      "true: 1.4\n",
      "#\n",
      "pred: [0.8603518]\n",
      "true: 0.6\n",
      "#\n",
      "pred: [3.297391]\n",
      "true: 3.4\n",
      "#\n",
      "pred: [1.1179166]\n",
      "true: 1.0\n",
      "#\n"
     ]
    },
    {
     "name": "stderr",
     "output_type": "stream",
     "text": [
      "validation:  79%|\u001B[34m███████▉  \u001B[0m| 791/1000 [00:26<00:07, 29.37it/s]"
     ]
    },
    {
     "name": "stdout",
     "output_type": "stream",
     "text": [
      "pred: [3.084476]\n",
      "true: 3.2\n",
      "#\n",
      "pred: [2.2054873]\n",
      "true: 2.2\n",
      "#\n",
      "pred: [1.6514435]\n",
      "true: 1.8\n",
      "#\n",
      "pred: [1.637585]\n",
      "true: 1.8\n",
      "#\n",
      "pred: [0.579427]\n",
      "true: 0.6\n",
      "#\n",
      "pred: [0.1416928]\n",
      "true: 0.0\n",
      "#\n",
      "pred: [3.8390262]\n",
      "true: 3.8\n",
      "#\n"
     ]
    },
    {
     "name": "stderr",
     "output_type": "stream",
     "text": [
      "validation:  80%|\u001B[34m███████▉  \u001B[0m| 798/1000 [00:26<00:06, 29.16it/s]"
     ]
    },
    {
     "name": "stdout",
     "output_type": "stream",
     "text": [
      "pred: [3.1351342]\n",
      "true: 3.2\n",
      "#\n",
      "pred: [1.6170249]\n",
      "true: 1.6\n",
      "#\n",
      "pred: [2.3412097]\n",
      "true: 2.2\n",
      "#\n",
      "pred: [3.3940961]\n",
      "true: 3.2\n",
      "#\n",
      "pred: [1.0027494]\n",
      "true: 1.6\n",
      "#\n",
      "pred: [1.0834606]\n",
      "true: 1.2\n",
      "#\n",
      "pred: [1.6751673]\n",
      "true: 1.2\n",
      "#\n"
     ]
    },
    {
     "name": "stderr",
     "output_type": "stream",
     "text": [
      "validation:  80%|\u001B[34m████████  \u001B[0m| 805/1000 [00:26<00:06, 29.48it/s]"
     ]
    },
    {
     "name": "stdout",
     "output_type": "stream",
     "text": [
      "pred: [0.51025015]\n",
      "true: 0.6\n",
      "#\n",
      "pred: [3.698094]\n",
      "true: 4.0\n",
      "#\n",
      "pred: [3.2052498]\n",
      "true: 3.0\n",
      "#\n",
      "pred: [1.7533782]\n",
      "true: 1.4\n",
      "#\n",
      "pred: [2.6050518]\n",
      "true: 2.6\n",
      "#\n",
      "pred: [1.5432163]\n",
      "true: 1.6\n",
      "#\n",
      "pred: [0.80395937]\n",
      "true: 0.8\n",
      "#\n"
     ]
    },
    {
     "name": "stderr",
     "output_type": "stream",
     "text": [
      "validation:  81%|\u001B[34m████████▏ \u001B[0m| 814/1000 [00:26<00:06, 29.35it/s]"
     ]
    },
    {
     "name": "stdout",
     "output_type": "stream",
     "text": [
      "pred: [0.64551544]\n",
      "true: 0.8\n",
      "#\n",
      "pred: [1.421924]\n",
      "true: 1.4\n",
      "#\n",
      "pred: [1.7787609]\n",
      "true: 1.6\n",
      "#\n",
      "pred: [0.6684676]\n",
      "true: 0.0\n",
      "#\n",
      "pred: [1.1905323]\n",
      "true: 1.8\n",
      "#\n",
      "pred: [1.2575309]\n",
      "true: 1.4\n",
      "#\n",
      "pred: [3.418177]\n",
      "true: 3.2\n",
      "#\n"
     ]
    },
    {
     "name": "stderr",
     "output_type": "stream",
     "text": [
      "validation:  82%|\u001B[34m████████▏ \u001B[0m| 820/1000 [00:27<00:06, 29.27it/s]"
     ]
    },
    {
     "name": "stdout",
     "output_type": "stream",
     "text": [
      "pred: [3.3036106]\n",
      "true: 2.8\n",
      "#\n",
      "pred: [1.1568494]\n",
      "true: 0.4\n",
      "#\n",
      "pred: [2.938405]\n",
      "true: 2.8\n",
      "#\n",
      "pred: [1.6784256]\n",
      "true: 1.4\n",
      "#\n",
      "pred: [3.9227328]\n",
      "true: 3.8\n",
      "#\n",
      "pred: [1.3779526]\n",
      "true: 1.8\n",
      "#\n",
      "pred: [2.5222445]\n",
      "true: 2.2\n",
      "#\n"
     ]
    },
    {
     "name": "stderr",
     "output_type": "stream",
     "text": [
      "validation:  83%|\u001B[34m████████▎ \u001B[0m| 826/1000 [00:27<00:05, 29.43it/s]"
     ]
    },
    {
     "name": "stdout",
     "output_type": "stream",
     "text": [
      "pred: [1.5279007]\n",
      "true: 1.4\n",
      "#\n",
      "pred: [2.3349016]\n",
      "true: 2.4\n",
      "#\n",
      "pred: [2.3871005]\n",
      "true: 2.2\n",
      "#\n",
      "pred: [1.5967723]\n",
      "true: 1.8\n",
      "#\n",
      "pred: [1.6694245]\n",
      "true: 1.8\n",
      "#\n",
      "pred: [1.0257161]\n",
      "true: 1.2\n",
      "#\n"
     ]
    },
    {
     "name": "stderr",
     "output_type": "stream",
     "text": [
      "validation:  83%|\u001B[34m████████▎ \u001B[0m| 832/1000 [00:27<00:05, 29.20it/s]"
     ]
    },
    {
     "name": "stdout",
     "output_type": "stream",
     "text": [
      "pred: [3.259156]\n",
      "true: 3.4\n",
      "#\n",
      "pred: [1.6601052]\n",
      "true: 1.2\n",
      "#\n",
      "pred: [3.1236694]\n",
      "true: 3.2\n",
      "#\n",
      "pred: [2.2912154]\n",
      "true: 2.2\n",
      "#\n",
      "pred: [2.9621649]\n",
      "true: 3.0\n",
      "#\n",
      "pred: [3.796271]\n",
      "true: 4.0\n",
      "#\n"
     ]
    },
    {
     "name": "stderr",
     "output_type": "stream",
     "text": [
      "validation:  84%|\u001B[34m████████▍ \u001B[0m| 839/1000 [00:27<00:05, 29.45it/s]"
     ]
    },
    {
     "name": "stdout",
     "output_type": "stream",
     "text": [
      "pred: [2.2440796]\n",
      "true: 2.2\n",
      "#\n",
      "pred: [2.4400585]\n",
      "true: 2.4\n",
      "#\n",
      "pred: [3.4965634]\n",
      "true: 3.4\n",
      "#\n",
      "pred: [2.352722]\n",
      "true: 1.8\n",
      "#\n",
      "pred: [3.9105008]\n",
      "true: 4.0\n",
      "#\n",
      "pred: [2.6949165]\n",
      "true: 2.6\n",
      "#\n",
      "pred: [2.591844]\n",
      "true: 2.4\n",
      "#\n"
     ]
    },
    {
     "name": "stderr",
     "output_type": "stream",
     "text": [
      "validation:  84%|\u001B[34m████████▍ \u001B[0m| 845/1000 [00:27<00:05, 29.40it/s]"
     ]
    },
    {
     "name": "stdout",
     "output_type": "stream",
     "text": [
      "pred: [2.7460299]\n",
      "true: 3.0\n",
      "#\n",
      "pred: [0.63454944]\n",
      "true: 0.6\n",
      "#\n",
      "pred: [3.1420069]\n",
      "true: 3.4\n",
      "#\n",
      "pred: [2.2953653]\n",
      "true: 2.4\n",
      "#\n",
      "pred: [1.6635222]\n",
      "true: 1.8\n",
      "#\n",
      "pred: [1.3625107]\n",
      "true: 1.4\n",
      "#\n",
      "pred: [3.258834]\n",
      "true: 3.4\n",
      "#\n"
     ]
    },
    {
     "name": "stderr",
     "output_type": "stream",
     "text": [
      "validation:  85%|\u001B[34m████████▌ \u001B[0m| 854/1000 [00:28<00:04, 29.56it/s]"
     ]
    },
    {
     "name": "stdout",
     "output_type": "stream",
     "text": [
      "pred: [1.6716899]\n",
      "true: 1.6\n",
      "#\n",
      "pred: [1.6271213]\n",
      "true: 1.8\n",
      "#\n",
      "pred: [2.9619153]\n",
      "true: 3.0\n",
      "#\n",
      "pred: [3.9189165]\n",
      "true: 3.8\n",
      "#\n",
      "pred: [1.7718778]\n",
      "true: 1.6\n",
      "#\n",
      "pred: [3.4111865]\n",
      "true: 3.8\n",
      "#\n",
      "pred: [3.3492544]\n",
      "true: 3.8\n",
      "#\n"
     ]
    },
    {
     "name": "stderr",
     "output_type": "stream",
     "text": [
      "validation:  86%|\u001B[34m████████▌ \u001B[0m| 860/1000 [00:28<00:04, 29.26it/s]"
     ]
    },
    {
     "name": "stdout",
     "output_type": "stream",
     "text": [
      "pred: [1.0219203]\n",
      "true: 0.6\n",
      "#\n",
      "pred: [0.8715725]\n",
      "true: 0.8\n",
      "#\n",
      "pred: [2.7047489]\n",
      "true: 2.8\n",
      "#\n",
      "pred: [2.2127674]\n",
      "true: 2.8\n",
      "#\n",
      "pred: [3.048197]\n",
      "true: 3.0\n",
      "#\n",
      "pred: [2.4283369]\n",
      "true: 2.2\n",
      "#\n"
     ]
    },
    {
     "name": "stderr",
     "output_type": "stream",
     "text": [
      "validation:  87%|\u001B[34m████████▋ \u001B[0m| 866/1000 [00:28<00:04, 29.05it/s]"
     ]
    },
    {
     "name": "stdout",
     "output_type": "stream",
     "text": [
      "pred: [0.23120043]\n",
      "true: 0.2\n",
      "#\n",
      "pred: [2.2873049]\n",
      "true: 2.2\n",
      "#\n",
      "pred: [0.9734891]\n",
      "true: 0.8\n",
      "#\n",
      "pred: [1.7962489]\n",
      "true: 1.4\n",
      "#\n",
      "pred: [1.474547]\n",
      "true: 1.2\n",
      "#\n",
      "pred: [1.5753617]\n",
      "true: 1.0\n",
      "#\n",
      "pred: [3.8776126]\n",
      "true: 3.8\n",
      "#\n"
     ]
    },
    {
     "name": "stderr",
     "output_type": "stream",
     "text": [
      "validation:  87%|\u001B[34m████████▋ \u001B[0m| 873/1000 [00:28<00:04, 29.33it/s]"
     ]
    },
    {
     "name": "stdout",
     "output_type": "stream",
     "text": [
      "pred: [1.6561326]\n",
      "true: 1.6\n",
      "#\n",
      "pred: [0.8371863]\n",
      "true: 0.8\n",
      "#\n",
      "pred: [3.1895857]\n",
      "true: 3.4\n",
      "#\n",
      "pred: [3.8765383]\n",
      "true: 4.0\n",
      "#\n",
      "pred: [1.135097]\n",
      "true: 1.2\n",
      "#\n",
      "pred: [0.13118376]\n",
      "true: 0.0\n",
      "#\n"
     ]
    },
    {
     "name": "stderr",
     "output_type": "stream",
     "text": [
      "validation:  88%|\u001B[34m████████▊ \u001B[0m| 879/1000 [00:29<00:04, 29.21it/s]"
     ]
    },
    {
     "name": "stdout",
     "output_type": "stream",
     "text": [
      "pred: [1.5197101]\n",
      "true: 1.8\n",
      "#\n",
      "pred: [2.5564206]\n",
      "true: 2.8\n",
      "#\n",
      "pred: [0.8053271]\n",
      "true: 0.2\n",
      "#\n",
      "pred: [3.3083403]\n",
      "true: 3.2\n",
      "#\n",
      "pred: [0.47191352]\n",
      "true: 0.6\n",
      "#\n",
      "pred: [2.505479]\n",
      "true: 2.0\n",
      "#\n",
      "pred: [1.6196858]\n",
      "true: 2.0\n",
      "#\n"
     ]
    },
    {
     "name": "stderr",
     "output_type": "stream",
     "text": [
      "validation:  88%|\u001B[34m████████▊ \u001B[0m| 885/1000 [00:29<00:03, 29.42it/s]"
     ]
    },
    {
     "name": "stdout",
     "output_type": "stream",
     "text": [
      "pred: [0.19603458]\n",
      "true: 0.4\n",
      "#\n",
      "pred: [1.2909049]\n",
      "true: 1.0\n",
      "#\n",
      "pred: [0.5065717]\n",
      "true: 0.8\n",
      "#\n",
      "pred: [2.6926608]\n",
      "true: 2.6\n",
      "#\n",
      "pred: [2.6092565]\n",
      "true: 2.4\n",
      "#\n",
      "pred: [2.187206]\n",
      "true: 2.4\n",
      "#\n"
     ]
    },
    {
     "name": "stderr",
     "output_type": "stream",
     "text": [
      "validation:  89%|\u001B[34m████████▉ \u001B[0m| 891/1000 [00:29<00:03, 29.08it/s]"
     ]
    },
    {
     "name": "stdout",
     "output_type": "stream",
     "text": [
      "pred: [3.8408587]\n",
      "true: 3.8\n",
      "#\n",
      "pred: [0.75239295]\n",
      "true: 0.8\n",
      "#\n",
      "pred: [3.449648]\n",
      "true: 3.2\n",
      "#\n",
      "pred: [1.7548883]\n",
      "true: 1.4\n",
      "#\n",
      "pred: [3.867235]\n",
      "true: 3.8\n",
      "#\n",
      "pred: [3.2491868]\n",
      "true: 3.0\n",
      "#\n",
      "pred: [3.1268046]\n",
      "true: 3.2\n",
      "#\n"
     ]
    },
    {
     "name": "stderr",
     "output_type": "stream",
     "text": [
      "validation:  90%|\u001B[34m████████▉ \u001B[0m| 897/1000 [00:29<00:03, 29.34it/s]"
     ]
    },
    {
     "name": "stdout",
     "output_type": "stream",
     "text": [
      "pred: [3.9366553]\n",
      "true: 3.8\n",
      "#\n",
      "pred: [2.7339542]\n",
      "true: 2.2\n",
      "#\n",
      "pred: [1.2422491]\n",
      "true: 0.8\n",
      "#\n",
      "pred: [1.733575]\n",
      "true: 1.4\n",
      "#\n",
      "pred: [1.5218338]\n",
      "true: 1.4\n",
      "#\n",
      "pred: [2.6606686]\n",
      "true: 3.0\n",
      "#\n"
     ]
    },
    {
     "name": "stderr",
     "output_type": "stream",
     "text": [
      "validation:  91%|\u001B[34m█████████ \u001B[0m| 906/1000 [00:29<00:03, 29.32it/s]"
     ]
    },
    {
     "name": "stdout",
     "output_type": "stream",
     "text": [
      "pred: [2.9396126]\n",
      "true: 3.2\n",
      "#\n",
      "pred: [3.4909337]\n",
      "true: 3.0\n",
      "#\n",
      "pred: [0.6709408]\n",
      "true: 0.6\n",
      "#\n",
      "pred: [3.7162423]\n",
      "true: 3.4\n",
      "#\n",
      "pred: [1.0376966]\n",
      "true: 1.0\n",
      "#\n",
      "pred: [0.9519917]\n",
      "true: 1.2\n",
      "#\n",
      "pred: [3.7406425]\n",
      "true: 3.8\n",
      "#\n"
     ]
    },
    {
     "name": "stderr",
     "output_type": "stream",
     "text": [
      "validation:  91%|\u001B[34m█████████ \u001B[0m| 909/1000 [00:30<00:03, 29.14it/s]"
     ]
    },
    {
     "name": "stdout",
     "output_type": "stream",
     "text": [
      "pred: [1.7598481]\n",
      "true: 1.8\n",
      "#\n",
      "pred: [1.7059685]\n",
      "true: 1.8\n",
      "#\n",
      "pred: [2.8142533]\n",
      "true: 2.8\n",
      "#\n",
      "pred: [3.6683245]\n",
      "true: 3.6\n",
      "#\n",
      "pred: [1.0527188]\n",
      "true: 1.0\n",
      "#\n",
      "pred: [1.1527822]\n",
      "true: 0.8\n",
      "#\n"
     ]
    },
    {
     "name": "stderr",
     "output_type": "stream",
     "text": [
      "validation:  92%|\u001B[34m█████████▏\u001B[0m| 916/1000 [00:30<00:02, 29.50it/s]"
     ]
    },
    {
     "name": "stdout",
     "output_type": "stream",
     "text": [
      "pred: [1.5803579]\n",
      "true: 1.4\n",
      "#\n",
      "pred: [2.582389]\n",
      "true: 2.4\n",
      "#\n",
      "pred: [3.9226203]\n",
      "true: 4.0\n",
      "#\n",
      "pred: [2.0056856]\n",
      "true: 2.0\n",
      "#\n",
      "pred: [3.232818]\n",
      "true: 3.0\n",
      "#\n",
      "pred: [1.7615474]\n",
      "true: 1.6\n",
      "#\n",
      "pred: [2.4840941]\n",
      "true: 2.6\n",
      "#\n"
     ]
    },
    {
     "name": "stderr",
     "output_type": "stream",
     "text": [
      "validation:  93%|\u001B[34m█████████▎\u001B[0m| 926/1000 [00:30<00:02, 29.46it/s]"
     ]
    },
    {
     "name": "stdout",
     "output_type": "stream",
     "text": [
      "pred: [3.9328012]\n",
      "true: 3.6\n",
      "#\n",
      "pred: [3.7813148]\n",
      "true: 3.8\n",
      "#\n",
      "pred: [2.1465335]\n",
      "true: 2.0\n",
      "#\n",
      "pred: [2.4271111]\n",
      "true: 2.0\n",
      "#\n",
      "pred: [1.738295]\n",
      "true: 1.8\n",
      "#\n",
      "pred: [2.7634997]\n",
      "true: 3.0\n",
      "#\n",
      "pred: [1.4083095]\n",
      "true: 1.8\n",
      "#\n"
     ]
    },
    {
     "name": "stderr",
     "output_type": "stream",
     "text": [
      "validation:  93%|\u001B[34m█████████▎\u001B[0m| 932/1000 [00:30<00:02, 29.40it/s]"
     ]
    },
    {
     "name": "stdout",
     "output_type": "stream",
     "text": [
      "pred: [2.5799804]\n",
      "true: 2.4\n",
      "#\n",
      "pred: [0.21148567]\n",
      "true: 0.0\n",
      "#\n",
      "pred: [3.087816]\n",
      "true: 3.2\n",
      "#\n",
      "pred: [0.51071835]\n",
      "true: 0.4\n",
      "#\n",
      "pred: [3.5669687]\n",
      "true: 3.6\n",
      "#\n",
      "pred: [1.3097806]\n",
      "true: 1.2\n",
      "#\n",
      "pred: [3.1005454]\n",
      "true: 3.0\n",
      "#\n"
     ]
    },
    {
     "name": "stderr",
     "output_type": "stream",
     "text": [
      "validation:  94%|\u001B[34m█████████▍\u001B[0m| 938/1000 [00:31<00:02, 28.80it/s]"
     ]
    },
    {
     "name": "stdout",
     "output_type": "stream",
     "text": [
      "pred: [1.6077023]\n",
      "true: 1.6\n",
      "#\n",
      "pred: [3.77665]\n",
      "true: 4.0\n",
      "#\n",
      "pred: [2.55341]\n",
      "true: 2.4\n",
      "#\n",
      "pred: [1.5522041]\n",
      "true: 1.2\n",
      "#\n",
      "pred: [2.787026]\n",
      "true: 3.0\n",
      "#\n",
      "pred: [2.9511032]\n",
      "true: 2.8\n",
      "#\n"
     ]
    },
    {
     "name": "stderr",
     "output_type": "stream",
     "text": [
      "validation:  94%|\u001B[34m█████████▍\u001B[0m| 945/1000 [00:31<00:01, 29.03it/s]"
     ]
    },
    {
     "name": "stdout",
     "output_type": "stream",
     "text": [
      "pred: [0.38088483]\n",
      "true: 0.2\n",
      "#\n",
      "pred: [2.0028763]\n",
      "true: 1.8\n",
      "#\n",
      "pred: [2.9109416]\n",
      "true: 3.0\n",
      "#\n",
      "pred: [3.9395735]\n",
      "true: 3.8\n",
      "#\n",
      "pred: [0.25650176]\n",
      "true: 0.0\n",
      "#\n",
      "pred: [2.4311068]\n",
      "true: 2.0\n",
      "#\n"
     ]
    },
    {
     "name": "stderr",
     "output_type": "stream",
     "text": [
      "validation:  95%|\u001B[34m█████████▌\u001B[0m| 951/1000 [00:31<00:01, 29.16it/s]"
     ]
    },
    {
     "name": "stdout",
     "output_type": "stream",
     "text": [
      "pred: [1.7099508]\n",
      "true: 1.6\n",
      "#\n",
      "pred: [0.98009205]\n",
      "true: 1.6\n",
      "#\n",
      "pred: [0.6494264]\n",
      "true: 1.0\n",
      "#\n",
      "pred: [3.2546284]\n",
      "true: 3.0\n",
      "#\n",
      "pred: [2.1687384]\n",
      "true: 2.2\n",
      "#\n",
      "pred: [2.6967475]\n",
      "true: 2.6\n",
      "#\n",
      "pred: [3.3289518]\n",
      "true: 3.2\n",
      "#\n"
     ]
    },
    {
     "name": "stderr",
     "output_type": "stream",
     "text": [
      "validation:  96%|\u001B[34m█████████▌\u001B[0m| 957/1000 [00:31<00:01, 29.16it/s]"
     ]
    },
    {
     "name": "stdout",
     "output_type": "stream",
     "text": [
      "pred: [1.5496547]\n",
      "true: 1.4\n",
      "#\n",
      "pred: [0.6380981]\n",
      "true: 1.2\n",
      "#\n",
      "pred: [1.1416755]\n",
      "true: 1.4\n",
      "#\n",
      "pred: [1.1384363]\n",
      "true: 1.0\n",
      "#\n",
      "pred: [1.905466]\n",
      "true: 1.4\n",
      "#\n",
      "pred: [3.4808881]\n",
      "true: 3.8\n",
      "#\n"
     ]
    },
    {
     "name": "stderr",
     "output_type": "stream",
     "text": [
      "validation:  96%|\u001B[34m█████████▋\u001B[0m| 963/1000 [00:31<00:01, 29.18it/s]"
     ]
    },
    {
     "name": "stdout",
     "output_type": "stream",
     "text": [
      "pred: [2.1728563]\n",
      "true: 2.2\n",
      "#\n",
      "pred: [2.9142287]\n",
      "true: 3.0\n",
      "#\n",
      "pred: [3.6728683]\n",
      "true: 4.0\n",
      "#\n",
      "pred: [3.7265005]\n",
      "true: 4.0\n",
      "#\n",
      "pred: [0.6551905]\n",
      "true: 0.6\n",
      "#\n",
      "pred: [2.7659214]\n",
      "true: 2.8\n",
      "#\n",
      "pred: [3.3577328]\n",
      "true: 3.4\n",
      "#\n"
     ]
    },
    {
     "name": "stderr",
     "output_type": "stream",
     "text": [
      "validation:  97%|\u001B[34m█████████▋\u001B[0m| 969/1000 [00:32<00:01, 29.16it/s]"
     ]
    },
    {
     "name": "stdout",
     "output_type": "stream",
     "text": [
      "pred: [1.0297433]\n",
      "true: 0.8\n",
      "#\n",
      "pred: [2.9479377]\n",
      "true: 2.6\n",
      "#\n",
      "pred: [0.1807105]\n",
      "true: 0.0\n",
      "#\n",
      "pred: [0.53803915]\n",
      "true: 0.6\n",
      "#\n",
      "pred: [0.88177514]\n",
      "true: 0.6\n",
      "#\n",
      "pred: [1.5092806]\n",
      "true: 1.6\n",
      "#\n"
     ]
    },
    {
     "name": "stderr",
     "output_type": "stream",
     "text": [
      "validation:  98%|\u001B[34m█████████▊\u001B[0m| 975/1000 [00:32<00:00, 29.24it/s]"
     ]
    },
    {
     "name": "stdout",
     "output_type": "stream",
     "text": [
      "pred: [3.1927361]\n",
      "true: 3.0\n",
      "#\n",
      "pred: [1.9834366]\n",
      "true: 1.8\n",
      "#\n",
      "pred: [3.0347743]\n",
      "true: 3.4\n",
      "#\n",
      "pred: [2.6270344]\n",
      "true: 2.8\n",
      "#\n",
      "pred: [2.115133]\n",
      "true: 1.8\n",
      "#\n",
      "pred: [1.114293]\n",
      "true: 1.2\n",
      "#\n"
     ]
    },
    {
     "name": "stderr",
     "output_type": "stream",
     "text": [
      "validation:  98%|\u001B[34m█████████▊\u001B[0m| 982/1000 [00:32<00:00, 29.58it/s]"
     ]
    },
    {
     "name": "stdout",
     "output_type": "stream",
     "text": [
      "pred: [1.4957383]\n",
      "true: 2.0\n",
      "#\n",
      "pred: [2.5057065]\n",
      "true: 2.4\n",
      "#\n",
      "pred: [2.3004122]\n",
      "true: 2.4\n",
      "#\n",
      "pred: [0.84951043]\n",
      "true: 0.8\n",
      "#\n",
      "pred: [3.7548928]\n",
      "true: 4.0\n",
      "#\n",
      "pred: [2.1168368]\n",
      "true: 2.0\n",
      "#\n"
     ]
    },
    {
     "name": "stderr",
     "output_type": "stream",
     "text": [
      "validation:  99%|\u001B[34m█████████▉\u001B[0m| 988/1000 [00:32<00:00, 29.32it/s]"
     ]
    },
    {
     "name": "stdout",
     "output_type": "stream",
     "text": [
      "pred: [1.1584159]\n",
      "true: 0.8\n",
      "#\n",
      "pred: [2.7112718]\n",
      "true: 2.4\n",
      "#\n",
      "pred: [1.7836041]\n",
      "true: 1.8\n",
      "#\n",
      "pred: [0.8122939]\n",
      "true: 1.0\n",
      "#\n",
      "pred: [1.8009499]\n",
      "true: 1.4\n",
      "#\n",
      "pred: [2.8439624]\n",
      "true: 2.4\n",
      "#\n",
      "pred: [0.586433]\n",
      "true: 0.6\n",
      "#\n"
     ]
    },
    {
     "name": "stderr",
     "output_type": "stream",
     "text": [
      "validation:  99%|\u001B[34m█████████▉\u001B[0m| 994/1000 [00:32<00:00, 29.17it/s]"
     ]
    },
    {
     "name": "stdout",
     "output_type": "stream",
     "text": [
      "pred: [1.5808148]\n",
      "true: 1.4\n",
      "#\n",
      "pred: [0.8507695]\n",
      "true: 0.6\n",
      "#\n",
      "pred: [1.6295156]\n",
      "true: 0.8\n",
      "#\n",
      "pred: [3.4699]\n",
      "true: 3.4\n",
      "#\n",
      "pred: [2.6983256]\n",
      "true: 2.4\n",
      "#\n",
      "pred: [2.833794]\n",
      "true: 2.6\n",
      "#\n"
     ]
    },
    {
     "name": "stderr",
     "output_type": "stream",
     "text": [
      "validation: 100%|\u001B[34m██████████\u001B[0m| 1000/1000 [00:33<00:00, 30.13it/s, plcc=0.971, srocc=0.971, krocc=0.868, overall=2.81, std=0.255]"
     ]
    },
    {
     "name": "stdout",
     "output_type": "stream",
     "text": [
      "pred: [2.25232]\n",
      "true: 2.2\n",
      "#\n",
      "pred: [3.2210615]\n",
      "true: 3.8\n",
      "#\n",
      "pred: [1.2231435]\n",
      "true: 1.2\n",
      "#\n",
      "pred: [1.6189923]\n",
      "true: 1.8\n",
      "#\n"
     ]
    },
    {
     "name": "stderr",
     "output_type": "stream",
     "text": [
      "\n"
     ]
    },
    {
     "data": {
      "text/plain": "56"
     },
     "execution_count": 3,
     "metadata": {},
     "output_type": "execute_result"
    }
   ],
   "source": [
    "torch.cuda.set_device(1)\n",
    "\n",
    "configs = {\n",
    "    'pretrain': 'None',\n",
    "    'img_size': 512,\n",
    "    'model': 'Resnet18',\n",
    "    'epochs': 100,\n",
    "    'batch_size': 32,\n",
    "    'weight_decay': 1e-3,\n",
    "    'lr': 1e-4,\n",
    "    'min_lr': 0.000006463,\n",
    "    'RandomHorizontalFlip': True,\n",
    "    'RandomVerticalFlip': True,\n",
    "    'RandomRotation': True,\n",
    "    'ZoomIn': False,\n",
    "    'ZoomOut': False,\n",
    "    'use_mix': False,\n",
    "    'use_avg': False,\n",
    "    'XShift': False,\n",
    "    'YShift': False,\n",
    "    'RandomShear': False,\n",
    "    'max_shear': 30,  # value in degrees\n",
    "    'max_shift': 0.5,\n",
    "    'rotation_angle': 3,\n",
    "    'zoomin_factor': 0.95,\n",
    "    'zoomout_factor': 0.05,\n",
    "}\n",
    "\n",
    "imgs_list, label_list = create_datalists()\n",
    "\n",
    "test_dataset, _ = create_datasets(imgs_list, label_list, configs, final_train=True,\n",
    "                                  patients_out=False, patient_ids_out=[1, 2, 3])\n",
    "print(len(test_dataset))\n",
    "\n",
    "model = get_model({'model': 'ED_CNN', 'pretrain': 'None'})\n",
    "model.load_state_dict(torch.load(osp.join(osp.dirname(output.__file__), 'ED_CNN_epoch_174_alldata.pth'), map_location=\"cpu\"), strict=True)\n",
    "model = model.cuda()\n",
    "\n",
    "bad_pred_indices = valid(model, test_dataset, 0, 0, 0, False, loss_threshold=0.5)\n",
    "len(bad_pred_indices)"
   ],
   "metadata": {
    "collapsed": false
   }
  },
  {
   "cell_type": "code",
   "execution_count": 4,
   "outputs": [
    {
     "data": {
      "text/plain": "<Figure size 640x480 with 1 Axes>",
      "image/png": "[encoded data removed]"
     },
     "metadata": {},
     "output_type": "display_data"
    },
    {
     "data": {
      "text/plain": "<Figure size 640x480 with 1 Axes>",
      "image/png": "[encoded data removed]"
     },
     "metadata": {},
     "output_type": "display_data"
    },
    {
     "data": {
      "text/plain": "<Figure size 640x480 with 1 Axes>",
      "image/png": "[encoded data removed]"
     },
     "metadata": {},
     "output_type": "display_data"
    },
    {
     "data": {
      "text/plain": "<Figure size 640x480 with 1 Axes>",
      "image/png": "[encoded data removed]"
     },
     "metadata": {},
     "output_type": "display_data"
    }
   ],
   "source": [
    "patient_ids = np.loadtxt(osp.join(osp.dirname(analysis.__file__), 'labels.txt'))\n",
    "per_patient_worst = []\n",
    "per_patient_worst_labels = []\n",
    "\n",
    "for p in range(4):\n",
    "    patient_ids_out = [p]\n",
    "    patient_indices = [i for i, x in enumerate(patient_ids) if x in patient_ids_out]\n",
    "    #\n",
    "    # plot_dist(labels)\n",
    "    per_patient_worst_indices = [i for i in bad_pred_indices if i in patient_indices]\n",
    "    per_patient_worst.append(per_patient_worst_indices)\n",
    "\n",
    "    labels = [label_list[i] for i in per_patient_worst_indices]\n",
    "    per_patient_worst_labels.append(labels)\n",
    "    plot_dist(labels)"
   ],
   "metadata": {
    "collapsed": false
   }
  },
  {
   "cell_type": "code",
   "execution_count": 2,
   "outputs": [
    {
     "name": "stdout",
     "output_type": "stream",
     "text": [
      "1000\n"
     ]
    },
    {
     "name": "stderr",
     "output_type": "stream",
     "text": [
      "C:\\ProgramData\\Anaconda3\\envs\\CTImageQuality\\lib\\site-packages\\torchvision\\models\\_utils.py:208: UserWarning: The parameter 'pretrained' is deprecated since 0.13 and may be removed in the future, please use 'weights' instead.\n",
      "  warnings.warn(\n",
      "C:\\ProgramData\\Anaconda3\\envs\\CTImageQuality\\lib\\site-packages\\torchvision\\models\\_utils.py:223: UserWarning: Arguments other than a weight enum or `None` for 'weights' are deprecated since 0.13 and may be removed in the future. The current behavior is equivalent to passing `weights=DenseNet121_Weights.IMAGENET1K_V1`. You can also use `weights=DenseNet121_Weights.DEFAULT` to get the most up-to-date weights.\n",
      "  warnings.warn(msg)\n",
      "validation:   0%|\u001B[34m          \u001B[0m| 5/1000 [00:00<00:59, 16.84it/s]"
     ]
    },
    {
     "name": "stdout",
     "output_type": "stream",
     "text": [
      "diff: -0.0441041\n",
      "#\n",
      "diff: -0.10304296\n",
      "#\n",
      "diff: 0.1173439\n",
      "#\n",
      "diff: 0.22357798\n",
      "#\n",
      "diff: -0.104851365\n",
      "#\n",
      "diff: 0.377214\n",
      "#\n",
      "diff: -0.35829383\n",
      "#\n"
     ]
    },
    {
     "name": "stderr",
     "output_type": "stream",
     "text": [
      "validation:   1%|\u001B[34m▏         \u001B[0m| 13/1000 [00:00<00:34, 28.21it/s]"
     ]
    },
    {
     "name": "stdout",
     "output_type": "stream",
     "text": [
      "diff: -0.22935104\n",
      "#\n",
      "diff: 0.14187151\n",
      "#\n",
      "diff: 0.036791205\n",
      "#\n",
      "diff: -0.112130165\n",
      "#\n",
      "diff: 0.06034589\n",
      "#\n",
      "diff: 0.21767062\n",
      "#\n",
      "diff: 0.1642313\n",
      "#\n"
     ]
    },
    {
     "name": "stderr",
     "output_type": "stream",
     "text": [
      "validation:   2%|\u001B[34m▏         \u001B[0m| 21/1000 [00:00<00:31, 30.88it/s]"
     ]
    },
    {
     "name": "stdout",
     "output_type": "stream",
     "text": [
      "diff: 0.11525929\n",
      "#\n",
      "diff: -0.19293809\n",
      "#\n",
      "diff: 0.22968197\n",
      "#\n",
      "diff: -0.17280301\n",
      "#\n",
      "diff: -0.038872123\n",
      "#\n",
      "diff: -0.31235075\n",
      "#\n",
      "diff: -0.1975832\n",
      "#\n"
     ]
    },
    {
     "name": "stderr",
     "output_type": "stream",
     "text": [
      "validation:   2%|\u001B[34m▎         \u001B[0m| 25/1000 [00:00<00:31, 31.25it/s]"
     ]
    },
    {
     "name": "stdout",
     "output_type": "stream",
     "text": [
      "diff: -0.024157822\n",
      "#\n",
      "diff: -0.070972204\n",
      "#\n",
      "diff: 0.10768485\n",
      "#\n",
      "diff: -0.19286686\n",
      "#\n",
      "diff: -0.15751076\n",
      "#\n",
      "diff: -0.43975675\n",
      "#\n",
      "diff: 0.093245745\n",
      "#\n"
     ]
    },
    {
     "name": "stderr",
     "output_type": "stream",
     "text": [
      "validation:   3%|\u001B[34m▎         \u001B[0m| 33/1000 [00:01<00:29, 32.51it/s]"
     ]
    },
    {
     "name": "stdout",
     "output_type": "stream",
     "text": [
      "diff: 0.23133183\n",
      "#\n",
      "diff: -0.278244\n",
      "#\n",
      "diff: 0.11022377\n",
      "#\n",
      "diff: 0.015224338\n",
      "#\n",
      "diff: -0.16881144\n",
      "#\n",
      "diff: -0.02090466\n",
      "#\n",
      "diff: -0.5539882\n",
      "1\n",
      "#\n"
     ]
    },
    {
     "name": "stderr",
     "output_type": "stream",
     "text": [
      "validation:   4%|\u001B[34m▍         \u001B[0m| 41/1000 [00:01<00:28, 33.70it/s]"
     ]
    },
    {
     "name": "stdout",
     "output_type": "stream",
     "text": [
      "diff: -0.47799343\n",
      "#\n",
      "diff: -0.26108986\n",
      "#\n",
      "diff: -0.25200033\n",
      "#\n",
      "diff: 0.023380756\n",
      "#\n",
      "diff: -0.005961895\n",
      "#\n",
      "diff: -0.06910086\n",
      "#\n",
      "diff: -0.13103294\n",
      "#\n"
     ]
    },
    {
     "name": "stderr",
     "output_type": "stream",
     "text": [
      "validation:   5%|\u001B[34m▍         \u001B[0m| 49/1000 [00:01<00:27, 34.12it/s]"
     ]
    },
    {
     "name": "stdout",
     "output_type": "stream",
     "text": [
      "diff: 0.22698212\n",
      "#\n",
      "diff: -0.25108767\n",
      "#\n",
      "diff: 0.16209888\n",
      "#\n",
      "diff: 0.11438751\n",
      "#\n",
      "diff: 0.07960755\n",
      "#\n",
      "diff: 0.15835083\n",
      "#\n",
      "diff: 0.35795188\n",
      "#\n"
     ]
    },
    {
     "name": "stderr",
     "output_type": "stream",
     "text": [
      "validation:   5%|\u001B[34m▌         \u001B[0m| 53/1000 [00:01<00:28, 33.45it/s]"
     ]
    },
    {
     "name": "stdout",
     "output_type": "stream",
     "text": [
      "diff: 0.33141208\n",
      "#\n",
      "diff: 0.02113843\n",
      "#\n",
      "diff: 0.06702423\n",
      "#\n",
      "diff: -0.08264446\n",
      "#\n",
      "diff: 0.28232598\n",
      "#\n",
      "diff: 0.17129815\n",
      "#\n",
      "diff: 0.049126625\n",
      "#\n"
     ]
    },
    {
     "name": "stderr",
     "output_type": "stream",
     "text": [
      "validation:   6%|\u001B[34m▌         \u001B[0m| 61/1000 [00:01<00:27, 33.67it/s]"
     ]
    },
    {
     "name": "stdout",
     "output_type": "stream",
     "text": [
      "diff: -0.059481382\n",
      "#\n",
      "diff: -0.43109655\n",
      "#\n",
      "diff: 0.4679308\n",
      "#\n",
      "diff: -0.2016201\n",
      "#\n",
      "diff: 0.24377966\n",
      "#\n",
      "diff: 0.13069236\n",
      "#\n",
      "diff: -0.09490335\n",
      "#\n"
     ]
    },
    {
     "name": "stderr",
     "output_type": "stream",
     "text": [
      "validation:   7%|\u001B[34m▋         \u001B[0m| 69/1000 [00:02<00:27, 33.67it/s]"
     ]
    },
    {
     "name": "stdout",
     "output_type": "stream",
     "text": [
      "diff: 0.13825405\n",
      "#\n",
      "diff: 0.051390886\n",
      "#\n",
      "diff: 0.39309835\n",
      "#\n",
      "diff: -0.35395718\n",
      "#\n",
      "diff: -0.1782046\n",
      "#\n",
      "diff: -0.105865955\n",
      "#\n",
      "diff: -0.066496134\n",
      "#\n"
     ]
    },
    {
     "name": "stderr",
     "output_type": "stream",
     "text": [
      "validation:   8%|\u001B[34m▊         \u001B[0m| 77/1000 [00:02<00:26, 35.09it/s]"
     ]
    },
    {
     "name": "stdout",
     "output_type": "stream",
     "text": [
      "diff: 0.052907944\n",
      "#\n",
      "diff: 0.1824615\n",
      "#\n",
      "diff: -0.25941944\n",
      "#\n",
      "diff: 0.38242856\n",
      "#\n",
      "diff: 0.20731711\n",
      "#\n",
      "diff: 0.4683312\n",
      "#\n",
      "diff: 0.16595197\n",
      "#\n"
     ]
    },
    {
     "name": "stderr",
     "output_type": "stream",
     "text": [
      "validation:   8%|\u001B[34m▊         \u001B[0m| 81/1000 [00:02<00:26, 34.10it/s]"
     ]
    },
    {
     "name": "stdout",
     "output_type": "stream",
     "text": [
      "diff: 0.23261166\n",
      "#\n",
      "diff: -0.24443293\n",
      "#\n",
      "diff: -0.18635845\n",
      "#\n",
      "diff: 0.103762835\n",
      "#\n",
      "diff: 0.118677005\n",
      "#\n",
      "diff: -0.16527367\n",
      "#\n",
      "diff: 0.34277594\n",
      "#\n"
     ]
    },
    {
     "name": "stderr",
     "output_type": "stream",
     "text": [
      "validation:   9%|\u001B[34m▉         \u001B[0m| 89/1000 [00:02<00:26, 33.91it/s]"
     ]
    },
    {
     "name": "stdout",
     "output_type": "stream",
     "text": [
      "diff: 0.1227901\n",
      "#\n",
      "diff: -0.09705567\n",
      "#\n",
      "diff: -0.0033240318\n",
      "#\n",
      "diff: -0.272058\n",
      "#\n",
      "diff: 0.0061371326\n",
      "#\n",
      "diff: -0.078710556\n",
      "#\n",
      "diff: -0.22183895\n",
      "#\n"
     ]
    },
    {
     "name": "stderr",
     "output_type": "stream",
     "text": [
      "validation:  10%|\u001B[34m▉         \u001B[0m| 97/1000 [00:03<00:26, 33.84it/s]"
     ]
    },
    {
     "name": "stdout",
     "output_type": "stream",
     "text": [
      "diff: -0.007204056\n",
      "#\n",
      "diff: 0.079450965\n",
      "#\n",
      "diff: -0.19449568\n",
      "#\n",
      "diff: 0.089457944\n",
      "#\n",
      "diff: 0.2698732\n",
      "#\n",
      "diff: -0.23384607\n",
      "#\n",
      "diff: -0.21091914\n",
      "#\n"
     ]
    },
    {
     "name": "stderr",
     "output_type": "stream",
     "text": [
      "validation:  10%|\u001B[34m█         \u001B[0m| 105/1000 [00:03<00:26, 33.76it/s]"
     ]
    },
    {
     "name": "stdout",
     "output_type": "stream",
     "text": [
      "diff: -0.29932332\n",
      "#\n",
      "diff: 0.2823615\n",
      "#\n",
      "diff: -0.332263\n",
      "#\n",
      "diff: -0.4716344\n",
      "#\n",
      "diff: -0.30026865\n",
      "#\n",
      "diff: 0.25720596\n",
      "#\n",
      "diff: -0.10824692\n",
      "#\n"
     ]
    },
    {
     "name": "stderr",
     "output_type": "stream",
     "text": [
      "validation:  11%|\u001B[34m█         \u001B[0m| 109/1000 [00:03<00:25, 34.56it/s]"
     ]
    },
    {
     "name": "stdout",
     "output_type": "stream",
     "text": [
      "diff: 0.039984226\n",
      "#\n",
      "diff: 0.0051631927\n",
      "#\n",
      "diff: 0.21985728\n",
      "#\n",
      "diff: -0.23815536\n",
      "#\n",
      "diff: 0.028523445\n",
      "#\n",
      "diff: 0.04783702\n",
      "#\n",
      "diff: -0.066046536\n",
      "#\n"
     ]
    },
    {
     "name": "stderr",
     "output_type": "stream",
     "text": [
      "validation:  12%|\u001B[34m█▏        \u001B[0m| 117/1000 [00:03<00:25, 34.48it/s]"
     ]
    },
    {
     "name": "stdout",
     "output_type": "stream",
     "text": [
      "diff: -0.55964005\n",
      "2\n",
      "#\n",
      "diff: -0.18743217\n",
      "#\n",
      "diff: -0.21419811\n",
      "#\n",
      "diff: 0.12391573\n",
      "#\n",
      "diff: 0.24982524\n",
      "#\n",
      "diff: 0.24343455\n",
      "#\n",
      "diff: 0.12484288\n",
      "#\n"
     ]
    },
    {
     "name": "stderr",
     "output_type": "stream",
     "text": [
      "validation:  12%|\u001B[34m█▎        \u001B[0m| 125/1000 [00:03<00:25, 34.10it/s]"
     ]
    },
    {
     "name": "stdout",
     "output_type": "stream",
     "text": [
      "diff: 0.026525617\n",
      "#\n",
      "diff: -0.53612936\n",
      "3\n",
      "#\n",
      "diff: -0.34309363\n",
      "#\n",
      "diff: -0.34485388\n",
      "#\n",
      "diff: -0.17235875\n",
      "#\n",
      "diff: -0.4214297\n",
      "#\n",
      "diff: -0.17143941\n",
      "#\n",
      "diff: 0.08748436\n",
      "#\n"
     ]
    },
    {
     "name": "stderr",
     "output_type": "stream",
     "text": [
      "validation:  13%|\u001B[34m█▎        \u001B[0m| 133/1000 [00:04<00:25, 34.06it/s]"
     ]
    },
    {
     "name": "stdout",
     "output_type": "stream",
     "text": [
      "diff: 0.1493704\n",
      "#\n",
      "diff: -0.018659353\n",
      "#\n",
      "diff: 0.12743855\n",
      "#\n",
      "diff: -0.091329694\n",
      "#\n",
      "diff: -0.0030007362\n",
      "#\n",
      "diff: -0.26013517\n",
      "#\n",
      "diff: 0.1971426\n",
      "#\n"
     ]
    },
    {
     "name": "stderr",
     "output_type": "stream",
     "text": [
      "validation:  14%|\u001B[34m█▍        \u001B[0m| 141/1000 [00:04<00:25, 33.90it/s]"
     ]
    },
    {
     "name": "stdout",
     "output_type": "stream",
     "text": [
      "diff: -0.057914734\n",
      "#\n",
      "diff: -0.3091634\n",
      "#\n",
      "diff: 0.049961567\n",
      "#\n",
      "diff: 0.28028435\n",
      "#\n",
      "diff: -0.38412392\n",
      "#\n",
      "diff: -0.19268721\n",
      "#\n",
      "diff: 0.055015087\n",
      "#\n"
     ]
    },
    {
     "name": "stderr",
     "output_type": "stream",
     "text": [
      "validation:  15%|\u001B[34m█▍        \u001B[0m| 149/1000 [00:04<00:24, 34.74it/s]"
     ]
    },
    {
     "name": "stdout",
     "output_type": "stream",
     "text": [
      "diff: -0.34293532\n",
      "#\n",
      "diff: 0.073037386\n",
      "#\n",
      "diff: -0.265126\n",
      "#\n",
      "diff: 0.15184128\n",
      "#\n",
      "diff: -0.25447285\n",
      "#\n",
      "diff: -0.22231603\n",
      "#\n",
      "diff: 0.19593954\n",
      "#\n",
      "diff: 0.10154101\n",
      "#\n"
     ]
    },
    {
     "name": "stderr",
     "output_type": "stream",
     "text": [
      "validation:  15%|\u001B[34m█▌        \u001B[0m| 153/1000 [00:04<00:25, 33.87it/s]"
     ]
    },
    {
     "name": "stdout",
     "output_type": "stream",
     "text": [
      "diff: -0.24005437\n",
      "#\n",
      "diff: 0.09706256\n",
      "#\n",
      "diff: 0.24000978\n",
      "#\n",
      "diff: 0.07440066\n",
      "#\n",
      "diff: -0.17260802\n",
      "#\n",
      "diff: 0.19155073\n",
      "#\n",
      "diff: -0.4883715\n",
      "#\n"
     ]
    },
    {
     "name": "stderr",
     "output_type": "stream",
     "text": [
      "validation:  16%|\u001B[34m█▌        \u001B[0m| 161/1000 [00:04<00:24, 33.80it/s]"
     ]
    },
    {
     "name": "stdout",
     "output_type": "stream",
     "text": [
      "diff: -0.3499565\n",
      "#\n",
      "diff: 0.031271696\n",
      "#\n",
      "diff: -0.3752296\n",
      "#\n",
      "diff: 0.15536833\n",
      "#\n",
      "diff: -0.15287635\n",
      "#\n",
      "diff: 0.1940136\n",
      "#\n",
      "diff: 0.1560638\n",
      "#\n"
     ]
    },
    {
     "name": "stderr",
     "output_type": "stream",
     "text": [
      "validation:  17%|\u001B[34m█▋        \u001B[0m| 169/1000 [00:05<00:24, 33.65it/s]"
     ]
    },
    {
     "name": "stdout",
     "output_type": "stream",
     "text": [
      "diff: -0.030735254\n",
      "#\n",
      "diff: 0.10852599\n",
      "#\n",
      "diff: 0.3591181\n",
      "#\n",
      "diff: -0.27352667\n",
      "#\n",
      "diff: -0.071648836\n",
      "#\n",
      "diff: 0.10922694\n",
      "#\n",
      "diff: 0.05189061\n",
      "#\n"
     ]
    },
    {
     "name": "stderr",
     "output_type": "stream",
     "text": [
      "validation:  18%|\u001B[34m█▊        \u001B[0m| 177/1000 [00:05<00:24, 33.69it/s]"
     ]
    },
    {
     "name": "stdout",
     "output_type": "stream",
     "text": [
      "diff: -0.010805488\n",
      "#\n",
      "diff: -0.5428586\n",
      "4\n",
      "#\n",
      "diff: -0.6401018\n",
      "5\n",
      "#\n",
      "diff: 0.15620875\n",
      "#\n",
      "diff: 0.20375204\n",
      "#\n",
      "diff: -0.10570049\n",
      "#\n",
      "diff: -0.07954693\n",
      "#\n"
     ]
    },
    {
     "name": "stderr",
     "output_type": "stream",
     "text": [
      "validation:  18%|\u001B[34m█▊        \u001B[0m| 181/1000 [00:05<00:23, 34.51it/s]"
     ]
    },
    {
     "name": "stdout",
     "output_type": "stream",
     "text": [
      "diff: 0.0873394\n",
      "#\n",
      "diff: -0.44146645\n",
      "#\n",
      "diff: 0.45865142\n",
      "#\n",
      "diff: -0.13604522\n",
      "#\n",
      "diff: 0.14532697\n",
      "#\n",
      "diff: -0.4669472\n",
      "#\n",
      "diff: 0.052075922\n",
      "#\n"
     ]
    },
    {
     "name": "stderr",
     "output_type": "stream",
     "text": [
      "validation:  19%|\u001B[34m█▉        \u001B[0m| 189/1000 [00:05<00:24, 33.70it/s]"
     ]
    },
    {
     "name": "stdout",
     "output_type": "stream",
     "text": [
      "diff: -0.35535496\n",
      "#\n",
      "diff: -0.3426708\n",
      "#\n",
      "diff: -0.050333023\n",
      "#\n",
      "diff: 0.106958054\n",
      "#\n",
      "diff: 0.10783167\n",
      "#\n",
      "diff: 0.24984789\n",
      "#\n",
      "diff: 0.103877544\n",
      "#\n",
      "diff: -0.2843771\n",
      "#\n"
     ]
    },
    {
     "name": "stderr",
     "output_type": "stream",
     "text": [
      "validation:  20%|\u001B[34m█▉        \u001B[0m| 197/1000 [00:05<00:23, 33.72it/s]"
     ]
    },
    {
     "name": "stdout",
     "output_type": "stream",
     "text": [
      "diff: 0.2964828\n",
      "#\n",
      "diff: 0.49836266\n",
      "#\n",
      "diff: -0.007511258\n",
      "#\n",
      "diff: 0.27269602\n",
      "#\n",
      "diff: -0.63193583\n",
      "6\n",
      "#\n",
      "diff: -0.07259059\n",
      "#\n",
      "diff: 0.23900235\n",
      "#\n"
     ]
    },
    {
     "name": "stderr",
     "output_type": "stream",
     "text": [
      "validation:  20%|\u001B[34m██        \u001B[0m| 205/1000 [00:06<00:23, 33.36it/s]"
     ]
    },
    {
     "name": "stdout",
     "output_type": "stream",
     "text": [
      "diff: -0.2252258\n",
      "#\n",
      "diff: 0.48750234\n",
      "#\n",
      "diff: -0.18933856\n",
      "#\n",
      "diff: -0.0439595\n",
      "#\n",
      "diff: -0.19695473\n",
      "#\n",
      "diff: -0.2714393\n",
      "#\n",
      "diff: 0.31515765\n",
      "#\n"
     ]
    },
    {
     "name": "stderr",
     "output_type": "stream",
     "text": [
      "validation:  21%|\u001B[34m██▏       \u001B[0m| 213/1000 [00:06<00:23, 33.55it/s]"
     ]
    },
    {
     "name": "stdout",
     "output_type": "stream",
     "text": [
      "diff: 0.071881294\n",
      "#\n",
      "diff: 0.21578026\n",
      "#\n",
      "diff: 0.077114224\n",
      "#\n",
      "diff: 0.12456596\n",
      "#\n",
      "diff: -0.05654204\n",
      "#\n",
      "diff: -0.117782235\n",
      "#\n",
      "diff: 0.028987944\n",
      "#\n",
      "diff: 0.028500855\n",
      "#\n"
     ]
    },
    {
     "name": "stderr",
     "output_type": "stream",
     "text": [
      "validation:  22%|\u001B[34m██▏       \u001B[0m| 221/1000 [00:06<00:22, 34.25it/s]"
     ]
    },
    {
     "name": "stdout",
     "output_type": "stream",
     "text": [
      "diff: -0.13321376\n",
      "#\n",
      "diff: 0.035441875\n",
      "#\n",
      "diff: -0.014877796\n",
      "#\n",
      "diff: -0.1990788\n",
      "#\n",
      "diff: -0.109372616\n",
      "#\n",
      "diff: 0.17954361\n",
      "#\n",
      "diff: 0.4899273\n",
      "#\n"
     ]
    },
    {
     "name": "stderr",
     "output_type": "stream",
     "text": [
      "validation:  22%|\u001B[34m██▎       \u001B[0m| 225/1000 [00:06<00:23, 33.63it/s]"
     ]
    },
    {
     "name": "stdout",
     "output_type": "stream",
     "text": [
      "diff: 0.14135218\n",
      "#\n",
      "diff: 0.042226553\n",
      "#\n",
      "diff: 0.19074404\n",
      "#\n",
      "diff: 0.68863344\n",
      "7\n",
      "#\n",
      "diff: 0.12581646\n",
      "#\n",
      "diff: -0.18806005\n",
      "#\n",
      "diff: 0.037885487\n",
      "#\n"
     ]
    },
    {
     "name": "stderr",
     "output_type": "stream",
     "text": [
      "validation:  23%|\u001B[34m██▎       \u001B[0m| 233/1000 [00:07<00:23, 33.21it/s]"
     ]
    },
    {
     "name": "stdout",
     "output_type": "stream",
     "text": [
      "diff: 0.0366199\n",
      "#\n",
      "diff: -0.35970163\n",
      "#\n",
      "diff: -0.077982426\n",
      "#\n",
      "diff: -0.16967356\n",
      "#\n",
      "diff: -0.12616754\n",
      "#\n",
      "diff: -0.033397198\n",
      "#\n",
      "diff: -0.28619742\n",
      "#\n"
     ]
    },
    {
     "name": "stderr",
     "output_type": "stream",
     "text": [
      "validation:  24%|\u001B[34m██▍       \u001B[0m| 241/1000 [00:07<00:21, 34.81it/s]"
     ]
    },
    {
     "name": "stdout",
     "output_type": "stream",
     "text": [
      "diff: 0.20124151\n",
      "#\n",
      "diff: -0.13048506\n",
      "#\n",
      "diff: -0.39558077\n",
      "#\n",
      "diff: -0.30131269\n",
      "#\n",
      "diff: -0.16562337\n",
      "#\n",
      "diff: 0.2829938\n",
      "#\n",
      "diff: 0.06330252\n",
      "#\n",
      "diff: -0.013588905\n",
      "#\n"
     ]
    },
    {
     "name": "stderr",
     "output_type": "stream",
     "text": [
      "validation:  25%|\u001B[34m██▍       \u001B[0m| 249/1000 [00:07<00:22, 33.33it/s]"
     ]
    },
    {
     "name": "stdout",
     "output_type": "stream",
     "text": [
      "diff: 0.3861016\n",
      "#\n",
      "diff: -0.08992791\n",
      "#\n",
      "diff: -0.6393664\n",
      "8\n",
      "#\n",
      "diff: 0.12913561\n",
      "#\n",
      "diff: -0.6880238\n",
      "9\n",
      "#\n",
      "diff: 0.44058752\n",
      "#\n",
      "diff: 0.10097611\n",
      "#\n"
     ]
    },
    {
     "name": "stderr",
     "output_type": "stream",
     "text": [
      "validation:  26%|\u001B[34m██▌       \u001B[0m| 257/1000 [00:07<00:21, 34.91it/s]"
     ]
    },
    {
     "name": "stdout",
     "output_type": "stream",
     "text": [
      "diff: -0.08884776\n",
      "#\n",
      "diff: -0.20763946\n",
      "#\n",
      "diff: -0.06462149\n",
      "#\n",
      "diff: -0.23647839\n",
      "#\n",
      "diff: -0.12173724\n",
      "#\n",
      "diff: -0.5351093\n",
      "10\n",
      "#\n",
      "diff: -0.05224967\n",
      "#\n"
     ]
    },
    {
     "name": "stderr",
     "output_type": "stream",
     "text": [
      "validation:  26%|\u001B[34m██▌       \u001B[0m| 261/1000 [00:07<00:21, 33.97it/s]"
     ]
    },
    {
     "name": "stdout",
     "output_type": "stream",
     "text": [
      "diff: 0.052190423\n",
      "#\n",
      "diff: -0.48026562\n",
      "#\n",
      "diff: -0.17411304\n",
      "#\n",
      "diff: -0.22325134\n",
      "#\n",
      "diff: 0.18299007\n",
      "#\n",
      "diff: 0.038775563\n",
      "#\n",
      "diff: 0.18005896\n",
      "#\n"
     ]
    },
    {
     "name": "stderr",
     "output_type": "stream",
     "text": [
      "validation:  27%|\u001B[34m██▋       \u001B[0m| 269/1000 [00:08<00:21, 33.80it/s]"
     ]
    },
    {
     "name": "stdout",
     "output_type": "stream",
     "text": [
      "diff: -0.042926908\n",
      "#\n",
      "diff: 0.31465077\n",
      "#\n",
      "diff: 0.09930823\n",
      "#\n",
      "diff: 0.07102013\n",
      "#\n",
      "diff: 0.39795208\n",
      "#\n",
      "diff: -0.058906317\n",
      "#\n",
      "diff: 0.25142765\n",
      "#\n"
     ]
    },
    {
     "name": "stderr",
     "output_type": "stream",
     "text": [
      "validation:  28%|\u001B[34m██▊       \u001B[0m| 277/1000 [00:08<00:21, 33.76it/s]"
     ]
    },
    {
     "name": "stdout",
     "output_type": "stream",
     "text": [
      "diff: -0.039342165\n",
      "#\n",
      "diff: 0.3183905\n",
      "#\n",
      "diff: -0.029607058\n",
      "#\n",
      "diff: -0.10261917\n",
      "#\n",
      "diff: -0.11123443\n",
      "#\n",
      "diff: 0.09669042\n",
      "#\n",
      "diff: -0.17323625\n",
      "#\n"
     ]
    },
    {
     "name": "stderr",
     "output_type": "stream",
     "text": [
      "validation:  28%|\u001B[34m██▊       \u001B[0m| 285/1000 [00:08<00:20, 34.84it/s]"
     ]
    },
    {
     "name": "stdout",
     "output_type": "stream",
     "text": [
      "diff: -0.18204331\n",
      "#\n",
      "diff: -0.30236197\n",
      "#\n",
      "diff: -0.59552073\n",
      "11\n",
      "#\n",
      "diff: 0.08980515\n",
      "#\n",
      "diff: -0.13785362\n",
      "#\n",
      "diff: 0.33736396\n",
      "#\n",
      "diff: -0.44602442\n",
      "#\n"
     ]
    },
    {
     "name": "stderr",
     "output_type": "stream",
     "text": [
      "validation:  29%|\u001B[34m██▉       \u001B[0m| 289/1000 [00:08<00:20, 33.90it/s]"
     ]
    },
    {
     "name": "stdout",
     "output_type": "stream",
     "text": [
      "diff: -0.025074303\n",
      "#\n",
      "diff: 0.047290087\n",
      "#\n",
      "diff: -0.15090358\n",
      "#\n",
      "diff: -0.87730634\n",
      "12\n",
      "#\n",
      "diff: -0.10958791\n",
      "#\n",
      "diff: 0.14297056\n",
      "#\n",
      "diff: 0.19058466\n",
      "#\n"
     ]
    },
    {
     "name": "stderr",
     "output_type": "stream",
     "text": [
      "validation:  30%|\u001B[34m██▉       \u001B[0m| 297/1000 [00:08<00:20, 34.63it/s]"
     ]
    },
    {
     "name": "stdout",
     "output_type": "stream",
     "text": [
      "diff: -0.060429096\n",
      "#\n",
      "diff: 0.108597755\n",
      "#\n",
      "diff: 0.10081059\n",
      "#\n",
      "diff: 0.2795201\n",
      "#\n",
      "diff: -0.16746247\n",
      "#\n",
      "diff: 0.24291372\n",
      "#\n",
      "diff: 0.040621758\n",
      "#\n",
      "diff: 0.1375072\n",
      "#\n"
     ]
    },
    {
     "name": "stderr",
     "output_type": "stream",
     "text": [
      "validation:  30%|\u001B[34m███       \u001B[0m| 305/1000 [00:09<00:19, 34.93it/s]"
     ]
    },
    {
     "name": "stdout",
     "output_type": "stream",
     "text": [
      "diff: -0.11071396\n",
      "#\n",
      "diff: 0.08614397\n",
      "#\n",
      "diff: 0.11236453\n",
      "#\n",
      "diff: -0.3972361\n",
      "#\n",
      "diff: -0.25324035\n",
      "#\n",
      "diff: -0.48700213\n",
      "#\n",
      "diff: 0.05888939\n",
      "#\n"
     ]
    },
    {
     "name": "stderr",
     "output_type": "stream",
     "text": [
      "validation:  31%|\u001B[34m███▏      \u001B[0m| 313/1000 [00:09<00:19, 34.71it/s]"
     ]
    },
    {
     "name": "stdout",
     "output_type": "stream",
     "text": [
      "diff: -0.2435317\n",
      "#\n",
      "diff: -0.05800283\n",
      "#\n",
      "diff: -0.5259098\n",
      "13\n",
      "#\n",
      "diff: 0.051136732\n",
      "#\n",
      "diff: 0.3214655\n",
      "#\n",
      "diff: -0.17423654\n",
      "#\n",
      "diff: 0.04126954\n",
      "#\n"
     ]
    },
    {
     "name": "stderr",
     "output_type": "stream",
     "text": [
      "validation:  32%|\u001B[34m███▏      \u001B[0m| 321/1000 [00:09<00:19, 34.60it/s]"
     ]
    },
    {
     "name": "stdout",
     "output_type": "stream",
     "text": [
      "diff: 0.08728617\n",
      "#\n",
      "diff: -0.23831713\n",
      "#\n",
      "diff: -0.09156442\n",
      "#\n",
      "diff: 0.19080901\n",
      "#\n",
      "diff: 0.120366335\n",
      "#\n",
      "diff: -0.07315886\n",
      "#\n",
      "diff: 0.02448231\n",
      "#\n"
     ]
    },
    {
     "name": "stderr",
     "output_type": "stream",
     "text": [
      "validation:  32%|\u001B[34m███▎      \u001B[0m| 325/1000 [00:09<00:19, 33.78it/s]"
     ]
    },
    {
     "name": "stdout",
     "output_type": "stream",
     "text": [
      "diff: -0.3005448\n",
      "#\n",
      "diff: 0.25816703\n",
      "#\n",
      "diff: -0.11436081\n",
      "#\n",
      "diff: -0.41191435\n",
      "#\n",
      "diff: -0.051007986\n",
      "#\n",
      "diff: -0.3020532\n",
      "#\n",
      "diff: -0.15723568\n",
      "#\n"
     ]
    },
    {
     "name": "stderr",
     "output_type": "stream",
     "text": [
      "validation:  33%|\u001B[34m███▎      \u001B[0m| 333/1000 [00:09<00:19, 33.76it/s]"
     ]
    },
    {
     "name": "stdout",
     "output_type": "stream",
     "text": [
      "diff: -0.26426065\n",
      "#\n",
      "diff: -0.09320001\n",
      "#\n",
      "diff: -0.34722054\n",
      "#\n",
      "diff: -0.114028454\n",
      "#\n",
      "diff: 0.077788174\n",
      "#\n",
      "diff: 0.30116844\n",
      "#\n",
      "diff: -0.40065122\n",
      "#\n"
     ]
    },
    {
     "name": "stderr",
     "output_type": "stream",
     "text": [
      "validation:  34%|\u001B[34m███▍      \u001B[0m| 341/1000 [00:10<00:19, 33.99it/s]"
     ]
    },
    {
     "name": "stdout",
     "output_type": "stream",
     "text": [
      "diff: -0.12870365\n",
      "#\n",
      "diff: 0.2556255\n",
      "#\n",
      "diff: -0.22833061\n",
      "#\n",
      "diff: -0.27675843\n",
      "#\n",
      "diff: 0.09218502\n",
      "#\n",
      "diff: -0.17842364\n",
      "#\n",
      "diff: 0.36102486\n",
      "#\n"
     ]
    },
    {
     "name": "stderr",
     "output_type": "stream",
     "text": [
      "validation:  35%|\u001B[34m███▍      \u001B[0m| 349/1000 [00:10<00:18, 34.27it/s]"
     ]
    },
    {
     "name": "stdout",
     "output_type": "stream",
     "text": [
      "diff: 0.115774155\n",
      "#\n",
      "diff: -0.10776372\n",
      "#\n",
      "diff: -0.31581688\n",
      "#\n",
      "diff: -0.053403735\n",
      "#\n",
      "diff: -0.25577593\n",
      "#\n",
      "diff: 0.32472754\n",
      "#\n",
      "diff: -0.39592218\n",
      "#\n"
     ]
    },
    {
     "name": "stderr",
     "output_type": "stream",
     "text": [
      "validation:  35%|\u001B[34m███▌      \u001B[0m| 353/1000 [00:10<00:18, 34.93it/s]"
     ]
    },
    {
     "name": "stdout",
     "output_type": "stream",
     "text": [
      "diff: -0.26323962\n",
      "#\n",
      "diff: 0.023427963\n",
      "#\n",
      "diff: 0.22301424\n",
      "#\n",
      "diff: -0.122430325\n",
      "#\n",
      "diff: -0.22311997\n",
      "#\n",
      "diff: 0.077531576\n",
      "#\n",
      "diff: -0.09171057\n",
      "#\n"
     ]
    },
    {
     "name": "stderr",
     "output_type": "stream",
     "text": [
      "validation:  36%|\u001B[34m███▌      \u001B[0m| 361/1000 [00:10<00:18, 33.87it/s]"
     ]
    },
    {
     "name": "stdout",
     "output_type": "stream",
     "text": [
      "diff: -0.08598256\n",
      "#\n",
      "diff: 0.17477798\n",
      "#\n",
      "diff: 0.062443614\n",
      "#\n",
      "diff: 0.098802924\n",
      "#\n",
      "diff: 0.04410863\n",
      "#\n",
      "diff: 0.1308322\n",
      "#\n",
      "diff: 0.025533915\n",
      "#\n"
     ]
    },
    {
     "name": "stderr",
     "output_type": "stream",
     "text": [
      "validation:  37%|\u001B[34m███▋      \u001B[0m| 369/1000 [00:11<00:18, 33.73it/s]"
     ]
    },
    {
     "name": "stdout",
     "output_type": "stream",
     "text": [
      "diff: -0.01499784\n",
      "#\n",
      "diff: -0.760388\n",
      "14\n",
      "#\n",
      "diff: 0.09368348\n",
      "#\n",
      "diff: -0.10250473\n",
      "#\n",
      "diff: 0.23363686\n",
      "#\n",
      "diff: -0.19700933\n",
      "#\n",
      "diff: -0.02616918\n",
      "#\n",
      "diff: 0.09046438\n",
      "#\n"
     ]
    },
    {
     "name": "stderr",
     "output_type": "stream",
     "text": [
      "validation:  38%|\u001B[34m███▊      \u001B[0m| 377/1000 [00:11<00:17, 34.64it/s]"
     ]
    },
    {
     "name": "stdout",
     "output_type": "stream",
     "text": [
      "diff: 0.2553786\n",
      "#\n",
      "diff: 0.20158076\n",
      "#\n",
      "diff: -0.16383946\n",
      "#\n",
      "diff: 0.6411801\n",
      "15\n",
      "#\n",
      "diff: -0.44198996\n",
      "#\n",
      "diff: 0.1292406\n",
      "#\n",
      "diff: 0.0787576\n",
      "#\n"
     ]
    },
    {
     "name": "stderr",
     "output_type": "stream",
     "text": [
      "validation:  38%|\u001B[34m███▊      \u001B[0m| 385/1000 [00:11<00:17, 34.59it/s]"
     ]
    },
    {
     "name": "stdout",
     "output_type": "stream",
     "text": [
      "diff: 0.25429583\n",
      "#\n",
      "diff: 0.17376804\n",
      "#\n",
      "diff: 0.24882877\n",
      "#\n",
      "diff: 0.023184896\n",
      "#\n",
      "diff: -0.25019407\n",
      "#\n",
      "diff: -0.32206511\n",
      "#\n",
      "diff: -0.33315718\n",
      "#\n"
     ]
    },
    {
     "name": "stderr",
     "output_type": "stream",
     "text": [
      "validation:  39%|\u001B[34m███▉      \u001B[0m| 389/1000 [00:11<00:18, 33.77it/s]"
     ]
    },
    {
     "name": "stdout",
     "output_type": "stream",
     "text": [
      "diff: 0.16717601\n",
      "#\n",
      "diff: -0.12790322\n",
      "#\n",
      "diff: -0.30098116\n",
      "#\n",
      "diff: 0.13422197\n",
      "#\n",
      "diff: -0.3811522\n",
      "#\n",
      "diff: -0.24707949\n",
      "#\n",
      "diff: 0.24738216\n",
      "#\n"
     ]
    },
    {
     "name": "stderr",
     "output_type": "stream",
     "text": [
      "validation:  40%|\u001B[34m███▉      \u001B[0m| 397/1000 [00:11<00:17, 33.75it/s]"
     ]
    },
    {
     "name": "stdout",
     "output_type": "stream",
     "text": [
      "diff: -0.0060162544\n",
      "#\n",
      "diff: 0.24696326\n",
      "#\n",
      "diff: -0.16433287\n",
      "#\n",
      "diff: 0.0045285225\n",
      "#\n",
      "diff: 0.049968004\n",
      "#\n",
      "diff: 0.028077602\n",
      "#\n",
      "diff: -0.10102987\n",
      "#\n"
     ]
    },
    {
     "name": "stderr",
     "output_type": "stream",
     "text": [
      "validation:  40%|\u001B[34m████      \u001B[0m| 405/1000 [00:12<00:17, 33.71it/s]"
     ]
    },
    {
     "name": "stdout",
     "output_type": "stream",
     "text": [
      "diff: -0.48527443\n",
      "#\n",
      "diff: -0.52452993\n",
      "16\n",
      "#\n",
      "diff: -0.4028058\n",
      "#\n",
      "diff: -0.23807478\n",
      "#\n",
      "diff: 0.2782218\n",
      "#\n",
      "diff: 0.07048086\n",
      "#\n",
      "diff: -0.18086982\n",
      "#\n"
     ]
    },
    {
     "name": "stderr",
     "output_type": "stream",
     "text": [
      "validation:  41%|\u001B[34m████▏     \u001B[0m| 413/1000 [00:12<00:16, 34.65it/s]"
     ]
    },
    {
     "name": "stdout",
     "output_type": "stream",
     "text": [
      "diff: 0.07214999\n",
      "#\n",
      "diff: -0.09281814\n",
      "#\n",
      "diff: -0.18325996\n",
      "#\n",
      "diff: -0.03717661\n",
      "#\n",
      "diff: 0.043926\n",
      "#\n",
      "diff: 0.0968914\n",
      "#\n",
      "diff: -0.15191674\n",
      "#\n",
      "diff: -0.17711973\n",
      "#\n"
     ]
    },
    {
     "name": "stderr",
     "output_type": "stream",
     "text": [
      "validation:  42%|\u001B[34m████▏     \u001B[0m| 421/1000 [00:12<00:17, 33.24it/s]"
     ]
    },
    {
     "name": "stdout",
     "output_type": "stream",
     "text": [
      "diff: 0.21661544\n",
      "#\n",
      "diff: 0.014475375\n",
      "#\n",
      "diff: -0.064370155\n",
      "#\n",
      "diff: -0.47721457\n",
      "#\n",
      "diff: -0.19102573\n",
      "#\n",
      "diff: -0.06335235\n",
      "#\n",
      "diff: -0.18211198\n",
      "#\n"
     ]
    },
    {
     "name": "stderr",
     "output_type": "stream",
     "text": [
      "validation:  42%|\u001B[34m████▎     \u001B[0m| 425/1000 [00:12<00:16, 34.18it/s]"
     ]
    },
    {
     "name": "stdout",
     "output_type": "stream",
     "text": [
      "diff: 0.14605641\n",
      "#\n",
      "diff: -0.14853334\n",
      "#\n",
      "diff: -0.11551207\n",
      "#\n",
      "diff: 0.24193335\n",
      "#\n",
      "diff: -0.04118097\n",
      "#\n",
      "diff: 0.2191546\n",
      "#\n",
      "diff: 0.06712204\n",
      "#\n"
     ]
    },
    {
     "name": "stderr",
     "output_type": "stream",
     "text": [
      "validation:  43%|\u001B[34m████▎     \u001B[0m| 433/1000 [00:12<00:16, 34.33it/s]"
     ]
    },
    {
     "name": "stdout",
     "output_type": "stream",
     "text": [
      "diff: -0.6918627\n",
      "17\n",
      "#\n",
      "diff: -0.16825378\n",
      "#\n",
      "diff: 0.15003824\n",
      "#\n",
      "diff: 0.13154793\n",
      "#\n",
      "diff: 0.029847145\n",
      "#\n",
      "diff: 0.010696173\n",
      "#\n",
      "diff: -0.3968997\n",
      "#\n"
     ]
    },
    {
     "name": "stderr",
     "output_type": "stream",
     "text": [
      "validation:  44%|\u001B[34m████▍     \u001B[0m| 441/1000 [00:13<00:16, 33.52it/s]"
     ]
    },
    {
     "name": "stdout",
     "output_type": "stream",
     "text": [
      "diff: 0.12185168\n",
      "#\n",
      "diff: -0.6519797\n",
      "18\n",
      "#\n",
      "diff: 0.11378169\n",
      "#\n",
      "diff: -0.20172\n",
      "#\n",
      "diff: 0.14726579\n",
      "#\n",
      "diff: 0.06865347\n",
      "#\n",
      "diff: -0.020344973\n",
      "#\n"
     ]
    },
    {
     "name": "stderr",
     "output_type": "stream",
     "text": [
      "validation:  45%|\u001B[34m████▍     \u001B[0m| 449/1000 [00:13<00:16, 34.36it/s]"
     ]
    },
    {
     "name": "stdout",
     "output_type": "stream",
     "text": [
      "diff: 0.27921915\n",
      "#\n",
      "diff: 0.3889717\n",
      "#\n",
      "diff: 0.44589877\n",
      "#\n",
      "diff: -0.17192164\n",
      "#\n",
      "diff: -0.26403284\n",
      "#\n",
      "diff: -0.112012684\n",
      "#\n",
      "diff: -0.35687375\n",
      "#\n"
     ]
    },
    {
     "name": "stderr",
     "output_type": "stream",
     "text": [
      "validation:  45%|\u001B[34m████▌     \u001B[0m| 453/1000 [00:13<00:16, 33.61it/s]"
     ]
    },
    {
     "name": "stdout",
     "output_type": "stream",
     "text": [
      "diff: 0.32031882\n",
      "#\n",
      "diff: 0.14365053\n",
      "#\n",
      "diff: -0.15209532\n",
      "#\n",
      "diff: 0.15060997\n",
      "#\n",
      "diff: -0.20808697\n",
      "#\n",
      "diff: -0.037818074\n",
      "#\n",
      "diff: 0.473217\n",
      "#\n"
     ]
    },
    {
     "name": "stderr",
     "output_type": "stream",
     "text": [
      "validation:  46%|\u001B[34m████▌     \u001B[0m| 461/1000 [00:13<00:16, 33.68it/s]"
     ]
    },
    {
     "name": "stdout",
     "output_type": "stream",
     "text": [
      "diff: -0.078286886\n",
      "#\n",
      "diff: 0.29269242\n",
      "#\n",
      "diff: -0.28939867\n",
      "#\n",
      "diff: 0.21195269\n",
      "#\n",
      "diff: 0.22844362\n",
      "#\n",
      "diff: -0.26501024\n",
      "#\n",
      "diff: -0.19743586\n",
      "#\n"
     ]
    },
    {
     "name": "stderr",
     "output_type": "stream",
     "text": [
      "validation:  47%|\u001B[34m████▋     \u001B[0m| 469/1000 [00:13<00:15, 33.84it/s]"
     ]
    },
    {
     "name": "stdout",
     "output_type": "stream",
     "text": [
      "diff: -0.4351294\n",
      "#\n",
      "diff: -0.14682317\n",
      "#\n",
      "diff: -0.05713725\n",
      "#\n",
      "diff: 0.19984424\n",
      "#\n",
      "diff: -0.26130176\n",
      "#\n",
      "diff: 0.21626769\n",
      "#\n",
      "diff: 0.107088536\n",
      "#\n"
     ]
    },
    {
     "name": "stderr",
     "output_type": "stream",
     "text": [
      "validation:  48%|\u001B[34m████▊     \u001B[0m| 477/1000 [00:14<00:14, 35.11it/s]"
     ]
    },
    {
     "name": "stdout",
     "output_type": "stream",
     "text": [
      "diff: 0.07837832\n",
      "#\n",
      "diff: -0.27761388\n",
      "#\n",
      "diff: 0.23556542\n",
      "#\n",
      "diff: -0.15057623\n",
      "#\n",
      "diff: 0.016593218\n",
      "#\n",
      "diff: -0.12170589\n",
      "#\n",
      "diff: -0.24224949\n",
      "#\n"
     ]
    },
    {
     "name": "stderr",
     "output_type": "stream",
     "text": [
      "validation:  48%|\u001B[34m████▊     \u001B[0m| 481/1000 [00:14<00:15, 34.12it/s]"
     ]
    },
    {
     "name": "stdout",
     "output_type": "stream",
     "text": [
      "diff: -0.11618161\n",
      "#\n",
      "diff: 0.14666557\n",
      "#\n",
      "diff: 0.2721026\n",
      "#\n",
      "diff: -0.07208562\n",
      "#\n",
      "diff: 0.038012624\n",
      "#\n",
      "diff: -0.22417498\n",
      "#\n"
     ]
    },
    {
     "name": "stderr",
     "output_type": "stream",
     "text": [
      "validation:  49%|\u001B[34m████▉     \u001B[0m| 489/1000 [00:14<00:15, 33.71it/s]"
     ]
    },
    {
     "name": "stdout",
     "output_type": "stream",
     "text": [
      "diff: 0.008669138\n",
      "#\n",
      "diff: -0.38353214\n",
      "#\n",
      "diff: 0.06356895\n",
      "#\n",
      "diff: -0.08434844\n",
      "#\n",
      "diff: 0.05220282\n",
      "#\n",
      "diff: -0.47446704\n",
      "#\n",
      "diff: -0.3163752\n",
      "#\n"
     ]
    },
    {
     "name": "stderr",
     "output_type": "stream",
     "text": [
      "validation:  50%|\u001B[34m████▉     \u001B[0m| 497/1000 [00:14<00:14, 33.73it/s]"
     ]
    },
    {
     "name": "stdout",
     "output_type": "stream",
     "text": [
      "diff: 0.48596\n",
      "#\n",
      "diff: -0.016152859\n",
      "#\n",
      "diff: 0.14786208\n",
      "#\n",
      "diff: -0.1772523\n",
      "#\n",
      "diff: -0.02580452\n",
      "#\n",
      "diff: 0.6254153\n",
      "19\n",
      "#\n",
      "diff: 0.16230167\n",
      "#\n"
     ]
    },
    {
     "name": "stderr",
     "output_type": "stream",
     "text": [
      "validation:  50%|\u001B[34m█████     \u001B[0m| 501/1000 [00:14<00:14, 34.53it/s]"
     ]
    },
    {
     "name": "stdout",
     "output_type": "stream",
     "text": [
      "diff: -0.13736439\n",
      "#\n",
      "diff: 0.0639956\n",
      "#\n",
      "diff: -0.49869144\n",
      "#\n",
      "diff: -0.19470906\n",
      "#\n",
      "diff: 0.092749834\n",
      "#\n",
      "diff: -0.110856056\n",
      "#\n",
      "diff: -0.47961855\n",
      "#\n"
     ]
    },
    {
     "name": "stderr",
     "output_type": "stream",
     "text": [
      "validation:  51%|\u001B[34m█████     \u001B[0m| 509/1000 [00:15<00:14, 34.39it/s]"
     ]
    },
    {
     "name": "stdout",
     "output_type": "stream",
     "text": [
      "diff: 0.1432035\n",
      "#\n",
      "diff: -0.02627492\n",
      "#\n",
      "diff: -0.005756676\n",
      "#\n",
      "diff: -0.09096742\n",
      "#\n",
      "diff: -0.15519285\n",
      "#\n",
      "diff: -0.19863224\n",
      "#\n",
      "diff: -0.10594183\n",
      "#\n"
     ]
    },
    {
     "name": "stderr",
     "output_type": "stream",
     "text": [
      "validation:  52%|\u001B[34m█████▏    \u001B[0m| 517/1000 [00:15<00:14, 34.02it/s]"
     ]
    },
    {
     "name": "stdout",
     "output_type": "stream",
     "text": [
      "diff: 0.16382658\n",
      "#\n",
      "diff: -0.10666418\n",
      "#\n",
      "diff: 0.11498332\n",
      "#\n",
      "diff: 0.0770061\n",
      "#\n",
      "diff: -0.16493225\n",
      "#\n",
      "diff: -0.05265522\n",
      "#\n",
      "diff: 0.033247948\n",
      "#\n"
     ]
    },
    {
     "name": "stderr",
     "output_type": "stream",
     "text": [
      "validation:  52%|\u001B[34m█████▎    \u001B[0m| 525/1000 [00:15<00:13, 34.46it/s]"
     ]
    },
    {
     "name": "stdout",
     "output_type": "stream",
     "text": [
      "diff: -0.22200745\n",
      "#\n",
      "diff: 0.054848194\n",
      "#\n",
      "diff: -0.100691676\n",
      "#\n",
      "diff: 0.1803062\n",
      "#\n",
      "diff: -0.2614925\n",
      "#\n",
      "diff: -0.10035592\n",
      "#\n",
      "diff: 0.15053187\n",
      "#\n",
      "diff: 0.2328651\n",
      "#\n"
     ]
    },
    {
     "name": "stderr",
     "output_type": "stream",
     "text": [
      "validation:  53%|\u001B[34m█████▎    \u001B[0m| 533/1000 [00:15<00:13, 34.46it/s]"
     ]
    },
    {
     "name": "stdout",
     "output_type": "stream",
     "text": [
      "diff: 0.14419842\n",
      "#\n",
      "diff: 0.21517932\n",
      "#\n",
      "diff: 0.087572336\n",
      "#\n",
      "diff: 0.0024347305\n",
      "#\n",
      "diff: -0.02555585\n",
      "#\n",
      "diff: 0.09542763\n",
      "#\n",
      "diff: -0.029274225\n",
      "#\n"
     ]
    },
    {
     "name": "stderr",
     "output_type": "stream",
     "text": [
      "validation:  54%|\u001B[34m█████▎    \u001B[0m| 537/1000 [00:15<00:13, 33.69it/s]"
     ]
    },
    {
     "name": "stdout",
     "output_type": "stream",
     "text": [
      "diff: -0.21359587\n",
      "#\n",
      "diff: 0.18315566\n",
      "#\n",
      "diff: -0.6402925\n",
      "20\n",
      "#\n",
      "diff: -0.10409117\n",
      "#\n",
      "diff: -0.056563854\n",
      "#\n",
      "diff: -0.02677095\n",
      "#\n",
      "diff: -0.094763756\n",
      "#\n"
     ]
    },
    {
     "name": "stderr",
     "output_type": "stream",
     "text": [
      "validation:  55%|\u001B[34m█████▍    \u001B[0m| 545/1000 [00:16<00:13, 33.78it/s]"
     ]
    },
    {
     "name": "stdout",
     "output_type": "stream",
     "text": [
      "diff: 0.07047558\n",
      "#\n",
      "diff: -0.06547654\n",
      "#\n",
      "diff: -0.012063026\n",
      "#\n",
      "diff: -0.37374067\n",
      "#\n",
      "diff: 0.41542602\n",
      "#\n",
      "diff: -0.12965226\n",
      "#\n",
      "diff: -0.25862503\n",
      "#\n"
     ]
    },
    {
     "name": "stderr",
     "output_type": "stream",
     "text": [
      "validation:  55%|\u001B[34m█████▌    \u001B[0m| 553/1000 [00:16<00:12, 35.08it/s]"
     ]
    },
    {
     "name": "stdout",
     "output_type": "stream",
     "text": [
      "diff: 0.15383613\n",
      "#\n",
      "diff: -0.36319518\n",
      "#\n",
      "diff: -0.1477263\n",
      "#\n",
      "diff: 0.21628141\n",
      "#\n",
      "diff: -0.0852952\n",
      "#\n",
      "diff: 0.010170221\n",
      "#\n",
      "diff: 0.13058352\n",
      "#\n"
     ]
    },
    {
     "name": "stderr",
     "output_type": "stream",
     "text": [
      "validation:  56%|\u001B[34m█████▌    \u001B[0m| 561/1000 [00:16<00:12, 34.80it/s]"
     ]
    },
    {
     "name": "stdout",
     "output_type": "stream",
     "text": [
      "diff: 0.07098174\n",
      "#\n",
      "diff: 0.04528451\n",
      "#\n",
      "diff: 0.028494596\n",
      "#\n",
      "diff: 0.27931404\n",
      "#\n",
      "diff: 0.15209627\n",
      "#\n",
      "diff: 0.10293484\n",
      "#\n",
      "diff: -0.6734878\n",
      "21\n",
      "#\n",
      "diff: -0.11161041\n",
      "#\n"
     ]
    },
    {
     "name": "stderr",
     "output_type": "stream",
     "text": [
      "validation:  57%|\u001B[34m█████▋    \u001B[0m| 569/1000 [00:16<00:12, 35.09it/s]"
     ]
    },
    {
     "name": "stdout",
     "output_type": "stream",
     "text": [
      "diff: 0.17339897\n",
      "#\n",
      "diff: -0.18184495\n",
      "#\n",
      "diff: -0.30824065\n",
      "#\n",
      "diff: 0.1607852\n",
      "#\n",
      "diff: 0.03277731\n",
      "#\n",
      "diff: 0.07453132\n",
      "#\n",
      "diff: 0.12779713\n",
      "#\n"
     ]
    },
    {
     "name": "stderr",
     "output_type": "stream",
     "text": [
      "validation:  57%|\u001B[34m█████▋    \u001B[0m| 573/1000 [00:16<00:12, 34.10it/s]"
     ]
    },
    {
     "name": "stdout",
     "output_type": "stream",
     "text": [
      "diff: -0.16360581\n",
      "#\n",
      "diff: 0.25339818\n",
      "#\n",
      "diff: -0.08636284\n",
      "#\n",
      "diff: -0.44329858\n",
      "#\n",
      "diff: 0.16666162\n",
      "#\n",
      "diff: 0.0529418\n",
      "#\n",
      "diff: 0.035248637\n",
      "#\n"
     ]
    },
    {
     "name": "stderr",
     "output_type": "stream",
     "text": [
      "validation:  58%|\u001B[34m█████▊    \u001B[0m| 581/1000 [00:17<00:12, 33.57it/s]"
     ]
    },
    {
     "name": "stdout",
     "output_type": "stream",
     "text": [
      "diff: -0.37875873\n",
      "#\n",
      "diff: -0.060468912\n",
      "#\n",
      "diff: 0.14468026\n",
      "#\n",
      "diff: -0.32926583\n",
      "#\n",
      "diff: -0.40509707\n",
      "#\n",
      "diff: 0.018131614\n",
      "#\n",
      "diff: 0.30792034\n",
      "#\n"
     ]
    },
    {
     "name": "stderr",
     "output_type": "stream",
     "text": [
      "validation:  59%|\u001B[34m█████▉    \u001B[0m| 589/1000 [00:17<00:12, 33.65it/s]"
     ]
    },
    {
     "name": "stdout",
     "output_type": "stream",
     "text": [
      "diff: -0.07206082\n",
      "#\n",
      "diff: 0.053943634\n",
      "#\n",
      "diff: 0.012933493\n",
      "#\n",
      "diff: -0.325624\n",
      "#\n",
      "diff: 0.16272223\n",
      "#\n",
      "diff: -0.48181784\n",
      "#\n",
      "diff: -0.011483669\n",
      "#\n"
     ]
    },
    {
     "name": "stderr",
     "output_type": "stream",
     "text": [
      "validation:  60%|\u001B[34m█████▉    \u001B[0m| 597/1000 [00:17<00:11, 34.07it/s]"
     ]
    },
    {
     "name": "stdout",
     "output_type": "stream",
     "text": [
      "diff: 0.15257144\n",
      "#\n",
      "diff: -0.20243537\n",
      "#\n",
      "diff: -0.14680123\n",
      "#\n",
      "diff: 0.18852425\n",
      "#\n",
      "diff: 0.16461247\n",
      "#\n",
      "diff: -0.033885717\n",
      "#\n",
      "diff: 0.09897733\n",
      "#\n"
     ]
    },
    {
     "name": "stderr",
     "output_type": "stream",
     "text": [
      "validation:  60%|\u001B[34m██████    \u001B[0m| 601/1000 [00:17<00:11, 34.79it/s]"
     ]
    },
    {
     "name": "stdout",
     "output_type": "stream",
     "text": [
      "diff: -0.39623886\n",
      "#\n",
      "diff: 0.07978332\n",
      "#\n",
      "diff: -0.11388016\n",
      "#\n",
      "diff: -0.0087557435\n",
      "#\n",
      "diff: 0.16257775\n",
      "#\n",
      "diff: 0.007421851\n",
      "#\n",
      "diff: 0.15830618\n"
     ]
    },
    {
     "name": "stderr",
     "output_type": "stream",
     "text": [
      "validation:  61%|\u001B[34m██████    \u001B[0m| 609/1000 [00:18<00:11, 34.05it/s]"
     ]
    },
    {
     "name": "stdout",
     "output_type": "stream",
     "text": [
      "#\n",
      "diff: -0.07786548\n",
      "#\n",
      "diff: 0.48245534\n",
      "#\n",
      "diff: 0.024172306\n",
      "#\n",
      "diff: 0.105547786\n",
      "#\n",
      "diff: 0.19458938\n",
      "#\n",
      "diff: -0.026231289\n",
      "#\n",
      "diff: 0.033096075\n",
      "#\n"
     ]
    },
    {
     "name": "stderr",
     "output_type": "stream",
     "text": [
      "validation:  62%|\u001B[34m██████▏   \u001B[0m| 617/1000 [00:18<00:11, 33.84it/s]"
     ]
    },
    {
     "name": "stdout",
     "output_type": "stream",
     "text": [
      "diff: 0.20189625\n",
      "#\n",
      "diff: 0.24051905\n",
      "#\n",
      "diff: -0.08052921\n",
      "#\n",
      "diff: 0.103158474\n",
      "#\n",
      "diff: -0.20510173\n",
      "#\n",
      "diff: -0.21481836\n",
      "#\n",
      "diff: -0.26147842\n",
      "#\n",
      "diff: 0.15302658\n",
      "#\n"
     ]
    },
    {
     "name": "stderr",
     "output_type": "stream",
     "text": [
      "validation:  62%|\u001B[34m██████▎   \u001B[0m| 625/1000 [00:18<00:10, 34.51it/s]"
     ]
    },
    {
     "name": "stdout",
     "output_type": "stream",
     "text": [
      "diff: -0.2991348\n",
      "#\n",
      "diff: -0.36202908\n",
      "#\n",
      "diff: -0.1371206\n",
      "#\n",
      "diff: -0.3631742\n",
      "#\n",
      "diff: 0.36300945\n",
      "#\n",
      "diff: -0.10123706\n",
      "#\n",
      "diff: -0.110868156\n",
      "#\n"
     ]
    },
    {
     "name": "stderr",
     "output_type": "stream",
     "text": [
      "validation:  63%|\u001B[34m██████▎   \u001B[0m| 633/1000 [00:18<00:10, 34.50it/s]"
     ]
    },
    {
     "name": "stdout",
     "output_type": "stream",
     "text": [
      "diff: 0.005520582\n",
      "#\n",
      "diff: -0.0796026\n",
      "#\n",
      "diff: 0.064198494\n",
      "#\n",
      "diff: -0.0937047\n",
      "#\n",
      "diff: -0.43194777\n",
      "#\n",
      "diff: 0.19489205\n",
      "#\n",
      "diff: -0.23818874\n",
      "#\n"
     ]
    },
    {
     "name": "stderr",
     "output_type": "stream",
     "text": [
      "validation:  64%|\u001B[34m██████▎   \u001B[0m| 637/1000 [00:18<00:10, 35.10it/s]"
     ]
    },
    {
     "name": "stdout",
     "output_type": "stream",
     "text": [
      "diff: 0.18413305\n",
      "#\n",
      "diff: 0.30732012\n",
      "#\n",
      "diff: -0.5166377\n",
      "22\n",
      "#\n",
      "diff: 0.093263626\n",
      "#\n",
      "diff: 0.39210212\n",
      "#\n",
      "diff: 0.01613152\n",
      "#\n",
      "diff: -0.046517134\n",
      "#\n"
     ]
    },
    {
     "name": "stderr",
     "output_type": "stream",
     "text": [
      "validation:  64%|\u001B[34m██████▍   \u001B[0m| 645/1000 [00:19<00:10, 34.77it/s]"
     ]
    },
    {
     "name": "stdout",
     "output_type": "stream",
     "text": [
      "diff: -0.0154310465\n",
      "#\n",
      "diff: 0.028565645\n",
      "#\n",
      "diff: -0.16175985\n",
      "#\n",
      "diff: 0.014923334\n",
      "#\n",
      "diff: -0.16695929\n",
      "#\n",
      "diff: 0.38336205\n",
      "#\n",
      "diff: -0.07707715\n",
      "#\n"
     ]
    },
    {
     "name": "stderr",
     "output_type": "stream",
     "text": [
      "validation:  65%|\u001B[34m██████▌   \u001B[0m| 653/1000 [00:19<00:10, 34.62it/s]"
     ]
    },
    {
     "name": "stdout",
     "output_type": "stream",
     "text": [
      "diff: -0.43035245\n",
      "#\n",
      "diff: -0.31265533\n",
      "#\n",
      "diff: -0.0570361\n",
      "#\n",
      "diff: -0.025172234\n",
      "#\n",
      "diff: 0.3491757\n",
      "#\n",
      "diff: 0.121403456\n",
      "#\n",
      "diff: -0.32211602\n",
      "#\n"
     ]
    },
    {
     "name": "stderr",
     "output_type": "stream",
     "text": [
      "validation:  66%|\u001B[34m██████▌   \u001B[0m| 661/1000 [00:19<00:10, 33.45it/s]"
     ]
    },
    {
     "name": "stdout",
     "output_type": "stream",
     "text": [
      "diff: 0.5388955\n",
      "23\n",
      "#\n",
      "diff: 0.82313967\n",
      "24\n",
      "#\n",
      "diff: 0.048391104\n",
      "#\n",
      "diff: 0.18154782\n",
      "#\n",
      "diff: -0.2760465\n",
      "#\n",
      "diff: -0.21129513\n",
      "#\n",
      "diff: -0.16082859\n",
      "#\n"
     ]
    },
    {
     "name": "stderr",
     "output_type": "stream",
     "text": [
      "validation:  66%|\u001B[34m██████▋   \u001B[0m| 665/1000 [00:19<00:09, 34.28it/s]"
     ]
    },
    {
     "name": "stdout",
     "output_type": "stream",
     "text": [
      "diff: -0.22897112\n",
      "#\n",
      "diff: 0.10615349\n",
      "#\n",
      "diff: -0.044879496\n",
      "#\n",
      "diff: -0.34022427\n",
      "#\n",
      "diff: -0.0025705695\n",
      "#\n",
      "diff: 0.26396126\n",
      "#\n",
      "diff: 0.49145067\n",
      "#\n"
     ]
    },
    {
     "name": "stderr",
     "output_type": "stream",
     "text": [
      "validation:  67%|\u001B[34m██████▋   \u001B[0m| 673/1000 [00:19<00:09, 34.40it/s]"
     ]
    },
    {
     "name": "stdout",
     "output_type": "stream",
     "text": [
      "diff: -0.14463472\n",
      "#\n",
      "diff: 0.0030653477\n",
      "#\n",
      "diff: 0.09763212\n",
      "#\n",
      "diff: -0.109552145\n",
      "#\n",
      "diff: 0.29559028\n",
      "#\n",
      "diff: -0.08651769\n",
      "#\n",
      "diff: -0.22744036\n",
      "#\n"
     ]
    },
    {
     "name": "stderr",
     "output_type": "stream",
     "text": [
      "validation:  68%|\u001B[34m██████▊   \u001B[0m| 681/1000 [00:20<00:09, 34.47it/s]"
     ]
    },
    {
     "name": "stdout",
     "output_type": "stream",
     "text": [
      "diff: 0.0688684\n",
      "#\n",
      "diff: 0.28525996\n",
      "#\n",
      "diff: -0.40765166\n",
      "#\n",
      "diff: 0.31255746\n",
      "#\n",
      "diff: -0.041834593\n",
      "#\n",
      "diff: 0.24971342\n",
      "#\n",
      "diff: -0.1842112\n",
      "#\n"
     ]
    },
    {
     "name": "stderr",
     "output_type": "stream",
     "text": [
      "validation:  69%|\u001B[34m██████▉   \u001B[0m| 689/1000 [00:20<00:08, 35.02it/s]"
     ]
    },
    {
     "name": "stdout",
     "output_type": "stream",
     "text": [
      "diff: -0.24269831\n",
      "#\n",
      "diff: 0.21812081\n",
      "#\n",
      "diff: -0.0038864613\n",
      "#\n",
      "diff: 0.011146307\n",
      "#\n",
      "diff: -0.063584566\n",
      "#\n",
      "diff: -0.4483137\n",
      "#\n",
      "diff: 0.031745404\n",
      "#\n"
     ]
    },
    {
     "name": "stderr",
     "output_type": "stream",
     "text": [
      "validation:  69%|\u001B[34m██████▉   \u001B[0m| 693/1000 [00:20<00:09, 34.05it/s]"
     ]
    },
    {
     "name": "stdout",
     "output_type": "stream",
     "text": [
      "diff: -0.2228229\n",
      "#\n",
      "diff: 0.15482712\n",
      "#\n",
      "diff: -0.26946795\n",
      "#\n",
      "diff: -0.26934886\n",
      "#\n",
      "diff: 0.07088637\n",
      "#\n",
      "diff: -0.37183905\n",
      "#\n",
      "diff: -0.34126115\n",
      "#\n"
     ]
    },
    {
     "name": "stderr",
     "output_type": "stream",
     "text": [
      "validation:  70%|\u001B[34m███████   \u001B[0m| 701/1000 [00:20<00:08, 34.71it/s]"
     ]
    },
    {
     "name": "stdout",
     "output_type": "stream",
     "text": [
      "diff: -0.034972668\n",
      "#\n",
      "diff: 0.15290618\n",
      "#\n",
      "diff: 0.45424163\n",
      "#\n",
      "diff: -0.30362546\n",
      "#\n",
      "diff: 0.24214458\n",
      "#\n",
      "diff: 0.008407593\n",
      "#\n",
      "diff: -0.11386156\n",
      "#\n"
     ]
    },
    {
     "name": "stderr",
     "output_type": "stream",
     "text": [
      "validation:  71%|\u001B[34m███████   \u001B[0m| 709/1000 [00:20<00:08, 34.62it/s]"
     ]
    },
    {
     "name": "stdout",
     "output_type": "stream",
     "text": [
      "diff: -0.08236897\n",
      "#\n",
      "diff: -0.2778461\n",
      "#\n",
      "diff: 0.044428706\n",
      "#\n",
      "diff: 0.036355615\n",
      "#\n",
      "diff: -0.27468562\n",
      "#\n",
      "diff: 0.19312198\n",
      "#\n",
      "diff: -0.14446056\n",
      "#\n"
     ]
    },
    {
     "name": "stderr",
     "output_type": "stream",
     "text": [
      "validation:  72%|\u001B[34m███████▏  \u001B[0m| 717/1000 [00:21<00:08, 33.69it/s]"
     ]
    },
    {
     "name": "stdout",
     "output_type": "stream",
     "text": [
      "diff: 0.24698782\n",
      "#\n",
      "diff: -0.2579968\n",
      "#\n",
      "diff: 0.018786907\n",
      "#\n",
      "diff: 0.21662438\n",
      "#\n",
      "diff: 0.03450656\n",
      "#\n",
      "diff: -0.14088356\n",
      "#\n",
      "diff: 0.26786184\n",
      "#\n"
     ]
    },
    {
     "name": "stderr",
     "output_type": "stream",
     "text": [
      "validation:  72%|\u001B[34m███████▎  \u001B[0m| 725/1000 [00:21<00:07, 34.69it/s]"
     ]
    },
    {
     "name": "stdout",
     "output_type": "stream",
     "text": [
      "diff: 0.11363804\n",
      "#\n",
      "diff: -0.06781602\n",
      "#\n",
      "diff: -0.26637983\n",
      "#\n",
      "diff: 0.17446966\n",
      "#\n",
      "diff: 0.15624738\n",
      "#\n",
      "diff: 0.15980417\n",
      "#\n",
      "diff: 0.00021958351\n",
      "#\n",
      "diff: 0.091516495\n",
      "#\n"
     ]
    },
    {
     "name": "stderr",
     "output_type": "stream",
     "text": [
      "validation:  73%|\u001B[34m███████▎  \u001B[0m| 729/1000 [00:21<00:08, 33.83it/s]"
     ]
    },
    {
     "name": "stdout",
     "output_type": "stream",
     "text": [
      "diff: 0.10894346\n",
      "#\n",
      "diff: 0.23174262\n",
      "#\n",
      "diff: 0.04666114\n",
      "#\n",
      "diff: -0.013520539\n",
      "#\n",
      "diff: -0.04093957\n",
      "#\n",
      "diff: -0.14952266\n",
      "#\n",
      "diff: -0.1922796\n",
      "#\n"
     ]
    },
    {
     "name": "stderr",
     "output_type": "stream",
     "text": [
      "validation:  74%|\u001B[34m███████▎  \u001B[0m| 737/1000 [00:21<00:07, 35.16it/s]"
     ]
    },
    {
     "name": "stdout",
     "output_type": "stream",
     "text": [
      "diff: -0.4522903\n",
      "#\n",
      "diff: 0.21634424\n",
      "#\n",
      "diff: -0.12420237\n",
      "#\n",
      "diff: -0.07038474\n",
      "#\n",
      "diff: -0.30833912\n",
      "#\n",
      "diff: -0.555091\n",
      "25\n",
      "#\n",
      "diff: 0.22580367\n",
      "#\n"
     ]
    },
    {
     "name": "stderr",
     "output_type": "stream",
     "text": [
      "validation:  74%|\u001B[34m███████▍  \u001B[0m| 745/1000 [00:21<00:07, 34.76it/s]"
     ]
    },
    {
     "name": "stdout",
     "output_type": "stream",
     "text": [
      "diff: 0.7737818\n",
      "26\n",
      "#\n",
      "diff: 0.014837682\n",
      "#\n",
      "diff: -0.4474753\n",
      "#\n",
      "diff: 0.102804184\n",
      "#\n",
      "diff: 0.01399827\n",
      "#\n",
      "diff: -0.052658677\n",
      "#\n",
      "diff: 0.19293302\n",
      "#\n"
     ]
    },
    {
     "name": "stderr",
     "output_type": "stream",
     "text": [
      "validation:  75%|\u001B[34m███████▌  \u001B[0m| 753/1000 [00:22<00:07, 34.21it/s]"
     ]
    },
    {
     "name": "stdout",
     "output_type": "stream",
     "text": [
      "diff: 0.15623283\n",
      "#\n",
      "diff: -0.11439055\n",
      "#\n",
      "diff: -0.085600436\n",
      "#\n",
      "diff: -0.78928083\n",
      "27\n",
      "#\n",
      "diff: -0.18262577\n",
      "#\n",
      "diff: 0.1454668\n",
      "#\n",
      "diff: 0.25313073\n",
      "#\n"
     ]
    },
    {
     "name": "stderr",
     "output_type": "stream",
     "text": [
      "validation:  76%|\u001B[34m███████▌  \u001B[0m| 757/1000 [00:22<00:06, 35.17it/s]"
     ]
    },
    {
     "name": "stdout",
     "output_type": "stream",
     "text": [
      "diff: -0.4497068\n",
      "#\n",
      "diff: -0.5469463\n",
      "28\n",
      "#\n",
      "diff: -0.1636455\n",
      "#\n",
      "diff: 0.014022589\n",
      "#\n",
      "diff: -0.10603571\n",
      "#\n",
      "diff: -0.0462507\n",
      "#\n",
      "diff: 0.08858873\n",
      "#\n"
     ]
    },
    {
     "name": "stderr",
     "output_type": "stream",
     "text": [
      "validation:  76%|\u001B[34m███████▋  \u001B[0m| 765/1000 [00:22<00:07, 33.44it/s]"
     ]
    },
    {
     "name": "stdout",
     "output_type": "stream",
     "text": [
      "diff: 0.11729297\n",
      "#\n",
      "diff: 0.18340492\n",
      "#\n",
      "diff: 0.10394192\n",
      "#\n",
      "diff: -0.25698113\n",
      "#\n",
      "diff: -0.21682811\n",
      "#\n",
      "diff: 0.11590099\n",
      "#\n",
      "diff: -0.060329795\n",
      "#\n",
      "diff: -0.07309294\n",
      "#\n"
     ]
    },
    {
     "name": "stderr",
     "output_type": "stream",
     "text": [
      "validation:  77%|\u001B[34m███████▋  \u001B[0m| 773/1000 [00:22<00:06, 33.83it/s]"
     ]
    },
    {
     "name": "stdout",
     "output_type": "stream",
     "text": [
      "diff: 0.116904736\n",
      "#\n",
      "diff: -0.4031012\n",
      "#\n",
      "diff: -0.024297595\n",
      "#\n",
      "diff: -0.23347282\n",
      "#\n",
      "diff: 0.3955593\n",
      "#\n",
      "diff: -0.038143873\n",
      "#\n",
      "diff: -0.31837785\n",
      "#\n"
     ]
    },
    {
     "name": "stderr",
     "output_type": "stream",
     "text": [
      "validation:  78%|\u001B[34m███████▊  \u001B[0m| 781/1000 [00:23<00:06, 33.90it/s]"
     ]
    },
    {
     "name": "stdout",
     "output_type": "stream",
     "text": [
      "diff: 0.11083397\n",
      "#\n",
      "diff: 0.12020589\n",
      "#\n",
      "diff: 0.06924212\n",
      "#\n",
      "diff: 0.01042521\n",
      "#\n",
      "diff: -0.013481319\n",
      "#\n",
      "diff: -0.32808352\n",
      "#\n",
      "diff: -0.26840168\n",
      "#\n"
     ]
    },
    {
     "name": "stderr",
     "output_type": "stream",
     "text": [
      "validation:  79%|\u001B[34m███████▉  \u001B[0m| 789/1000 [00:23<00:06, 33.81it/s]"
     ]
    },
    {
     "name": "stdout",
     "output_type": "stream",
     "text": [
      "diff: 0.056574345\n",
      "#\n",
      "diff: 0.22142422\n",
      "#\n",
      "diff: -0.3276949\n",
      "#\n",
      "diff: -0.043769658\n",
      "#\n",
      "diff: -0.03204465\n",
      "#\n",
      "diff: -0.25721967\n",
      "#\n",
      "diff: -0.37433589\n",
      "#\n"
     ]
    },
    {
     "name": "stderr",
     "output_type": "stream",
     "text": [
      "validation:  79%|\u001B[34m███████▉  \u001B[0m| 793/1000 [00:23<00:05, 34.60it/s]"
     ]
    },
    {
     "name": "stdout",
     "output_type": "stream",
     "text": [
      "diff: -0.30773652\n",
      "#\n",
      "diff: -0.05577469\n",
      "#\n",
      "diff: 0.06401817\n",
      "#\n",
      "diff: -0.043868303\n",
      "#\n",
      "diff: -0.36752987\n",
      "#\n",
      "diff: -0.12583995\n",
      "#\n",
      "diff: -0.00060248375\n",
      "#\n"
     ]
    },
    {
     "name": "stderr",
     "output_type": "stream",
     "text": [
      "validation:  80%|\u001B[34m████████  \u001B[0m| 801/1000 [00:23<00:05, 34.46it/s]"
     ]
    },
    {
     "name": "stdout",
     "output_type": "stream",
     "text": [
      "diff: 0.1581068\n",
      "#\n",
      "diff: -0.70572627\n",
      "29\n",
      "#\n",
      "diff: -0.22773993\n",
      "#\n",
      "diff: 0.5272014\n",
      "30\n",
      "#\n",
      "diff: -0.00088763237\n",
      "#\n",
      "diff: -0.25671172\n",
      "#\n",
      "diff: 0.33209825\n",
      "#\n"
     ]
    },
    {
     "name": "stderr",
     "output_type": "stream",
     "text": [
      "validation:  81%|\u001B[34m████████  \u001B[0m| 809/1000 [00:23<00:05, 34.50it/s]"
     ]
    },
    {
     "name": "stdout",
     "output_type": "stream",
     "text": [
      "diff: 0.030433059\n",
      "#\n",
      "diff: 0.097313404\n",
      "#\n",
      "diff: -0.11505568\n",
      "#\n",
      "diff: -0.030313015\n",
      "#\n",
      "diff: -0.06692642\n",
      "#\n",
      "diff: -0.023450375\n",
      "#\n",
      "diff: 0.18833315\n",
      "#\n"
     ]
    },
    {
     "name": "stderr",
     "output_type": "stream",
     "text": [
      "validation:  82%|\u001B[34m████████▏ \u001B[0m| 817/1000 [00:24<00:05, 35.03it/s]"
     ]
    },
    {
     "name": "stdout",
     "output_type": "stream",
     "text": [
      "diff: 0.4589213\n",
      "#\n",
      "diff: -0.55121446\n",
      "31\n",
      "#\n",
      "diff: -0.33732367\n",
      "#\n",
      "diff: 0.28684735\n",
      "#\n",
      "diff: 0.28072166\n",
      "#\n",
      "diff: 0.4739507\n",
      "#\n",
      "diff: -0.053732157\n",
      "#\n"
     ]
    },
    {
     "name": "stderr",
     "output_type": "stream",
     "text": [
      "validation:  82%|\u001B[34m████████▏ \u001B[0m| 821/1000 [00:24<00:05, 34.15it/s]"
     ]
    },
    {
     "name": "stdout",
     "output_type": "stream",
     "text": [
      "diff: -0.0654788\n",
      "#\n",
      "diff: -0.007961512\n",
      "#\n",
      "diff: -0.6948632\n",
      "32\n",
      "#\n",
      "diff: 0.028405905\n",
      "#\n",
      "diff: 0.11711526\n",
      "#\n",
      "diff: 0.09808564\n",
      "#\n",
      "diff: 0.040483236\n",
      "#\n"
     ]
    },
    {
     "name": "stderr",
     "output_type": "stream",
     "text": [
      "validation:  83%|\u001B[34m████████▎ \u001B[0m| 829/1000 [00:24<00:04, 34.95it/s]"
     ]
    },
    {
     "name": "stdout",
     "output_type": "stream",
     "text": [
      "diff: 0.30965185\n",
      "#\n",
      "diff: -0.04188168\n",
      "#\n",
      "diff: -0.08077681\n",
      "#\n",
      "diff: -0.12974787\n",
      "#\n",
      "diff: 0.31742692\n",
      "#\n",
      "diff: -0.0030171871\n",
      "#\n",
      "diff: 0.10472727\n",
      "#\n"
     ]
    },
    {
     "name": "stderr",
     "output_type": "stream",
     "text": [
      "validation:  84%|\u001B[34m████████▎ \u001B[0m| 837/1000 [00:24<00:04, 34.65it/s]"
     ]
    },
    {
     "name": "stdout",
     "output_type": "stream",
     "text": [
      "diff: -0.11332226\n",
      "#\n",
      "diff: -0.31571436\n",
      "#\n",
      "diff: -0.119695425\n",
      "#\n",
      "diff: -0.23956513\n",
      "#\n",
      "diff: 0.15222716\n",
      "#\n",
      "diff: 0.0763464\n",
      "#\n",
      "diff: -0.18288207\n",
      "#\n"
     ]
    },
    {
     "name": "stderr",
     "output_type": "stream",
     "text": [
      "validation:  84%|\u001B[34m████████▍ \u001B[0m| 845/1000 [00:24<00:04, 34.60it/s]"
     ]
    },
    {
     "name": "stdout",
     "output_type": "stream",
     "text": [
      "diff: 0.25868082\n",
      "#\n",
      "diff: 0.07839799\n",
      "#\n",
      "diff: -0.26845312\n",
      "#\n",
      "diff: 0.10255146\n",
      "#\n",
      "diff: -0.133178\n",
      "#\n",
      "diff: -0.10900283\n",
      "#\n",
      "diff: -0.09294152\n",
      "#\n"
     ]
    },
    {
     "name": "stderr",
     "output_type": "stream",
     "text": [
      "validation:  85%|\u001B[34m████████▌ \u001B[0m| 853/1000 [00:25<00:04, 34.78it/s]"
     ]
    },
    {
     "name": "stdout",
     "output_type": "stream",
     "text": [
      "diff: -0.10394013\n",
      "#\n",
      "diff: -0.14702153\n",
      "#\n",
      "diff: -0.05769062\n",
      "#\n",
      "diff: -0.27706683\n",
      "#\n",
      "diff: -0.41699362\n",
      "#\n",
      "diff: 0.0007033348\n",
      "#\n",
      "diff: 0.18800843\n",
      "#\n",
      "diff: -0.31249332\n",
      "#\n"
     ]
    },
    {
     "name": "stderr",
     "output_type": "stream",
     "text": [
      "validation:  86%|\u001B[34m████████▌ \u001B[0m| 857/1000 [00:25<00:04, 33.85it/s]"
     ]
    },
    {
     "name": "stdout",
     "output_type": "stream",
     "text": [
      "diff: -0.48719025\n",
      "#\n",
      "diff: 0.35019076\n",
      "#\n",
      "diff: 0.19686097\n",
      "#\n",
      "diff: -0.107842445\n",
      "#\n",
      "diff: -0.53180885\n",
      "33\n",
      "#\n",
      "diff: -0.04569006\n",
      "#\n",
      "diff: 0.16991973\n",
      "#\n"
     ]
    },
    {
     "name": "stderr",
     "output_type": "stream",
     "text": [
      "validation:  86%|\u001B[34m████████▋ \u001B[0m| 865/1000 [00:25<00:03, 34.20it/s]"
     ]
    },
    {
     "name": "stdout",
     "output_type": "stream",
     "text": [
      "diff: 0.02767235\n",
      "#\n",
      "diff: -0.22141385\n",
      "#\n",
      "diff: 0.0072385073\n",
      "#\n",
      "diff: 0.17228043\n",
      "#\n",
      "diff: 0.3431971\n",
      "#\n",
      "diff: 0.38471377\n",
      "#\n",
      "diff: 0.01061511\n",
      "#\n"
     ]
    },
    {
     "name": "stderr",
     "output_type": "stream",
     "text": [
      "validation:  87%|\u001B[34m████████▋ \u001B[0m| 873/1000 [00:25<00:03, 34.17it/s]"
     ]
    },
    {
     "name": "stdout",
     "output_type": "stream",
     "text": [
      "diff: -0.24564898\n",
      "#\n",
      "diff: -0.0350917\n",
      "#\n",
      "diff: -0.64814854\n",
      "34\n",
      "#\n",
      "diff: -0.12015557\n",
      "#\n",
      "diff: -0.07720494\n",
      "#\n",
      "diff: 0.13279024\n",
      "#\n",
      "diff: -0.24861228\n",
      "#\n"
     ]
    },
    {
     "name": "stderr",
     "output_type": "stream",
     "text": [
      "validation:  88%|\u001B[34m████████▊ \u001B[0m| 881/1000 [00:25<00:03, 34.36it/s]"
     ]
    },
    {
     "name": "stdout",
     "output_type": "stream",
     "text": [
      "diff: -0.43153763\n",
      "#\n",
      "diff: 0.43274885\n",
      "#\n",
      "diff: 0.169765\n",
      "#\n",
      "diff: -0.08165741\n",
      "#\n",
      "diff: 0.09033179\n",
      "#\n",
      "diff: -0.25084543\n",
      "#\n",
      "diff: -0.21361883\n",
      "#\n"
     ]
    },
    {
     "name": "stderr",
     "output_type": "stream",
     "text": [
      "validation:  88%|\u001B[34m████████▊ \u001B[0m| 885/1000 [00:26<00:03, 33.61it/s]"
     ]
    },
    {
     "name": "stdout",
     "output_type": "stream",
     "text": [
      "diff: 0.15637517\n",
      "#\n",
      "diff: -0.39655802\n",
      "#\n",
      "diff: 0.032306194\n",
      "#\n",
      "diff: 0.0010008812\n",
      "#\n",
      "diff: -0.21308541\n",
      "#\n",
      "diff: 0.0698688\n",
      "#\n",
      "diff: 0.057709277\n",
      "#\n"
     ]
    },
    {
     "name": "stderr",
     "output_type": "stream",
     "text": [
      "validation:  89%|\u001B[34m████████▉ \u001B[0m| 893/1000 [00:26<00:03, 33.81it/s]"
     ]
    },
    {
     "name": "stdout",
     "output_type": "stream",
     "text": [
      "diff: 0.18352199\n",
      "#\n",
      "diff: 0.10037494\n",
      "#\n",
      "diff: 0.05371332\n",
      "#\n",
      "diff: 0.06742096\n",
      "#\n",
      "diff: 0.052063227\n",
      "#\n",
      "diff: 0.034332514\n",
      "#\n",
      "diff: 0.54170847\n",
      "35\n",
      "#\n"
     ]
    },
    {
     "name": "stderr",
     "output_type": "stream",
     "text": [
      "validation:  90%|\u001B[34m█████████ \u001B[0m| 901/1000 [00:26<00:02, 33.77it/s]"
     ]
    },
    {
     "name": "stdout",
     "output_type": "stream",
     "text": [
      "diff: 0.31149608\n",
      "#\n",
      "diff: 0.21675062\n",
      "#\n",
      "diff: 0.25882006\n",
      "#\n",
      "diff: -0.31283498\n",
      "#\n",
      "diff: -0.47790837\n",
      "#\n",
      "diff: 0.39766145\n",
      "#\n",
      "diff: -0.10085747\n",
      "#\n"
     ]
    },
    {
     "name": "stderr",
     "output_type": "stream",
     "text": [
      "validation:  91%|\u001B[34m█████████ \u001B[0m| 909/1000 [00:26<00:02, 33.83it/s]"
     ]
    },
    {
     "name": "stdout",
     "output_type": "stream",
     "text": [
      "diff: 0.09512138\n",
      "#\n",
      "diff: 0.057569027\n",
      "#\n",
      "diff: -0.48961502\n",
      "#\n",
      "diff: 0.06471968\n",
      "#\n",
      "diff: -0.20431268\n",
      "#\n",
      "diff: -0.30925632\n",
      "#\n",
      "diff: 0.2055347\n",
      "#\n"
     ]
    },
    {
     "name": "stderr",
     "output_type": "stream",
     "text": [
      "validation:  91%|\u001B[34m█████████▏\u001B[0m| 913/1000 [00:26<00:02, 33.75it/s]"
     ]
    },
    {
     "name": "stdout",
     "output_type": "stream",
     "text": [
      "diff: 0.14959168\n",
      "#\n",
      "diff: 0.024533272\n",
      "#\n",
      "diff: 0.49268466\n",
      "#\n",
      "diff: 0.0048793554\n",
      "#\n",
      "diff: 0.19066644\n",
      "#\n",
      "diff: -0.18440604\n",
      "#\n"
     ]
    },
    {
     "name": "stderr",
     "output_type": "stream",
     "text": [
      "validation:  92%|\u001B[34m█████████▏\u001B[0m| 921/1000 [00:27<00:02, 34.14it/s]"
     ]
    },
    {
     "name": "stdout",
     "output_type": "stream",
     "text": [
      "diff: -0.07328808\n",
      "#\n",
      "diff: 0.027891397\n",
      "#\n",
      "diff: 0.09581649\n",
      "#\n",
      "diff: -0.1302216\n",
      "#\n",
      "diff: 0.30279732\n",
      "#\n",
      "diff: -0.041563272\n",
      "#\n",
      "diff: 0.28779626\n",
      "#\n"
     ]
    },
    {
     "name": "stderr",
     "output_type": "stream",
     "text": [
      "validation:  93%|\u001B[34m█████████▎\u001B[0m| 929/1000 [00:27<00:02, 34.59it/s]"
     ]
    },
    {
     "name": "stdout",
     "output_type": "stream",
     "text": [
      "diff: -0.09581268\n",
      "#\n",
      "diff: -0.29234946\n",
      "#\n",
      "diff: -0.101284504\n",
      "#\n",
      "diff: -0.15457988\n",
      "#\n",
      "diff: -0.0013606548\n",
      "#\n",
      "diff: 0.10121925\n",
      "#\n",
      "diff: 0.051519394\n",
      "#\n"
     ]
    },
    {
     "name": "stderr",
     "output_type": "stream",
     "text": [
      "validation:  93%|\u001B[34m█████████▎\u001B[0m| 933/1000 [00:27<00:01, 33.77it/s]"
     ]
    },
    {
     "name": "stdout",
     "output_type": "stream",
     "text": [
      "diff: 0.019634336\n",
      "#\n",
      "diff: -0.010862112\n",
      "#\n",
      "diff: -0.08490932\n",
      "#\n",
      "diff: 0.049339056\n",
      "#\n",
      "diff: -0.12195289\n",
      "#\n",
      "diff: -0.14207387\n",
      "#\n",
      "diff: -0.08408618\n",
      "#\n"
     ]
    },
    {
     "name": "stderr",
     "output_type": "stream",
     "text": [
      "validation:  94%|\u001B[34m█████████▍\u001B[0m| 941/1000 [00:27<00:01, 33.75it/s]"
     ]
    },
    {
     "name": "stdout",
     "output_type": "stream",
     "text": [
      "diff: 0.19409692\n",
      "#\n",
      "diff: -0.041561127\n",
      "#\n",
      "diff: 0.07153702\n",
      "#\n",
      "diff: 0.24469738\n",
      "#\n",
      "diff: -0.06598675\n",
      "#\n",
      "diff: -0.12781191\n",
      "#\n",
      "diff: -0.015613556\n",
      "#\n"
     ]
    },
    {
     "name": "stderr",
     "output_type": "stream",
     "text": [
      "validation:  95%|\u001B[34m█████████▍\u001B[0m| 949/1000 [00:27<00:01, 34.87it/s]"
     ]
    },
    {
     "name": "stdout",
     "output_type": "stream",
     "text": [
      "diff: 0.13100909\n",
      "#\n",
      "diff: 0.120726824\n",
      "#\n",
      "diff: -0.023352385\n",
      "#\n",
      "diff: -0.751944\n",
      "36\n",
      "#\n",
      "diff: -0.12842238\n",
      "#\n",
      "diff: 0.22884989\n",
      "#\n",
      "diff: 0.01599145\n",
      "#\n"
     ]
    },
    {
     "name": "stderr",
     "output_type": "stream",
     "text": [
      "validation:  96%|\u001B[34m█████████▌\u001B[0m| 957/1000 [00:28<00:01, 34.70it/s]"
     ]
    },
    {
     "name": "stdout",
     "output_type": "stream",
     "text": [
      "diff: -0.31429935\n",
      "#\n",
      "diff: 0.2031095\n",
      "#\n",
      "diff: 0.2741841\n",
      "#\n",
      "diff: -0.5954125\n",
      "37\n",
      "#\n",
      "diff: -0.35454023\n",
      "#\n",
      "diff: 0.28705204\n",
      "#\n",
      "diff: 0.23906112\n",
      "#\n"
     ]
    },
    {
     "name": "stderr",
     "output_type": "stream",
     "text": [
      "validation:  96%|\u001B[34m█████████▌\u001B[0m| 961/1000 [00:28<00:01, 33.80it/s]"
     ]
    },
    {
     "name": "stdout",
     "output_type": "stream",
     "text": [
      "diff: -0.2096169\n",
      "#\n",
      "diff: -0.20060062\n",
      "#\n",
      "diff: -0.39975715\n",
      "#\n",
      "diff: -0.27396798\n",
      "#\n",
      "diff: -0.39504457\n",
      "#\n",
      "diff: -0.07255632\n",
      "#\n",
      "diff: -0.10867119\n",
      "#\n"
     ]
    },
    {
     "name": "stderr",
     "output_type": "stream",
     "text": [
      "validation:  97%|\u001B[34m█████████▋\u001B[0m| 969/1000 [00:28<00:00, 33.98it/s]"
     ]
    },
    {
     "name": "stdout",
     "output_type": "stream",
     "text": [
      "diff: -0.06106758\n",
      "#\n",
      "diff: 0.11726272\n",
      "#\n",
      "diff: 0.14571953\n",
      "#\n",
      "diff: 0.1015119\n",
      "#\n",
      "diff: -0.13026506\n",
      "#\n",
      "diff: 0.24113756\n",
      "#\n",
      "diff: -0.14617276\n",
      "#\n"
     ]
    },
    {
     "name": "stderr",
     "output_type": "stream",
     "text": [
      "validation:  98%|\u001B[34m█████████▊\u001B[0m| 977/1000 [00:28<00:00, 33.85it/s]"
     ]
    },
    {
     "name": "stdout",
     "output_type": "stream",
     "text": [
      "diff: -0.23290539\n",
      "#\n",
      "diff: -0.07531619\n",
      "#\n",
      "diff: -0.6120112\n",
      "38\n",
      "#\n",
      "diff: -0.32403946\n",
      "#\n",
      "diff: 0.53963923\n",
      "39\n",
      "#\n",
      "diff: -0.0060595274\n",
      "#\n",
      "diff: -0.30262375\n",
      "#\n"
     ]
    },
    {
     "name": "stderr",
     "output_type": "stream",
     "text": [
      "validation:  98%|\u001B[34m█████████▊\u001B[0m| 985/1000 [00:29<00:00, 34.00it/s]"
     ]
    },
    {
     "name": "stdout",
     "output_type": "stream",
     "text": [
      "diff: 0.19392633\n",
      "#\n",
      "diff: -0.109616995\n",
      "#\n",
      "diff: 0.053951204\n",
      "#\n",
      "diff: -0.3375504\n",
      "#\n",
      "diff: 0.28593755\n",
      "#\n",
      "diff: 0.46895522\n",
      "#\n",
      "diff: 0.030734062\n",
      "#\n"
     ]
    },
    {
     "name": "stderr",
     "output_type": "stream",
     "text": [
      "validation:  99%|\u001B[34m█████████▉\u001B[0m| 989/1000 [00:29<00:00, 34.68it/s]"
     ]
    },
    {
     "name": "stdout",
     "output_type": "stream",
     "text": [
      "diff: -0.007779479\n",
      "#\n",
      "diff: -0.21323287\n",
      "#\n",
      "diff: 0.14314556\n",
      "#\n",
      "diff: 0.7355106\n",
      "40\n",
      "#\n",
      "diff: -0.021573246\n",
      "#\n",
      "diff: 0.11245167\n",
      "#\n",
      "diff: 0.17683536\n",
      "#\n"
     ]
    },
    {
     "name": "stderr",
     "output_type": "stream",
     "text": [
      "validation: 100%|\u001B[34m█████████▉\u001B[0m| 997/1000 [00:29<00:00, 34.57it/s]"
     ]
    },
    {
     "name": "stdout",
     "output_type": "stream",
     "text": [
      "diff: 0.8813655\n",
      "41\n",
      "#\n",
      "diff: 0.14518571\n",
      "#\n",
      "diff: 0.46722913\n",
      "#\n",
      "diff: 0.53251195\n",
      "42\n",
      "#\n",
      "diff: -0.106360674\n",
      "#\n",
      "diff: -0.47240567\n",
      "#\n",
      "diff: -0.34922302\n",
      "#\n"
     ]
    },
    {
     "name": "stderr",
     "output_type": "stream",
     "text": [
      "validation: 100%|\u001B[34m██████████\u001B[0m| 1000/1000 [00:29<00:00, 33.95it/s, plcc=0.974, srocc=0.974, krocc=0.876, overall=2.82, std=0.244]"
     ]
    },
    {
     "name": "stdout",
     "output_type": "stream",
     "text": [
      "diff: -0.043275833\n",
      "#\n"
     ]
    },
    {
     "name": "stderr",
     "output_type": "stream",
     "text": [
      "\n"
     ]
    },
    {
     "data": {
      "text/plain": "42"
     },
     "execution_count": 2,
     "metadata": {},
     "output_type": "execute_result"
    }
   ],
   "source": [
    "torch.cuda.set_device(1)\n",
    "\n",
    "configs = {\n",
    "    'pretrain': 'None',\n",
    "    'img_size': 512,\n",
    "    'model': 'Resnet18',\n",
    "    'epochs': 100,\n",
    "    'batch_size': 32,\n",
    "    'weight_decay': 1e-3,\n",
    "    'lr': 1e-4,\n",
    "    'min_lr': 0.000006463,\n",
    "    'RandomHorizontalFlip': True,\n",
    "    'RandomVerticalFlip': True,\n",
    "    'RandomRotation': True,\n",
    "    'ZoomIn': False,\n",
    "    'ZoomOut': False,\n",
    "    'use_mix': False,\n",
    "    'use_avg': False,\n",
    "    'XShift': False,\n",
    "    'YShift': False,\n",
    "    'RandomShear': False,\n",
    "    'max_shear': 30,  # value in degrees\n",
    "    'max_shift': 0.5,\n",
    "    'rotation_angle': 3,\n",
    "    'zoomin_factor': 0.95,\n",
    "    'zoomout_factor': 0.05,\n",
    "}\n",
    "\n",
    "imgs_list, label_list = create_datalists()\n",
    "\n",
    "test_dataset, _ = create_datasets(imgs_list, label_list, configs, final_train=True,\n",
    "                                  patients_out=False, patient_ids_out=[1, 2, 3])\n",
    "print(len(test_dataset))\n",
    "\n",
    "model = get_model({'model': 'DNCNN', 'pretrain': 'None'})\n",
    "model.load_state_dict(torch.load(osp.join(osp.dirname(output.__file__), 'DNCNN_epoch_179_alldata.pth'), map_location=\"cpu\"), strict=True)\n",
    "model = model.cuda()\n",
    "\n",
    "bad_pred_indices = valid(model, test_dataset, 0, 0, 0, False, loss_threshold=0.5)\n",
    "len(bad_pred_indices)"
   ],
   "metadata": {
    "collapsed": false
   }
  },
  {
   "cell_type": "code",
   "execution_count": null,
   "outputs": [],
   "source": [
    "patient_ids = np.loadtxt(osp.join(osp.dirname(analysis.__file__), 'labels.txt'))\n",
    "per_patient_worst = []\n",
    "per_patient_worst_labels = []\n",
    "\n",
    "for p in range(4):\n",
    "    patient_ids_out = [p]\n",
    "    patient_indices = [i for i, x in enumerate(patient_ids) if x in patient_ids_out]\n",
    "    #\n",
    "    # plot_dist(labels)\n",
    "    per_patient_worst_indices = [i for i in bad_pred_indices if i in patient_indices]\n",
    "    per_patient_worst.append(per_patient_worst_indices)\n",
    "\n",
    "    labels = [label_list[i] for i in per_patient_worst_indices]\n",
    "    per_patient_worst_labels.append(labels)\n",
    "    plot_dist(labels)"
   ],
   "metadata": {
    "collapsed": false
   }
  },
  {
   "cell_type": "code",
   "execution_count": null,
   "outputs": [],
   "source": [],
   "metadata": {
    "collapsed": false
   }
  }
 ],
 "metadata": {
  "kernelspec": {
   "display_name": "Python 3",
   "language": "python",
   "name": "python3"
  },
  "language_info": {
   "codemirror_mode": {
    "name": "ipython",
    "version": 2
   },
   "file_extension": ".py",
   "mimetype": "text/x-python",
   "name": "python",
   "nbconvert_exporter": "python",
   "pygments_lexer": "ipython2",
   "version": "2.7.6"
  }
 },
 "nbformat": 4,
 "nbformat_minor": 0
}
